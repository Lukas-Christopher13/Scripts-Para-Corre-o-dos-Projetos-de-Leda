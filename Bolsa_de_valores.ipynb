{
 "cells": [
  {
   "cell_type": "code",
   "execution_count": 1,
   "metadata": {},
   "outputs": [],
   "source": [
    "import pandas as pd\n",
    "import numpy as np\n",
    "from datetime import datetime, date"
   ]
  },
  {
   "cell_type": "code",
   "execution_count": 2,
   "metadata": {},
   "outputs": [],
   "source": [
    "b3stocks_T1_path = \"Bolsa_de_valores/transformacoes/b3stocks_T1.csv\"\n",
    "b3_stocks_1994_2020_path = \"Bolsa_de_valores/arquivo_base/b3_stocks_1994_2020.csv\""
   ]
  },
  {
   "cell_type": "code",
   "execution_count": 3,
   "metadata": {},
   "outputs": [
    {
     "name": "stdout",
     "output_type": "stream",
     "text": [
      "<class 'pandas.core.frame.DataFrame'>\n",
      "RangeIndex: 1883203 entries, 0 to 1883202\n",
      "Data columns (total 7 columns):\n",
      " #   Column    Dtype  \n",
      "---  ------    -----  \n",
      " 0   datetime  object \n",
      " 1   ticker    object \n",
      " 2   open      float64\n",
      " 3   close     float64\n",
      " 4   high      float64\n",
      " 5   low       float64\n",
      " 6   volume    float64\n",
      "dtypes: float64(5), object(2)\n",
      "memory usage: 100.6+ MB\n"
     ]
    }
   ],
   "source": [
    "b3_stocks = pd.read_csv(b3_stocks_1994_2020_path, header='infer')\n",
    "b3stocks_T1 = pd.read_csv(b3stocks_T1_path, header='infer')\n",
    "b3_stocks.info()"
   ]
  },
  {
   "cell_type": "code",
   "execution_count": 4,
   "metadata": {},
   "outputs": [
    {
     "data": {
      "text/html": [
       "<div>\n",
       "<style scoped>\n",
       "    .dataframe tbody tr th:only-of-type {\n",
       "        vertical-align: middle;\n",
       "    }\n",
       "\n",
       "    .dataframe tbody tr th {\n",
       "        vertical-align: top;\n",
       "    }\n",
       "\n",
       "    .dataframe thead th {\n",
       "        text-align: right;\n",
       "    }\n",
       "</style>\n",
       "<table border=\"1\" class=\"dataframe\">\n",
       "  <thead>\n",
       "    <tr style=\"text-align: right;\">\n",
       "      <th></th>\n",
       "      <th>datetime</th>\n",
       "      <th>ticker</th>\n",
       "      <th>open</th>\n",
       "      <th>close</th>\n",
       "      <th>high</th>\n",
       "      <th>low</th>\n",
       "      <th>volume</th>\n",
       "    </tr>\n",
       "  </thead>\n",
       "  <tbody>\n",
       "    <tr>\n",
       "      <th>0</th>\n",
       "      <td>1994-07-04</td>\n",
       "      <td>ACE 3</td>\n",
       "      <td>48.00</td>\n",
       "      <td>48.00</td>\n",
       "      <td>48.00</td>\n",
       "      <td>47.00</td>\n",
       "      <td>46550.0</td>\n",
       "    </tr>\n",
       "    <tr>\n",
       "      <th>1</th>\n",
       "      <td>1994-07-04</td>\n",
       "      <td>ALP 3</td>\n",
       "      <td>155.27</td>\n",
       "      <td>156.00</td>\n",
       "      <td>156.00</td>\n",
       "      <td>155.27</td>\n",
       "      <td>163405.8</td>\n",
       "    </tr>\n",
       "    <tr>\n",
       "      <th>2</th>\n",
       "      <td>1994-07-04</td>\n",
       "      <td>ALP 4</td>\n",
       "      <td>131.00</td>\n",
       "      <td>131.00</td>\n",
       "      <td>131.00</td>\n",
       "      <td>131.00</td>\n",
       "      <td>6550.0</td>\n",
       "    </tr>\n",
       "    <tr>\n",
       "      <th>3</th>\n",
       "      <td>1994-07-04</td>\n",
       "      <td>IBP 6</td>\n",
       "      <td>600.00</td>\n",
       "      <td>600.00</td>\n",
       "      <td>600.00</td>\n",
       "      <td>600.00</td>\n",
       "      <td>7800.0</td>\n",
       "    </tr>\n",
       "    <tr>\n",
       "      <th>4</th>\n",
       "      <td>1994-07-04</td>\n",
       "      <td>AQT 4</td>\n",
       "      <td>0.89</td>\n",
       "      <td>0.99</td>\n",
       "      <td>0.99</td>\n",
       "      <td>0.85</td>\n",
       "      <td>13137.0</td>\n",
       "    </tr>\n",
       "  </tbody>\n",
       "</table>\n",
       "</div>"
      ],
      "text/plain": [
       "     datetime ticker    open   close    high     low    volume\n",
       "0  1994-07-04  ACE 3   48.00   48.00   48.00   47.00   46550.0\n",
       "1  1994-07-04  ALP 3  155.27  156.00  156.00  155.27  163405.8\n",
       "2  1994-07-04  ALP 4  131.00  131.00  131.00  131.00    6550.0\n",
       "3  1994-07-04  IBP 6  600.00  600.00  600.00  600.00    7800.0\n",
       "4  1994-07-04  AQT 4    0.89    0.99    0.99    0.85   13137.0"
      ]
     },
     "execution_count": 4,
     "metadata": {},
     "output_type": "execute_result"
    }
   ],
   "source": [
    "b3_stocks.head()"
   ]
  },
  {
   "cell_type": "markdown",
   "metadata": {},
   "source": [
    "Transformar data (datetime) para DD/MM/AAAA. Atualmente o formato está YYY-MM-DD. 1994-07-04\n",
    "Gerar um arquivo chamado b3stocks_T1.csv"
   ]
  },
  {
   "cell_type": "code",
   "execution_count": 5,
   "metadata": {},
   "outputs": [
    {
     "name": "stdout",
     "output_type": "stream",
     "text": [
      "<class 'pandas.core.frame.DataFrame'>\n",
      "RangeIndex: 1883203 entries, 0 to 1883202\n",
      "Data columns (total 8 columns):\n",
      " #   Column          Dtype         \n",
      "---  ------          -----         \n",
      " 0   datetime        datetime64[ns]\n",
      " 1   ticker          object        \n",
      " 2   open            float64       \n",
      " 3   close           float64       \n",
      " 4   high            float64       \n",
      " 5   low             float64       \n",
      " 6   volume          float64       \n",
      " 7   data_formatada  object        \n",
      "dtypes: datetime64[ns](1), float64(5), object(2)\n",
      "memory usage: 114.9+ MB\n"
     ]
    }
   ],
   "source": [
    "#Transformar datas\n",
    "# datas_formatadas = pd.to_datetime(b3_stocks[\"datetime\"], format=\"%d/%m/%Y\")\n",
    "# b3_stocks.style.format({\"datetime\": lambda t: t.strftime(\"%d/%m/%Y\")}) \n",
    "# datas_formatadas = datetime.strptime(b3_stocks[\"datetime\"], \"%d/%m/%Y\")\n",
    "b3_stocks['datetime'] = pd.to_datetime(b3_stocks.datetime)\n",
    "b3_stocks['data_formatada'] = b3_stocks['datetime'].dt.strftime('%d/%m/%Y')\n",
    "# b3_stocks[\"data_formatada\"] = b3_stocks.datetime.apply(lambda x: datetime.strptime(x, \"%d/%m/%Y\"))\n",
    "# datas_formatadas = b3_stocks[\"datetime\"].dt.strftime(\"%d/%m/%Y\").date()\n",
    "# datas_formatadas = b3_stocks[\"datetime\"]\n",
    "b3_stocks.info()"
   ]
  },
  {
   "cell_type": "code",
   "execution_count": 6,
   "metadata": {},
   "outputs": [
    {
     "data": {
      "text/html": [
       "<div>\n",
       "<style scoped>\n",
       "    .dataframe tbody tr th:only-of-type {\n",
       "        vertical-align: middle;\n",
       "    }\n",
       "\n",
       "    .dataframe tbody tr th {\n",
       "        vertical-align: top;\n",
       "    }\n",
       "\n",
       "    .dataframe thead th {\n",
       "        text-align: right;\n",
       "    }\n",
       "</style>\n",
       "<table border=\"1\" class=\"dataframe\">\n",
       "  <thead>\n",
       "    <tr style=\"text-align: right;\">\n",
       "      <th></th>\n",
       "      <th>datetime</th>\n",
       "      <th>ticker</th>\n",
       "      <th>open</th>\n",
       "      <th>close</th>\n",
       "      <th>high</th>\n",
       "      <th>low</th>\n",
       "      <th>volume</th>\n",
       "      <th>data_formatada</th>\n",
       "    </tr>\n",
       "  </thead>\n",
       "  <tbody>\n",
       "    <tr>\n",
       "      <th>0</th>\n",
       "      <td>1994-07-04</td>\n",
       "      <td>ACE 3</td>\n",
       "      <td>48.00</td>\n",
       "      <td>48.00</td>\n",
       "      <td>48.00</td>\n",
       "      <td>47.00</td>\n",
       "      <td>46550.0</td>\n",
       "      <td>04/07/1994</td>\n",
       "    </tr>\n",
       "    <tr>\n",
       "      <th>1</th>\n",
       "      <td>1994-07-04</td>\n",
       "      <td>ALP 3</td>\n",
       "      <td>155.27</td>\n",
       "      <td>156.00</td>\n",
       "      <td>156.00</td>\n",
       "      <td>155.27</td>\n",
       "      <td>163405.8</td>\n",
       "      <td>04/07/1994</td>\n",
       "    </tr>\n",
       "    <tr>\n",
       "      <th>2</th>\n",
       "      <td>1994-07-04</td>\n",
       "      <td>ALP 4</td>\n",
       "      <td>131.00</td>\n",
       "      <td>131.00</td>\n",
       "      <td>131.00</td>\n",
       "      <td>131.00</td>\n",
       "      <td>6550.0</td>\n",
       "      <td>04/07/1994</td>\n",
       "    </tr>\n",
       "    <tr>\n",
       "      <th>3</th>\n",
       "      <td>1994-07-04</td>\n",
       "      <td>IBP 6</td>\n",
       "      <td>600.00</td>\n",
       "      <td>600.00</td>\n",
       "      <td>600.00</td>\n",
       "      <td>600.00</td>\n",
       "      <td>7800.0</td>\n",
       "      <td>04/07/1994</td>\n",
       "    </tr>\n",
       "    <tr>\n",
       "      <th>4</th>\n",
       "      <td>1994-07-04</td>\n",
       "      <td>AQT 4</td>\n",
       "      <td>0.89</td>\n",
       "      <td>0.99</td>\n",
       "      <td>0.99</td>\n",
       "      <td>0.85</td>\n",
       "      <td>13137.0</td>\n",
       "      <td>04/07/1994</td>\n",
       "    </tr>\n",
       "  </tbody>\n",
       "</table>\n",
       "</div>"
      ],
      "text/plain": [
       "    datetime ticker    open   close    high     low    volume data_formatada\n",
       "0 1994-07-04  ACE 3   48.00   48.00   48.00   47.00   46550.0     04/07/1994\n",
       "1 1994-07-04  ALP 3  155.27  156.00  156.00  155.27  163405.8     04/07/1994\n",
       "2 1994-07-04  ALP 4  131.00  131.00  131.00  131.00    6550.0     04/07/1994\n",
       "3 1994-07-04  IBP 6  600.00  600.00  600.00  600.00    7800.0     04/07/1994\n",
       "4 1994-07-04  AQT 4    0.89    0.99    0.99    0.85   13137.0     04/07/1994"
      ]
     },
     "execution_count": 6,
     "metadata": {},
     "output_type": "execute_result"
    }
   ],
   "source": [
    "b3_stocks.head()"
   ]
  },
  {
   "cell_type": "code",
   "execution_count": 7,
   "metadata": {},
   "outputs": [
    {
     "data": {
      "text/html": [
       "<div>\n",
       "<style scoped>\n",
       "    .dataframe tbody tr th:only-of-type {\n",
       "        vertical-align: middle;\n",
       "    }\n",
       "\n",
       "    .dataframe tbody tr th {\n",
       "        vertical-align: top;\n",
       "    }\n",
       "\n",
       "    .dataframe thead th {\n",
       "        text-align: right;\n",
       "    }\n",
       "</style>\n",
       "<table border=\"1\" class=\"dataframe\">\n",
       "  <thead>\n",
       "    <tr style=\"text-align: right;\">\n",
       "      <th></th>\n",
       "      <th>datetime</th>\n",
       "      <th>ticker</th>\n",
       "      <th>open</th>\n",
       "      <th>close</th>\n",
       "      <th>high</th>\n",
       "      <th>low</th>\n",
       "      <th>volume</th>\n",
       "    </tr>\n",
       "  </thead>\n",
       "  <tbody>\n",
       "    <tr>\n",
       "      <th>0</th>\n",
       "      <td>04/07/1994</td>\n",
       "      <td>ACE 3</td>\n",
       "      <td>48.00</td>\n",
       "      <td>48.00</td>\n",
       "      <td>48.00</td>\n",
       "      <td>47.00</td>\n",
       "      <td>46550.0</td>\n",
       "    </tr>\n",
       "    <tr>\n",
       "      <th>1</th>\n",
       "      <td>04/07/1994</td>\n",
       "      <td>ALP 3</td>\n",
       "      <td>155.27</td>\n",
       "      <td>156.00</td>\n",
       "      <td>156.00</td>\n",
       "      <td>155.27</td>\n",
       "      <td>163405.8</td>\n",
       "    </tr>\n",
       "    <tr>\n",
       "      <th>2</th>\n",
       "      <td>04/07/1994</td>\n",
       "      <td>ALP 4</td>\n",
       "      <td>131.00</td>\n",
       "      <td>131.00</td>\n",
       "      <td>131.00</td>\n",
       "      <td>131.00</td>\n",
       "      <td>6550.0</td>\n",
       "    </tr>\n",
       "    <tr>\n",
       "      <th>3</th>\n",
       "      <td>04/07/1994</td>\n",
       "      <td>IBP 6</td>\n",
       "      <td>600.00</td>\n",
       "      <td>600.00</td>\n",
       "      <td>600.00</td>\n",
       "      <td>600.00</td>\n",
       "      <td>7800.0</td>\n",
       "    </tr>\n",
       "    <tr>\n",
       "      <th>4</th>\n",
       "      <td>04/07/1994</td>\n",
       "      <td>AQT 4</td>\n",
       "      <td>0.89</td>\n",
       "      <td>0.99</td>\n",
       "      <td>0.99</td>\n",
       "      <td>0.85</td>\n",
       "      <td>13137.0</td>\n",
       "    </tr>\n",
       "  </tbody>\n",
       "</table>\n",
       "</div>"
      ],
      "text/plain": [
       "     datetime ticker    open   close    high     low    volume\n",
       "0  04/07/1994  ACE 3   48.00   48.00   48.00   47.00   46550.0\n",
       "1  04/07/1994  ALP 3  155.27  156.00  156.00  155.27  163405.8\n",
       "2  04/07/1994  ALP 4  131.00  131.00  131.00  131.00    6550.0\n",
       "3  04/07/1994  IBP 6  600.00  600.00  600.00  600.00    7800.0\n",
       "4  04/07/1994  AQT 4    0.89    0.99    0.99    0.85   13137.0"
      ]
     },
     "execution_count": 7,
     "metadata": {},
     "output_type": "execute_result"
    }
   ],
   "source": [
    "#b3stocks_T1.columns = [\"datetime\", \"1\",\"2\",\"3\",\"4\",\"5\",\"7\"]\n",
    "b3stocks_T1.head()"
   ]
  },
  {
   "cell_type": "markdown",
   "metadata": {},
   "source": [
    "# comparação com o arquivo do aluno"
   ]
  },
  {
   "cell_type": "code",
   "execution_count": 8,
   "metadata": {},
   "outputs": [
    {
     "data": {
      "text/plain": [
       "0    04/07/1994\n",
       "1    04/07/1994\n",
       "2    04/07/1994\n",
       "3    04/07/1994\n",
       "4    04/07/1994\n",
       "Name: datetime, dtype: object"
      ]
     },
     "execution_count": 8,
     "metadata": {},
     "output_type": "execute_result"
    }
   ],
   "source": [
    "datas_formatadas_aluno = pd.to_datetime(b3stocks_T1[\"datetime\"], format=\"%d/%m/%Y\").dt.strftime('%d/%m/%Y')\n",
    "datas_formatadas_aluno.head()"
   ]
  },
  {
   "cell_type": "markdown",
   "metadata": {},
   "source": [
    "Considerando o arquivo anterior, fazer uma filtragem para que fique apenas um registro por dia. Esse registro deve ser apenas quele que possuir o maior volume negociado em bolsa."
   ]
  },
  {
   "cell_type": "code",
   "execution_count": 11,
   "metadata": {},
   "outputs": [],
   "source": [
    "df_datas_formatadas_origem = pd.to_datetime(b3_stocks['data_formatada'], format=\"%d/%m/%Y\").dt.strftime('%d/%m/%Y')"
   ]
  },
  {
   "cell_type": "code",
   "execution_count": 14,
   "metadata": {},
   "outputs": [
    {
     "data": {
      "text/plain": [
       "0    04/07/1994\n",
       "1    04/07/1994\n",
       "2    04/07/1994\n",
       "3    04/07/1994\n",
       "4    04/07/1994\n",
       "Name: data_formatada, dtype: object"
      ]
     },
     "execution_count": 14,
     "metadata": {},
     "output_type": "execute_result"
    }
   ],
   "source": [
    "df_datas_formatadas_origem.head()"
   ]
  },
  {
   "cell_type": "code",
   "execution_count": 15,
   "metadata": {},
   "outputs": [],
   "source": [
    "df_merge = pd.merge(df_datas_formatadas_origem, datas_formatadas_aluno, how=\"inner\",\n",
    "            left_on='data_formatada', right_on='datetime')\n"
   ]
  },
  {
   "cell_type": "code",
   "execution_count": 6,
   "metadata": {},
   "outputs": [],
   "source": [
    "data_formatada = pd.to_datetime(b3_stocks[\"datetime\"])\n",
    "b3_stocks[\"datetime\"] = data_formatada.dt.strftime(\"%d/%m/%Y\")\n",
    "\n",
    "maior_valor_por_dia = b3_stocks.groupby('datetime')['volume'].max()\n",
    "maior_valor_por_dia.to_csv(\"maior_valor_por_dia.csv\", header=True)\n"
   ]
  },
  {
   "cell_type": "markdown",
   "metadata": {},
   "source": [
    "Considerando o arquivo da transformação T1 (b3stocks_T1.csv), fazer uma filtragem para que fique apenas os registros que possuírem volume negociado acima da média diária."
   ]
  },
  {
   "cell_type": "code",
   "execution_count": 7,
   "metadata": {},
   "outputs": [
    {
     "name": "stdout",
     "output_type": "stream",
     "text": [
      "16682861.888060307\n"
     ]
    }
   ],
   "source": [
    "media = b3_stocks[\"volume\"].mean()\n",
    "print(media)\n",
    "\n",
    "valores_acima_da_media = b3_stocks.loc[b3_stocks[\"volume\"] > media]\n",
    "valores_acima_da_media.to_csv(\"valores_acima_da_media.csv\")"
   ]
  }
 ],
 "metadata": {
  "kernelspec": {
   "display_name": "Python 3",
   "language": "python",
   "name": "python3"
  },
  "language_info": {
   "codemirror_mode": {
    "name": "ipython",
    "version": 3
   },
   "file_extension": ".py",
   "mimetype": "text/x-python",
   "name": "python",
   "nbconvert_exporter": "python",
   "pygments_lexer": "ipython3",
   "version": "3.12.0"
  }
 },
 "nbformat": 4,
 "nbformat_minor": 2
}
