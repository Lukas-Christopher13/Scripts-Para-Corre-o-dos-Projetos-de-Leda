{
 "cells": [
  {
   "cell_type": "code",
   "metadata": {
    "ExecuteTime": {
     "end_time": "2024-10-31T11:01:07.877362Z",
     "start_time": "2024-10-31T11:01:06.401530Z"
    }
   },
   "source": [
    "import pandas as pd\n",
    "import numpy as np\n",
    "from datetime import datetime, date"
   ],
   "outputs": [],
   "execution_count": 1
  },
  {
   "cell_type": "code",
   "metadata": {
    "ExecuteTime": {
     "end_time": "2024-10-31T11:01:07.884974Z",
     "start_time": "2024-10-31T11:01:07.880662Z"
    }
   },
   "source": [
    "b3stocks_T1_path = \"Bolsa_de_valores/transformacoes/b3stocks_T1.csv\"\n",
    "b3_stocks_1994_2020_path = \"Bolsa_de_valores/arquivo_base/b3_stocks_1994_2020.csv\""
   ],
   "outputs": [],
   "execution_count": 2
  },
  {
   "cell_type": "code",
   "metadata": {
    "ExecuteTime": {
     "end_time": "2024-10-31T11:01:10.452792Z",
     "start_time": "2024-10-31T11:01:07.887185Z"
    }
   },
   "source": [
    "b3_stocks = pd.read_csv(b3_stocks_1994_2020_path, header='infer')\n",
    "b3stocks_T1 = pd.read_csv(b3stocks_T1_path, header='infer')\n"
   ],
   "outputs": [],
   "execution_count": 3
  },
  {
   "cell_type": "code",
   "metadata": {
    "ExecuteTime": {
     "end_time": "2024-10-31T11:01:10.458994Z",
     "start_time": "2024-10-31T11:01:10.455975Z"
    }
   },
   "source": "",
   "outputs": [],
   "execution_count": 3
  },
  {
   "cell_type": "markdown",
   "metadata": {},
   "source": [
    "Transformar data (datetime) para DD/MM/AAAA. Atualmente o formato está YYY-MM-DD. 1994-07-04\n",
    "Gerar um arquivo chamado b3stocks_T1.csv"
   ]
  },
  {
   "cell_type": "code",
   "metadata": {
    "ExecuteTime": {
     "end_time": "2024-10-31T11:01:22.890296Z",
     "start_time": "2024-10-31T11:01:10.460742Z"
    }
   },
   "source": [
    "b3_stocks['datetime'] = pd.to_datetime(b3_stocks.datetime, format='%Y-%m-%d')\n",
    "b3_stocks['data_formatada'] = b3_stocks['datetime'].dt.strftime('%d/%m/%Y')\n",
    "datas_formatadas_aluno_t1 = b3stocks_T1['datetime']"
   ],
   "outputs": [],
   "execution_count": 4
  },
  {
   "metadata": {
    "ExecuteTime": {
     "end_time": "2024-10-31T11:01:22.971529Z",
     "start_time": "2024-10-31T11:01:22.892971Z"
    }
   },
   "cell_type": "code",
   "source": [
    "print(f\"Datas vazias no df original: {b3_stocks['datetime'].isnull().sum()}\")\n",
    "print(f\"Datas vazias no df formatado: {datas_formatadas_aluno_t1.isnull().sum()}\")"
   ],
   "outputs": [
    {
     "name": "stdout",
     "output_type": "stream",
     "text": [
      "Datas vazias no df original: 0\n",
      "Datas vazias no df formatado: 0\n"
     ]
    }
   ],
   "execution_count": 5
  },
  {
   "cell_type": "code",
   "metadata": {
    "ExecuteTime": {
     "end_time": "2024-10-31T11:01:23.231090Z",
     "start_time": "2024-10-31T11:01:22.972690Z"
    }
   },
   "source": "pd.testing.assert_series_equal(b3_stocks['data_formatada'], datas_formatadas_aluno_t1, check_names=False)",
   "outputs": [],
   "execution_count": 6
  },
  {
   "cell_type": "markdown",
   "metadata": {},
   "source": "# T2 Considerando o arquivo anterior, fazer uma filtragem para que fique apenas um registro por dia. Esse registro deve ser apenas quele que possuir o maior volume negociado em bolsa."
  },
  {
   "metadata": {
    "ExecuteTime": {
     "end_time": "2024-10-31T11:35:10.071929Z",
     "start_time": "2024-10-31T11:35:10.061483Z"
    }
   },
   "cell_type": "code",
   "source": "b3_stocks.info()",
   "outputs": [
    {
     "name": "stdout",
     "output_type": "stream",
     "text": [
      "<class 'pandas.core.frame.DataFrame'>\n",
      "RangeIndex: 1883203 entries, 0 to 1883202\n",
      "Data columns (total 8 columns):\n",
      " #   Column          Dtype         \n",
      "---  ------          -----         \n",
      " 0   datetime        datetime64[ns]\n",
      " 1   ticker          object        \n",
      " 2   open            float64       \n",
      " 3   close           float64       \n",
      " 4   high            float64       \n",
      " 5   low             float64       \n",
      " 6   volume          float64       \n",
      " 7   data_formatada  object        \n",
      "dtypes: datetime64[ns](1), float64(5), object(2)\n",
      "memory usage: 114.9+ MB\n"
     ]
    }
   ],
   "execution_count": 40
  },
  {
   "metadata": {
    "ExecuteTime": {
     "end_time": "2024-10-31T11:47:46.250110Z",
     "start_time": "2024-10-31T11:47:46.152929Z"
    }
   },
   "cell_type": "code",
   "source": "b3_stocks.reset_index(inplace=True)",
   "outputs": [],
   "execution_count": 46
  },
  {
   "metadata": {
    "ExecuteTime": {
     "end_time": "2024-10-31T11:48:01.136671Z",
     "start_time": "2024-10-31T11:48:01.129050Z"
    }
   },
   "cell_type": "code",
   "source": "",
   "outputs": [
    {
     "name": "stdout",
     "output_type": "stream",
     "text": [
      "<class 'pandas.core.frame.DataFrame'>\n",
      "RangeIndex: 1883203 entries, 0 to 1883202\n",
      "Data columns (total 9 columns):\n",
      " #   Column          Dtype         \n",
      "---  ------          -----         \n",
      " 0   index           int64         \n",
      " 1   datetime        datetime64[ns]\n",
      " 2   ticker          object        \n",
      " 3   open            float64       \n",
      " 4   close           float64       \n",
      " 5   high            float64       \n",
      " 6   low             float64       \n",
      " 7   volume          float64       \n",
      " 8   data_formatada  object        \n",
      "dtypes: datetime64[ns](1), float64(5), int64(1), object(2)\n",
      "memory usage: 129.3+ MB\n"
     ]
    }
   ],
   "execution_count": 47
  },
  {
   "cell_type": "code",
   "metadata": {
    "ExecuteTime": {
     "end_time": "2024-10-31T11:56:11.726351Z",
     "start_time": "2024-10-31T11:56:09.994086Z"
    }
   },
   "source": [
    "# maior_valor_por_dia = b3_stocks.groupby(['datetime','ticker'])['volume'].max()\n",
    "maior_valor_por_dia = b3_stocks.loc[b3_stocks.groupby('datetime')['volume'].idxmax()]\n",
    "# maior_valor_por_dia.columns = ['datetime', 'ticker', 'volume']\n",
    "# maior_valor_por_dia.reset_index(inplace=True)\n",
    "# maior_valor_por_dia.to_csv(\"Bolsa_de_valores/transformacoes/maior_valor_por_dia.csv\", header=True)\n",
    "b3stocks_filtro_T2_path = 'Bolsa_de_valores/transformacoes/b3stocks_F1.csv'\n",
    "b3stocks_filtro_T2 =  pd.read_csv(b3stocks_filtro_T2_path, header='infer')\n",
    "b3stocks_filtro_T2['datetime'] = pd.to_datetime(b3stocks_filtro_T2['datetime'], format='%d/%m/%Y')"
   ],
   "outputs": [],
   "execution_count": 48
  },
  {
   "metadata": {
    "ExecuteTime": {
     "end_time": "2024-10-31T11:56:17.060782Z",
     "start_time": "2024-10-31T11:56:17.034721Z"
    }
   },
   "cell_type": "code",
   "source": [
    "# print(b3stocks_filtro_T2[['datetime','volume']])\n",
    "# maior_valor_por_dia.columns.values[1] = 'volume'\n",
    "# print(maior_valor_por_dia.columns)\n",
    "# \n",
    "display(maior_valor_por_dia)\n",
    "\n",
    "# print(b3stocks_filtro_T2[['datetime','volume']])"
   ],
   "outputs": [
    {
     "data": {
      "text/plain": [
       "           index   datetime ticker   open  close   high    low        volume  \\\n",
       "123          123 1994-07-04  TEL 4  37.80  38.00  40.00  36.50  3.883477e+07   \n",
       "293          293 1994-07-05  TEL 4  38.50  37.80  38.50  36.80  4.788101e+07   \n",
       "525          525 1994-07-06  TEL 4  39.00  39.90  40.40  38.01  9.470312e+07   \n",
       "772          772 1994-07-07  TEL 4  41.50  40.90  41.70  40.10  1.233317e+08   \n",
       "996          996 1994-07-08  TEL 4  40.40  42.60  43.00  40.01  1.324432e+08   \n",
       "...          ...        ...    ...    ...    ...    ...    ...           ...   \n",
       "1882966  1882966 2020-12-22  VALE3  86.86  86.94  86.99  85.43  1.997275e+09   \n",
       "1882967  1882967 2020-12-23  VALE3  86.53  87.36  87.53  86.40  1.542163e+09   \n",
       "1882968  1882968 2020-12-28  VALE3  87.79  87.31  88.58  87.08  2.285785e+09   \n",
       "1882969  1882969 2020-12-29  VALE3  87.97  87.07  88.20  86.51  1.720104e+09   \n",
       "1882970  1882970 2020-12-30  VALE3  87.19  87.45  87.59  86.65  2.629355e+09   \n",
       "\n",
       "        data_formatada  \n",
       "123         04/07/1994  \n",
       "293         05/07/1994  \n",
       "525         06/07/1994  \n",
       "772         07/07/1994  \n",
       "996         08/07/1994  \n",
       "...                ...  \n",
       "1882966     22/12/2020  \n",
       "1882967     23/12/2020  \n",
       "1882968     28/12/2020  \n",
       "1882969     29/12/2020  \n",
       "1882970     30/12/2020  \n",
       "\n",
       "[6556 rows x 9 columns]"
      ],
      "text/html": [
       "<div>\n",
       "<style scoped>\n",
       "    .dataframe tbody tr th:only-of-type {\n",
       "        vertical-align: middle;\n",
       "    }\n",
       "\n",
       "    .dataframe tbody tr th {\n",
       "        vertical-align: top;\n",
       "    }\n",
       "\n",
       "    .dataframe thead th {\n",
       "        text-align: right;\n",
       "    }\n",
       "</style>\n",
       "<table border=\"1\" class=\"dataframe\">\n",
       "  <thead>\n",
       "    <tr style=\"text-align: right;\">\n",
       "      <th></th>\n",
       "      <th>index</th>\n",
       "      <th>datetime</th>\n",
       "      <th>ticker</th>\n",
       "      <th>open</th>\n",
       "      <th>close</th>\n",
       "      <th>high</th>\n",
       "      <th>low</th>\n",
       "      <th>volume</th>\n",
       "      <th>data_formatada</th>\n",
       "    </tr>\n",
       "  </thead>\n",
       "  <tbody>\n",
       "    <tr>\n",
       "      <th>123</th>\n",
       "      <td>123</td>\n",
       "      <td>1994-07-04</td>\n",
       "      <td>TEL 4</td>\n",
       "      <td>37.80</td>\n",
       "      <td>38.00</td>\n",
       "      <td>40.00</td>\n",
       "      <td>36.50</td>\n",
       "      <td>3.883477e+07</td>\n",
       "      <td>04/07/1994</td>\n",
       "    </tr>\n",
       "    <tr>\n",
       "      <th>293</th>\n",
       "      <td>293</td>\n",
       "      <td>1994-07-05</td>\n",
       "      <td>TEL 4</td>\n",
       "      <td>38.50</td>\n",
       "      <td>37.80</td>\n",
       "      <td>38.50</td>\n",
       "      <td>36.80</td>\n",
       "      <td>4.788101e+07</td>\n",
       "      <td>05/07/1994</td>\n",
       "    </tr>\n",
       "    <tr>\n",
       "      <th>525</th>\n",
       "      <td>525</td>\n",
       "      <td>1994-07-06</td>\n",
       "      <td>TEL 4</td>\n",
       "      <td>39.00</td>\n",
       "      <td>39.90</td>\n",
       "      <td>40.40</td>\n",
       "      <td>38.01</td>\n",
       "      <td>9.470312e+07</td>\n",
       "      <td>06/07/1994</td>\n",
       "    </tr>\n",
       "    <tr>\n",
       "      <th>772</th>\n",
       "      <td>772</td>\n",
       "      <td>1994-07-07</td>\n",
       "      <td>TEL 4</td>\n",
       "      <td>41.50</td>\n",
       "      <td>40.90</td>\n",
       "      <td>41.70</td>\n",
       "      <td>40.10</td>\n",
       "      <td>1.233317e+08</td>\n",
       "      <td>07/07/1994</td>\n",
       "    </tr>\n",
       "    <tr>\n",
       "      <th>996</th>\n",
       "      <td>996</td>\n",
       "      <td>1994-07-08</td>\n",
       "      <td>TEL 4</td>\n",
       "      <td>40.40</td>\n",
       "      <td>42.60</td>\n",
       "      <td>43.00</td>\n",
       "      <td>40.01</td>\n",
       "      <td>1.324432e+08</td>\n",
       "      <td>08/07/1994</td>\n",
       "    </tr>\n",
       "    <tr>\n",
       "      <th>...</th>\n",
       "      <td>...</td>\n",
       "      <td>...</td>\n",
       "      <td>...</td>\n",
       "      <td>...</td>\n",
       "      <td>...</td>\n",
       "      <td>...</td>\n",
       "      <td>...</td>\n",
       "      <td>...</td>\n",
       "      <td>...</td>\n",
       "    </tr>\n",
       "    <tr>\n",
       "      <th>1882966</th>\n",
       "      <td>1882966</td>\n",
       "      <td>2020-12-22</td>\n",
       "      <td>VALE3</td>\n",
       "      <td>86.86</td>\n",
       "      <td>86.94</td>\n",
       "      <td>86.99</td>\n",
       "      <td>85.43</td>\n",
       "      <td>1.997275e+09</td>\n",
       "      <td>22/12/2020</td>\n",
       "    </tr>\n",
       "    <tr>\n",
       "      <th>1882967</th>\n",
       "      <td>1882967</td>\n",
       "      <td>2020-12-23</td>\n",
       "      <td>VALE3</td>\n",
       "      <td>86.53</td>\n",
       "      <td>87.36</td>\n",
       "      <td>87.53</td>\n",
       "      <td>86.40</td>\n",
       "      <td>1.542163e+09</td>\n",
       "      <td>23/12/2020</td>\n",
       "    </tr>\n",
       "    <tr>\n",
       "      <th>1882968</th>\n",
       "      <td>1882968</td>\n",
       "      <td>2020-12-28</td>\n",
       "      <td>VALE3</td>\n",
       "      <td>87.79</td>\n",
       "      <td>87.31</td>\n",
       "      <td>88.58</td>\n",
       "      <td>87.08</td>\n",
       "      <td>2.285785e+09</td>\n",
       "      <td>28/12/2020</td>\n",
       "    </tr>\n",
       "    <tr>\n",
       "      <th>1882969</th>\n",
       "      <td>1882969</td>\n",
       "      <td>2020-12-29</td>\n",
       "      <td>VALE3</td>\n",
       "      <td>87.97</td>\n",
       "      <td>87.07</td>\n",
       "      <td>88.20</td>\n",
       "      <td>86.51</td>\n",
       "      <td>1.720104e+09</td>\n",
       "      <td>29/12/2020</td>\n",
       "    </tr>\n",
       "    <tr>\n",
       "      <th>1882970</th>\n",
       "      <td>1882970</td>\n",
       "      <td>2020-12-30</td>\n",
       "      <td>VALE3</td>\n",
       "      <td>87.19</td>\n",
       "      <td>87.45</td>\n",
       "      <td>87.59</td>\n",
       "      <td>86.65</td>\n",
       "      <td>2.629355e+09</td>\n",
       "      <td>30/12/2020</td>\n",
       "    </tr>\n",
       "  </tbody>\n",
       "</table>\n",
       "<p>6556 rows × 9 columns</p>\n",
       "</div>"
      ]
     },
     "metadata": {},
     "output_type": "display_data"
    }
   ],
   "execution_count": 49
  },
  {
   "metadata": {
    "ExecuteTime": {
     "end_time": "2024-10-31T11:59:39.888282Z",
     "start_time": "2024-10-31T11:59:39.851829Z"
    }
   },
   "cell_type": "code",
   "source": [
    "# maior_valor_por_dia[['datetime','volume']].info()\n",
    "b3stocks_filtro_T2[['datetime','volume']].info()"
   ],
   "outputs": [
    {
     "name": "stdout",
     "output_type": "stream",
     "text": [
      "<class 'pandas.core.frame.DataFrame'>\n",
      "RangeIndex: 321272 entries, 0 to 321271\n",
      "Data columns (total 2 columns):\n",
      " #   Column    Non-Null Count   Dtype         \n",
      "---  ------    --------------   -----         \n",
      " 0   datetime  321272 non-null  datetime64[ns]\n",
      " 1   volume    321272 non-null  float64       \n",
      "dtypes: datetime64[ns](1), float64(1)\n",
      "memory usage: 4.9 MB\n"
     ]
    }
   ],
   "execution_count": 52
  },
  {
   "metadata": {
    "ExecuteTime": {
     "end_time": "2024-10-31T12:01:54.354381Z",
     "start_time": "2024-10-31T12:01:53.558520Z"
    }
   },
   "cell_type": "code",
   "source": [
    "maior_valor_por_dia.merge( b3stocks_filtro_T2, indicator=True, how='outer')\n",
    "# pd.testing.assert_series_equal(maior_valor_por_dia[['datetime','volume']], b3stocks_filtro_T2[['datetime','volume']], check_names=False)"
   ],
   "outputs": [
    {
     "data": {
      "text/plain": [
       "            index   datetime ticker    open   close    high     low  \\\n",
       "0             NaN 1994-07-04  BB  4   17.00   17.20   17.30   17.00   \n",
       "1             NaN 1994-07-04  CTL 4   21.00   21.00   21.82   20.01   \n",
       "2             NaN 1994-07-04  CTN 4  226.55  226.55  226.55  226.55   \n",
       "3             NaN 1994-07-04  ELE 3  210.00  208.00  216.00  208.00   \n",
       "4             NaN 1994-07-04  ELE 6  210.00  207.99  217.00  206.00   \n",
       "...           ...        ...    ...     ...     ...     ...     ...   \n",
       "321267  1882970.0 2020-12-30  VALE3   87.19   87.45   87.59   86.65   \n",
       "321268        NaN 2020-12-30  VIVT3   45.20   46.50   46.50   45.19   \n",
       "321269        NaN 2020-12-30  VVAR3   16.61   16.16   16.78   16.16   \n",
       "321270        NaN 2020-12-30  WEGE3   75.37   75.74   76.65   75.24   \n",
       "321271        NaN 2020-12-30  YDUQ3   33.27   32.92   33.60   32.76   \n",
       "\n",
       "              volume data_formatada      _merge  \n",
       "0       1.055644e+06            NaN  right_only  \n",
       "1       1.305017e+06            NaN  right_only  \n",
       "2       6.343400e+05            NaN  right_only  \n",
       "3       2.265390e+06            NaN  right_only  \n",
       "4       4.398228e+06            NaN  right_only  \n",
       "...              ...            ...         ...  \n",
       "321267  2.629355e+09     30/12/2020        both  \n",
       "321268  1.847321e+08            NaN  right_only  \n",
       "321269  6.045219e+08            NaN  right_only  \n",
       "321270  4.697657e+08            NaN  right_only  \n",
       "321271  9.309984e+07            NaN  right_only  \n",
       "\n",
       "[321272 rows x 10 columns]"
      ],
      "text/html": [
       "<div>\n",
       "<style scoped>\n",
       "    .dataframe tbody tr th:only-of-type {\n",
       "        vertical-align: middle;\n",
       "    }\n",
       "\n",
       "    .dataframe tbody tr th {\n",
       "        vertical-align: top;\n",
       "    }\n",
       "\n",
       "    .dataframe thead th {\n",
       "        text-align: right;\n",
       "    }\n",
       "</style>\n",
       "<table border=\"1\" class=\"dataframe\">\n",
       "  <thead>\n",
       "    <tr style=\"text-align: right;\">\n",
       "      <th></th>\n",
       "      <th>index</th>\n",
       "      <th>datetime</th>\n",
       "      <th>ticker</th>\n",
       "      <th>open</th>\n",
       "      <th>close</th>\n",
       "      <th>high</th>\n",
       "      <th>low</th>\n",
       "      <th>volume</th>\n",
       "      <th>data_formatada</th>\n",
       "      <th>_merge</th>\n",
       "    </tr>\n",
       "  </thead>\n",
       "  <tbody>\n",
       "    <tr>\n",
       "      <th>0</th>\n",
       "      <td>NaN</td>\n",
       "      <td>1994-07-04</td>\n",
       "      <td>BB  4</td>\n",
       "      <td>17.00</td>\n",
       "      <td>17.20</td>\n",
       "      <td>17.30</td>\n",
       "      <td>17.00</td>\n",
       "      <td>1.055644e+06</td>\n",
       "      <td>NaN</td>\n",
       "      <td>right_only</td>\n",
       "    </tr>\n",
       "    <tr>\n",
       "      <th>1</th>\n",
       "      <td>NaN</td>\n",
       "      <td>1994-07-04</td>\n",
       "      <td>CTL 4</td>\n",
       "      <td>21.00</td>\n",
       "      <td>21.00</td>\n",
       "      <td>21.82</td>\n",
       "      <td>20.01</td>\n",
       "      <td>1.305017e+06</td>\n",
       "      <td>NaN</td>\n",
       "      <td>right_only</td>\n",
       "    </tr>\n",
       "    <tr>\n",
       "      <th>2</th>\n",
       "      <td>NaN</td>\n",
       "      <td>1994-07-04</td>\n",
       "      <td>CTN 4</td>\n",
       "      <td>226.55</td>\n",
       "      <td>226.55</td>\n",
       "      <td>226.55</td>\n",
       "      <td>226.55</td>\n",
       "      <td>6.343400e+05</td>\n",
       "      <td>NaN</td>\n",
       "      <td>right_only</td>\n",
       "    </tr>\n",
       "    <tr>\n",
       "      <th>3</th>\n",
       "      <td>NaN</td>\n",
       "      <td>1994-07-04</td>\n",
       "      <td>ELE 3</td>\n",
       "      <td>210.00</td>\n",
       "      <td>208.00</td>\n",
       "      <td>216.00</td>\n",
       "      <td>208.00</td>\n",
       "      <td>2.265390e+06</td>\n",
       "      <td>NaN</td>\n",
       "      <td>right_only</td>\n",
       "    </tr>\n",
       "    <tr>\n",
       "      <th>4</th>\n",
       "      <td>NaN</td>\n",
       "      <td>1994-07-04</td>\n",
       "      <td>ELE 6</td>\n",
       "      <td>210.00</td>\n",
       "      <td>207.99</td>\n",
       "      <td>217.00</td>\n",
       "      <td>206.00</td>\n",
       "      <td>4.398228e+06</td>\n",
       "      <td>NaN</td>\n",
       "      <td>right_only</td>\n",
       "    </tr>\n",
       "    <tr>\n",
       "      <th>...</th>\n",
       "      <td>...</td>\n",
       "      <td>...</td>\n",
       "      <td>...</td>\n",
       "      <td>...</td>\n",
       "      <td>...</td>\n",
       "      <td>...</td>\n",
       "      <td>...</td>\n",
       "      <td>...</td>\n",
       "      <td>...</td>\n",
       "      <td>...</td>\n",
       "    </tr>\n",
       "    <tr>\n",
       "      <th>321267</th>\n",
       "      <td>1882970.0</td>\n",
       "      <td>2020-12-30</td>\n",
       "      <td>VALE3</td>\n",
       "      <td>87.19</td>\n",
       "      <td>87.45</td>\n",
       "      <td>87.59</td>\n",
       "      <td>86.65</td>\n",
       "      <td>2.629355e+09</td>\n",
       "      <td>30/12/2020</td>\n",
       "      <td>both</td>\n",
       "    </tr>\n",
       "    <tr>\n",
       "      <th>321268</th>\n",
       "      <td>NaN</td>\n",
       "      <td>2020-12-30</td>\n",
       "      <td>VIVT3</td>\n",
       "      <td>45.20</td>\n",
       "      <td>46.50</td>\n",
       "      <td>46.50</td>\n",
       "      <td>45.19</td>\n",
       "      <td>1.847321e+08</td>\n",
       "      <td>NaN</td>\n",
       "      <td>right_only</td>\n",
       "    </tr>\n",
       "    <tr>\n",
       "      <th>321269</th>\n",
       "      <td>NaN</td>\n",
       "      <td>2020-12-30</td>\n",
       "      <td>VVAR3</td>\n",
       "      <td>16.61</td>\n",
       "      <td>16.16</td>\n",
       "      <td>16.78</td>\n",
       "      <td>16.16</td>\n",
       "      <td>6.045219e+08</td>\n",
       "      <td>NaN</td>\n",
       "      <td>right_only</td>\n",
       "    </tr>\n",
       "    <tr>\n",
       "      <th>321270</th>\n",
       "      <td>NaN</td>\n",
       "      <td>2020-12-30</td>\n",
       "      <td>WEGE3</td>\n",
       "      <td>75.37</td>\n",
       "      <td>75.74</td>\n",
       "      <td>76.65</td>\n",
       "      <td>75.24</td>\n",
       "      <td>4.697657e+08</td>\n",
       "      <td>NaN</td>\n",
       "      <td>right_only</td>\n",
       "    </tr>\n",
       "    <tr>\n",
       "      <th>321271</th>\n",
       "      <td>NaN</td>\n",
       "      <td>2020-12-30</td>\n",
       "      <td>YDUQ3</td>\n",
       "      <td>33.27</td>\n",
       "      <td>32.92</td>\n",
       "      <td>33.60</td>\n",
       "      <td>32.76</td>\n",
       "      <td>9.309984e+07</td>\n",
       "      <td>NaN</td>\n",
       "      <td>right_only</td>\n",
       "    </tr>\n",
       "  </tbody>\n",
       "</table>\n",
       "<p>321272 rows × 10 columns</p>\n",
       "</div>"
      ]
     },
     "execution_count": 54,
     "metadata": {},
     "output_type": "execute_result"
    }
   ],
   "execution_count": 54
  },
  {
   "cell_type": "markdown",
   "metadata": {},
   "source": [
    "Considerando o arquivo da transformação T1 (b3stocks_T1.csv), fazer uma filtragem para que fique apenas os registros que possuírem volume negociado acima da média diária."
   ]
  },
  {
   "metadata": {
    "ExecuteTime": {
     "end_time": "2024-10-31T12:21:55.665680Z",
     "start_time": "2024-10-31T12:21:54.888852Z"
    }
   },
   "cell_type": "code",
   "source": [
    "# Calcula a média diária de volume\n",
    "media_diaria = b3_stocks.groupby('datetime')['volume'].mean()\n",
    "\n",
    "# Cria uma coluna com a média diária\n",
    "b3_stocks['media_diaria'] = b3_stocks['datetime'].map(media_diaria)\n",
    "b3_stocks['media_diaria'] = b3_stocks['media_diaria'].apply(float)\n",
    "# Filtra as linhas com volume acima da média diária\n",
    "b3stocks_Media_diaria_maior = b3_stocks[b3_stocks['volume'] > b3_stocks['media_diaria']]"
   ],
   "outputs": [],
   "execution_count": 70
  },
  {
   "metadata": {
    "ExecuteTime": {
     "end_time": "2024-10-31T12:22:00.317451Z",
     "start_time": "2024-10-31T12:22:00.243504Z"
    }
   },
   "cell_type": "code",
   "source": "b3stocks_Media_diaria_maior.info()",
   "outputs": [
    {
     "name": "stdout",
     "output_type": "stream",
     "text": [
      "<class 'pandas.core.frame.DataFrame'>\n",
      "Index: 321272 entries, 25 to 1883184\n",
      "Data columns (total 10 columns):\n",
      " #   Column          Non-Null Count   Dtype         \n",
      "---  ------          --------------   -----         \n",
      " 0   index           321272 non-null  int64         \n",
      " 1   datetime        321272 non-null  datetime64[ns]\n",
      " 2   ticker          321272 non-null  object        \n",
      " 3   open            321272 non-null  float64       \n",
      " 4   close           321272 non-null  float64       \n",
      " 5   high            321272 non-null  float64       \n",
      " 6   low             321272 non-null  float64       \n",
      " 7   volume          321272 non-null  float64       \n",
      " 8   data_formatada  321272 non-null  object        \n",
      " 9   media_diaria    321272 non-null  float64       \n",
      "dtypes: datetime64[ns](1), float64(6), int64(1), object(2)\n",
      "memory usage: 27.0+ MB\n"
     ]
    }
   ],
   "execution_count": 71
  },
  {
   "metadata": {
    "ExecuteTime": {
     "end_time": "2024-10-31T12:22:54.252949Z",
     "start_time": "2024-10-31T12:22:53.250060Z"
    }
   },
   "cell_type": "code",
   "source": "b3_stocks['media_diaria'] = b3_stocks['media_diaria'].map('{:.2f}'.format)",
   "outputs": [],
   "execution_count": 73
  },
  {
   "metadata": {
    "ExecuteTime": {
     "end_time": "2024-10-31T12:22:56.818230Z",
     "start_time": "2024-10-31T12:22:56.662893Z"
    }
   },
   "cell_type": "code",
   "source": "display(b3stocks_Media_diaria_maior.sort_values('datetime', ascending=True))",
   "outputs": [
    {
     "data": {
      "text/plain": [
       "           index   datetime ticker    open   close    high     low  \\\n",
       "25            25 1994-07-04  BB  4   17.00   17.20   17.30   17.00   \n",
       "123          123 1994-07-04  TEL 4   37.80   38.00   40.00   36.50   \n",
       "122          122 1994-07-04  TEL 3   28.00   27.50   28.50   27.00   \n",
       "109          109 1994-07-04  SCO 4  860.00  860.00  862.50  860.00   \n",
       "103          103 1994-07-04  PET 4   94.00   96.50   98.50   93.50   \n",
       "...          ...        ...    ...     ...     ...     ...     ...   \n",
       "1879390  1879390 2020-12-30  BIDI4   34.30   32.90   34.45   32.56   \n",
       "1881945  1881945 2020-12-30  PCAR3   75.40   75.05   76.64   74.30   \n",
       "1881967  1881967 2020-12-30  PETR3   28.85   28.85   29.09   28.75   \n",
       "1881691  1881691 2020-12-30  MTRE3   16.38   17.00   17.00   16.27   \n",
       "1883184  1883184 2020-12-30  YDUQ3   33.27   32.92   33.60   32.76   \n",
       "\n",
       "              volume data_formatada media_diaria  \n",
       "25         1055643.6     04/07/1994    441774.12  \n",
       "123       38834774.0     04/07/1994    441774.12  \n",
       "122        1094322.0     04/07/1994    441774.12  \n",
       "109         592430.0     04/07/1994    441774.12  \n",
       "103        7479814.3     04/07/1994    441774.12  \n",
       "...              ...            ...          ...  \n",
       "1879390   82314172.0     30/12/2020  38936357.93  \n",
       "1881945   58924919.0     30/12/2020  38936357.93  \n",
       "1881967  604692375.0     30/12/2020  38936357.93  \n",
       "1881691   41271988.0     30/12/2020  38936357.93  \n",
       "1883184   93099839.0     30/12/2020  38936357.93  \n",
       "\n",
       "[321272 rows x 10 columns]"
      ],
      "text/html": [
       "<div>\n",
       "<style scoped>\n",
       "    .dataframe tbody tr th:only-of-type {\n",
       "        vertical-align: middle;\n",
       "    }\n",
       "\n",
       "    .dataframe tbody tr th {\n",
       "        vertical-align: top;\n",
       "    }\n",
       "\n",
       "    .dataframe thead th {\n",
       "        text-align: right;\n",
       "    }\n",
       "</style>\n",
       "<table border=\"1\" class=\"dataframe\">\n",
       "  <thead>\n",
       "    <tr style=\"text-align: right;\">\n",
       "      <th></th>\n",
       "      <th>index</th>\n",
       "      <th>datetime</th>\n",
       "      <th>ticker</th>\n",
       "      <th>open</th>\n",
       "      <th>close</th>\n",
       "      <th>high</th>\n",
       "      <th>low</th>\n",
       "      <th>volume</th>\n",
       "      <th>data_formatada</th>\n",
       "      <th>media_diaria</th>\n",
       "    </tr>\n",
       "  </thead>\n",
       "  <tbody>\n",
       "    <tr>\n",
       "      <th>25</th>\n",
       "      <td>25</td>\n",
       "      <td>1994-07-04</td>\n",
       "      <td>BB  4</td>\n",
       "      <td>17.00</td>\n",
       "      <td>17.20</td>\n",
       "      <td>17.30</td>\n",
       "      <td>17.00</td>\n",
       "      <td>1055643.6</td>\n",
       "      <td>04/07/1994</td>\n",
       "      <td>441774.12</td>\n",
       "    </tr>\n",
       "    <tr>\n",
       "      <th>123</th>\n",
       "      <td>123</td>\n",
       "      <td>1994-07-04</td>\n",
       "      <td>TEL 4</td>\n",
       "      <td>37.80</td>\n",
       "      <td>38.00</td>\n",
       "      <td>40.00</td>\n",
       "      <td>36.50</td>\n",
       "      <td>38834774.0</td>\n",
       "      <td>04/07/1994</td>\n",
       "      <td>441774.12</td>\n",
       "    </tr>\n",
       "    <tr>\n",
       "      <th>122</th>\n",
       "      <td>122</td>\n",
       "      <td>1994-07-04</td>\n",
       "      <td>TEL 3</td>\n",
       "      <td>28.00</td>\n",
       "      <td>27.50</td>\n",
       "      <td>28.50</td>\n",
       "      <td>27.00</td>\n",
       "      <td>1094322.0</td>\n",
       "      <td>04/07/1994</td>\n",
       "      <td>441774.12</td>\n",
       "    </tr>\n",
       "    <tr>\n",
       "      <th>109</th>\n",
       "      <td>109</td>\n",
       "      <td>1994-07-04</td>\n",
       "      <td>SCO 4</td>\n",
       "      <td>860.00</td>\n",
       "      <td>860.00</td>\n",
       "      <td>862.50</td>\n",
       "      <td>860.00</td>\n",
       "      <td>592430.0</td>\n",
       "      <td>04/07/1994</td>\n",
       "      <td>441774.12</td>\n",
       "    </tr>\n",
       "    <tr>\n",
       "      <th>103</th>\n",
       "      <td>103</td>\n",
       "      <td>1994-07-04</td>\n",
       "      <td>PET 4</td>\n",
       "      <td>94.00</td>\n",
       "      <td>96.50</td>\n",
       "      <td>98.50</td>\n",
       "      <td>93.50</td>\n",
       "      <td>7479814.3</td>\n",
       "      <td>04/07/1994</td>\n",
       "      <td>441774.12</td>\n",
       "    </tr>\n",
       "    <tr>\n",
       "      <th>...</th>\n",
       "      <td>...</td>\n",
       "      <td>...</td>\n",
       "      <td>...</td>\n",
       "      <td>...</td>\n",
       "      <td>...</td>\n",
       "      <td>...</td>\n",
       "      <td>...</td>\n",
       "      <td>...</td>\n",
       "      <td>...</td>\n",
       "      <td>...</td>\n",
       "    </tr>\n",
       "    <tr>\n",
       "      <th>1879390</th>\n",
       "      <td>1879390</td>\n",
       "      <td>2020-12-30</td>\n",
       "      <td>BIDI4</td>\n",
       "      <td>34.30</td>\n",
       "      <td>32.90</td>\n",
       "      <td>34.45</td>\n",
       "      <td>32.56</td>\n",
       "      <td>82314172.0</td>\n",
       "      <td>30/12/2020</td>\n",
       "      <td>38936357.93</td>\n",
       "    </tr>\n",
       "    <tr>\n",
       "      <th>1881945</th>\n",
       "      <td>1881945</td>\n",
       "      <td>2020-12-30</td>\n",
       "      <td>PCAR3</td>\n",
       "      <td>75.40</td>\n",
       "      <td>75.05</td>\n",
       "      <td>76.64</td>\n",
       "      <td>74.30</td>\n",
       "      <td>58924919.0</td>\n",
       "      <td>30/12/2020</td>\n",
       "      <td>38936357.93</td>\n",
       "    </tr>\n",
       "    <tr>\n",
       "      <th>1881967</th>\n",
       "      <td>1881967</td>\n",
       "      <td>2020-12-30</td>\n",
       "      <td>PETR3</td>\n",
       "      <td>28.85</td>\n",
       "      <td>28.85</td>\n",
       "      <td>29.09</td>\n",
       "      <td>28.75</td>\n",
       "      <td>604692375.0</td>\n",
       "      <td>30/12/2020</td>\n",
       "      <td>38936357.93</td>\n",
       "    </tr>\n",
       "    <tr>\n",
       "      <th>1881691</th>\n",
       "      <td>1881691</td>\n",
       "      <td>2020-12-30</td>\n",
       "      <td>MTRE3</td>\n",
       "      <td>16.38</td>\n",
       "      <td>17.00</td>\n",
       "      <td>17.00</td>\n",
       "      <td>16.27</td>\n",
       "      <td>41271988.0</td>\n",
       "      <td>30/12/2020</td>\n",
       "      <td>38936357.93</td>\n",
       "    </tr>\n",
       "    <tr>\n",
       "      <th>1883184</th>\n",
       "      <td>1883184</td>\n",
       "      <td>2020-12-30</td>\n",
       "      <td>YDUQ3</td>\n",
       "      <td>33.27</td>\n",
       "      <td>32.92</td>\n",
       "      <td>33.60</td>\n",
       "      <td>32.76</td>\n",
       "      <td>93099839.0</td>\n",
       "      <td>30/12/2020</td>\n",
       "      <td>38936357.93</td>\n",
       "    </tr>\n",
       "  </tbody>\n",
       "</table>\n",
       "<p>321272 rows × 10 columns</p>\n",
       "</div>"
      ]
     },
     "metadata": {},
     "output_type": "display_data"
    }
   ],
   "execution_count": 74
  },
  {
   "metadata": {
    "ExecuteTime": {
     "end_time": "2024-10-31T12:30:31.214218Z",
     "start_time": "2024-10-31T12:30:30.795014Z"
    }
   },
   "cell_type": "code",
   "source": [
    "b3stocks_Filtro_T3_path = \"Bolsa_de_valores/transformacoes/b3stocks_T1_Filtrado.csv\"\n",
    "b3stocks_filtro_T3 = pd.read_csv(b3stocks_Filtro_T3_path, header='infer')\n",
    "b3stocks_filtro_T3['datetime'] = pd.to_datetime(b3stocks_filtro_T3['datetime'], format='%d/%m/%Y')\n"
   ],
   "outputs": [],
   "execution_count": 75
  },
  {
   "metadata": {
    "ExecuteTime": {
     "end_time": "2024-10-31T12:33:41.830876Z",
     "start_time": "2024-10-31T12:33:40.946341Z"
    }
   },
   "cell_type": "code",
   "source": "resultado = b3stocks_Media_diaria_maior.merge(b3stocks_filtro_T3, indicator=True, how='outer')",
   "outputs": [],
   "execution_count": 81
  },
  {
   "metadata": {
    "ExecuteTime": {
     "end_time": "2024-10-31T12:38:51.141117Z",
     "start_time": "2024-10-31T12:38:51.134312Z"
    }
   },
   "cell_type": "code",
   "source": [
    "print(\"Total de registros filtrados: {:,}\".format(len(b3stocks_Media_diaria_maior)))\n",
    "print(\"Total de registros filtrados pelo grupo: {:,}\".format(len(b3stocks_filtro_T3)))\n",
    "print(\"Total de registros filtrados diferença: {:,}\".format(len(resultado[resultado['_merge'] != 'both'])))\n"
   ],
   "outputs": [
    {
     "name": "stdout",
     "output_type": "stream",
     "text": [
      "Total de registros filtrados: 321,272\n",
      "Total de registros filtrados pelo grupo: 321,272\n",
      "Total de registros filtrados diferença: 0\n"
     ]
    }
   ],
   "execution_count": 89
  },
  {
   "cell_type": "code",
   "metadata": {},
   "source": [
    "# Remove a coluna auxiliar\n",
    "# df_filtrado = df_filtrado.drop('media_diaria', axis=1)"
   ],
   "outputs": [],
   "execution_count": null
  }
 ],
 "metadata": {
  "kernelspec": {
   "display_name": "Python 3",
   "language": "python",
   "name": "python3"
  },
  "language_info": {
   "codemirror_mode": {
    "name": "ipython",
    "version": 3
   },
   "file_extension": ".py",
   "mimetype": "text/x-python",
   "name": "python",
   "nbconvert_exporter": "python",
   "pygments_lexer": "ipython3",
   "version": "3.12.0"
  }
 },
 "nbformat": 4,
 "nbformat_minor": 2
}
