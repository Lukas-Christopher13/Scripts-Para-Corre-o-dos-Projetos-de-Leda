{
 "cells": [
  {
   "cell_type": "code",
   "execution_count": 25,
   "metadata": {},
   "outputs": [],
   "source": [
    "import pandas as pd\n",
    "import numpy as np"
   ]
  },
  {
   "cell_type": "code",
   "execution_count": 26,
   "metadata": {},
   "outputs": [],
   "source": [
    "b3stocks_T1_path = \"Bolsa_de_valores/transformacoes/b3stocks_T1.csv\"\n",
    "b3_stocks_1994_2020_path = \"Bolsa_de_valores/arquivo_base/b3_stocks_1994_2020.csv\""
   ]
  },
  {
   "cell_type": "code",
   "execution_count": 27,
   "metadata": {},
   "outputs": [],
   "source": [
    "b3_stocks = pd.read_csv(b3_stocks_1994_2020_path, low_memory=False)\n",
    "b3stocks_T1 = pd.read_csv(b3stocks_T1_path, low_memory=False)"
   ]
  },
  {
   "cell_type": "markdown",
   "metadata": {},
   "source": [
    "Transformar data (datetime) para DD/MM/AAAA. Atualmente o formato está YYY-MM-DD. 1994-07-04\n",
    "Gerar um arquivo chamado b3stocks_T1.csv"
   ]
  },
  {
   "cell_type": "code",
   "execution_count": 28,
   "metadata": {},
   "outputs": [
    {
     "data": {
      "text/plain": [
       "0    04/07/1994\n",
       "1    04/07/1994\n",
       "2    04/07/1994\n",
       "3    04/07/1994\n",
       "4    04/07/1994\n",
       "Name: datetime, dtype: object"
      ]
     },
     "execution_count": 28,
     "metadata": {},
     "output_type": "execute_result"
    }
   ],
   "source": [
    "#Transformar datas\n",
    "datas_formatadas = pd.to_datetime(b3_stocks[\"datetime\"])\n",
    "datas_formatadas = datas_formatadas.dt.strftime(\"%d/%m/%Y\")\n",
    "\n",
    "datas_formatadas.head()"
   ]
  },
  {
   "cell_type": "code",
   "execution_count": 29,
   "metadata": {},
   "outputs": [
    {
     "data": {
      "text/html": [
       "<div>\n",
       "<style scoped>\n",
       "    .dataframe tbody tr th:only-of-type {\n",
       "        vertical-align: middle;\n",
       "    }\n",
       "\n",
       "    .dataframe tbody tr th {\n",
       "        vertical-align: top;\n",
       "    }\n",
       "\n",
       "    .dataframe thead th {\n",
       "        text-align: right;\n",
       "    }\n",
       "</style>\n",
       "<table border=\"1\" class=\"dataframe\">\n",
       "  <thead>\n",
       "    <tr style=\"text-align: right;\">\n",
       "      <th></th>\n",
       "      <th>datetime</th>\n",
       "      <th>1</th>\n",
       "      <th>2</th>\n",
       "      <th>3</th>\n",
       "      <th>4</th>\n",
       "      <th>5</th>\n",
       "      <th>7</th>\n",
       "    </tr>\n",
       "  </thead>\n",
       "  <tbody>\n",
       "    <tr>\n",
       "      <th>0</th>\n",
       "      <td>04/07/1994</td>\n",
       "      <td>ALP 3</td>\n",
       "      <td>155.27</td>\n",
       "      <td>156.00</td>\n",
       "      <td>156.00</td>\n",
       "      <td>155.27</td>\n",
       "      <td>163405.8</td>\n",
       "    </tr>\n",
       "    <tr>\n",
       "      <th>1</th>\n",
       "      <td>04/07/1994</td>\n",
       "      <td>ALP 4</td>\n",
       "      <td>131.00</td>\n",
       "      <td>131.00</td>\n",
       "      <td>131.00</td>\n",
       "      <td>131.00</td>\n",
       "      <td>6550.0</td>\n",
       "    </tr>\n",
       "    <tr>\n",
       "      <th>2</th>\n",
       "      <td>04/07/1994</td>\n",
       "      <td>IBP 6</td>\n",
       "      <td>600.00</td>\n",
       "      <td>600.00</td>\n",
       "      <td>600.00</td>\n",
       "      <td>600.00</td>\n",
       "      <td>7800.0</td>\n",
       "    </tr>\n",
       "    <tr>\n",
       "      <th>3</th>\n",
       "      <td>04/07/1994</td>\n",
       "      <td>AQT 4</td>\n",
       "      <td>0.89</td>\n",
       "      <td>0.99</td>\n",
       "      <td>0.99</td>\n",
       "      <td>0.85</td>\n",
       "      <td>13137.0</td>\n",
       "    </tr>\n",
       "    <tr>\n",
       "      <th>4</th>\n",
       "      <td>04/07/1994</td>\n",
       "      <td>ARN 4</td>\n",
       "      <td>145400.00</td>\n",
       "      <td>145400.00</td>\n",
       "      <td>145400.00</td>\n",
       "      <td>145400.00</td>\n",
       "      <td>1454.0</td>\n",
       "    </tr>\n",
       "  </tbody>\n",
       "</table>\n",
       "</div>"
      ],
      "text/plain": [
       "     datetime      1          2          3          4          5         7\n",
       "0  04/07/1994  ALP 3     155.27     156.00     156.00     155.27  163405.8\n",
       "1  04/07/1994  ALP 4     131.00     131.00     131.00     131.00    6550.0\n",
       "2  04/07/1994  IBP 6     600.00     600.00     600.00     600.00    7800.0\n",
       "3  04/07/1994  AQT 4       0.89       0.99       0.99       0.85   13137.0\n",
       "4  04/07/1994  ARN 4  145400.00  145400.00  145400.00  145400.00    1454.0"
      ]
     },
     "execution_count": 29,
     "metadata": {},
     "output_type": "execute_result"
    }
   ],
   "source": [
    "#b3stocks_T1.columns = [\"datetime\", \"1\",\"2\",\"3\",\"4\",\"5\",\"7\"]\n",
    "#b3stocks_T1.head()"
   ]
  },
  {
   "cell_type": "code",
   "execution_count": null,
   "metadata": {},
   "outputs": [],
   "source": [
    "#comparação com o arquivo do aluno\n",
    "\n",
    "#datas_formatadas_aluno = pd.to_datetime(b3stocks_T1[\"datetime\"])\n",
    "\n",
    "#df_merge = pd.merge(datas_formatadas, datas_formatadas_aluno, left_on=\"data\", right_on=\"aluno\", how=\"inner\")\n",
    "\n",
    "#df_merge.head()"
   ]
  },
  {
   "cell_type": "markdown",
   "metadata": {},
   "source": [
    "Considerando o arquivo anterior, fazer uma filtragem para que fique apenas um registro por dia. Esse registro deve ser apenas quele que possuir o maior volume negociado em bolsa."
   ]
  },
  {
   "cell_type": "code",
   "execution_count": 35,
   "metadata": {},
   "outputs": [],
   "source": [
    "data_formatada = pd.to_datetime(b3_stocks[\"datetime\"])\n",
    "b3_stocks[\"datetime\"] = data_formatada.dt.strftime(\"%d/%m/%Y\")\n",
    "\n",
    "maior_valor_por_dia = b3_stocks.groupby('datetime')['volume'].max()\n",
    "maior_valor_por_dia.to_csv(\"maior_valor_por_dia.csv\", header=True)\n"
   ]
  },
  {
   "cell_type": "markdown",
   "metadata": {},
   "source": [
    "Considerando o arquivo da transformação T1 (b3stocks_T1.csv), fazer uma filtragem para que fique apenas os registros que possuírem volume negociado acima da média diária."
   ]
  },
  {
   "cell_type": "code",
   "execution_count": 37,
   "metadata": {},
   "outputs": [
    {
     "name": "stdout",
     "output_type": "stream",
     "text": [
      "16682861.888060307\n"
     ]
    }
   ],
   "source": [
    "media = b3_stocks[\"volume\"].mean()\n",
    "print(media)\n",
    "\n",
    "valores_acima_da_media = b3_stocks.loc[b3_stocks[\"volume\"] > media]\n",
    "valores_acima_da_media.to_csv(\"valores_acima_da_media.csv\")"
   ]
  }
 ],
 "metadata": {
  "kernelspec": {
   "display_name": "Python 3",
   "language": "python",
   "name": "python3"
  },
  "language_info": {
   "codemirror_mode": {
    "name": "ipython",
    "version": 3
   },
   "file_extension": ".py",
   "mimetype": "text/x-python",
   "name": "python",
   "nbconvert_exporter": "python",
   "pygments_lexer": "ipython3",
   "version": "3.8.10"
  }
 },
 "nbformat": 4,
 "nbformat_minor": 2
}
