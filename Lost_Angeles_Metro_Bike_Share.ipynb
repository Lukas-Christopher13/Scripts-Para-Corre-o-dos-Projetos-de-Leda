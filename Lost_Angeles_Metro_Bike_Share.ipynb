{
 "cells": [
  {
   "cell_type": "code",
   "execution_count": 31,
   "metadata": {},
   "outputs": [],
   "source": [
    "import numpy as np\n",
    "import pandas as pd"
   ]
  },
  {
   "cell_type": "code",
   "execution_count": 32,
   "metadata": {},
   "outputs": [],
   "source": [
    "Arquivo_base = \"Lost_Angeles_Metro_Bike_Share/arquivo_base/LA_Metro_BikeSharing_CLEANED_2016quater3-2021q3.csv\"\n",
    "LAMetroTrips = \"Lost_Angeles_Metro_Bike_Share/transformações/LAMetroTrips.csv\"\n",
    "LAMetroTrips_F1 = \"Lost_Angeles_Metro_Bike_Share/transformações/LAMetroTrips_F1.csv\"\n",
    "LAMetroTrips_F2 = \"Lost_Angeles_Metro_Bike_Share/transformações/LAMetroTrips_F2.csv\""
   ]
  },
  {
   "cell_type": "code",
   "execution_count": 33,
   "metadata": {},
   "outputs": [
    {
     "ename": "KeyError",
     "evalue": "'end_station'",
     "output_type": "error",
     "traceback": [
      "\u001b[0;31m---------------------------------------------------------------------------\u001b[0m",
      "\u001b[0;31mKeyError\u001b[0m                                  Traceback (most recent call last)",
      "File \u001b[0;32m~/.local/lib/python3.8/site-packages/pandas/core/indexes/base.py:3653\u001b[0m, in \u001b[0;36mIndex.get_loc\u001b[0;34m(self, key)\u001b[0m\n\u001b[1;32m   3652\u001b[0m \u001b[39mtry\u001b[39;00m:\n\u001b[0;32m-> 3653\u001b[0m     \u001b[39mreturn\u001b[39;00m \u001b[39mself\u001b[39;49m\u001b[39m.\u001b[39;49m_engine\u001b[39m.\u001b[39;49mget_loc(casted_key)\n\u001b[1;32m   3654\u001b[0m \u001b[39mexcept\u001b[39;00m \u001b[39mKeyError\u001b[39;00m \u001b[39mas\u001b[39;00m err:\n",
      "File \u001b[0;32m~/.local/lib/python3.8/site-packages/pandas/_libs/index.pyx:147\u001b[0m, in \u001b[0;36mpandas._libs.index.IndexEngine.get_loc\u001b[0;34m()\u001b[0m\n",
      "File \u001b[0;32m~/.local/lib/python3.8/site-packages/pandas/_libs/index.pyx:176\u001b[0m, in \u001b[0;36mpandas._libs.index.IndexEngine.get_loc\u001b[0;34m()\u001b[0m\n",
      "File \u001b[0;32mpandas/_libs/hashtable_class_helper.pxi:7080\u001b[0m, in \u001b[0;36mpandas._libs.hashtable.PyObjectHashTable.get_item\u001b[0;34m()\u001b[0m\n",
      "File \u001b[0;32mpandas/_libs/hashtable_class_helper.pxi:7088\u001b[0m, in \u001b[0;36mpandas._libs.hashtable.PyObjectHashTable.get_item\u001b[0;34m()\u001b[0m\n",
      "\u001b[0;31mKeyError\u001b[0m: 'end_station'",
      "\nThe above exception was the direct cause of the following exception:\n",
      "\u001b[0;31mKeyError\u001b[0m                                  Traceback (most recent call last)",
      "Cell \u001b[0;32mIn[33], line 6\u001b[0m\n\u001b[1;32m      4\u001b[0m \u001b[39m#Encotrar uma forma de filtrar pelas duas colunas\u001b[39;00m\n\u001b[1;32m      5\u001b[0m start_station \u001b[39m=\u001b[39m df_LAMetroTrips[\u001b[39m\"\u001b[39m\u001b[39mstart_station\u001b[39m\u001b[39m\"\u001b[39m]\u001b[39m.\u001b[39mstr\u001b[39m.\u001b[39mcontains(\u001b[39m\"\u001b[39m\u001b[39mPasadena\u001b[39m\u001b[39m\"\u001b[39m)\n\u001b[0;32m----> 6\u001b[0m end_station \u001b[39m=\u001b[39m df_LAMetroTrips[\u001b[39m\"\u001b[39;49m\u001b[39mend_station\u001b[39;49m\u001b[39m\"\u001b[39;49m]\u001b[39m.\u001b[39mstr\u001b[39m.\u001b[39mcontains(\u001b[39m\"\u001b[39m\u001b[39mPasadena\u001b[39m\u001b[39m\"\u001b[39m)\n\u001b[1;32m      8\u001b[0m df_meu_filtro_por_pasadena \u001b[39m=\u001b[39m df_LAMetroTrips[start_station \u001b[39mor\u001b[39;00m end_station]\n",
      "File \u001b[0;32m~/.local/lib/python3.8/site-packages/pandas/core/frame.py:3761\u001b[0m, in \u001b[0;36mDataFrame.__getitem__\u001b[0;34m(self, key)\u001b[0m\n\u001b[1;32m   3759\u001b[0m \u001b[39mif\u001b[39;00m \u001b[39mself\u001b[39m\u001b[39m.\u001b[39mcolumns\u001b[39m.\u001b[39mnlevels \u001b[39m>\u001b[39m \u001b[39m1\u001b[39m:\n\u001b[1;32m   3760\u001b[0m     \u001b[39mreturn\u001b[39;00m \u001b[39mself\u001b[39m\u001b[39m.\u001b[39m_getitem_multilevel(key)\n\u001b[0;32m-> 3761\u001b[0m indexer \u001b[39m=\u001b[39m \u001b[39mself\u001b[39;49m\u001b[39m.\u001b[39;49mcolumns\u001b[39m.\u001b[39;49mget_loc(key)\n\u001b[1;32m   3762\u001b[0m \u001b[39mif\u001b[39;00m is_integer(indexer):\n\u001b[1;32m   3763\u001b[0m     indexer \u001b[39m=\u001b[39m [indexer]\n",
      "File \u001b[0;32m~/.local/lib/python3.8/site-packages/pandas/core/indexes/base.py:3655\u001b[0m, in \u001b[0;36mIndex.get_loc\u001b[0;34m(self, key)\u001b[0m\n\u001b[1;32m   3653\u001b[0m     \u001b[39mreturn\u001b[39;00m \u001b[39mself\u001b[39m\u001b[39m.\u001b[39m_engine\u001b[39m.\u001b[39mget_loc(casted_key)\n\u001b[1;32m   3654\u001b[0m \u001b[39mexcept\u001b[39;00m \u001b[39mKeyError\u001b[39;00m \u001b[39mas\u001b[39;00m err:\n\u001b[0;32m-> 3655\u001b[0m     \u001b[39mraise\u001b[39;00m \u001b[39mKeyError\u001b[39;00m(key) \u001b[39mfrom\u001b[39;00m \u001b[39merr\u001b[39;00m\n\u001b[1;32m   3656\u001b[0m \u001b[39mexcept\u001b[39;00m \u001b[39mTypeError\u001b[39;00m:\n\u001b[1;32m   3657\u001b[0m     \u001b[39m# If we have a listlike key, _check_indexing_error will raise\u001b[39;00m\n\u001b[1;32m   3658\u001b[0m     \u001b[39m#  InvalidIndexError. Otherwise we fall through and re-raise\u001b[39;00m\n\u001b[1;32m   3659\u001b[0m     \u001b[39m#  the TypeError.\u001b[39;00m\n\u001b[1;32m   3660\u001b[0m     \u001b[39mself\u001b[39m\u001b[39m.\u001b[39m_check_indexing_error(key)\n",
      "\u001b[0;31mKeyError\u001b[0m: 'end_station'"
     ]
    }
   ],
   "source": [
    "df_LAMetroTrips = pd.read_csv(LAMetroTrips, low_memory=False)\n",
    "df_LAMetroTrips_F1 = pd.read_csv(LAMetroTrips_F1, low_memory=False)\n",
    "\n",
    "#Encotrar uma forma de filtrar pelas duas colunas\n",
    "start_station = df_LAMetroTrips[\"start_station\"].str.contains(\"Pasadena\")\n",
    "end_station = df_LAMetroTrips[\"end_station\"].str.contains(\"Pasadena\")\n",
    "\n",
    "df_meu_filtro_por_pasadena = df_LAMetroTrips[start_station or end_station]"
   ]
  },
  {
   "cell_type": "markdown",
   "metadata": {},
   "source": [
    "Considerando, o arquivo gerado no Item 1 (LAMetroTrips.csv), filtrar apenas as viagens que estão nas estações de Pasadena."
   ]
  },
  {
   "cell_type": "code",
   "execution_count": null,
   "metadata": {},
   "outputs": [
    {
     "name": "stdout",
     "output_type": "stream",
     "text": [
      "Os dados não batem! \n",
      "Quantidade de estações de Pasadena:79870 | dados do aluno: 458390\n"
     ]
    }
   ],
   "source": [
    "if(df_meu_filtro_por_pasadena.size != df_LAMetroTrips_F1.size):\n",
    "    print(\"Os dados não batem! \")\n",
    "    print(f\"Quantidade de estações de Pasadena:{df_meu_filtro_por_pasadena.size} | dados do aluno: {df_LAMetroTrips_F1.size}\")\n",
    "    #print(df_meu_filtro_por_pasadena)\n",
    "else:\n",
    "    print(\"Tudo Ok!\")"
   ]
  },
  {
   "cell_type": "code",
   "execution_count": null,
   "metadata": {},
   "outputs": [],
   "source": [
    "df_caso_base = pd.read_csv(Arquivo_base, low_memory=False)\n",
    "df_LAMetroTrips_F2 = pd.read_csv(LAMetroTrips_F2, low_memory=False)\n",
    "\n",
    "media = (df_caso_base[\"duration\"].sum()) / len(df_caso_base)\n",
    "\n",
    "menor_que_a_media =  df_LAMetroTrips_F2[df_LAMetroTrips_F2[\"duration\"] < media]"
   ]
  },
  {
   "cell_type": "markdown",
   "metadata": {},
   "source": [
    "Considerando, o arquivo gerado no Item 1 (LAMetroTrips.csv), filtrar apenas as viagens que possuem duração maior que a média geral."
   ]
  },
  {
   "cell_type": "code",
   "execution_count": 34,
   "metadata": {},
   "outputs": [
    {
     "name": "stdout",
     "output_type": "stream",
     "text": [
      "Media: 24.071558598855965\n",
      "Empty DataFrame\n",
      "Columns: [trip_id, duration, start_time, end_time, bike_id, bike_type, trip_route_category, plan_duration, passholder_type, start_station]\n",
      "Index: []\n"
     ]
    }
   ],
   "source": [
    "print(f\"Media: {media}\")\n",
    "print(menor_que_a_media)"
   ]
  }
 ],
 "metadata": {
  "kernelspec": {
   "display_name": "Python 3",
   "language": "python",
   "name": "python3"
  },
  "language_info": {
   "codemirror_mode": {
    "name": "ipython",
    "version": 3
   },
   "file_extension": ".py",
   "mimetype": "text/x-python",
   "name": "python",
   "nbconvert_exporter": "python",
   "pygments_lexer": "ipython3",
   "version": "3.8.10"
  },
  "orig_nbformat": 4
 },
 "nbformat": 4,
 "nbformat_minor": 2
}
