{
 "cells": [
  {
   "cell_type": "code",
   "execution_count": 55,
   "metadata": {},
   "source": [
    "# This Python 3 environment comes with many helpful analytics libraries installed\n",
    "# It is defined by the kaggle/python Docker image: https://github.com/kaggle/docker-python\n",
    "# For example, here's several helpful packages to load\n",
    "\n",
    "import numpy as np # linear algebra\n",
    "import pandas as pd # data processing, CSV file I/O (e.g. pd.read_csv)\n",
    "import pathlib\n",
    "import re\n",
    "\n",
    "passwords = \"Projeto_Passwords/arquivo_base/passwords.csv\"\n",
    "password_classifier = \"Projeto_Passwords/transformações/passwords_classifier.csv\"\n",
    "passwords_formated_data = \"Projeto_Passwords/transformações/passwords_formated_data.csv\"\n",
    "passwords_classifier = \"Projeto_Passwords/transformações/passwords_classifier.csv\""
   ],
   "outputs": []
  },
  {
   "cell_type": "code",
   "execution_count": 56,
   "metadata": {},
   "source": [
    "caminho_bases = pathlib.Path('dataset_analysis')\n",
    "df = pd.read_csv(passwords, low_memory=False)\n",
    "# df_formated_data = pd.read_csv('/Users/fabioleite/Projetos2022_1/annaCaroline/Projeto-LEDA/data/processedData/processedDatapasswords_formated_data.csv', low_memory=False)\n",
    "# df_ranked = pd.read_csv('/Users/fabioleite/Projetos2022_1/annaCaroline/Projeto-LEDA/data/processedData/passwords_classifier.csv', low_memory=False)\n",
    "df_password_classifier = pd.read_csv(password_classifier, low_memory=False) \n",
    "df_formated_data = pd.read_csv(passwords_formated_data, low_memory=False) #/passwords_formated_data\n",
    "df_ranked = pd.read_csv(passwords_classifier, low_memory=False)\n",
    "df_passwords_classifier = pd.read_csv(passwords_classifier, low_memory=False)"
   ],
   "outputs": []
  },
  {
   "cell_type": "markdown",
   "metadata": {},
   "source": [
    "# T1 Transformation\n",
    "\n",
    "4. Transformar data para o formato a seguir DD/MM/AAAA\n",
    "* Gerar um arquivo chamado passwords_formated_data.csv"
   ]
  },
  {
   "cell_type": "code",
   "execution_count": 58,
   "metadata": {},
   "source": [
    "# df_formated_data = df_formated_data['data']\n",
    "print(f\"Datas vazias no df original: {df['data'].isnull().sum()}\")\n",
    "print(f\"Datas vazias no df formatado: {df_formated_data['date'].isnull().sum()}\")\n",
    "df_formated_data.date = pd.to_datetime(df_formated_data.date, format=\"%d/%m/%Y\", errors='ignore')\n",
    "df_formated_data.date\n",
    "print(f\"Datas vazias no df formatado: {df_formated_data['date'].isnull().sum()}\")\n"
   ],
   "outputs": []
  },
  {
   "cell_type": "markdown",
   "metadata": {},
   "source": [
    "# Classificação\n",
    "\n",
    "4. Filtrar senha pela categória Boa e Muito Boa.\n",
    "* Gerar um arquivo chamado passwords_classifier.csv"
   ]
  },
  {
   "cell_type": "code",
   "execution_count": 59,
   "metadata": {},
   "source": [
    "def classificar_senha(senha):\n",
    "    if isinstance(senha, float):\n",
    "        senha = str(senha)\n",
    "\n",
    "    tem_maiuscula = re.search(r'[A-Z]', senha) is not None\n",
    "    tem_minuscula = re.search(r'[a-z]', senha) is not None\n",
    "    tem_numero = re.search(r'[0-9]', senha) is not None\n",
    "    #Busca caracteres especiais\n",
    "    tem_especial = re.search(r'[^a-zA-Z0-9]', senha) is not None\n",
    "    \n",
    "    #Muito Boa\n",
    "    if len(senha) > 8 and tem_maiuscula and tem_minuscula and tem_numero and tem_especial:\n",
    "        return 1\n",
    "   #\"Boa\"\n",
    "    elif len(senha) <= 7 and (tem_maiuscula or tem_minuscula or tem_numero or tem_especial):\n",
    "        return 1\n",
    "    else:\n",
    "        return 0\n",
    "\n",
    "count_senhas = 0\n",
    "for senha in df['password']:\n",
    "    count_senhas += classificar_senha(senha)\n",
    "\n",
    "print(f\"Num senhas Boas e Muito Boas no aquivo base: {count_senhas}\")\n",
    "print(f\"Num senhas Boas e Muito Boas no arquivo do aluno: {df_passwords_classifier.size}\")"
   ],
   "outputs": []
  }
 ],
 "metadata": {
  "kernelspec": {
   "display_name": "Python 3.7.3 64-bit",
   "language": "python",
   "name": "python3"
  },
  "language_info": {
   "codemirror_mode": {
    "name": "ipython",
    "version": 3
   },
   "file_extension": ".py",
   "mimetype": "text/x-python",
   "name": "python",
   "nbconvert_exporter": "python",
   "pygments_lexer": "ipython3",
   "version": "3.8.10"
  },
  "orig_nbformat": 4,
  "vscode": {
   "interpreter": {
    "hash": "aee8b7b246df8f9039afb4144a1f6fd8d2ca17a180786b69acc140d282b71a49"
   }
  }
 },
 "nbformat": 4,
 "nbformat_minor": 2
}
