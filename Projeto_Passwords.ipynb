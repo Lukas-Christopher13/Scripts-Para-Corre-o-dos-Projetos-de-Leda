{
 "cells": [
  {
   "cell_type": "code",
   "execution_count": 6,
   "metadata": {},
   "outputs": [],
   "source": [
    "# This Python 3 environment comes with many helpful analytics libraries installed\n",
    "# It is defined by the kaggle/python Docker image: https://github.com/kaggle/docker-python\n",
    "# For example, here's several helpful packages to load\n",
    "\n",
    "import numpy as np # linear algebra\n",
    "import pandas as pd # data processing, CSV file I/O (e.g. pd.read_csv)\n",
    "import pathlib\n",
    "\n",
    "passwords = \"Projeto_Passwords/arquivo_base/passwords.csv\"\n",
    "password_classifier = \"Projeto_Passwords/transformações/password_classifier.csv\"\n",
    "passwords_formated_data = \"Projeto_Passwords/transformações/passwords_formated_data.csv\"\n",
    "passwords_classifier = \"Projeto_Passwords/transformações/passwords_classifier.csv\""
   ]
  },
  {
   "cell_type": "code",
   "execution_count": 7,
   "metadata": {},
   "outputs": [],
   "source": [
    "caminho_bases = pathlib.Path('dataset_analysis')\n",
    "df = pd.read_csv(passwords, low_memory=False)\n",
    "# df_formated_data = pd.read_csv('/Users/fabioleite/Projetos2022_1/annaCaroline/Projeto-LEDA/data/processedData/processedDatapasswords_formated_data.csv', low_memory=False)\n",
    "# df_ranked = pd.read_csv('/Users/fabioleite/Projetos2022_1/annaCaroline/Projeto-LEDA/data/processedData/passwords_classifier.csv', low_memory=False)\n",
    "df_password_classifier = pd.read_csv(password_classifier, low_memory=False) \n",
    "df_formated_data = pd.read_csv(passwords_formated_data, low_memory=False) #/passwords_formated_data\n",
    "df_ranked = pd.read_csv(passwords_classifier, low_memory=False)\n",
    "df_passwords_classifier = pd.read_csv(passwords_classifier, low_memory=False)"
   ]
  },
  {
   "cell_type": "markdown",
   "metadata": {},
   "source": [
    "# T1 Transformation\n",
    "\n",
    "4. Transformar data para o formato a seguir DD/MM/AAAA\n",
    "* Gerar um arquivo chamado passwords_formated_data.csv"
   ]
  },
  {
   "cell_type": "code",
   "execution_count": 8,
   "metadata": {},
   "outputs": [
    {
     "name": "stdout",
     "output_type": "stream",
     "text": [
      "Datas vazias no df original: 0\n",
      "Datas vazias no df formatado: 0\n"
     ]
    },
    {
     "ename": "AttributeError",
     "evalue": "'DataFrame' object has no attribute 'data'",
     "output_type": "error",
     "traceback": [
      "\u001b[0;31m---------------------------------------------------------------------------\u001b[0m",
      "\u001b[0;31mAttributeError\u001b[0m                            Traceback (most recent call last)",
      "\u001b[0;32m/tmp/ipykernel_12964/2304740438.py\u001b[0m in \u001b[0;36m?\u001b[0;34m()\u001b[0m\n\u001b[0;32m----> 4\u001b[0;31m \u001b[0;31m# df_formated_data = df_formated_data['data']\u001b[0m\u001b[0;34m\u001b[0m\u001b[0;34m\u001b[0m\u001b[0;34m\u001b[0m\u001b[0m\n\u001b[0m\u001b[1;32m      5\u001b[0m \u001b[0mprint\u001b[0m\u001b[0;34m(\u001b[0m\u001b[0;34mf\"Datas vazias no df original: {df['data'].isnull().sum()}\"\u001b[0m\u001b[0;34m)\u001b[0m\u001b[0;34m\u001b[0m\u001b[0;34m\u001b[0m\u001b[0m\n\u001b[1;32m      6\u001b[0m \u001b[0mprint\u001b[0m\u001b[0;34m(\u001b[0m\u001b[0;34mf\"Datas vazias no df formatado: {df_formated_data['date'].isnull().sum()}\"\u001b[0m\u001b[0;34m)\u001b[0m\u001b[0;34m\u001b[0m\u001b[0;34m\u001b[0m\u001b[0m\n\u001b[1;32m      7\u001b[0m \u001b[0mdf_formated_data\u001b[0m\u001b[0;34m.\u001b[0m\u001b[0mdata\u001b[0m \u001b[0;34m=\u001b[0m \u001b[0mpd\u001b[0m\u001b[0;34m.\u001b[0m\u001b[0mto_datetime\u001b[0m\u001b[0;34m(\u001b[0m\u001b[0mdf_formated_data\u001b[0m\u001b[0;34m.\u001b[0m\u001b[0mdata\u001b[0m\u001b[0;34m,\u001b[0m \u001b[0mformat\u001b[0m\u001b[0;34m=\u001b[0m\u001b[0;34m\"%d/%m/%Y\"\u001b[0m\u001b[0;34m,\u001b[0m \u001b[0merrors\u001b[0m\u001b[0;34m=\u001b[0m\u001b[0;34m'ignore'\u001b[0m\u001b[0;34m)\u001b[0m\u001b[0;34m\u001b[0m\u001b[0;34m\u001b[0m\u001b[0m\n",
      "\u001b[0;32m~/.local/lib/python3.8/site-packages/pandas/core/generic.py\u001b[0m in \u001b[0;36m?\u001b[0;34m(self, name)\u001b[0m\n\u001b[1;32m   5985\u001b[0m             \u001b[0;32mand\u001b[0m \u001b[0mname\u001b[0m \u001b[0;32mnot\u001b[0m \u001b[0;32min\u001b[0m \u001b[0mself\u001b[0m\u001b[0;34m.\u001b[0m\u001b[0m_accessors\u001b[0m\u001b[0;34m\u001b[0m\u001b[0;34m\u001b[0m\u001b[0m\n\u001b[1;32m   5986\u001b[0m             \u001b[0;32mand\u001b[0m \u001b[0mself\u001b[0m\u001b[0;34m.\u001b[0m\u001b[0m_info_axis\u001b[0m\u001b[0;34m.\u001b[0m\u001b[0m_can_hold_identifiers_and_holds_name\u001b[0m\u001b[0;34m(\u001b[0m\u001b[0mname\u001b[0m\u001b[0;34m)\u001b[0m\u001b[0;34m\u001b[0m\u001b[0;34m\u001b[0m\u001b[0m\n\u001b[1;32m   5987\u001b[0m         ):\n\u001b[1;32m   5988\u001b[0m             \u001b[0;32mreturn\u001b[0m \u001b[0mself\u001b[0m\u001b[0;34m[\u001b[0m\u001b[0mname\u001b[0m\u001b[0;34m]\u001b[0m\u001b[0;34m\u001b[0m\u001b[0;34m\u001b[0m\u001b[0m\n\u001b[0;32m-> 5989\u001b[0;31m         \u001b[0;32mreturn\u001b[0m \u001b[0mobject\u001b[0m\u001b[0;34m.\u001b[0m\u001b[0m__getattribute__\u001b[0m\u001b[0;34m(\u001b[0m\u001b[0mself\u001b[0m\u001b[0;34m,\u001b[0m \u001b[0mname\u001b[0m\u001b[0;34m)\u001b[0m\u001b[0;34m\u001b[0m\u001b[0;34m\u001b[0m\u001b[0m\n\u001b[0m",
      "\u001b[0;31mAttributeError\u001b[0m: 'DataFrame' object has no attribute 'data'"
     ]
    }
   ],
   "source": [
    "# df_formated_data = df_formated_data['data']\n",
    "print(f\"Datas vazias no df original: {df['data'].isnull().sum()}\")\n",
    "print(f\"Datas vazias no df formatado: {df_formated_data['date'].isnull().sum()}\")\n",
    "df_formated_data.data = pd.to_datetime(df_formated_data.data, format=\"%d/%m/%Y\", errors='ignore')\n",
    "df_formated_data.data\n",
    "print(f\"Datas vazias no df formatado: {df_formated_data['date'].isnull().sum()}\")\n"
   ]
  },
  {
   "cell_type": "markdown",
   "metadata": {},
   "source": [
    "# Classificação\n",
    "\n",
    "4. Filtrar senha pela categória Boa e Muito Boa.\n",
    "* Gerar um arquivo chamado passwords_classifier.csv"
   ]
  },
  {
   "cell_type": "code",
   "execution_count": null,
   "metadata": {},
   "outputs": [
    {
     "name": "stdout",
     "output_type": "stream",
     "text": [
      "tamanho do df original: 2679516\n",
      "tamanho do df_ranked: 2554420\n",
      "----------------------------------------------------------\n",
      "Num senhas Boas e Muito Boas no aquivo base: 2554420\n",
      "Num senhas Boas e Muito Boas no arquivo do aluno: 2554420\n"
     ]
    }
   ],
   "source": [
    "print(f\"tamanho do df original: {df.size}\")\n",
    "print(f\"tamanho do df_ranked: {df_ranked.size}\")\n",
    "\n",
    "print(\"----------------------------------------------------------\")\n",
    "#Pega tanto as senhas boas quanto as muito boas\n",
    "df_senhas_Boas_e_MTB = df_password_classifier[df_password_classifier['class'].str.contains(\"Boa\")]\n",
    "\n",
    "print(f\"Num senhas Boas e Muito Boas no aquivo base: {df_senhas_Boas_e_MTB.size}\")\n",
    "print(f\"Num senhas Boas e Muito Boas no arquivo do aluno: {df_passwords_classifier.size}\")\n"
   ]
  }
 ],
 "metadata": {
  "kernelspec": {
   "display_name": "Python 3.7.3 64-bit",
   "language": "python",
   "name": "python3"
  },
  "language_info": {
   "codemirror_mode": {
    "name": "ipython",
    "version": 3
   },
   "file_extension": ".py",
   "mimetype": "text/x-python",
   "name": "python",
   "nbconvert_exporter": "python",
   "pygments_lexer": "ipython3",
   "version": "3.8.10"
  },
  "orig_nbformat": 4,
  "vscode": {
   "interpreter": {
    "hash": "aee8b7b246df8f9039afb4144a1f6fd8d2ca17a180786b69acc140d282b71a49"
   }
  }
 },
 "nbformat": 4,
 "nbformat_minor": 2
}
