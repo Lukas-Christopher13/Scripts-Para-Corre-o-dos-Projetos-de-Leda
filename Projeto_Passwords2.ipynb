{
 "cells": [
  {
   "cell_type": "code",
   "metadata": {
    "ExecuteTime": {
     "end_time": "2024-11-26T14:04:59.721902Z",
     "start_time": "2024-11-26T14:04:43.228976Z"
    }
   },
   "source": [
    "# This Python 3 environment comes with many helpful analytics libraries installed\n",
    "# It is defined by the kaggle/python Docker image: https://github.com/kaggle/docker-python\n",
    "# For example, here's several helpful packages to load\n",
    "\n",
    "import numpy as np # linear algebra\n",
    "import pandas as pd # data processing, CSV file I/O (e.g. pd.read_csv)\n",
    "import pathlib\n",
    "from datetime import datetime, date\n",
    "import pyarrow as pa\n",
    "\n",
    "passwords = \"Projeto_Passwords/arquivo_base/passwords.csv\"\n",
    "password_classifier = \"Projeto_Passwords/transformações/password_classifier.csv\"\n",
    "passwords_formated_data = \"Projeto_Passwords/transformações/passwords_formated_date.csv\"\n",
    "# passwords_classifier = \"Projeto_Passwords/transformações/passwords_classifier.csv\""
   ],
   "outputs": [],
   "execution_count": 1
  },
  {
   "cell_type": "code",
   "metadata": {
    "ExecuteTime": {
     "end_time": "2024-11-26T14:05:02.748891Z",
     "start_time": "2024-11-26T14:04:59.724364Z"
    }
   },
   "source": [
    "caminho_bases = pathlib.Path('dataset_analysis')\n",
    "df = pd.read_csv(passwords, low_memory=False)\n",
    "# df_formated_data = pd.read_csv('/Users/fabioleite/Projetos2022_1/annaCaroline/Projeto-LEDA/data/processedData/processedDatapasswords_formated_data.csv', low_memory=False)\n",
    "# df_ranked = pd.read_csv('/Users/fabioleite/Projetos2022_1/annaCaroline/Projeto-LEDA/data/processedData/passwords_classifier.csv', low_memory=False)\n",
    "# df_password_classifier = pd.read_csv(password_classifier, low_memory=False) \n",
    "df_formated_data = pd.read_csv(passwords_formated_data, low_memory=False) #/passwords_formated_data\n",
    "df_ranked = pd.read_csv(password_classifier, low_memory=False)\n",
    "df_password_classifier = pd.read_csv(password_classifier, low_memory=False, header='infer')\n"
   ],
   "outputs": [
    {
     "ename": "FileNotFoundError",
     "evalue": "[Errno 2] No such file or directory: 'Projeto_Passwords/transformações/passwords_formated_date.csv'",
     "output_type": "error",
     "traceback": [
      "\u001B[0;31m---------------------------------------------------------------------------\u001B[0m",
      "\u001B[0;31mFileNotFoundError\u001B[0m                         Traceback (most recent call last)",
      "Cell \u001B[0;32mIn[2], line 6\u001B[0m\n\u001B[1;32m      2\u001B[0m df \u001B[38;5;241m=\u001B[39m pd\u001B[38;5;241m.\u001B[39mread_csv(passwords, low_memory\u001B[38;5;241m=\u001B[39m\u001B[38;5;28;01mFalse\u001B[39;00m)\n\u001B[1;32m      3\u001B[0m \u001B[38;5;66;03m# df_formated_data = pd.read_csv('/Users/fabioleite/Projetos2022_1/annaCaroline/Projeto-LEDA/data/processedData/processedDatapasswords_formated_data.csv', low_memory=False)\u001B[39;00m\n\u001B[1;32m      4\u001B[0m \u001B[38;5;66;03m# df_ranked = pd.read_csv('/Users/fabioleite/Projetos2022_1/annaCaroline/Projeto-LEDA/data/processedData/passwords_classifier.csv', low_memory=False)\u001B[39;00m\n\u001B[1;32m      5\u001B[0m \u001B[38;5;66;03m# df_password_classifier = pd.read_csv(password_classifier, low_memory=False) \u001B[39;00m\n\u001B[0;32m----> 6\u001B[0m df_formated_data \u001B[38;5;241m=\u001B[39m \u001B[43mpd\u001B[49m\u001B[38;5;241;43m.\u001B[39;49m\u001B[43mread_csv\u001B[49m\u001B[43m(\u001B[49m\u001B[43mpasswords_formated_data\u001B[49m\u001B[43m,\u001B[49m\u001B[43m \u001B[49m\u001B[43mlow_memory\u001B[49m\u001B[38;5;241;43m=\u001B[39;49m\u001B[38;5;28;43;01mFalse\u001B[39;49;00m\u001B[43m)\u001B[49m \u001B[38;5;66;03m#/passwords_formated_data\u001B[39;00m\n\u001B[1;32m      7\u001B[0m df_ranked \u001B[38;5;241m=\u001B[39m pd\u001B[38;5;241m.\u001B[39mread_csv(password_classifier, low_memory\u001B[38;5;241m=\u001B[39m\u001B[38;5;28;01mFalse\u001B[39;00m)\n\u001B[1;32m      8\u001B[0m df_password_classifier \u001B[38;5;241m=\u001B[39m pd\u001B[38;5;241m.\u001B[39mread_csv(password_classifier, low_memory\u001B[38;5;241m=\u001B[39m\u001B[38;5;28;01mFalse\u001B[39;00m, header\u001B[38;5;241m=\u001B[39m\u001B[38;5;124m'\u001B[39m\u001B[38;5;124minfer\u001B[39m\u001B[38;5;124m'\u001B[39m)\n",
      "File \u001B[0;32m/Library/Frameworks/Python.framework/Versions/3.12/lib/python3.12/site-packages/pandas/io/parsers/readers.py:1026\u001B[0m, in \u001B[0;36mread_csv\u001B[0;34m(filepath_or_buffer, sep, delimiter, header, names, index_col, usecols, dtype, engine, converters, true_values, false_values, skipinitialspace, skiprows, skipfooter, nrows, na_values, keep_default_na, na_filter, verbose, skip_blank_lines, parse_dates, infer_datetime_format, keep_date_col, date_parser, date_format, dayfirst, cache_dates, iterator, chunksize, compression, thousands, decimal, lineterminator, quotechar, quoting, doublequote, escapechar, comment, encoding, encoding_errors, dialect, on_bad_lines, delim_whitespace, low_memory, memory_map, float_precision, storage_options, dtype_backend)\u001B[0m\n\u001B[1;32m   1013\u001B[0m kwds_defaults \u001B[38;5;241m=\u001B[39m _refine_defaults_read(\n\u001B[1;32m   1014\u001B[0m     dialect,\n\u001B[1;32m   1015\u001B[0m     delimiter,\n\u001B[0;32m   (...)\u001B[0m\n\u001B[1;32m   1022\u001B[0m     dtype_backend\u001B[38;5;241m=\u001B[39mdtype_backend,\n\u001B[1;32m   1023\u001B[0m )\n\u001B[1;32m   1024\u001B[0m kwds\u001B[38;5;241m.\u001B[39mupdate(kwds_defaults)\n\u001B[0;32m-> 1026\u001B[0m \u001B[38;5;28;01mreturn\u001B[39;00m \u001B[43m_read\u001B[49m\u001B[43m(\u001B[49m\u001B[43mfilepath_or_buffer\u001B[49m\u001B[43m,\u001B[49m\u001B[43m \u001B[49m\u001B[43mkwds\u001B[49m\u001B[43m)\u001B[49m\n",
      "File \u001B[0;32m/Library/Frameworks/Python.framework/Versions/3.12/lib/python3.12/site-packages/pandas/io/parsers/readers.py:620\u001B[0m, in \u001B[0;36m_read\u001B[0;34m(filepath_or_buffer, kwds)\u001B[0m\n\u001B[1;32m    617\u001B[0m _validate_names(kwds\u001B[38;5;241m.\u001B[39mget(\u001B[38;5;124m\"\u001B[39m\u001B[38;5;124mnames\u001B[39m\u001B[38;5;124m\"\u001B[39m, \u001B[38;5;28;01mNone\u001B[39;00m))\n\u001B[1;32m    619\u001B[0m \u001B[38;5;66;03m# Create the parser.\u001B[39;00m\n\u001B[0;32m--> 620\u001B[0m parser \u001B[38;5;241m=\u001B[39m \u001B[43mTextFileReader\u001B[49m\u001B[43m(\u001B[49m\u001B[43mfilepath_or_buffer\u001B[49m\u001B[43m,\u001B[49m\u001B[43m \u001B[49m\u001B[38;5;241;43m*\u001B[39;49m\u001B[38;5;241;43m*\u001B[39;49m\u001B[43mkwds\u001B[49m\u001B[43m)\u001B[49m\n\u001B[1;32m    622\u001B[0m \u001B[38;5;28;01mif\u001B[39;00m chunksize \u001B[38;5;129;01mor\u001B[39;00m iterator:\n\u001B[1;32m    623\u001B[0m     \u001B[38;5;28;01mreturn\u001B[39;00m parser\n",
      "File \u001B[0;32m/Library/Frameworks/Python.framework/Versions/3.12/lib/python3.12/site-packages/pandas/io/parsers/readers.py:1620\u001B[0m, in \u001B[0;36mTextFileReader.__init__\u001B[0;34m(self, f, engine, **kwds)\u001B[0m\n\u001B[1;32m   1617\u001B[0m     \u001B[38;5;28mself\u001B[39m\u001B[38;5;241m.\u001B[39moptions[\u001B[38;5;124m\"\u001B[39m\u001B[38;5;124mhas_index_names\u001B[39m\u001B[38;5;124m\"\u001B[39m] \u001B[38;5;241m=\u001B[39m kwds[\u001B[38;5;124m\"\u001B[39m\u001B[38;5;124mhas_index_names\u001B[39m\u001B[38;5;124m\"\u001B[39m]\n\u001B[1;32m   1619\u001B[0m \u001B[38;5;28mself\u001B[39m\u001B[38;5;241m.\u001B[39mhandles: IOHandles \u001B[38;5;241m|\u001B[39m \u001B[38;5;28;01mNone\u001B[39;00m \u001B[38;5;241m=\u001B[39m \u001B[38;5;28;01mNone\u001B[39;00m\n\u001B[0;32m-> 1620\u001B[0m \u001B[38;5;28mself\u001B[39m\u001B[38;5;241m.\u001B[39m_engine \u001B[38;5;241m=\u001B[39m \u001B[38;5;28;43mself\u001B[39;49m\u001B[38;5;241;43m.\u001B[39;49m\u001B[43m_make_engine\u001B[49m\u001B[43m(\u001B[49m\u001B[43mf\u001B[49m\u001B[43m,\u001B[49m\u001B[43m \u001B[49m\u001B[38;5;28;43mself\u001B[39;49m\u001B[38;5;241;43m.\u001B[39;49m\u001B[43mengine\u001B[49m\u001B[43m)\u001B[49m\n",
      "File \u001B[0;32m/Library/Frameworks/Python.framework/Versions/3.12/lib/python3.12/site-packages/pandas/io/parsers/readers.py:1880\u001B[0m, in \u001B[0;36mTextFileReader._make_engine\u001B[0;34m(self, f, engine)\u001B[0m\n\u001B[1;32m   1878\u001B[0m     \u001B[38;5;28;01mif\u001B[39;00m \u001B[38;5;124m\"\u001B[39m\u001B[38;5;124mb\u001B[39m\u001B[38;5;124m\"\u001B[39m \u001B[38;5;129;01mnot\u001B[39;00m \u001B[38;5;129;01min\u001B[39;00m mode:\n\u001B[1;32m   1879\u001B[0m         mode \u001B[38;5;241m+\u001B[39m\u001B[38;5;241m=\u001B[39m \u001B[38;5;124m\"\u001B[39m\u001B[38;5;124mb\u001B[39m\u001B[38;5;124m\"\u001B[39m\n\u001B[0;32m-> 1880\u001B[0m \u001B[38;5;28mself\u001B[39m\u001B[38;5;241m.\u001B[39mhandles \u001B[38;5;241m=\u001B[39m \u001B[43mget_handle\u001B[49m\u001B[43m(\u001B[49m\n\u001B[1;32m   1881\u001B[0m \u001B[43m    \u001B[49m\u001B[43mf\u001B[49m\u001B[43m,\u001B[49m\n\u001B[1;32m   1882\u001B[0m \u001B[43m    \u001B[49m\u001B[43mmode\u001B[49m\u001B[43m,\u001B[49m\n\u001B[1;32m   1883\u001B[0m \u001B[43m    \u001B[49m\u001B[43mencoding\u001B[49m\u001B[38;5;241;43m=\u001B[39;49m\u001B[38;5;28;43mself\u001B[39;49m\u001B[38;5;241;43m.\u001B[39;49m\u001B[43moptions\u001B[49m\u001B[38;5;241;43m.\u001B[39;49m\u001B[43mget\u001B[49m\u001B[43m(\u001B[49m\u001B[38;5;124;43m\"\u001B[39;49m\u001B[38;5;124;43mencoding\u001B[39;49m\u001B[38;5;124;43m\"\u001B[39;49m\u001B[43m,\u001B[49m\u001B[43m \u001B[49m\u001B[38;5;28;43;01mNone\u001B[39;49;00m\u001B[43m)\u001B[49m\u001B[43m,\u001B[49m\n\u001B[1;32m   1884\u001B[0m \u001B[43m    \u001B[49m\u001B[43mcompression\u001B[49m\u001B[38;5;241;43m=\u001B[39;49m\u001B[38;5;28;43mself\u001B[39;49m\u001B[38;5;241;43m.\u001B[39;49m\u001B[43moptions\u001B[49m\u001B[38;5;241;43m.\u001B[39;49m\u001B[43mget\u001B[49m\u001B[43m(\u001B[49m\u001B[38;5;124;43m\"\u001B[39;49m\u001B[38;5;124;43mcompression\u001B[39;49m\u001B[38;5;124;43m\"\u001B[39;49m\u001B[43m,\u001B[49m\u001B[43m \u001B[49m\u001B[38;5;28;43;01mNone\u001B[39;49;00m\u001B[43m)\u001B[49m\u001B[43m,\u001B[49m\n\u001B[1;32m   1885\u001B[0m \u001B[43m    \u001B[49m\u001B[43mmemory_map\u001B[49m\u001B[38;5;241;43m=\u001B[39;49m\u001B[38;5;28;43mself\u001B[39;49m\u001B[38;5;241;43m.\u001B[39;49m\u001B[43moptions\u001B[49m\u001B[38;5;241;43m.\u001B[39;49m\u001B[43mget\u001B[49m\u001B[43m(\u001B[49m\u001B[38;5;124;43m\"\u001B[39;49m\u001B[38;5;124;43mmemory_map\u001B[39;49m\u001B[38;5;124;43m\"\u001B[39;49m\u001B[43m,\u001B[49m\u001B[43m \u001B[49m\u001B[38;5;28;43;01mFalse\u001B[39;49;00m\u001B[43m)\u001B[49m\u001B[43m,\u001B[49m\n\u001B[1;32m   1886\u001B[0m \u001B[43m    \u001B[49m\u001B[43mis_text\u001B[49m\u001B[38;5;241;43m=\u001B[39;49m\u001B[43mis_text\u001B[49m\u001B[43m,\u001B[49m\n\u001B[1;32m   1887\u001B[0m \u001B[43m    \u001B[49m\u001B[43merrors\u001B[49m\u001B[38;5;241;43m=\u001B[39;49m\u001B[38;5;28;43mself\u001B[39;49m\u001B[38;5;241;43m.\u001B[39;49m\u001B[43moptions\u001B[49m\u001B[38;5;241;43m.\u001B[39;49m\u001B[43mget\u001B[49m\u001B[43m(\u001B[49m\u001B[38;5;124;43m\"\u001B[39;49m\u001B[38;5;124;43mencoding_errors\u001B[39;49m\u001B[38;5;124;43m\"\u001B[39;49m\u001B[43m,\u001B[49m\u001B[43m \u001B[49m\u001B[38;5;124;43m\"\u001B[39;49m\u001B[38;5;124;43mstrict\u001B[39;49m\u001B[38;5;124;43m\"\u001B[39;49m\u001B[43m)\u001B[49m\u001B[43m,\u001B[49m\n\u001B[1;32m   1888\u001B[0m \u001B[43m    \u001B[49m\u001B[43mstorage_options\u001B[49m\u001B[38;5;241;43m=\u001B[39;49m\u001B[38;5;28;43mself\u001B[39;49m\u001B[38;5;241;43m.\u001B[39;49m\u001B[43moptions\u001B[49m\u001B[38;5;241;43m.\u001B[39;49m\u001B[43mget\u001B[49m\u001B[43m(\u001B[49m\u001B[38;5;124;43m\"\u001B[39;49m\u001B[38;5;124;43mstorage_options\u001B[39;49m\u001B[38;5;124;43m\"\u001B[39;49m\u001B[43m,\u001B[49m\u001B[43m \u001B[49m\u001B[38;5;28;43;01mNone\u001B[39;49;00m\u001B[43m)\u001B[49m\u001B[43m,\u001B[49m\n\u001B[1;32m   1889\u001B[0m \u001B[43m\u001B[49m\u001B[43m)\u001B[49m\n\u001B[1;32m   1890\u001B[0m \u001B[38;5;28;01massert\u001B[39;00m \u001B[38;5;28mself\u001B[39m\u001B[38;5;241m.\u001B[39mhandles \u001B[38;5;129;01mis\u001B[39;00m \u001B[38;5;129;01mnot\u001B[39;00m \u001B[38;5;28;01mNone\u001B[39;00m\n\u001B[1;32m   1891\u001B[0m f \u001B[38;5;241m=\u001B[39m \u001B[38;5;28mself\u001B[39m\u001B[38;5;241m.\u001B[39mhandles\u001B[38;5;241m.\u001B[39mhandle\n",
      "File \u001B[0;32m/Library/Frameworks/Python.framework/Versions/3.12/lib/python3.12/site-packages/pandas/io/common.py:873\u001B[0m, in \u001B[0;36mget_handle\u001B[0;34m(path_or_buf, mode, encoding, compression, memory_map, is_text, errors, storage_options)\u001B[0m\n\u001B[1;32m    868\u001B[0m \u001B[38;5;28;01melif\u001B[39;00m \u001B[38;5;28misinstance\u001B[39m(handle, \u001B[38;5;28mstr\u001B[39m):\n\u001B[1;32m    869\u001B[0m     \u001B[38;5;66;03m# Check whether the filename is to be opened in binary mode.\u001B[39;00m\n\u001B[1;32m    870\u001B[0m     \u001B[38;5;66;03m# Binary mode does not support 'encoding' and 'newline'.\u001B[39;00m\n\u001B[1;32m    871\u001B[0m     \u001B[38;5;28;01mif\u001B[39;00m ioargs\u001B[38;5;241m.\u001B[39mencoding \u001B[38;5;129;01mand\u001B[39;00m \u001B[38;5;124m\"\u001B[39m\u001B[38;5;124mb\u001B[39m\u001B[38;5;124m\"\u001B[39m \u001B[38;5;129;01mnot\u001B[39;00m \u001B[38;5;129;01min\u001B[39;00m ioargs\u001B[38;5;241m.\u001B[39mmode:\n\u001B[1;32m    872\u001B[0m         \u001B[38;5;66;03m# Encoding\u001B[39;00m\n\u001B[0;32m--> 873\u001B[0m         handle \u001B[38;5;241m=\u001B[39m \u001B[38;5;28;43mopen\u001B[39;49m\u001B[43m(\u001B[49m\n\u001B[1;32m    874\u001B[0m \u001B[43m            \u001B[49m\u001B[43mhandle\u001B[49m\u001B[43m,\u001B[49m\n\u001B[1;32m    875\u001B[0m \u001B[43m            \u001B[49m\u001B[43mioargs\u001B[49m\u001B[38;5;241;43m.\u001B[39;49m\u001B[43mmode\u001B[49m\u001B[43m,\u001B[49m\n\u001B[1;32m    876\u001B[0m \u001B[43m            \u001B[49m\u001B[43mencoding\u001B[49m\u001B[38;5;241;43m=\u001B[39;49m\u001B[43mioargs\u001B[49m\u001B[38;5;241;43m.\u001B[39;49m\u001B[43mencoding\u001B[49m\u001B[43m,\u001B[49m\n\u001B[1;32m    877\u001B[0m \u001B[43m            \u001B[49m\u001B[43merrors\u001B[49m\u001B[38;5;241;43m=\u001B[39;49m\u001B[43merrors\u001B[49m\u001B[43m,\u001B[49m\n\u001B[1;32m    878\u001B[0m \u001B[43m            \u001B[49m\u001B[43mnewline\u001B[49m\u001B[38;5;241;43m=\u001B[39;49m\u001B[38;5;124;43m\"\u001B[39;49m\u001B[38;5;124;43m\"\u001B[39;49m\u001B[43m,\u001B[49m\n\u001B[1;32m    879\u001B[0m \u001B[43m        \u001B[49m\u001B[43m)\u001B[49m\n\u001B[1;32m    880\u001B[0m     \u001B[38;5;28;01melse\u001B[39;00m:\n\u001B[1;32m    881\u001B[0m         \u001B[38;5;66;03m# Binary mode\u001B[39;00m\n\u001B[1;32m    882\u001B[0m         handle \u001B[38;5;241m=\u001B[39m \u001B[38;5;28mopen\u001B[39m(handle, ioargs\u001B[38;5;241m.\u001B[39mmode)\n",
      "\u001B[0;31mFileNotFoundError\u001B[0m: [Errno 2] No such file or directory: 'Projeto_Passwords/transformações/passwords_formated_date.csv'"
     ]
    }
   ],
   "execution_count": 2
  },
  {
   "cell_type": "markdown",
   "metadata": {},
   "source": [
    "# T1 Transformation\n",
    "\n",
    "4. Transformar data para o formato a seguir DD/MM/AAAA\n",
    "* Gerar um arquivo chamado passwords_formated_data.csv"
   ]
  },
  {
   "cell_type": "code",
   "metadata": {
    "ExecuteTime": {
     "end_time": "2024-11-26T14:05:02.751346Z",
     "start_time": "2024-11-26T14:05:02.751194Z"
    }
   },
   "source": [
    "\n",
    "\n",
    "df_datas_formatadas_origem = df['data']\n",
    "datas_formatadas_aluno = df_formated_data['date']\n",
    "# df_formated_data = df_formated_data['data']\n",
    "print(f\"Datas vazias no df original: {df_datas_formatadas_origem.isnull().sum()}\")\n",
    "print(f\"Datas vazias no df formatado: {datas_formatadas_aluno.isnull().sum()}\")\n",
    "# df_formated_data['data_formatada'] = pd.to_datetime(datas_formatadas_aluno, format=\"%d/%m/%Y\", errors='raise')\n",
    "\n",
    "pd.testing.assert_series_equal(df_datas_formatadas_origem, datas_formatadas_aluno, check_names=False)"
   ],
   "outputs": [],
   "execution_count": null
  },
  {
   "metadata": {},
   "cell_type": "markdown",
   "source": "# Verifica datas formatadas"
  },
  {
   "metadata": {},
   "cell_type": "code",
   "source": [
    "df['data'] = pd.to_datetime(df['data'])\n",
    "df['data_formatada'] = df['data'].dt.strftime('%d/%m/%Y %H:%M:%S')\n",
    "pd.testing.assert_series_equal(df['data_formatada'] , datas_formatadas_aluno, check_names=False)"
   ],
   "outputs": [],
   "execution_count": null
  },
  {
   "cell_type": "markdown",
   "metadata": {},
   "source": [
    "# Classificação\n",
    "\n",
    "4. Filtrar senha pela categória Boa e Muito Boa.\n",
    "* Gerar um arquivo chamado passwords_classifier.csv"
   ]
  },
  {
   "cell_type": "code",
   "metadata": {},
   "source": [
    "import re\n",
    "\n",
    "def classify_password(password: str) -> str:\n",
    "        # Expressão regular para letras (maiúsculas e minúsculas), números e caracteres especiais\n",
    "        result = \"\"\n",
    "        \n",
    "        \n",
    "        if ( (re.search(r'[A-Za-z]', password) and re.search(r'[0-9]', password)) or \n",
    "                        (re.search(r'[A-Za-z]', password) and re.search(r'[\\W_]', password)) or \n",
    "                        (re.search(r'[0-9]', password) and re.search(r'[\\W_]', password)) ):\n",
    "                if len(password) == 6: \n",
    "                        result = \"Fraca\"\n",
    "                elif len(password) <= 5:\n",
    "                        result = \"Ruim\"\n",
    "        \n",
    "        password_pattern = \"^(?=.*[a-z])(?=.*[A-Z])(?=.*\\d)(?=.*\\W).{4,}$\"\n",
    "        pat = re.compile(password_pattern)\n",
    "\n",
    "        if bool(re.search(pat, password)):\n",
    "                \n",
    "                if len(password) <= 7: \n",
    "                        result = \"Boa\"\n",
    "                elif len(password) >= 8:\n",
    "                        result = \"Muito Boa\"\n",
    "\n",
    "        return result\n",
    "\n",
    "to_print = (classify_password('Abbb11'))\n",
    "print(to_print)\n",
    "# Função para verificar se a senha contém apenas letras, números e caracteres especiais\n",
    "# is_valid_password = lambda pwd: bool(re.match(r'^(?=.*[a-z])(?=.*[A-Z])(?=.*\\d)(?=.*[!@#$%^&*()_+=\\-{}:;\"\\'<>,.?/\\\\|~`]).+$', pwd))\n",
    "\n",
    "# Função lambda para classificar a senha\n",
    "# classify_password = lambda pwd: 'Boa' if len(pwd) <= 7 and is_valid_password(pwd) else ''"
   ],
   "outputs": [],
   "execution_count": null
  },
  {
   "cell_type": "code",
   "metadata": {},
   "source": [
    "# Função para verificar se a senha contém apenas letras, números e caracteres especiais\n",
    "# password_muito_boa = lambda pwd: bool(re.match(r'^(?=.[a-z])(?=.[A-Z])(?=.*[\\d\\W]).{8,}$', pwd))\n",
    "\n",
    "# Função lambda para classificar a senha\n",
    "# classify_password_muito_boa = lambda pwd: 'Muito Boa' if bool(re.match(r'^(?=.[a-z])(?=.[A-Z])(?=.*[\\d\\W]).{8,}$', pwd)) else ''\n",
    "# classify_password_muito_boa = lambda pwd, length, cls: 'Muito Boa' if length >= 8 else ''"
   ],
   "outputs": [],
   "execution_count": null
  },
  {
   "cell_type": "code",
   "metadata": {},
   "source": [
    "print(\"tamanho do df original:  {:,}\".format(len(df)))\n",
    "# print(\"tamanho do df_ranked: {:,}\".format(df_ranked.size))\n",
    "\n",
    "print(\"----------------------------------------------------------\")\n",
    "#Pega tanto as senhas boas quanto as muito boas\n",
    "df_self_ranked = df\n",
    "\n",
    "df_self_ranked['classificacao'] = df_self_ranked.password.apply(lambda x: classify_password(str(x)))\n",
    "# df_self_ranked['classificacao'] = df_self_ranked.apply(lambda x: classify_password_muito_boa(str(x.password), x.length, x.classificacao), axis=1)\n",
    "\n",
    "df_senhas_Boas = df_self_ranked[df_self_ranked['classificacao'].str.startswith(\"Boa\")]\n",
    "df_senhas_MuitoBoas = df_self_ranked[df_self_ranked['classificacao'].str.startswith(\"Muito Boa\")]\n",
    "df_senhas_Fraca = df_self_ranked[df_self_ranked['classificacao'].str.startswith(\"Fraca\")]\n",
    "df_senhas_Ruim = df_self_ranked[df_self_ranked['classificacao'].str.startswith(\"Ruim\")]\n",
    "# display(df_senhas_Boas_e_MTB)\n",
    "\n",
    "print(\"Num senhas Boas no aquivo base: {:,}\".format(len(df_senhas_Boas)))\n",
    "print(\"Num senhas Muito Boas no arquivo base: {:,}\".format(len(df_senhas_MuitoBoas)))\n",
    "print(\"Num senhas Fracas no arquivo base: {:,}\".format(len(df_senhas_Fraca)))\n",
    "print(\"Num senhas Ruim no arquivo base: {:,}\".format(len(df_senhas_Ruim)))\n",
    "print(\"----------------------------------------------------------\")\n",
    "\n",
    "\n",
    "# df_passwords_classifier_Boas = df_passwords_classifier[df_passwords_classifier['class'].str.startswith(\"Boa\")]\n",
    "df_password_classifier_Boas = (df_password_classifier[\"class\"] == \"Boa\").sum()\n",
    "df_password_classifier_MTB = df_password_classifier[df_password_classifier['class'].str.startswith(\"Muito Boa\")]\n",
    "df_password_classifier_Fraca = df_password_classifier[df_password_classifier['class'].str.startswith(\"Fraca\")]\n",
    "df_password_classifier_Ruim = df_password_classifier[df_password_classifier['class'].str.startswith(\"Ruim\")]\n",
    "df_password_classifier_MuitoRuim = df_password_classifier[df_password_classifier['class'].str.startswith(\"Muito Ruim\")]\n",
    "print(f\"Num senhas Boas no aquivo do aluno: {df_password_classifier_Boas:,}\")\n",
    "# print(df_passwords_classifier_Boas)\n",
    "print(\"Num senhas Muito Boas no arquivo do aluno: {:,}\".format(len(df_password_classifier_MTB)))\n",
    "print(\"Num senhas Fracas no arquivo do aluno: {:,}\".format(len(df_password_classifier_Fraca)))\n",
    "print(\"Num senhas Ruim no arquivo do aluno: {:,}\".format(len(df_password_classifier_Ruim)))\n",
    "print(\"Num senhas Muito Ruim no arquivo do aluno: {:,}\".format(len(df_password_classifier_MuitoRuim)))\n"
   ],
   "outputs": [],
   "execution_count": null
  },
  {
   "metadata": {},
   "cell_type": "markdown",
   "source": "Comparativo qualitativo dos resultados"
  },
  {
   "metadata": {},
   "cell_type": "code",
   "source": "df_password_classifier.info()",
   "outputs": [],
   "execution_count": null
  },
  {
   "metadata": {},
   "cell_type": "code",
   "source": "df_password_classifier_Fraca['password']",
   "outputs": [],
   "execution_count": null
  },
  {
   "metadata": {},
   "cell_type": "code",
   "source": "df_senhas_Fraca['password']",
   "outputs": [],
   "execution_count": null
  },
  {
   "metadata": {},
   "cell_type": "markdown",
   "source": "Comparando senhas fracas"
  },
  {
   "metadata": {
    "ExecuteTime": {
     "end_time": "2024-11-26T13:31:38.922106Z",
     "start_time": "2024-11-26T13:31:38.864492Z"
    }
   },
   "cell_type": "code",
   "source": [
    "conjunto1 = set(df_senhas_Fraca['password'])\n",
    "conjunto2 = set(df_password_classifier_Fraca['password'])\n",
    "# Diferença simétrica (elementos exclusivos em ambas as séries)\n",
    "diferenca_simetrica = conjunto1.symmetric_difference(conjunto2)\n",
    "print(diferenca_simetrica)"
   ],
   "outputs": [
    {
     "name": "stdout",
     "output_type": "stream",
     "text": [
      "{'uas26', 'I\\x11', '9\\x16/\\x1e', 'm.f', 'ZANA!', '1985m', 'kornÚl', '88jo', 'pea17', 'gÚdodo', 'olivÚr', '5X<)h', 'niu.', 'eukaþo', 'dßniel', 'k66', 'rm4ru', 'makßmi', '1(R', 'b@C', 'qsx]', 'R618t$', 'otto1', 'r8', '57r82', '9ol0p', 'too76', 'fs42%', '71@', 'M1rd@', 'ath21', 'T0rO@', 'n8bG', '\\x1cP|', '12m3e', '\\x04b\\x0e)|', 'ebt96', 'mÇÇtmÇ', ')\\x19Ih', 'llÚÚßß', '2@fm', 'gr123', 'z z z', '2}', 'tÚrÚrÚ', 'm3hdt', 'C\\x05tJ', 'gne52', 'Y0 yo', 'ea123', 'v.+mu', 'x3l+B', 'X{}_|', 'l1', 'tr929', 'mri91', '%$$N', 'grbz4', '14ika', 'gnTÂ—', 'n4pl', 'k-zap', 'askimî', 'Trm94', 'indißn', 'z=0', 'Knd0r', 'AL12-', 'wsg14', '0if', 'pi123', 'ab&&', 'cari1', 'yese9', '122C', 'altÄ±', 'smk1', 'km982', 'nh989', 'zl123', 'tsc&w', 'loko2', 'zuiop³', '07Gl', '18aos', 'ab&Ú&', 'gk123', 'd]h', 'B(\\x12', 'jo4vu', 'nuez.', '24Aos', 'sti11', 'H73T7', 'ayÅŸem', 'i9wj', '8432ÓÞ', 'epq$d', 'abcþde', '0p', 'yu5uf', '\\x05xU]\\x10', 'v9888', 'xX=a@', 'll12', 'T0bO@', '1g23l', 'su&i', '0^C', 'gle27', 'Go\\x06', 'a123.', 'pia89', 'D&^', 'jelsz¾', 'p8', 'vk=u', 'GoÉõ\\x06', 'g bel', '*3P', 'po09?', 'm2n1b', 'nia10', '2\\x02Ng', 'qaz[', 'vit23', 'gven6', 'rakÚta', 'tes¾ka', 'fg95@', '\\x13`M\\x1d>', 'suy87', 'kev77', 'zlal5', 'mh\\x17', '123yx', '+W\\x18', '210 9', 'ayam_', '10aos', '1235o', '\\x12px', 'cse21'}\n"
     ]
    }
   ],
   "execution_count": 9
  },
  {
   "metadata": {
    "ExecuteTime": {
     "end_time": "2024-11-26T13:32:21.732774Z",
     "start_time": "2024-11-26T13:32:21.720655Z"
    }
   },
   "cell_type": "code",
   "source": [
    "# Diferença (elementos exclusivos em s1)\n",
    "diferenca_s1 = conjunto1.difference(conjunto2)\n",
    "print(diferenca_s1)"
   ],
   "outputs": [
    {
     "name": "stdout",
     "output_type": "stream",
     "text": [
      "set()\n"
     ]
    }
   ],
   "execution_count": 11
  },
  {
   "metadata": {
    "ExecuteTime": {
     "end_time": "2024-11-26T13:32:26.723443Z",
     "start_time": "2024-11-26T13:32:26.712409Z"
    }
   },
   "cell_type": "code",
   "source": [
    "# Diferença (elementos exclusivos em s2)\n",
    "diferenca_s2 = conjunto2.difference(conjunto1)\n",
    "print(diferenca_s2)"
   ],
   "outputs": [
    {
     "name": "stdout",
     "output_type": "stream",
     "text": [
      "{'pea17', '07Gl', 'suy87', 'tÚrÚrÚ', 'ea123', 'nia10', 'cse21', '9ol0p', '8432ÓÞ', 'mÇÇtmÇ', 'gle27', '1985m', 'R618t$', '14ika', 'tr929', 'epq$d', 'gven6', 'X{}_|', 'm3hdt', 'tes¾ka', 'loko2', 'ayam_', 'll12', '123yx', 'fg95@', 'Y0 yo', 'T0bO@', 'jelsz¾', 'sti11', '88jo', 'yu5uf', '\\x12px', '122C', 'z z z', 'tsc&w', 'eukaþo', 'r8', 'n8bG', 'askimî', 'qsx]', '57r82', 'ath21', '0^C', 'm2n1b', 'v9888', 'k66', 'H73T7', 'gr123', '0if', '2\\x02Ng', 'smk1', '9\\x16/\\x1e', 'po09?', 'Knd0r', '+W\\x18', 'm.f', 'B(\\x12', '1g23l', 'zl123', 'olivÚr', 'p8', 'Go\\x06', 'dßniel', 'rakÚta', 'qaz[', '210 9', 'ab&&', '71@', 'x3l+B', 'v.+mu', 'vk=u', '10aos', '18aos', 'd]h', '\\x1cP|', '1(R', '2}', 'Trm94', '\\x05xU]\\x10', 'mri91', 'GoÉõ\\x06', 'fs42%', 'AL12-', ')\\x19Ih', 'ebt96', 'indißn', '2@fm', 'jo4vu', '%$$N', 'uas26', 'zuiop³', 'vit23', 'kev77', '12m3e', '*3P', 'T0rO@', 'abcþde', 'makßmi', 'D&^', 'I\\x11', 'C\\x05tJ', '5X<)h', '\\x04b\\x0e)|', 'ab&Ú&', 'pia89', 'km982', 'b@C', 'pi123', 'mh\\x17', 'wsg14', 'zlal5', 'gk123', 'otto1', 'rm4ru', 'too76', 'niu.', 'gne52', 'xX=a@', 'gÚdodo', 'nuez.', 'ayÅŸem', 'i9wj', 'gnTÂ—', 'yese9', 'nh989', 'kornÚl', 'altÄ±', 'M1rd@', 'z=0', 'g bel', 'l1', 'llÚÚßß', '24Aos', 'n4pl', '0p', 'a123.', '\\x13`M\\x1d>', '1235o', 'su&i', 'cari1', 'grbz4', 'ZANA!', 'k-zap'}\n"
     ]
    }
   ],
   "execution_count": 12
  },
  {
   "metadata": {},
   "cell_type": "code",
   "source": "pd.testing.assert_series_equal(df_senhas_Fraca['password'], df_password_classifier_Fraca['password'], check_names=False)",
   "outputs": [],
   "execution_count": null
  },
  {
   "cell_type": "markdown",
   "metadata": {},
   "source": [
    "# Ordenações"
   ]
  },
  {
   "cell_type": "markdown",
   "metadata": {},
   "source": [
    "Ordenar o arquivo completo de senhas pelo campo length em ordem decrescente."
   ]
  },
  {
   "cell_type": "code",
   "metadata": {},
   "source": [
    "# ler o dataframe ordenado\n",
    "# pegar o campo length e transformar para lsita df[coluna].tolist()\n",
    "# Verificar se estar ordenado df[coluna].tolist() == sorted(df[coluna].tolist())"
   ],
   "outputs": [],
   "execution_count": null
  },
  {
   "metadata": {},
   "cell_type": "code",
   "source": "",
   "outputs": [],
   "execution_count": null
  }
 ],
 "metadata": {
  "kernelspec": {
   "display_name": "Python 3.7.3 64-bit",
   "language": "python",
   "name": "python3"
  },
  "language_info": {
   "codemirror_mode": {
    "name": "ipython",
    "version": 3
   },
   "file_extension": ".py",
   "mimetype": "text/x-python",
   "name": "python",
   "nbconvert_exporter": "python",
   "pygments_lexer": "ipython3",
   "version": "3.12.0"
  },
  "orig_nbformat": 4,
  "vscode": {
   "interpreter": {
    "hash": "aee8b7b246df8f9039afb4144a1f6fd8d2ca17a180786b69acc140d282b71a49"
   }
  }
 },
 "nbformat": 4,
 "nbformat_minor": 2
}
