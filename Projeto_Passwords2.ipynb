{
 "cells": [
  {
   "cell_type": "code",
   "execution_count": 155,
   "metadata": {},
   "outputs": [],
   "source": [
    "# This Python 3 environment comes with many helpful analytics libraries installed\n",
    "# It is defined by the kaggle/python Docker image: https://github.com/kaggle/docker-python\n",
    "# For example, here's several helpful packages to load\n",
    "\n",
    "import numpy as np # linear algebra\n",
    "import pandas as pd # data processing, CSV file I/O (e.g. pd.read_csv)\n",
    "import pathlib\n",
    "\n",
    "passwords = \"Projeto_Passwords/arquivo_base/passwords.csv\"\n",
    "password_classifier = \"Projeto_Passwords/transformações/passwords_classifier.csv\"\n",
    "passwords_formated_data = \"Projeto_Passwords/transformações/passwords_formated_data.csv\"\n",
    "passwords_classifier = \"Projeto_Passwords/transformações/passwords_classifier.csv\""
   ]
  },
  {
   "cell_type": "code",
   "execution_count": 156,
   "metadata": {},
   "outputs": [],
   "source": [
    "caminho_bases = pathlib.Path('dataset_analysis')\n",
    "df = pd.read_csv(passwords, low_memory=False)\n",
    "# df_formated_data = pd.read_csv('/Users/fabioleite/Projetos2022_1/annaCaroline/Projeto-LEDA/data/processedData/processedDatapasswords_formated_data.csv', low_memory=False)\n",
    "# df_ranked = pd.read_csv('/Users/fabioleite/Projetos2022_1/annaCaroline/Projeto-LEDA/data/processedData/passwords_classifier.csv', low_memory=False)\n",
    "# df_password_classifier = pd.read_csv(password_classifier, low_memory=False) \n",
    "df_formated_data = pd.read_csv(passwords_formated_data, low_memory=False) #/passwords_formated_data\n",
    "df_ranked = pd.read_csv(passwords_classifier, low_memory=False)\n",
    "df_passwords_classifier = pd.read_csv(passwords_classifier, low_memory=False)\n"
   ]
  },
  {
   "cell_type": "markdown",
   "metadata": {},
   "source": [
    "# T1 Transformation\n",
    "\n",
    "4. Transformar data para o formato a seguir DD/MM/AAAA\n",
    "* Gerar um arquivo chamado passwords_formated_data.csv"
   ]
  },
  {
   "cell_type": "code",
   "execution_count": 157,
   "metadata": {},
   "outputs": [
    {
     "name": "stdout",
     "output_type": "stream",
     "text": [
      "Datas vazias no df original: 0\n",
      "Datas vazias no df formatado: 0\n"
     ]
    },
    {
     "ename": "ValueError",
     "evalue": "unconverted data remains when parsing with format \"%d/%m/%Y\": \" 03:21:51\", at position 0. You might want to try:\n    - passing `format` if your strings have a consistent format;\n    - passing `format='ISO8601'` if your strings are all ISO8601 but not necessarily in exactly the same format;\n    - passing `format='mixed'`, and the format will be inferred for each element individually. You might want to use `dayfirst` alongside this.",
     "output_type": "error",
     "traceback": [
      "\u001b[0;31m---------------------------------------------------------------------------\u001b[0m",
      "\u001b[0;31mValueError\u001b[0m                                Traceback (most recent call last)",
      "Cell \u001b[0;32mIn[157], line 4\u001b[0m\n\u001b[1;32m      2\u001b[0m \u001b[38;5;28mprint\u001b[39m(\u001b[38;5;124mf\u001b[39m\u001b[38;5;124m\"\u001b[39m\u001b[38;5;124mDatas vazias no df original: \u001b[39m\u001b[38;5;132;01m{\u001b[39;00mdf[\u001b[38;5;124m'\u001b[39m\u001b[38;5;124mdata\u001b[39m\u001b[38;5;124m'\u001b[39m]\u001b[38;5;241m.\u001b[39misnull()\u001b[38;5;241m.\u001b[39msum()\u001b[38;5;132;01m}\u001b[39;00m\u001b[38;5;124m\"\u001b[39m)\n\u001b[1;32m      3\u001b[0m \u001b[38;5;28mprint\u001b[39m(\u001b[38;5;124mf\u001b[39m\u001b[38;5;124m\"\u001b[39m\u001b[38;5;124mDatas vazias no df formatado: \u001b[39m\u001b[38;5;132;01m{\u001b[39;00mdf_formated_data[\u001b[38;5;124m'\u001b[39m\u001b[38;5;124mdate\u001b[39m\u001b[38;5;124m'\u001b[39m]\u001b[38;5;241m.\u001b[39misnull()\u001b[38;5;241m.\u001b[39msum()\u001b[38;5;132;01m}\u001b[39;00m\u001b[38;5;124m\"\u001b[39m)\n\u001b[0;32m----> 4\u001b[0m df_formated_data[\u001b[38;5;124m'\u001b[39m\u001b[38;5;124mdate\u001b[39m\u001b[38;5;124m'\u001b[39m] \u001b[38;5;241m=\u001b[39m \u001b[43mpd\u001b[49m\u001b[38;5;241;43m.\u001b[39;49m\u001b[43mto_datetime\u001b[49m\u001b[43m(\u001b[49m\u001b[43mdf_formated_data\u001b[49m\u001b[43m[\u001b[49m\u001b[38;5;124;43m'\u001b[39;49m\u001b[38;5;124;43mdate\u001b[39;49m\u001b[38;5;124;43m'\u001b[39;49m\u001b[43m]\u001b[49m\u001b[43m,\u001b[49m\u001b[43m \u001b[49m\u001b[38;5;28;43mformat\u001b[39;49m\u001b[38;5;241;43m=\u001b[39;49m\u001b[38;5;124;43m\"\u001b[39;49m\u001b[38;5;132;43;01m%d\u001b[39;49;00m\u001b[38;5;124;43m/\u001b[39;49m\u001b[38;5;124;43m%\u001b[39;49m\u001b[38;5;124;43mm/\u001b[39;49m\u001b[38;5;124;43m%\u001b[39;49m\u001b[38;5;124;43mY\u001b[39;49m\u001b[38;5;124;43m\"\u001b[39;49m\u001b[43m,\u001b[49m\u001b[43m \u001b[49m\u001b[43merrors\u001b[49m\u001b[38;5;241;43m=\u001b[39;49m\u001b[38;5;124;43m'\u001b[39;49m\u001b[38;5;124;43mraise\u001b[39;49m\u001b[38;5;124;43m'\u001b[39;49m\u001b[43m)\u001b[49m\n\u001b[1;32m      6\u001b[0m df_formated_data\u001b[38;5;241m.\u001b[39mdate\n\u001b[1;32m      7\u001b[0m \u001b[38;5;28mprint\u001b[39m(\u001b[38;5;124mf\u001b[39m\u001b[38;5;124m\"\u001b[39m\u001b[38;5;124mDatas vazias no df formatado: \u001b[39m\u001b[38;5;132;01m{\u001b[39;00mdf_formated_data[\u001b[38;5;124m'\u001b[39m\u001b[38;5;124mdata\u001b[39m\u001b[38;5;124m'\u001b[39m]\u001b[38;5;241m.\u001b[39misnull()\u001b[38;5;241m.\u001b[39msum()\u001b[38;5;132;01m}\u001b[39;00m\u001b[38;5;124m\"\u001b[39m)\n",
      "File \u001b[0;32m/Library/Frameworks/Python.framework/Versions/3.12/lib/python3.12/site-packages/pandas/core/tools/datetimes.py:1067\u001b[0m, in \u001b[0;36mto_datetime\u001b[0;34m(arg, errors, dayfirst, yearfirst, utc, format, exact, unit, infer_datetime_format, origin, cache)\u001b[0m\n\u001b[1;32m   1065\u001b[0m         result \u001b[38;5;241m=\u001b[39m arg\u001b[38;5;241m.\u001b[39mmap(cache_array)\n\u001b[1;32m   1066\u001b[0m     \u001b[38;5;28;01melse\u001b[39;00m:\n\u001b[0;32m-> 1067\u001b[0m         values \u001b[38;5;241m=\u001b[39m \u001b[43mconvert_listlike\u001b[49m\u001b[43m(\u001b[49m\u001b[43marg\u001b[49m\u001b[38;5;241;43m.\u001b[39;49m\u001b[43m_values\u001b[49m\u001b[43m,\u001b[49m\u001b[43m \u001b[49m\u001b[38;5;28;43mformat\u001b[39;49m\u001b[43m)\u001b[49m\n\u001b[1;32m   1068\u001b[0m         result \u001b[38;5;241m=\u001b[39m arg\u001b[38;5;241m.\u001b[39m_constructor(values, index\u001b[38;5;241m=\u001b[39marg\u001b[38;5;241m.\u001b[39mindex, name\u001b[38;5;241m=\u001b[39marg\u001b[38;5;241m.\u001b[39mname)\n\u001b[1;32m   1069\u001b[0m \u001b[38;5;28;01melif\u001b[39;00m \u001b[38;5;28misinstance\u001b[39m(arg, (ABCDataFrame, abc\u001b[38;5;241m.\u001b[39mMutableMapping)):\n",
      "File \u001b[0;32m/Library/Frameworks/Python.framework/Versions/3.12/lib/python3.12/site-packages/pandas/core/tools/datetimes.py:433\u001b[0m, in \u001b[0;36m_convert_listlike_datetimes\u001b[0;34m(arg, format, name, utc, unit, errors, dayfirst, yearfirst, exact)\u001b[0m\n\u001b[1;32m    431\u001b[0m \u001b[38;5;66;03m# `format` could be inferred, or user didn't ask for mixed-format parsing.\u001b[39;00m\n\u001b[1;32m    432\u001b[0m \u001b[38;5;28;01mif\u001b[39;00m \u001b[38;5;28mformat\u001b[39m \u001b[38;5;129;01mis\u001b[39;00m \u001b[38;5;129;01mnot\u001b[39;00m \u001b[38;5;28;01mNone\u001b[39;00m \u001b[38;5;129;01mand\u001b[39;00m \u001b[38;5;28mformat\u001b[39m \u001b[38;5;241m!=\u001b[39m \u001b[38;5;124m\"\u001b[39m\u001b[38;5;124mmixed\u001b[39m\u001b[38;5;124m\"\u001b[39m:\n\u001b[0;32m--> 433\u001b[0m     \u001b[38;5;28;01mreturn\u001b[39;00m \u001b[43m_array_strptime_with_fallback\u001b[49m\u001b[43m(\u001b[49m\u001b[43marg\u001b[49m\u001b[43m,\u001b[49m\u001b[43m \u001b[49m\u001b[43mname\u001b[49m\u001b[43m,\u001b[49m\u001b[43m \u001b[49m\u001b[43mutc\u001b[49m\u001b[43m,\u001b[49m\u001b[43m \u001b[49m\u001b[38;5;28;43mformat\u001b[39;49m\u001b[43m,\u001b[49m\u001b[43m \u001b[49m\u001b[43mexact\u001b[49m\u001b[43m,\u001b[49m\u001b[43m \u001b[49m\u001b[43merrors\u001b[49m\u001b[43m)\u001b[49m\n\u001b[1;32m    435\u001b[0m result, tz_parsed \u001b[38;5;241m=\u001b[39m objects_to_datetime64(\n\u001b[1;32m    436\u001b[0m     arg,\n\u001b[1;32m    437\u001b[0m     dayfirst\u001b[38;5;241m=\u001b[39mdayfirst,\n\u001b[0;32m   (...)\u001b[0m\n\u001b[1;32m    441\u001b[0m     allow_object\u001b[38;5;241m=\u001b[39m\u001b[38;5;28;01mTrue\u001b[39;00m,\n\u001b[1;32m    442\u001b[0m )\n\u001b[1;32m    444\u001b[0m \u001b[38;5;28;01mif\u001b[39;00m tz_parsed \u001b[38;5;129;01mis\u001b[39;00m \u001b[38;5;129;01mnot\u001b[39;00m \u001b[38;5;28;01mNone\u001b[39;00m:\n\u001b[1;32m    445\u001b[0m     \u001b[38;5;66;03m# We can take a shortcut since the datetime64 numpy array\u001b[39;00m\n\u001b[1;32m    446\u001b[0m     \u001b[38;5;66;03m# is in UTC\u001b[39;00m\n",
      "File \u001b[0;32m/Library/Frameworks/Python.framework/Versions/3.12/lib/python3.12/site-packages/pandas/core/tools/datetimes.py:467\u001b[0m, in \u001b[0;36m_array_strptime_with_fallback\u001b[0;34m(arg, name, utc, fmt, exact, errors)\u001b[0m\n\u001b[1;32m    456\u001b[0m \u001b[38;5;28;01mdef\u001b[39;00m \u001b[38;5;21m_array_strptime_with_fallback\u001b[39m(\n\u001b[1;32m    457\u001b[0m     arg,\n\u001b[1;32m    458\u001b[0m     name,\n\u001b[0;32m   (...)\u001b[0m\n\u001b[1;32m    462\u001b[0m     errors: \u001b[38;5;28mstr\u001b[39m,\n\u001b[1;32m    463\u001b[0m ) \u001b[38;5;241m-\u001b[39m\u001b[38;5;241m>\u001b[39m Index:\n\u001b[1;32m    464\u001b[0m \u001b[38;5;250m    \u001b[39m\u001b[38;5;124;03m\"\"\"\u001b[39;00m\n\u001b[1;32m    465\u001b[0m \u001b[38;5;124;03m    Call array_strptime, with fallback behavior depending on 'errors'.\u001b[39;00m\n\u001b[1;32m    466\u001b[0m \u001b[38;5;124;03m    \"\"\"\u001b[39;00m\n\u001b[0;32m--> 467\u001b[0m     result, tz_out \u001b[38;5;241m=\u001b[39m \u001b[43marray_strptime\u001b[49m\u001b[43m(\u001b[49m\u001b[43marg\u001b[49m\u001b[43m,\u001b[49m\u001b[43m \u001b[49m\u001b[43mfmt\u001b[49m\u001b[43m,\u001b[49m\u001b[43m \u001b[49m\u001b[43mexact\u001b[49m\u001b[38;5;241;43m=\u001b[39;49m\u001b[43mexact\u001b[49m\u001b[43m,\u001b[49m\u001b[43m \u001b[49m\u001b[43merrors\u001b[49m\u001b[38;5;241;43m=\u001b[39;49m\u001b[43merrors\u001b[49m\u001b[43m,\u001b[49m\u001b[43m \u001b[49m\u001b[43mutc\u001b[49m\u001b[38;5;241;43m=\u001b[39;49m\u001b[43mutc\u001b[49m\u001b[43m)\u001b[49m\n\u001b[1;32m    468\u001b[0m     \u001b[38;5;28;01mif\u001b[39;00m tz_out \u001b[38;5;129;01mis\u001b[39;00m \u001b[38;5;129;01mnot\u001b[39;00m \u001b[38;5;28;01mNone\u001b[39;00m:\n\u001b[1;32m    469\u001b[0m         unit \u001b[38;5;241m=\u001b[39m np\u001b[38;5;241m.\u001b[39mdatetime_data(result\u001b[38;5;241m.\u001b[39mdtype)[\u001b[38;5;241m0\u001b[39m]\n",
      "File \u001b[0;32mstrptime.pyx:501\u001b[0m, in \u001b[0;36mpandas._libs.tslibs.strptime.array_strptime\u001b[0;34m()\u001b[0m\n",
      "File \u001b[0;32mstrptime.pyx:451\u001b[0m, in \u001b[0;36mpandas._libs.tslibs.strptime.array_strptime\u001b[0;34m()\u001b[0m\n",
      "File \u001b[0;32mstrptime.pyx:587\u001b[0m, in \u001b[0;36mpandas._libs.tslibs.strptime._parse_with_format\u001b[0;34m()\u001b[0m\n",
      "\u001b[0;31mValueError\u001b[0m: unconverted data remains when parsing with format \"%d/%m/%Y\": \" 03:21:51\", at position 0. You might want to try:\n    - passing `format` if your strings have a consistent format;\n    - passing `format='ISO8601'` if your strings are all ISO8601 but not necessarily in exactly the same format;\n    - passing `format='mixed'`, and the format will be inferred for each element individually. You might want to use `dayfirst` alongside this."
     ]
    }
   ],
   "source": [
    "# df_formated_data = df_formated_data['data']\n",
    "print(f\"Datas vazias no df original: {df['data'].isnull().sum()}\")\n",
    "print(f\"Datas vazias no df formatado: {df_formated_data['date'].isnull().sum()}\")\n",
    "df_formated_data['date'] = pd.to_datetime(df_formated_data['date'], format=\"%d/%m/%Y\", errors='raise')\n",
    "\n",
    "df_formated_data.date\n",
    "print(f\"Datas vazias no df formatado: {df_formated_data['data'].isnull().sum()}\")\n"
   ]
  },
  {
   "cell_type": "markdown",
   "metadata": {},
   "source": [
    "# Classificação\n",
    "\n",
    "4. Filtrar senha pela categória Boa e Muito Boa.\n",
    "* Gerar um arquivo chamado passwords_classifier.csv"
   ]
  },
  {
   "cell_type": "code",
   "execution_count": 163,
   "metadata": {},
   "outputs": [
    {
     "name": "stdout",
     "output_type": "stream",
     "text": [
      "Fraca\n"
     ]
    },
    {
     "name": "stderr",
     "output_type": "stream",
     "text": [
      "<>:17: SyntaxWarning: invalid escape sequence '\\d'\n",
      "<>:17: SyntaxWarning: invalid escape sequence '\\d'\n",
      "/var/folders/52/h9fhq6w95_jg163py1kh_g2w0000gn/T/ipykernel_22881/344855863.py:17: SyntaxWarning: invalid escape sequence '\\d'\n",
      "  password_pattern = \"^(?=.*[a-z])(?=.*[A-Z])(?=.*\\d)(?=.*\\W).{4,}$\"\n"
     ]
    }
   ],
   "source": [
    "import re\n",
    "\n",
    "def classify_password(password: str) -> str:\n",
    "        # Expressão regular para letras (maiúsculas e minúsculas), números e caracteres especiais\n",
    "        result = \"\"\n",
    "        \n",
    "        \n",
    "        if ( (re.search(r'[A-Za-z]', password) and \\\n",
    "                        re.search(r'[0-9]', password)) or \\\n",
    "                        (re.search(r'[A-Za-z]', password) and re.search(r'[\\W_]', password)) or \\\n",
    "                        (re.search(r'[0-9]', password) and re.search(r'[\\W_]', password)) ):\n",
    "                if len(password) == 6: \n",
    "                        result = \"Fraca\"\n",
    "                elif len(password) <= 5:\n",
    "                        result = \"Ruim\"\n",
    "        \n",
    "        password_pattern = \"^(?=.*[a-z])(?=.*[A-Z])(?=.*\\d)(?=.*\\W).{4,}$\"\n",
    "        pat = re.compile(password_pattern)\n",
    "\n",
    "        if (bool(re.search(pat, password))):\n",
    "                \n",
    "                if len(password) <= 7: \n",
    "                        result = \"Boa\"\n",
    "                elif len(password) >= 8:\n",
    "                        result = \"Muito Boa\"\n",
    "\n",
    "        return result\n",
    "\n",
    "to_print = (classify_password('Abbb11'))\n",
    "print(to_print)\n",
    "# Função para verificar se a senha contém apenas letras, números e caracteres especiais\n",
    "# is_valid_password = lambda pwd: bool(re.match(r'^(?=.*[a-z])(?=.*[A-Z])(?=.*\\d)(?=.*[!@#$%^&*()_+=\\-{}:;\"\\'<>,.?/\\\\|~`]).+$', pwd))\n",
    "\n",
    "# Função lambda para classificar a senha\n",
    "# classify_password = lambda pwd: 'Boa' if len(pwd) <= 7 and is_valid_password(pwd) else ''"
   ]
  },
  {
   "cell_type": "code",
   "execution_count": null,
   "metadata": {},
   "outputs": [],
   "source": [
    "# Função para verificar se a senha contém apenas letras, números e caracteres especiais\n",
    "# password_muito_boa = lambda pwd: bool(re.match(r'^(?=.[a-z])(?=.[A-Z])(?=.*[\\d\\W]).{8,}$', pwd))\n",
    "\n",
    "# Função lambda para classificar a senha\n",
    "# classify_password_muito_boa = lambda pwd: 'Muito Boa' if bool(re.match(r'^(?=.[a-z])(?=.[A-Z])(?=.*[\\d\\W]).{8,}$', pwd)) else ''\n",
    "# classify_password_muito_boa = lambda pwd, length, cls: 'Muito Boa' if length >= 8 else ''"
   ]
  },
  {
   "cell_type": "code",
   "execution_count": 165,
   "metadata": {},
   "outputs": [
    {
     "name": "stdout",
     "output_type": "stream",
     "text": [
      "tamanho do df original:  3,349,395\n",
      "----------------------------------------------------------\n",
      "Num senhas Boas no aquivo base: 65\n",
      "Num senhas Muito Boas no arquivo base: 20,345\n",
      "Num senhas Fracas no arquivo base: 198,025\n",
      "Num senhas Ruim no arquivo base: 585\n",
      "----------------------------------------------------------\n",
      "Num senhas Boas no aquivo do aluno: 297,525\n",
      "Num senhas Muito Boas no arquivo do aluno: 2,256,895\n",
      "Num senhas Fracas no arquivo do aluno: 0\n",
      "Num senhas Ruim no arquivo do aluno: 0\n",
      "Num senhas Muito Ruim no arquivo do aluno: 0\n"
     ]
    }
   ],
   "source": [
    "print(\"tamanho do df original:  {:,}\".format(df.size))\n",
    "# print(\"tamanho do df_ranked: {:,}\".format(df_ranked.size))\n",
    "\n",
    "print(\"----------------------------------------------------------\")\n",
    "#Pega tanto as senhas boas quanto as muito boas\n",
    "df_self_ranked = None\n",
    "df_self_ranked = df\n",
    "\n",
    "df_self_ranked['classificacao'] = df_self_ranked.password.apply(lambda x: classify_password(str(x)))\n",
    "# df_self_ranked['classificacao'] = df_self_ranked.apply(lambda x: classify_password_muito_boa(str(x.password), x.length, x.classificacao), axis=1)\n",
    "\n",
    "df_senhas_Boas = df_self_ranked[df_self_ranked['classificacao'].str.startswith(\"Boa\")]\n",
    "df_senhas_MuitoBoas = df_self_ranked[df_self_ranked['classificacao'].str.contains(\"Muito\")]\n",
    "df_senhas_Fraca = df_self_ranked[df_self_ranked['classificacao'].str.contains(\"Fraca\")]\n",
    "df_senhas_Ruim = df_self_ranked[df_self_ranked['classificacao'].str.contains(\"Ruim\")]\n",
    "# display(df_senhas_Boas_e_MTB)\n",
    "\n",
    "print(\"Num senhas Boas no aquivo base: {:,}\".format(df_senhas_Boas.size))\n",
    "print(\"Num senhas Muito Boas no arquivo base: {:,}\".format(df_senhas_MuitoBoas.size))\n",
    "print(\"Num senhas Fracas no arquivo base: {:,}\".format(df_senhas_Fraca.size))\n",
    "print(\"Num senhas Ruim no arquivo base: {:,}\".format(df_senhas_Ruim.size))\n",
    "print(\"----------------------------------------------------------\")\n",
    "\n",
    "df_passwords_classifier_Boas = df_passwords_classifier[df_passwords_classifier['class'].str.startswith(\"Boa\")]\n",
    "df_passwords_classifier_MTB = df_passwords_classifier[df_passwords_classifier['class'].str.contains(\"Muito Boa\")]\n",
    "df_passwords_classifier_Fraca = df_passwords_classifier[df_passwords_classifier['class'].str.contains(\"Fraca\")]\n",
    "df_passwords_classifier_Ruim = df_passwords_classifier[df_passwords_classifier['class'].str.contains(\"Ruim\")]\n",
    "df_passwords_classifier_MuitoRuim = df_passwords_classifier[df_passwords_classifier['class'].str.contains(\"Muito Ruim\")]\n",
    "print(\"Num senhas Boas no aquivo do aluno: {:,}\".format(df_passwords_classifier_Boas.size))\n",
    "print(\"Num senhas Muito Boas no arquivo do aluno: {:,}\".format(df_passwords_classifier_MTB.size))\n",
    "print(\"Num senhas Fracas no arquivo do aluno: {:,}\".format(df_passwords_classifier_Fraca.size))\n",
    "print(\"Num senhas Ruim no arquivo do aluno: {:,}\".format(df_passwords_classifier_Ruim.size))\n",
    "print(\"Num senhas Muito Ruim no arquivo do aluno: {:,}\".format(df_passwords_classifier_MuitoRuim.size))\n"
   ]
  },
  {
   "cell_type": "markdown",
   "metadata": {},
   "source": [
    "# Ordenações"
   ]
  },
  {
   "cell_type": "markdown",
   "metadata": {},
   "source": [
    "Ordenar o arquivo completo de senhas pelo campo length em ordem decrescente."
   ]
  },
  {
   "cell_type": "code",
   "execution_count": null,
   "metadata": {},
   "outputs": [],
   "source": [
    "# ler o dataframe ordenado\n",
    "# pegar o campo length e transformar para lsita df[coluna].tolist()\n",
    "# Verificar se estar ordenado df[coluna].tolist() == sorted(df[coluna].tolist())"
   ]
  }
 ],
 "metadata": {
  "kernelspec": {
   "display_name": "Python 3.7.3 64-bit",
   "language": "python",
   "name": "python3"
  },
  "language_info": {
   "codemirror_mode": {
    "name": "ipython",
    "version": 3
   },
   "file_extension": ".py",
   "mimetype": "text/x-python",
   "name": "python",
   "nbconvert_exporter": "python",
   "pygments_lexer": "ipython3",
   "version": "3.12.0"
  },
  "orig_nbformat": 4,
  "vscode": {
   "interpreter": {
    "hash": "aee8b7b246df8f9039afb4144a1f6fd8d2ca17a180786b69acc140d282b71a49"
   }
  }
 },
 "nbformat": 4,
 "nbformat_minor": 2
}
