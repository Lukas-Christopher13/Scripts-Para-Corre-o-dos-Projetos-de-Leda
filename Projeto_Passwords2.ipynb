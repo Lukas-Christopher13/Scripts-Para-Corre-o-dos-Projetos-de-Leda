{
 "cells": [
  {
   "cell_type": "code",
   "metadata": {
    "ExecuteTime": {
     "end_time": "2024-10-29T13:14:00.515618Z",
     "start_time": "2024-10-29T13:14:00.473772Z"
    }
   },
   "source": [
    "# This Python 3 environment comes with many helpful analytics libraries installed\n",
    "# It is defined by the kaggle/python Docker image: https://github.com/kaggle/docker-python\n",
    "# For example, here's several helpful packages to load\n",
    "\n",
    "import numpy as np # linear algebra\n",
    "import pandas as pd # data processing, CSV file I/O (e.g. pd.read_csv)\n",
    "import pathlib\n",
    "from datetime import datetime, date\n",
    "import pyarrow as pa\n",
    "\n",
    "passwords = \"Projeto_Passwords/arquivo_base/passwords.csv\"\n",
    "password_classifier = \"Projeto_Passwords/transformações/passwords_classifier.csv\"\n",
    "passwords_formated_data = \"Projeto_Passwords/transformações/passwords_formated_data.csv\"\n",
    "passwords_classifier = \"Projeto_Passwords/transformações/passwords_classifier.csv\""
   ],
   "outputs": [],
   "execution_count": 8
  },
  {
   "cell_type": "code",
   "metadata": {
    "ExecuteTime": {
     "end_time": "2024-10-29T13:14:06.989264Z",
     "start_time": "2024-10-29T13:14:02.269534Z"
    }
   },
   "source": [
    "caminho_bases = pathlib.Path('dataset_analysis')\n",
    "df = pd.read_csv(passwords, low_memory=False)\n",
    "# df_formated_data = pd.read_csv('/Users/fabioleite/Projetos2022_1/annaCaroline/Projeto-LEDA/data/processedData/processedDatapasswords_formated_data.csv', low_memory=False)\n",
    "# df_ranked = pd.read_csv('/Users/fabioleite/Projetos2022_1/annaCaroline/Projeto-LEDA/data/processedData/passwords_classifier.csv', low_memory=False)\n",
    "# df_password_classifier = pd.read_csv(password_classifier, low_memory=False) \n",
    "df_formated_data = pd.read_csv(passwords_formated_data, low_memory=False) #/passwords_formated_data\n",
    "df_ranked = pd.read_csv(passwords_classifier, low_memory=False)\n",
    "df_passwords_classifier = pd.read_csv(passwords_classifier, low_memory=False)\n"
   ],
   "outputs": [],
   "execution_count": 9
  },
  {
   "cell_type": "markdown",
   "metadata": {},
   "source": [
    "# T1 Transformation\n",
    "\n",
    "4. Transformar data para o formato a seguir DD/MM/AAAA\n",
    "* Gerar um arquivo chamado passwords_formated_data.csv"
   ]
  },
  {
   "cell_type": "code",
   "metadata": {
    "ExecuteTime": {
     "end_time": "2024-10-29T13:14:12.227060Z",
     "start_time": "2024-10-29T13:14:10.843550Z"
    }
   },
   "source": [
    "\n",
    "\n",
    "df_datas_formatadas_origem = df['data']\n",
    "datas_formatadas_aluno = df_formated_data['date']\n",
    "# df_formated_data = df_formated_data['data']\n",
    "print(f\"Datas vazias no df original: {df_datas_formatadas_origem.isnull().sum()}\")\n",
    "print(f\"Datas vazias no df formatado: {datas_formatadas_aluno.isnull().sum()}\")\n",
    "# df_formated_data['data_formatada'] = pd.to_datetime(datas_formatadas_aluno, format=\"%d/%m/%Y\", errors='raise')\n",
    "\n",
    "pd.testing.assert_series_equal(df_datas_formatadas_origem, datas_formatadas_aluno, check_names=False)"
   ],
   "outputs": [
    {
     "name": "stdout",
     "output_type": "stream",
     "text": [
      "Datas vazias no df original: 0\n",
      "Datas vazias no df formatado: 0\n"
     ]
    },
    {
     "ename": "AssertionError",
     "evalue": "Series are different\n\nSeries values are different (100.0 %)\n[index]: [0, 1, 2, 3, 4, 5, 6, 7, 8, 9, 10, 11, 12, 13, 14, 15, 16, 17, 18, 19, 20, 21, 22, 23, 24, 25, 26, 27, 28, 29, 30, 31, 32, 33, 34, 35, 36, 37, 38, 39, 40, 41, 42, 43, 44, 45, 46, 47, 48, 49, 50, 51, 52, 53, 54, 55, 56, 57, 58, 59, 60, 61, 62, 63, 64, 65, 66, 67, 68, 69, 70, 71, 72, 73, 74, 75, 76, 77, 78, 79, 80, 81, 82, 83, 84, 85, 86, 87, 88, 89, 90, 91, 92, 93, 94, 95, 96, 97, 98, 99, ...]\n[left]:  [2016-12-18 03:21:51, 2016-10-15 18:04:20, 2016-11-18 20:39:14, 2017-05-17 06:00:53, 2015-10-28 23:55:06, 2017-04-23 13:08:32, 2016-07-04 13:22:22, 2015-09-05 06:55:04, 2015-06-09 09:09:55, 2015-12-16 02:08:59, 2017-11-04 15:13:20, 2016-06-29 01:10:59, 2015-04-23 14:33:11, 2017-04-04 12:50:20, 2017-09-23 08:28:05, 2016-01-21 21:27:21, 2015-05-27 17:09:57, 2017-12-04 15:22:19, 2016-09-17 21:36:07, 2016-06-17 11:38:21, 2017-09-28 09:09:20, 2016-06-03 01:47:35, 2016-04-10 19:00:01, 2017-11-03 16:38:13, 2016-06-21 06:30:23, 2017-07-07 08:43:07, 2016-05-27 11:50:18, 2017-11-24 01:19:26, 2015-04-20 01:44:39, 2017-03-21 17:26:51, 2015-07-16 08:06:44, 2016-09-02 09:33:41, 2017-05-11 22:58:28, 2017-11-28 07:15:13, 2016-03-12 20:13:20, 2016-03-30 21:13:28, 2015-09-24 18:03:24, 2015-02-28 04:22:54, 2015-03-10 03:32:02, 2016-04-15 23:01:15, 2015-03-08 07:42:12, 2015-10-18 13:46:25, 2015-12-11 08:52:36, 2016-03-04 04:30:37, 2016-11-06 00:15:29, 2017-03-20 06:43:41, 2016-11-12 10:27:30, 2015-09-28 07:44:02, 2015-10-22 10:13:22, 2016-09-08 00:14:26, 2015-08-11 17:37:32, 2016-07-15 10:18:16, 2017-10-25 03:51:39, 2016-11-24 13:35:03, 2016-01-07 07:55:07, 2017-07-04 20:35:55, 2015-09-13 03:47:58, 2017-07-02 18:47:49, 2015-09-19 02:06:03, 2016-11-07 03:21:24, 2015-11-04 02:02:07, 2017-05-09 15:03:33, 2017-08-28 01:42:13, 2016-02-01 02:27:01, 2017-05-26 21:55:42, 2016-11-21 07:48:00, 2015-12-02 06:53:33, 2015-01-02 22:08:37, 2017-07-14 23:42:46, 2016-03-03 19:51:17, 2017-04-18 22:34:15, 2015-09-27 11:23:59, 2017-02-17 13:37:04, 2015-09-25 23:27:18, 2017-11-08 20:20:15, 2016-02-08 01:07:56, 2015-07-11 03:48:40, 2015-08-14 00:32:31, 2015-04-06 13:17:05, 2015-06-28 13:32:15, 2016-09-24 12:40:32, 2016-03-05 06:34:08, 2017-07-25 18:33:06, 2016-12-09 19:01:10, 2017-09-30 13:34:36, 2016-12-22 12:01:14, 2015-10-18 10:27:32, 2016-06-28 21:26:47, 2016-07-01 00:21:23, 2015-05-20 21:47:26, 2016-10-10 14:38:47, 2017-10-12 07:17:26, 2016-03-16 21:16:30, 2017-10-22 09:03:37, 2016-12-28 19:20:19, 2015-03-27 01:37:01, 2015-11-23 17:42:13, 2015-12-26 21:23:30, 2016-08-29 09:41:20, 2017-02-15 18:21:06, ...]\n[right]: [18/12/2016 03:21:51, 15/10/2016 18:04:20, 18/11/2016 20:39:14, 17/05/2017 06:00:53, 28/10/2015 23:55:06, 23/04/2017 13:08:32, 04/07/2016 13:22:22, 05/09/2015 06:55:04, 09/06/2015 09:09:55, 16/12/2015 02:08:59, 04/11/2017 15:13:20, 29/06/2016 01:10:59, 23/04/2015 14:33:11, 04/04/2017 12:50:20, 23/09/2017 08:28:05, 21/01/2016 21:27:21, 27/05/2015 17:09:57, 04/12/2017 15:22:19, 17/09/2016 21:36:07, 17/06/2016 11:38:21, 28/09/2017 09:09:20, 03/06/2016 01:47:35, 10/04/2016 19:00:01, 03/11/2017 16:38:13, 21/06/2016 06:30:23, 07/07/2017 08:43:07, 27/05/2016 11:50:18, 24/11/2017 01:19:26, 20/04/2015 01:44:39, 21/03/2017 17:26:51, 16/07/2015 08:06:44, 02/09/2016 09:33:41, 11/05/2017 22:58:28, 28/11/2017 07:15:13, 12/03/2016 20:13:20, 30/03/2016 21:13:28, 24/09/2015 18:03:24, 28/02/2015 04:22:54, 10/03/2015 03:32:02, 15/04/2016 23:01:15, 08/03/2015 07:42:12, 18/10/2015 13:46:25, 11/12/2015 08:52:36, 04/03/2016 04:30:37, 06/11/2016 00:15:29, 20/03/2017 06:43:41, 12/11/2016 10:27:30, 28/09/2015 07:44:02, 22/10/2015 10:13:22, 08/09/2016 00:14:26, 11/08/2015 17:37:32, 15/07/2016 10:18:16, 25/10/2017 03:51:39, 24/11/2016 13:35:03, 07/01/2016 07:55:07, 04/07/2017 20:35:55, 13/09/2015 03:47:58, 02/07/2017 18:47:49, 19/09/2015 02:06:03, 07/11/2016 03:21:24, 04/11/2015 02:02:07, 09/05/2017 15:03:33, 28/08/2017 01:42:13, 01/02/2016 02:27:01, 26/05/2017 21:55:42, 21/11/2016 07:48:00, 02/12/2015 06:53:33, 02/01/2015 22:08:37, 14/07/2017 23:42:46, 03/03/2016 19:51:17, 18/04/2017 22:34:15, 27/09/2015 11:23:59, 17/02/2017 13:37:04, 25/09/2015 23:27:18, 08/11/2017 20:20:15, 08/02/2016 01:07:56, 11/07/2015 03:48:40, 14/08/2015 00:32:31, 06/04/2015 13:17:05, 28/06/2015 13:32:15, 24/09/2016 12:40:32, 05/03/2016 06:34:08, 25/07/2017 18:33:06, 09/12/2016 19:01:10, 30/09/2017 13:34:36, 22/12/2016 12:01:14, 18/10/2015 10:27:32, 28/06/2016 21:26:47, 01/07/2016 00:21:23, 20/05/2015 21:47:26, 10/10/2016 14:38:47, 12/10/2017 07:17:26, 16/03/2016 21:16:30, 22/10/2017 09:03:37, 28/12/2016 19:20:19, 27/03/2015 01:37:01, 23/11/2015 17:42:13, 26/12/2015 21:23:30, 29/08/2016 09:41:20, 15/02/2017 18:21:06, ...]\nAt positional index 0, first diff: 2016-12-18 03:21:51 != 18/12/2016 03:21:51",
     "output_type": "error",
     "traceback": [
      "\u001B[0;31m---------------------------------------------------------------------------\u001B[0m",
      "\u001B[0;31mAssertionError\u001B[0m                            Traceback (most recent call last)",
      "Cell \u001B[0;32mIn[10], line 8\u001B[0m\n\u001B[1;32m      5\u001B[0m \u001B[38;5;28mprint\u001B[39m(\u001B[38;5;124mf\u001B[39m\u001B[38;5;124m\"\u001B[39m\u001B[38;5;124mDatas vazias no df formatado: \u001B[39m\u001B[38;5;132;01m{\u001B[39;00mdatas_formatadas_aluno\u001B[38;5;241m.\u001B[39misnull()\u001B[38;5;241m.\u001B[39msum()\u001B[38;5;132;01m}\u001B[39;00m\u001B[38;5;124m\"\u001B[39m)\n\u001B[1;32m      6\u001B[0m \u001B[38;5;66;03m# df_formated_data['data_formatada'] = pd.to_datetime(datas_formatadas_aluno, format=\"%d/%m/%Y\", errors='raise')\u001B[39;00m\n\u001B[0;32m----> 8\u001B[0m \u001B[43mpd\u001B[49m\u001B[38;5;241;43m.\u001B[39;49m\u001B[43mtesting\u001B[49m\u001B[38;5;241;43m.\u001B[39;49m\u001B[43massert_series_equal\u001B[49m\u001B[43m(\u001B[49m\u001B[43mdf_datas_formatadas_origem\u001B[49m\u001B[43m,\u001B[49m\u001B[43m \u001B[49m\u001B[43mdatas_formatadas_aluno\u001B[49m\u001B[43m,\u001B[49m\u001B[43m \u001B[49m\u001B[43mcheck_names\u001B[49m\u001B[38;5;241;43m=\u001B[39;49m\u001B[38;5;28;43;01mFalse\u001B[39;49;00m\u001B[43m)\u001B[49m\n",
      "    \u001B[0;31m[... skipping hidden 1 frame]\u001B[0m\n",
      "File \u001B[0;32mtesting.pyx:55\u001B[0m, in \u001B[0;36mpandas._libs.testing.assert_almost_equal\u001B[0;34m()\u001B[0m\n",
      "File \u001B[0;32mtesting.pyx:173\u001B[0m, in \u001B[0;36mpandas._libs.testing.assert_almost_equal\u001B[0;34m()\u001B[0m\n",
      "File \u001B[0;32m~/PycharmProjects/sefaz-clickhouse_new/.venv/lib/python3.12/site-packages/pandas/_testing/asserters.py:614\u001B[0m, in \u001B[0;36mraise_assert_detail\u001B[0;34m(obj, message, left, right, diff, first_diff, index_values)\u001B[0m\n\u001B[1;32m    611\u001B[0m \u001B[38;5;28;01mif\u001B[39;00m first_diff \u001B[38;5;129;01mis\u001B[39;00m \u001B[38;5;129;01mnot\u001B[39;00m \u001B[38;5;28;01mNone\u001B[39;00m:\n\u001B[1;32m    612\u001B[0m     msg \u001B[38;5;241m+\u001B[39m\u001B[38;5;241m=\u001B[39m \u001B[38;5;124mf\u001B[39m\u001B[38;5;124m\"\u001B[39m\u001B[38;5;130;01m\\n\u001B[39;00m\u001B[38;5;132;01m{\u001B[39;00mfirst_diff\u001B[38;5;132;01m}\u001B[39;00m\u001B[38;5;124m\"\u001B[39m\n\u001B[0;32m--> 614\u001B[0m \u001B[38;5;28;01mraise\u001B[39;00m \u001B[38;5;167;01mAssertionError\u001B[39;00m(msg)\n",
      "\u001B[0;31mAssertionError\u001B[0m: Series are different\n\nSeries values are different (100.0 %)\n[index]: [0, 1, 2, 3, 4, 5, 6, 7, 8, 9, 10, 11, 12, 13, 14, 15, 16, 17, 18, 19, 20, 21, 22, 23, 24, 25, 26, 27, 28, 29, 30, 31, 32, 33, 34, 35, 36, 37, 38, 39, 40, 41, 42, 43, 44, 45, 46, 47, 48, 49, 50, 51, 52, 53, 54, 55, 56, 57, 58, 59, 60, 61, 62, 63, 64, 65, 66, 67, 68, 69, 70, 71, 72, 73, 74, 75, 76, 77, 78, 79, 80, 81, 82, 83, 84, 85, 86, 87, 88, 89, 90, 91, 92, 93, 94, 95, 96, 97, 98, 99, ...]\n[left]:  [2016-12-18 03:21:51, 2016-10-15 18:04:20, 2016-11-18 20:39:14, 2017-05-17 06:00:53, 2015-10-28 23:55:06, 2017-04-23 13:08:32, 2016-07-04 13:22:22, 2015-09-05 06:55:04, 2015-06-09 09:09:55, 2015-12-16 02:08:59, 2017-11-04 15:13:20, 2016-06-29 01:10:59, 2015-04-23 14:33:11, 2017-04-04 12:50:20, 2017-09-23 08:28:05, 2016-01-21 21:27:21, 2015-05-27 17:09:57, 2017-12-04 15:22:19, 2016-09-17 21:36:07, 2016-06-17 11:38:21, 2017-09-28 09:09:20, 2016-06-03 01:47:35, 2016-04-10 19:00:01, 2017-11-03 16:38:13, 2016-06-21 06:30:23, 2017-07-07 08:43:07, 2016-05-27 11:50:18, 2017-11-24 01:19:26, 2015-04-20 01:44:39, 2017-03-21 17:26:51, 2015-07-16 08:06:44, 2016-09-02 09:33:41, 2017-05-11 22:58:28, 2017-11-28 07:15:13, 2016-03-12 20:13:20, 2016-03-30 21:13:28, 2015-09-24 18:03:24, 2015-02-28 04:22:54, 2015-03-10 03:32:02, 2016-04-15 23:01:15, 2015-03-08 07:42:12, 2015-10-18 13:46:25, 2015-12-11 08:52:36, 2016-03-04 04:30:37, 2016-11-06 00:15:29, 2017-03-20 06:43:41, 2016-11-12 10:27:30, 2015-09-28 07:44:02, 2015-10-22 10:13:22, 2016-09-08 00:14:26, 2015-08-11 17:37:32, 2016-07-15 10:18:16, 2017-10-25 03:51:39, 2016-11-24 13:35:03, 2016-01-07 07:55:07, 2017-07-04 20:35:55, 2015-09-13 03:47:58, 2017-07-02 18:47:49, 2015-09-19 02:06:03, 2016-11-07 03:21:24, 2015-11-04 02:02:07, 2017-05-09 15:03:33, 2017-08-28 01:42:13, 2016-02-01 02:27:01, 2017-05-26 21:55:42, 2016-11-21 07:48:00, 2015-12-02 06:53:33, 2015-01-02 22:08:37, 2017-07-14 23:42:46, 2016-03-03 19:51:17, 2017-04-18 22:34:15, 2015-09-27 11:23:59, 2017-02-17 13:37:04, 2015-09-25 23:27:18, 2017-11-08 20:20:15, 2016-02-08 01:07:56, 2015-07-11 03:48:40, 2015-08-14 00:32:31, 2015-04-06 13:17:05, 2015-06-28 13:32:15, 2016-09-24 12:40:32, 2016-03-05 06:34:08, 2017-07-25 18:33:06, 2016-12-09 19:01:10, 2017-09-30 13:34:36, 2016-12-22 12:01:14, 2015-10-18 10:27:32, 2016-06-28 21:26:47, 2016-07-01 00:21:23, 2015-05-20 21:47:26, 2016-10-10 14:38:47, 2017-10-12 07:17:26, 2016-03-16 21:16:30, 2017-10-22 09:03:37, 2016-12-28 19:20:19, 2015-03-27 01:37:01, 2015-11-23 17:42:13, 2015-12-26 21:23:30, 2016-08-29 09:41:20, 2017-02-15 18:21:06, ...]\n[right]: [18/12/2016 03:21:51, 15/10/2016 18:04:20, 18/11/2016 20:39:14, 17/05/2017 06:00:53, 28/10/2015 23:55:06, 23/04/2017 13:08:32, 04/07/2016 13:22:22, 05/09/2015 06:55:04, 09/06/2015 09:09:55, 16/12/2015 02:08:59, 04/11/2017 15:13:20, 29/06/2016 01:10:59, 23/04/2015 14:33:11, 04/04/2017 12:50:20, 23/09/2017 08:28:05, 21/01/2016 21:27:21, 27/05/2015 17:09:57, 04/12/2017 15:22:19, 17/09/2016 21:36:07, 17/06/2016 11:38:21, 28/09/2017 09:09:20, 03/06/2016 01:47:35, 10/04/2016 19:00:01, 03/11/2017 16:38:13, 21/06/2016 06:30:23, 07/07/2017 08:43:07, 27/05/2016 11:50:18, 24/11/2017 01:19:26, 20/04/2015 01:44:39, 21/03/2017 17:26:51, 16/07/2015 08:06:44, 02/09/2016 09:33:41, 11/05/2017 22:58:28, 28/11/2017 07:15:13, 12/03/2016 20:13:20, 30/03/2016 21:13:28, 24/09/2015 18:03:24, 28/02/2015 04:22:54, 10/03/2015 03:32:02, 15/04/2016 23:01:15, 08/03/2015 07:42:12, 18/10/2015 13:46:25, 11/12/2015 08:52:36, 04/03/2016 04:30:37, 06/11/2016 00:15:29, 20/03/2017 06:43:41, 12/11/2016 10:27:30, 28/09/2015 07:44:02, 22/10/2015 10:13:22, 08/09/2016 00:14:26, 11/08/2015 17:37:32, 15/07/2016 10:18:16, 25/10/2017 03:51:39, 24/11/2016 13:35:03, 07/01/2016 07:55:07, 04/07/2017 20:35:55, 13/09/2015 03:47:58, 02/07/2017 18:47:49, 19/09/2015 02:06:03, 07/11/2016 03:21:24, 04/11/2015 02:02:07, 09/05/2017 15:03:33, 28/08/2017 01:42:13, 01/02/2016 02:27:01, 26/05/2017 21:55:42, 21/11/2016 07:48:00, 02/12/2015 06:53:33, 02/01/2015 22:08:37, 14/07/2017 23:42:46, 03/03/2016 19:51:17, 18/04/2017 22:34:15, 27/09/2015 11:23:59, 17/02/2017 13:37:04, 25/09/2015 23:27:18, 08/11/2017 20:20:15, 08/02/2016 01:07:56, 11/07/2015 03:48:40, 14/08/2015 00:32:31, 06/04/2015 13:17:05, 28/06/2015 13:32:15, 24/09/2016 12:40:32, 05/03/2016 06:34:08, 25/07/2017 18:33:06, 09/12/2016 19:01:10, 30/09/2017 13:34:36, 22/12/2016 12:01:14, 18/10/2015 10:27:32, 28/06/2016 21:26:47, 01/07/2016 00:21:23, 20/05/2015 21:47:26, 10/10/2016 14:38:47, 12/10/2017 07:17:26, 16/03/2016 21:16:30, 22/10/2017 09:03:37, 28/12/2016 19:20:19, 27/03/2015 01:37:01, 23/11/2015 17:42:13, 26/12/2015 21:23:30, 29/08/2016 09:41:20, 15/02/2017 18:21:06, ...]\nAt positional index 0, first diff: 2016-12-18 03:21:51 != 18/12/2016 03:21:51"
     ]
    }
   ],
   "execution_count": 10
  },
  {
   "metadata": {},
   "cell_type": "markdown",
   "source": "# Verifica datas formatadas"
  },
  {
   "metadata": {
    "ExecuteTime": {
     "end_time": "2024-10-29T13:14:41.475124Z",
     "start_time": "2024-10-29T13:14:36.174725Z"
    }
   },
   "cell_type": "code",
   "source": [
    "df['data'] = pd.to_datetime(df['data'])\n",
    "df['data_formatada'] = df['data'].dt.strftime('%d/%m/%Y %H:%M:%S')\n",
    "pd.testing.assert_series_equal(df['data_formatada'] , datas_formatadas_aluno, check_names=False)"
   ],
   "outputs": [],
   "execution_count": 11
  },
  {
   "cell_type": "markdown",
   "metadata": {},
   "source": [
    "# Classificação\n",
    "\n",
    "4. Filtrar senha pela categória Boa e Muito Boa.\n",
    "* Gerar um arquivo chamado passwords_classifier.csv"
   ]
  },
  {
   "cell_type": "code",
   "metadata": {
    "ExecuteTime": {
     "end_time": "2024-10-29T13:15:07.668396Z",
     "start_time": "2024-10-29T13:15:07.659148Z"
    }
   },
   "source": [
    "import re\n",
    "\n",
    "def classify_password(password: str) -> str:\n",
    "        # Expressão regular para letras (maiúsculas e minúsculas), números e caracteres especiais\n",
    "        result = \"\"\n",
    "        \n",
    "        \n",
    "        if ( (re.search(r'[A-Za-z]', password) and re.search(r'[0-9]', password)) or \n",
    "                        (re.search(r'[A-Za-z]', password) and re.search(r'[\\W_]', password)) or \n",
    "                        (re.search(r'[0-9]', password) and re.search(r'[\\W_]', password)) ):\n",
    "                if len(password) == 6: \n",
    "                        result = \"Fraca\"\n",
    "                elif len(password) <= 5:\n",
    "                        result = \"Ruim\"\n",
    "        \n",
    "        password_pattern = \"^(?=.*[a-z])(?=.*[A-Z])(?=.*\\d)(?=.*\\W).{4,}$\"\n",
    "        pat = re.compile(password_pattern)\n",
    "\n",
    "        if bool(re.search(pat, password)):\n",
    "                \n",
    "                if len(password) <= 7: \n",
    "                        result = \"Boa\"\n",
    "                elif len(password) >= 8:\n",
    "                        result = \"Muito Boa\"\n",
    "\n",
    "        return result\n",
    "\n",
    "to_print = (classify_password('Abbb11'))\n",
    "print(to_print)\n",
    "# Função para verificar se a senha contém apenas letras, números e caracteres especiais\n",
    "# is_valid_password = lambda pwd: bool(re.match(r'^(?=.*[a-z])(?=.*[A-Z])(?=.*\\d)(?=.*[!@#$%^&*()_+=\\-{}:;\"\\'<>,.?/\\\\|~`]).+$', pwd))\n",
    "\n",
    "# Função lambda para classificar a senha\n",
    "# classify_password = lambda pwd: 'Boa' if len(pwd) <= 7 and is_valid_password(pwd) else ''"
   ],
   "outputs": [
    {
     "name": "stdout",
     "output_type": "stream",
     "text": [
      "Fraca\n"
     ]
    },
    {
     "name": "stderr",
     "output_type": "stream",
     "text": [
      "<>:16: SyntaxWarning: invalid escape sequence '\\d'\n",
      "<>:16: SyntaxWarning: invalid escape sequence '\\d'\n",
      "/var/folders/52/h9fhq6w95_jg163py1kh_g2w0000gn/T/ipykernel_6884/3317179720.py:16: SyntaxWarning: invalid escape sequence '\\d'\n",
      "  password_pattern = \"^(?=.*[a-z])(?=.*[A-Z])(?=.*\\d)(?=.*\\W).{4,}$\"\n"
     ]
    }
   ],
   "execution_count": 13
  },
  {
   "cell_type": "code",
   "metadata": {
    "ExecuteTime": {
     "end_time": "2024-10-24T23:13:28.433240Z",
     "start_time": "2024-10-24T23:13:28.430167Z"
    }
   },
   "source": [
    "# Função para verificar se a senha contém apenas letras, números e caracteres especiais\n",
    "# password_muito_boa = lambda pwd: bool(re.match(r'^(?=.[a-z])(?=.[A-Z])(?=.*[\\d\\W]).{8,}$', pwd))\n",
    "\n",
    "# Função lambda para classificar a senha\n",
    "# classify_password_muito_boa = lambda pwd: 'Muito Boa' if bool(re.match(r'^(?=.[a-z])(?=.[A-Z])(?=.*[\\d\\W]).{8,}$', pwd)) else ''\n",
    "# classify_password_muito_boa = lambda pwd, length, cls: 'Muito Boa' if length >= 8 else ''"
   ],
   "outputs": [],
   "execution_count": 38
  },
  {
   "cell_type": "code",
   "metadata": {
    "ExecuteTime": {
     "end_time": "2024-10-29T13:15:18.602204Z",
     "start_time": "2024-10-29T13:15:14.034083Z"
    }
   },
   "source": [
    "print(\"tamanho do df original:  {:,}\".format(len(df)))\n",
    "# print(\"tamanho do df_ranked: {:,}\".format(df_ranked.size))\n",
    "\n",
    "print(\"----------------------------------------------------------\")\n",
    "#Pega tanto as senhas boas quanto as muito boas\n",
    "df_self_ranked = df\n",
    "\n",
    "df_self_ranked['classificacao'] = df_self_ranked.password.apply(lambda x: classify_password(str(x)))\n",
    "# df_self_ranked['classificacao'] = df_self_ranked.apply(lambda x: classify_password_muito_boa(str(x.password), x.length, x.classificacao), axis=1)\n",
    "\n",
    "df_senhas_Boas = df_self_ranked[df_self_ranked['classificacao'].str.startswith(\"Boa\")]\n",
    "df_senhas_MuitoBoas = df_self_ranked[df_self_ranked['classificacao'].str.startswith(\"Muito Boa\")]\n",
    "df_senhas_Fraca = df_self_ranked[df_self_ranked['classificacao'].str.startswith(\"Fraca\")]\n",
    "df_senhas_Ruim = df_self_ranked[df_self_ranked['classificacao'].str.startswith(\"Ruim\")]\n",
    "# display(df_senhas_Boas_e_MTB)\n",
    "\n",
    "print(\"Num senhas Boas no aquivo base: {:,}\".format(len(df_senhas_Boas)))\n",
    "print(\"Num senhas Muito Boas no arquivo base: {:,}\".format(len(df_senhas_MuitoBoas)))\n",
    "print(\"Num senhas Fracas no arquivo base: {:,}\".format(len(df_senhas_Fraca)))\n",
    "print(\"Num senhas Ruim no arquivo base: {:,}\".format(len(df_senhas_Ruim)))\n",
    "print(\"----------------------------------------------------------\")\n",
    "\n",
    "\n",
    "# df_passwords_classifier_Boas = df_passwords_classifier[df_passwords_classifier['class'].str.startswith(\"Boa\")]\n",
    "df_passwords_classifier_Boas = (df_passwords_classifier[\"class\"] == \"Boa\").sum()\n",
    "df_passwords_classifier_MTB = df_passwords_classifier[df_passwords_classifier['class'].str.startswith(\"Muito Boa\")]\n",
    "df_passwords_classifier_Fraca = df_passwords_classifier[df_passwords_classifier['class'].str.startswith(\"Fraca\")]\n",
    "df_passwords_classifier_Ruim = df_passwords_classifier[df_passwords_classifier['class'].str.startswith(\"Ruim\")]\n",
    "df_passwords_classifier_MuitoRuim = df_passwords_classifier[df_passwords_classifier['class'].str.startswith(\"Muito Ruim\")]\n",
    "print(f\"Num senhas Boas no aquivo do aluno: {df_passwords_classifier_Boas:,}\")\n",
    "# print(df_passwords_classifier_Boas)\n",
    "print(\"Num senhas Muito Boas no arquivo do aluno: {:,}\".format(len(df_passwords_classifier_MTB)))\n",
    "print(\"Num senhas Fracas no arquivo do aluno: {:,}\".format(len(df_passwords_classifier_Fraca)))\n",
    "print(\"Num senhas Ruim no arquivo do aluno: {:,}\".format(len(df_passwords_classifier_Ruim)))\n",
    "print(\"Num senhas Muito Ruim no arquivo do aluno: {:,}\".format(len(df_passwords_classifier_MuitoRuim)))\n"
   ],
   "outputs": [
    {
     "name": "stdout",
     "output_type": "stream",
     "text": [
      "tamanho do df original:  669,879\n",
      "----------------------------------------------------------\n",
      "Num senhas Boas no aquivo base: 13\n",
      "Num senhas Muito Boas no arquivo base: 4,069\n",
      "Num senhas Fracas no arquivo base: 39,605\n",
      "Num senhas Ruim no arquivo base: 117\n",
      "----------------------------------------------------------\n",
      "Num senhas Boas no aquivo do aluno: 59,505\n",
      "Num senhas Muito Boas no arquivo do aluno: 451,379\n",
      "Num senhas Fracas no arquivo do aluno: 0\n",
      "Num senhas Ruim no arquivo do aluno: 0\n",
      "Num senhas Muito Ruim no arquivo do aluno: 0\n"
     ]
    }
   ],
   "execution_count": 14
  },
  {
   "cell_type": "markdown",
   "metadata": {},
   "source": [
    "# Ordenações"
   ]
  },
  {
   "cell_type": "markdown",
   "metadata": {},
   "source": [
    "Ordenar o arquivo completo de senhas pelo campo length em ordem decrescente."
   ]
  },
  {
   "cell_type": "code",
   "execution_count": null,
   "metadata": {},
   "outputs": [],
   "source": [
    "# ler o dataframe ordenado\n",
    "# pegar o campo length e transformar para lsita df[coluna].tolist()\n",
    "# Verificar se estar ordenado df[coluna].tolist() == sorted(df[coluna].tolist())"
   ]
  }
 ],
 "metadata": {
  "kernelspec": {
   "display_name": "Python 3.7.3 64-bit",
   "language": "python",
   "name": "python3"
  },
  "language_info": {
   "codemirror_mode": {
    "name": "ipython",
    "version": 3
   },
   "file_extension": ".py",
   "mimetype": "text/x-python",
   "name": "python",
   "nbconvert_exporter": "python",
   "pygments_lexer": "ipython3",
   "version": "3.12.0"
  },
  "orig_nbformat": 4,
  "vscode": {
   "interpreter": {
    "hash": "aee8b7b246df8f9039afb4144a1f6fd8d2ca17a180786b69acc140d282b71a49"
   }
  }
 },
 "nbformat": 4,
 "nbformat_minor": 2
}
