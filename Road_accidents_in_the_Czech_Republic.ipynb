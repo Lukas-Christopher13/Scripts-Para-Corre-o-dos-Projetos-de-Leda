{
 "cells": [
  {
   "cell_type": "code",
   "metadata": {
    "ExecuteTime": {
     "end_time": "2024-11-26T01:44:17.009143Z",
     "start_time": "2024-11-26T01:44:16.680201Z"
    }
   },
   "source": [
    "import numpy as np # linear algebra\n",
    "import pathlib\n",
    "from datetime import datetime, date\n",
    "from pyspark.sql import SparkSession\n",
    "from pyspark.sql.functions import avg, sum, count, col, format_number, monotonically_increasing_id, hour, mean,minute"
   ],
   "outputs": [],
   "execution_count": 1
  },
  {
   "metadata": {},
   "cell_type": "markdown",
   "source": "Configuração do Spark"
  },
  {
   "metadata": {
    "ExecuteTime": {
     "end_time": "2024-11-26T01:44:18.699280Z",
     "start_time": "2024-11-26T01:44:18.691487Z"
    }
   },
   "cell_type": "code",
   "source": [
    "import findspark\n",
    "import os\n",
    "os.environ[\"SPARK_HOME\"] = \"/Users/fabioleite/Downloads/spark-3.5.3-bin-hadoop3\"\n",
    "findspark.init()"
   ],
   "outputs": [],
   "execution_count": 2
  },
  {
   "metadata": {
    "ExecuteTime": {
     "end_time": "2024-11-26T01:44:26.973366Z",
     "start_time": "2024-11-26T01:44:21.959734Z"
    }
   },
   "cell_type": "code",
   "source": [
    "spark = SparkSession.builder.appName(\"Meu App\") \\\n",
    "    .config(\"spark.executor.extraJavaOptions\", \"-Djava.security.manager=allow\") \\\n",
    "    .getOrCreate()"
   ],
   "outputs": [
    {
     "name": "stderr",
     "output_type": "stream",
     "text": [
      "Setting default log level to \"WARN\".\n",
      "To adjust logging level use sc.setLogLevel(newLevel). For SparkR, use setLogLevel(newLevel).\n",
      "24/11/25 22:44:25 WARN NativeCodeLoader: Unable to load native-hadoop library for your platform... using builtin-java classes where applicable\n"
     ]
    }
   ],
   "execution_count": 3
  },
  {
   "metadata": {},
   "cell_type": "markdown",
   "source": "### Leitura dos arquivos"
  },
  {
   "metadata": {
    "ExecuteTime": {
     "end_time": "2024-11-26T01:44:36.920603Z",
     "start_time": "2024-11-26T01:44:30.390622Z"
    }
   },
   "cell_type": "code",
   "source": [
    "# Caminhos\n",
    "path_accidents_in_the_Czech_Republic = \"Road_accidents_in_the_Czech_Republic/arquivo_base/road_accidents_czechia_2016_2022.csv\"\n",
    "path_pedestrian = \"Road_accidents_in_the_Czech_Republic/arquivo_base/pedestrian.csv\"\n",
    "# Leituras e tratamentos iniciais\n",
    "df_pedestrians = spark.read.csv(path_pedestrian, header=True, sep=',')\n",
    "df_accidents = spark.read.csv(path_accidents_in_the_Czech_Republic, header=True, sep=',')"
   ],
   "outputs": [],
   "execution_count": 4
  },
  {
   "metadata": {
    "ExecuteTime": {
     "end_time": "2024-11-26T01:44:37.316747Z",
     "start_time": "2024-11-26T01:44:36.922990Z"
    }
   },
   "cell_type": "code",
   "source": [
    "df_accidents.describe()\n",
    "# df.printSchema()\n",
    "# df.show(truncate=False)"
   ],
   "outputs": [
    {
     "data": {
      "text/plain": [
       "DataFrame[summary: string, id: string, communication_kind: string, date: string, time: string, accident_kind: string, crash_kind: string, fixed_precaution_kind: string, injury: string, cause_of_accident: string, alcohol: string, main_cause_of_accident: string, killed_persons: string, severely_injured_persons: string, slightly_injured_persons: string, total_material_damage: string, road_surface_type: string, condition_of_vehicle_surface: string, condition_of_communication: string, weather_conditions_at_the_time_of_accident: string, visibility: string, visibility_ratios: string, communication_division: string, communication_accident_situation: string, traffic_control_at_the_time_of_an_accident: string, local_administration_priority_in_traffic: string, specific_location_and_objects_in_the_location_of_the_accident: string, directional_rates: string, number_of_vehicles_involved: string, location_of_the_traffic_accident: string, vehicle_type: string, vehicle_brand: string, year_of_manufacture: string, vehicle_owner: string, skid: string, vehicle_sequel: string, leakage_of_transported_materials: string, way_of_releasing_persons_from_the_vehicle: string, direction_of_movement: string, damage_to_the_vehicle(in_hundred_crowns): string, driver_category: string, driver_condition: string, driver_external_influence: string, city: string, street: string, road_type: string, location: string]"
      ]
     },
     "execution_count": 5,
     "metadata": {},
     "output_type": "execute_result"
    }
   ],
   "execution_count": 5
  },
  {
   "metadata": {},
   "cell_type": "markdown",
   "source": [
    "### 1. Gere um arquivo chamado “alcohol_accidents.csv” a partir do arquivo “road_accidents_czechia_2016_2022.csv”, filtrar os acidentes em que houve detecção do ingerimento de bebida alcoólica. (filtrar pelo campo alcohol)\n",
    "\n",
    "+ Gere um arquivo chamado “alcohol_accidents.csv”."
   ]
  },
  {
   "metadata": {
    "ExecuteTime": {
     "end_time": "2024-11-26T01:44:44.597092Z",
     "start_time": "2024-11-26T01:44:40.673741Z"
    }
   },
   "cell_type": "code",
   "source": [
    "# Agrupar por 'alcohol' e contar as ocorrências\n",
    "df_alcohol_count = df_accidents.groupBy('alcohol').agg(count('*').alias('count'))\n",
    "\n",
    "# Mostrar o resultado\n",
    "df_alcohol_count.show(truncate=False)"
   ],
   "outputs": [
    {
     "name": "stderr",
     "output_type": "stream",
     "text": [
      "[Stage 2:>                                                          (0 + 8) / 8]\r"
     ]
    },
    {
     "name": "stdout",
     "output_type": "stream",
     "text": [
      "+----------------------------------------------------------------------------+------+\n",
      "|alcohol                                                                     |count |\n",
      "+----------------------------------------------------------------------------+------+\n",
      "|yes blood alcohol content between 0.5 ‰ and 0.8 ‰                           |1992  |\n",
      "|ne                                                                          |380032|\n",
      "|with a driving licence of category B                                        |1304  |\n",
      "|not detected                                                                |287516|\n",
      "|with a driving licence of category D                                        |19    |\n",
      "|NULL                                                                        |6785  |\n",
      "|Rejected                                                                    |1847  |\n",
      "|without a driving licence                                                   |78    |\n",
      "|yes blood alcohol content between 0.24 ‰ and 0.5 ‰                          |2107  |\n",
      "|yes blood alcohol content up to 0.24 ‰                                      |1207  |\n",
      "|with a driving licence of category C                                        |251   |\n",
      "|yes blood alcohol content between 1.0 ‰ and 1.5 ‰                           |4692  |\n",
      "|not detected, the driver left the scene (code 17 for p44 or code 4 for p50a)|105   |\n",
      "|yes blood alcohol content 1.5‰ or more                                      |19422 |\n",
      "|yes blood alcohol content from 0.8‰ to 1.0‰                                 |1428  |\n",
      "|not detected (e.g. for foreigners)                                          |12    |\n",
      "|other vehicle drivers (e.g. cyclists, car drivers, train drivers, etc.)     |1     |\n",
      "+----------------------------------------------------------------------------+------+\n",
      "\n"
     ]
    },
    {
     "name": "stderr",
     "output_type": "stream",
     "text": [
      "                                                                                \r"
     ]
    }
   ],
   "execution_count": 6
  },
  {
   "metadata": {
    "ExecuteTime": {
     "end_time": "2024-11-26T01:44:57.073223Z",
     "start_time": "2024-11-26T01:44:56.842137Z"
    }
   },
   "cell_type": "code",
   "source": [
    "# Leitura e tratamento dos arquivos do aluno\n",
    "path_alcohol_accidents_aluno = \"Road_accidents_in_the_Czech_Republic/transformações/alcohol_accidents.csv\"\n",
    "df_alcohol_accidents_aluno = spark.read.csv(path_alcohol_accidents_aluno, header=True, sep=',')"
   ],
   "outputs": [],
   "execution_count": 7
  },
  {
   "metadata": {
    "ExecuteTime": {
     "end_time": "2024-11-26T01:45:12.625769Z",
     "start_time": "2024-11-26T01:45:12.093353Z"
    }
   },
   "cell_type": "code",
   "source": [
    "# prompt: preciso selecionar todas as ocorrências de registros do df_accidents que iniciam com o valor 'yes blood alcohol content' na coluna alcohol\n",
    "\n",
    "# Selecionar todas as ocorrências de registros que iniciam com 'yes blood alcohol content' na coluna 'alcohol'\n",
    "df_accidents_alcohol = df_accidents.filter(df_accidents.alcohol.startswith('yes blood alcohol content'))\n",
    "\n",
    "# Mostrar o resultado\n",
    "df_accidents_alcohol.show()"
   ],
   "outputs": [
    {
     "name": "stderr",
     "output_type": "stream",
     "text": [
      "24/11/25 22:45:12 WARN SparkStringUtils: Truncated the string representation of a plan since it was too large. This behavior can be adjusted by setting 'spark.sql.debug.maxToStringFields'.\n"
     ]
    },
    {
     "name": "stdout",
     "output_type": "stream",
     "text": [
      "+--------------+------------------+----------+------+--------------------+--------------------+---------------------+------+--------------------+--------------------+----------------------+--------------+------------------------+------------------------+---------------------+-----------------+----------------------------+--------------------------+------------------------------------------+--------------------+-----------------+----------------------+--------------------------------+------------------------------------------+----------------------------------------+-------------------------------------------------------------+--------------------+---------------------------+--------------------------------+--------------------+-------------+-------------------+--------------------+----+--------------------+--------------------------------+-----------------------------------------+---------------------+----------------------------------------+--------------------+--------------------+-------------------------+--------------------+-----------------+-------------------+-------------------+\n",
      "|            id|communication_kind|      date|  time|       accident_kind|          crash_kind|fixed_precaution_kind|injury|   cause_of_accident|             alcohol|main_cause_of_accident|killed_persons|severely_injured_persons|slightly_injured_persons|total_material_damage|road_surface_type|condition_of_vehicle_surface|condition_of_communication|weather_conditions_at_the_time_of_accident|          visibility|visibility_ratios|communication_division|communication_accident_situation|traffic_control_at_the_time_of_an_accident|local_administration_priority_in_traffic|specific_location_and_objects_in_the_location_of_the_accident|   directional_rates|number_of_vehicles_involved|location_of_the_traffic_accident|        vehicle_type|vehicle_brand|year_of_manufacture|       vehicle_owner|skid|      vehicle_sequel|leakage_of_transported_materials|way_of_releasing_persons_from_the_vehicle|direction_of_movement|damage_to_the_vehicle(in_hundred_crowns)|     driver_category|    driver_condition|driver_external_influence|                city|           street|          road_type|           location|\n",
      "+--------------+------------------+----------+------+--------------------+--------------------+---------------------+------+--------------------+--------------------+----------------------+--------------+------------------------+------------------------+---------------------+-----------------+----------------------------+--------------------------+------------------------------------------+--------------------+-----------------+----------------------+--------------------------------+------------------------------------------+----------------------------------------+-------------------------------------------------------------+--------------------+---------------------------+--------------------------------+--------------------+-------------+-------------------+--------------------+----+--------------------+--------------------------------+-----------------------------------------+---------------------+----------------------------------------+--------------------+--------------------+-------------------------+--------------------+-----------------+-------------------+-------------------+\n",
      "|150506180012.0|     Class 1 roads|2018-01-04|1140.0|collision with a ...|               Front| not an option not...|   1.0|driver of a motor...|yes blood alcohol...|     when turning left|           0.0|                     0.0|                     1.0|                350.0|           resins|                 surface wet|      good, without def...|                              unencumbered|Daytime visibilit...|             good|           three lanes|                     on the lane|                      a light signallin...|                     no local regulation|                                         none or none of t...|intersection inte...|                        2.0|            at an intersectio...|passenger car wit...|        Škoda|             1999.0|private not used ...|  ne|   none of the above|               none of the above|                     there was no need...| captures the posi...|                                   150.0|with a driving li...|under the influen...|     the driver was no...|          Otrokovice|       Komenského|      class 1 roads|     in the village|\n",
      "|150506180028.0|   3rd class roads|2018-01-08|1330.0|collision with a ...|         on the side| not an option not...|   0.0|driver of a motor...|yes blood alcohol...|  the driver was no...|           0.0|                     0.0|                     0.0|                400.0|           resins|        surface dry and u...|      good, without def...|                              unencumbered|Daytime visibilit...|             good|              two-lane|                     on the lane|                      no traffic contro...|                     no local regulation|                                         bridge, overpass,...|    straight section|                        2.0|            outside the inter...|passenger car wit...|      Renault|             2016.0|private not used ...|  ne|   there was no fire|               none of the above|                     there was no need...| moving vehicle - ...|                                   200.0|with a driving li...|under the influen...|     the driver was no...|              Trnava|             NULL|      class 3 roads|     in the village|\n",
      "|150506180050.0|     class 2 roads|2018-01-15| 627.0|collision with a ...|         on the side| not an option not...|   0.0|driver of a motor...|yes blood alcohol...|  against the order...|           0.0|                     0.0|                     0.0|                800.0|           resins|        surface dry and u...|      good, without def...|                              unencumbered|at night with pub...|             good|              two-lane|                     on the lane|                          local regulation|                    priority marked b...|                                         near a pedestrian...|intersection inte...|                        2.0|            at an intersectio...|passenger car wit...|        Škoda|             2003.0|private not used ...|  ne|   there was no fire|               none of the above|                     there was no need...| captures the posi...|                                   100.0|with a driving li...|under the influen...|     the driver was no...|          Luhačovice|   Uherskobrodská|      class 2 roads|     in the village|\n",
      "|150506180087.0|   3rd class roads|2018-01-23|1955.0|collision with a ...|not an option It ...|                lever|   0.0|driver of a motor...|yes blood alcohol...|  Failure to adapt ...|           0.0|                     0.0|                     0.0|                400.0|           resins|                 surface wet|      good, without def...|                              unencumbered|at night without ...|             good|              two-lane|                     on the lane|                      no traffic contro...|                     no local regulation|                                         none or none of t...|               curve|                        1.0|            outside the inter...|passenger car wit...|       Suzuki|             2009.0|private not used ...|  ne|   none of the above|               none of the above|                     there was no need...| moving vehicle - ...|                                   300.0|with a driving li...|under the influen...|     the driver was no...|outside the munic...|             NULL|      class 3 roads|outside the village|\n",
      "|150506180093.0|     class 2 roads|2018-01-25| 100.0|             crashes|not an option It ...| not an option not...|   0.0|driver of a motor...|yes blood alcohol...|  Failure to adjust...|           0.0|                     0.0|                     0.0|               1500.0|           resins|        there is ice on t...|      good, without def...|                        frost and ice form|at night without ...|             good|              two-lane|                     on the lane|                      no traffic contro...|                     no local regulation|                                         none or none of t...|               curve|                        1.0|            outside the inter...|passenger car wit...|        Škoda|             1900.0|private organizat...| ano|   there was no fire|               none of the above|                     there was no need...| moving vehicle - ...|                                  1500.0|with a driving li...|under the influen...|     the driver was no...|outside the munic...|             NULL|      class 2 roads|outside the village|\n",
      "|150506180096.0|   3rd class roads|2018-01-25| 550.0|collision with a ...|not an option It ...|                strom|   0.0|driver of a motor...|yes blood alcohol...|  Failure to adjust...|           0.0|                     0.0|                     0.0|                  1.0|           resins|                 surface wet|      good, without def...|                              unencumbered|at night without ...|             good|              two-lane|                     on the lane|                      no traffic contro...|                     no local regulation|                                         none or none of t...|               curve|                        1.0|            outside the inter...|passenger car wit...|   Volkswagen|             1999.0|private not used ...| ano|   none of the above|               none of the above|                     there was no need...| moving vehicle - ...|                                     0.0|with a driving li...|under the influen...|     the driver was no...|outside the munic...|             NULL|      class 3 roads|outside the village|\n",
      "|150506180112.0|   3rd class roads|2018-01-31| 850.0|collision with a ...|               Front| not an option not...|   0.0|driver of a motor...|yes blood alcohol...|  the driver was no...|           0.0|                     0.0|                     0.0|                150.0|           resins|        surface dry and u...|      good, without def...|                              unencumbered|Daytime visibilit...|             good|              two-lane|                     on the lane|                      no traffic contro...|                     no local regulation|                                         none or none of t...|straight section ...|                        2.0|            outside the inter...|passenger car wit...|        Škoda|             2002.0|private not used ...|  ne|   none of the above|               none of the above|                     there was no need...| vehicle moving - ...|                                   100.0|with a driving li...|under the influen...|     the driver was no...|        Velkýořechov|             NULL|      class 3 roads|     in the village|\n",
      "|150506180115.0|     Class 1 roads|2018-02-01| 540.0|collision with a ...|          strabismus| not an option not...|   0.0|driver of a motor...|yes blood alcohol...|  failure to keep a...|           0.0|                     0.0|                     0.0|                900.0|           resins|        surface dry and u...|      good, without def...|                              unencumbered|at night with pub...|             good|  four lanes with d...|                     on the lane|                          local regulation|                    priority marked b...|                                         near a pedestrian...|intersection with...|                        2.0|            at an intersectio...|passenger car wit...|          Kia|             2003.0|private not used ...|  ne|   none of the above|            there is a leak o...|                     there was no need...| captures the posi...|                                   400.0|with a driving li...|under the influen...|     the driver was no...|                Zlín|  Třídatomášebati|      class 1 roads|     in the village|\n",
      "|150506180119.0|   3rd class roads|2018-02-01|1715.0|collision with a ...|not an option It ...| other obstacle (r...|   0.0|driver of a motor...|yes blood alcohol...|  Failure to adjust...|           0.0|                     0.0|                     0.0|                100.0|           resins|                 surface wet|      good, without def...|                                      Rain|reduced visibilit...|             good|              two-lane|                     on the lane|                      no traffic contro...|                     no local regulation|                                                    fuel pump|    straight section|                        1.0|            outside the inter...|passenger car wit...|         Seat|             1997.0|private not used ...| ano|   there was no fire|               none of the above|                     there was no need...| moving vehicle - ...|                                    50.0|with a driving li...|under the influen...|     the driver was no...|          Otrokovice|    Tř.Tomášebati|      class 3 roads|     in the village|\n",
      "|150506180131.0|   3rd class roads|2018-02-06| 840.0|collision with a ...|          strabismus| not an option not...|   0.0|driver of a motor...|yes blood alcohol...|  failure to keep a...|           0.0|                     0.0|                     0.0|                400.0|           resins|        surface dry and u...|      good, without def...|                              unencumbered|Daytime visibilit...|             good|  four lanes with d...|                     on the lane|                      no traffic contro...|                     no local regulation|                                         none or none of t...|    straight section|                        2.0|            outside the inter...|passenger car wit...|        Mazda|             2017.0|private organizat...|  ne|   none of the above|               none of the above|                     there was no need...| moving vehicle - ...|                                   200.0|with a driving li...|under the influen...|     the driver was no...|                Zlín|         Gahurova|      class 3 roads|     in the village|\n",
      "|150506180143.0|       local roads|2018-02-08| 345.0|collision with a ...|not an option It ...| other obstacle (r...|   0.0|driver of a motor...|yes blood alcohol...|  the driver was no...|           0.0|                     0.0|                     0.0|                 20.0|           resins|                 surface wet|      good, without def...|                              unencumbered|at night with pub...|             good|              two-lane|                     on the lane|                      no traffic contro...|                     no local regulation|                                         railway crossing ...|    straight section|                        1.0|            outside the inter...|passenger car wit...|         Fiat|             1998.0|private not used ...|  ne|   there was no fire|               none of the above|                     there was no need...| vehicle moving - ...|                                    10.0|with a driving li...|under the influen...|     the driver was no...|                Zlín|     Podvesnáxvii|LocalCommunications|     in the village|\n",
      "|150506180151.0|       local roads|2018-02-11| 227.0|collision with a ...|not an option It ...| not an option not...|   0.0|driver of a motor...|yes blood alcohol...|  the driver was no...|           0.0|                     0.0|                     0.0|                250.0|           resins|        surface dry and u...|      good, without def...|                              unencumbered|at night with pub...|             good|              two-lane|                     on the lane|                          local regulation|                    priority marked b...|                                         none or none of t...|intersection inte...|                        2.0|            at an intersectio...|passenger car wit...|   Volkswagen|             1998.0|private not used ...|  ne|   none of the above|               none of the above|                     there was no need...| vehicle moving - ...|                                    50.0|with a driving li...|under the influen...|     the driver was no...|            Vizovice|          Štěpská|LocalCommunications|     in the village|\n",
      "|150506180156.0|       local roads|2018-02-12|1137.0|collision with a ...|not an option It ...| not an option not...|   0.0|driver of a motor...|yes blood alcohol...|  the driver was no...|           0.0|                     0.0|                     0.0|                450.0|           resins|        surface dry and u...|      good, without def...|                              unencumbered|Daytime visibilit...|             good|              two-lane|                     on the lane|                      no traffic contro...|                     no local regulation|                                         none or none of t...|    straight section|                        4.0|            outside the inter...|passenger car wit...|         Opel|             1998.0|private not used ...|  ne|   there was no fire|               none of the above|                     there was no need...| vehicle moving - ...|                                   150.0|with a driving li...|under the influen...|     the driver was no...|                Zlín|        Zálešnáxi|LocalCommunications|     in the village|\n",
      "|150506180181.0|     class 2 roads|2018-02-18| 635.0|collision with a ...|not an option It ...| wall, fixed part ...|   1.0|driver of a motor...|yes blood alcohol...|  the driver was no...|           0.0|                     0.0|                     1.0|                310.0|           resins|                 surface wet|      good, without def...|                              unencumbered|reduced visibilit...|             good|              two-lane|                     on the lane|                      no traffic contro...|                     no local regulation|                                                    fuel pump|straight section ...|                        1.0|            outside the inter...|passenger car wit...|         Opel|             2001.0|private not used ...|  ne|   none of the above|               none of the above|                     there was no need...| moving vehicle - ...|                                   200.0|with a driving li...|under the influen...|     the driver was no...|          Vlachovice|             NULL|      class 2 roads|     in the village|\n",
      "|150506180208.0|     Class 1 roads|2018-02-24|1249.0|collision with a ...|not an option It ...| reflector, bollar...|   0.0|driver of a motor...|yes blood alcohol...|  the driver was no...|           0.0|                     0.0|                     0.0|                100.0|           resins|        surface dry and u...|      good, without def...|                              unencumbered|Daytime visibilit...|             good|  four lanes with d...|                     on the lane|                      a light signallin...|                     no local regulation|                                          pedestrian crossing|intersection with...|                        1.0|            at an intersectio...|passenger car wit...|      Citroen|             2017.0|private not used ...|  ne|   none of the above|               none of the above|                     there was no need...| captures the posi...|                                   100.0|with a driving li...|under the influen...|     the driver was no...|                Zlín|  Třídatomášebati|      class 1 roads|     in the village|\n",
      "|150506180232.0|       local roads|2018-03-02| 745.0|collision with a ...|not an option It ...| other obstacle (r...|   0.0|driver of a motor...|yes blood alcohol...|  the driver was no...|           0.0|                     0.0|                     0.0|                350.0|           resins|        surface dry and u...|      good, without def...|                              unencumbered|Daytime visibilit...|             good|              two-lane|                     on the lane|                      no traffic contro...|                     no local regulation|                                         none or none of t...|    straight section|                        2.0|            outside the inter...|passenger car wit...|         Audi|             1996.0|private not used ...|  ne|   none of the above|               none of the above|                     there was no need...| vehicle moving - ...|                                   100.0|with a driving li...|under the influen...|     the driver was no...|                Zlín|Havlíčkovonábřeží|LocalCommunications|     in the village|\n",
      "|150506180280.0|     class 2 roads|2018-03-17|2560.0|collision with a ...|not an option It ...|                strom|   0.0|driver of a motor...|yes blood alcohol...|  Failure to adapt ...|           0.0|                     0.0|                     0.0|                130.0|           resins|        surface dry and u...|      good, without def...|                              unencumbered|at night without ...|             good|              two-lane|                     on the lane|                      no traffic contro...|                     no local regulation|                                         none or none of t...|               curve|                        1.0|            outside the inter...|passenger car wit...|        Honda|             1999.0|private not used ...| ano|   none of the above|               none of the above|                     using special res...| moving vehicle - ...|                                   100.0|with a driving li...|under the influen...|     the driver was no...|outside the munic...|             NULL|      class 2 roads|outside the village|\n",
      "|150506180324.0|   3rd class roads|2018-04-01| 303.0|collision with a ...|not an option It ...|                strom|   1.0|driver of a motor...|yes blood alcohol...|  Failure to adapt ...|           0.0|                     0.0|                     1.0|               2050.0|           resins|                 surface wet|      good, without def...|                      at the beginning ...|at night without ...|             good|              two-lane|                     on the lane|                      no traffic contro...|                     no local regulation|                                         none or none of t...|               curve|                        1.0|            outside the inter...|passenger car wit...|        Škoda|             2017.0|private organizat...|  ne|   there was no fire|               none of the above|                     there was no need...| moving vehicle - ...|                                  2000.0|with a driving li...|under the influen...|     the driver was no...|outside the munic...|             NULL|      class 3 roads|outside the village|\n",
      "|150506180339.0|   3rd class roads|2018-04-05|1555.0|collision with a ...|         on the side| not an option not...|   0.0|driver of a motor...|yes blood alcohol...|  against the order...|           0.0|                     0.0|                     0.0|                150.0|           resins|        surface dry and u...|      good, without def...|                      at the beginning ...|Daytime visibilit...|             good|              two-lane|                     on the lane|                          local regulation|                    priority marked b...|                                         none or none of t...|intersection inte...|                        2.0|            at an intersectio...|passenger car wit...|        Škoda|             1998.0|private not used ...|  ne|driver drove off ...|               none of the above|                     there was no need...| captures the posi...|                                    50.0|without a driving...|under the influen...|     the driver was no...|                Zlín|        Václavská|      class 3 roads|     in the village|\n",
      "|150506180353.0|       local roads|2018-04-09|1902.0|another type of a...|not an option It ...| not an option not...|   1.0|driver of a non-m...|yes blood alcohol...|  failure to contro...|           0.0|                     0.0|                     1.0|                  0.0|           resins|        surface dry and u...|      good, without def...|                              unencumbered|Daytime visibilit...|             good|              two-lane|                     on the lane|                      no traffic contro...|                     no local regulation|                                         none or none of t...|    straight section|                        1.0|            outside the inter...|             bicycle|         NULL|               -1.0|private not used ...|  ne|   none of the above|               none of the above|                     there was no need...| vehicle moving - ...|                                     0.0|other vehicle dri...|under the influen...|         other influences|          Otrokovice|       Břímrštíků|LocalCommunications|     in the village|\n",
      "+--------------+------------------+----------+------+--------------------+--------------------+---------------------+------+--------------------+--------------------+----------------------+--------------+------------------------+------------------------+---------------------+-----------------+----------------------------+--------------------------+------------------------------------------+--------------------+-----------------+----------------------+--------------------------------+------------------------------------------+----------------------------------------+-------------------------------------------------------------+--------------------+---------------------------+--------------------------------+--------------------+-------------+-------------------+--------------------+----+--------------------+--------------------------------+-----------------------------------------+---------------------+----------------------------------------+--------------------+--------------------+-------------------------+--------------------+-----------------+-------------------+-------------------+\n",
      "only showing top 20 rows\n",
      "\n"
     ]
    }
   ],
   "execution_count": 8
  },
  {
   "metadata": {
    "ExecuteTime": {
     "end_time": "2024-11-26T01:45:21.145073Z",
     "start_time": "2024-11-26T01:45:21.002845Z"
    }
   },
   "cell_type": "code",
   "source": [
    "df_accidents_ne_filtered = df_accidents.filter(df_accidents.alcohol.startswith('yes blood alcohol content'))\n",
    "path_alcohol_accidents = \"Road_accidents_in_the_Czech_Republic/transformações/alcohol_accidents.csv\"\n",
    "df_alcohol_accidents = spark.read.csv(path_alcohol_accidents, header=True, sep=',')\n"
   ],
   "outputs": [],
   "execution_count": 9
  },
  {
   "metadata": {
    "ExecuteTime": {
     "end_time": "2024-11-26T01:45:24.021739Z",
     "start_time": "2024-11-26T01:45:23.065607Z"
    }
   },
   "cell_type": "code",
   "source": "df_alcohol_accidents.describe('alcohol').show()",
   "outputs": [
    {
     "name": "stdout",
     "output_type": "stream",
     "text": [
      "+-------+--------------------+\n",
      "|summary|             alcohol|\n",
      "+-------+--------------------+\n",
      "|  count|               30848|\n",
      "|   mean|                NULL|\n",
      "| stddev|                NULL|\n",
      "|    min|yes blood alcohol...|\n",
      "|    max|yes blood alcohol...|\n",
      "+-------+--------------------+\n",
      "\n"
     ]
    },
    {
     "name": "stderr",
     "output_type": "stream",
     "text": [
      "                                                                                \r"
     ]
    }
   ],
   "execution_count": 10
  },
  {
   "metadata": {
    "ExecuteTime": {
     "end_time": "2024-11-26T01:45:27.390093Z",
     "start_time": "2024-11-26T01:45:25.391611Z"
    }
   },
   "cell_type": "code",
   "source": "df_accidents_ne_filtered.describe('alcohol').show()",
   "outputs": [
    {
     "name": "stderr",
     "output_type": "stream",
     "text": [
      "[Stage 11:>                                                         (0 + 8) / 8]\r"
     ]
    },
    {
     "name": "stdout",
     "output_type": "stream",
     "text": [
      "+-------+--------------------+\n",
      "|summary|             alcohol|\n",
      "+-------+--------------------+\n",
      "|  count|               30848|\n",
      "|   mean|                NULL|\n",
      "| stddev|                NULL|\n",
      "|    min|yes blood alcohol...|\n",
      "|    max|yes blood alcohol...|\n",
      "+-------+--------------------+\n",
      "\n"
     ]
    },
    {
     "name": "stderr",
     "output_type": "stream",
     "text": [
      "                                                                                \r"
     ]
    }
   ],
   "execution_count": 11
  },
  {
   "metadata": {
    "ExecuteTime": {
     "end_time": "2024-11-26T01:45:32.943828Z",
     "start_time": "2024-11-26T01:45:30.762304Z"
    }
   },
   "cell_type": "code",
   "source": [
    "\n",
    "# Comparar os dois DataFrames usando um inner join\n",
    "df_comparison = df_alcohol_accidents.join(df_accidents_ne_filtered, on=['alcohol'], how='inner')\n",
    "\n",
    "# Ou, se você quiser comparar apenas a coluna 'alcohol', pode usar algo como:\n",
    "df_alcohol_accidents_alcohol_column = df_alcohol_accidents.select('alcohol')\n",
    "df_accidents_ne_filtered_alcohol_column = df_accidents_ne_filtered.select('alcohol')\n",
    "# Encontrar a diferença (valores únicos em cada DataFrame)\n",
    "df_difference = df_alcohol_accidents_alcohol_column.subtract(df_accidents_ne_filtered_alcohol_column)\n",
    "df_difference.show()"
   ],
   "outputs": [
    {
     "name": "stderr",
     "output_type": "stream",
     "text": [
      "                                                                                \r"
     ]
    },
    {
     "name": "stdout",
     "output_type": "stream",
     "text": [
      "+-------+\n",
      "|alcohol|\n",
      "+-------+\n",
      "+-------+\n",
      "\n"
     ]
    }
   ],
   "execution_count": 12
  },
  {
   "metadata": {
    "ExecuteTime": {
     "end_time": "2024-11-26T01:45:39.326526Z",
     "start_time": "2024-11-26T01:45:37.406825Z"
    }
   },
   "cell_type": "code",
   "source": [
    "# prompt: preciso exibir o total de registros do dataframe df_alcohol_accidents e df_accidents_ne_filtered\n",
    "\n",
    "print(\"Total de registros em df_alcohol_accidents:\", df_alcohol_accidents.count())\n",
    "print(\"Total de registros em df_accidents_ne_filtered:\", df_accidents_ne_filtered.count())"
   ],
   "outputs": [
    {
     "name": "stdout",
     "output_type": "stream",
     "text": [
      "Total de registros em df_alcohol_accidents: 30848\n"
     ]
    },
    {
     "name": "stderr",
     "output_type": "stream",
     "text": [
      "[Stage 23:>                                                         (0 + 8) / 8]\r"
     ]
    },
    {
     "name": "stdout",
     "output_type": "stream",
     "text": [
      "Total de registros em df_accidents_ne_filtered: 30848\n"
     ]
    },
    {
     "name": "stderr",
     "output_type": "stream",
     "text": [
      "                                                                                \r"
     ]
    }
   ],
   "execution_count": 13
  },
  {
   "metadata": {},
   "cell_type": "markdown",
   "source": [
    "### 2. Gere um arquivo chamado ”accidents_NCBMV.csv”, filtre pelo campo “crash_kind” os acidentes em que não houve colisão entre veículos em movimento. (filtrando por: not an option It is not a collision between moving vehicles)\n",
    "\n",
    "+ Gere um arquivo chamado “accidents_NCBMV.csv”."
   ]
  },
  {
   "metadata": {
    "ExecuteTime": {
     "end_time": "2024-11-26T01:45:42.636195Z",
     "start_time": "2024-11-26T01:45:42.437423Z"
    }
   },
   "cell_type": "code",
   "source": [
    "df_accidents_filtered_crash_kind = df_accidents.filter(df_accidents.crash_kind == 'not an option It is not a collision between moving vehicles')\n",
    "df_accidents_filtered_crash_kind.show()"
   ],
   "outputs": [
    {
     "name": "stdout",
     "output_type": "stream",
     "text": [
      "+--------------+------------------+----------+------+--------------------+--------------------+---------------------+------+--------------------+------------+----------------------+--------------+------------------------+------------------------+---------------------+-----------------+----------------------------+--------------------------+------------------------------------------+--------------------+-----------------+----------------------+--------------------------------+------------------------------------------+----------------------------------------+-------------------------------------------------------------+--------------------+---------------------------+--------------------------------+--------------------+--------------------+-------------------+--------------------+--------------------+--------------------+--------------------------------+-----------------------------------------+---------------------+----------------------------------------+--------------------+--------------------+-------------------------+--------------------+----------------+-------------------+-------------------+\n",
      "|            id|communication_kind|      date|  time|       accident_kind|          crash_kind|fixed_precaution_kind|injury|   cause_of_accident|     alcohol|main_cause_of_accident|killed_persons|severely_injured_persons|slightly_injured_persons|total_material_damage|road_surface_type|condition_of_vehicle_surface|condition_of_communication|weather_conditions_at_the_time_of_accident|          visibility|visibility_ratios|communication_division|communication_accident_situation|traffic_control_at_the_time_of_an_accident|local_administration_priority_in_traffic|specific_location_and_objects_in_the_location_of_the_accident|   directional_rates|number_of_vehicles_involved|location_of_the_traffic_accident|        vehicle_type|       vehicle_brand|year_of_manufacture|       vehicle_owner|                skid|      vehicle_sequel|leakage_of_transported_materials|way_of_releasing_persons_from_the_vehicle|direction_of_movement|damage_to_the_vehicle(in_hundred_crowns)|     driver_category|    driver_condition|driver_external_influence|                city|          street|          road_type|           location|\n",
      "+--------------+------------------+----------+------+--------------------+--------------------+---------------------+------+--------------------+------------+----------------------+--------------+------------------------+------------------------+---------------------+-----------------+----------------------------+--------------------------+------------------------------------------+--------------------+-----------------+----------------------+--------------------------------+------------------------------------------+----------------------------------------+-------------------------------------------------------------+--------------------+---------------------------+--------------------------------+--------------------+--------------------+-------------------+--------------------+--------------------+--------------------+--------------------------------+-----------------------------------------+---------------------+----------------------------------------+--------------------+--------------------+-------------------------+--------------------+----------------+-------------------+-------------------+\n",
      "| 60044184001.0|          Highways|2018-01-01|1625.0|collision with fo...|not an option It ...| not an option not...|   0.0|forest game, dome...|not detected|  not caused by the...|           0.0|                     0.0|                     0.0|                940.0|            beton|        surface dry and u...|      good, without def...|                              unencumbered|reduced visibilit...|             good|  four lanes with d...|                     on the lane|                      no traffic contro...|                     no local regulation|                                         none or none of t...|    straight section|                        1.0|            outside the inter...|passenger car wit...|          Volkswagen|             2010.0|private not used ...|                  ne|   there was no fire|               none of the above|                     there was no need...| moving vehicle - ...|                                   800.0|with a driving li...|good no adverse c...|     the driver was no...|outside the munic...|            NULL|           Highways|outside the village|\n",
      "| 60044184009.0|          Highways|2018-02-02| 850.0|collision with a ...|not an option It ...|                lever|   0.0|driver of a motor...|          ne|  the driver was no...|           0.0|                     0.0|                     0.0|                700.0|           resins|                 surface wet|      good, without def...|                              unencumbered|Daytime visibilit...|             good|  four lanes with d...|                 on the roadside|                      no traffic contro...|                     no local regulation|                                         none or none of t...|straight section ...|                        1.0|            outside the inter...|passenger car wit...|             Peugeot|             2001.0|private not used ...|                 ano|   there was no fire|            there is a leak o...|                     there was no need...| moving vehicle - ...|                                   600.0|with a driving li...|good no adverse c...|     the driver was no...|outside the munic...|            NULL|           Highways|outside the village|\n",
      "| 60044184016.0|          Highways|2018-03-01|1959.0|collision with fo...|not an option It ...| not an option not...|   0.0|forest game, dome...|not detected|  not caused by the...|           0.0|                     0.0|                     0.0|                375.0|            beton|        surface dry and u...|      good, without def...|                              unencumbered|at night without ...|             good|  four lanes with d...|                     on the lane|                      no traffic contro...|                     no local regulation|                                         none or none of t...|    straight section|                        1.0|            outside the inter...|passenger car wit...|             Hyundai|             2015.0|private organizat...|                  ne|   there was no fire|               none of the above|                     there was no need...| moving vehicle - ...|                                   300.0|with a driving li...|good no adverse c...|     the driver was no...|outside the munic...|            NULL|           Highways|outside the village|\n",
      "| 60044184022.0|          Highways|2018-04-06|2560.0|collision with a ...|not an option It ...|                lever|   0.0|driver of a motor...|not detected|  the driver was no...|           0.0|                     0.0|                     0.0|                350.0|            beton|        surface dry and u...|      good, without def...|                              unencumbered|Daytime visibilit...|             good|           expressways|                 on the roadside|                      no traffic contro...|                     no local regulation|                                         none or none of t...|    straight section|                        1.0|            outside the inter...|undetected, drive...|Undetected, Drive...|               -1.0|undetected, drive...|undetected, drive...|undetected, drive...|            undetected, drive...|                     undetected, drive...| undetected, drive...|                                     0.0|undetected, drive...|undetected, drive...|     undetected, drive...|outside the munic...|            NULL|           Highways|outside the village|\n",
      "| 60044184025.0|          Highways|2018-04-18|2560.0|collision with a ...|not an option It ...|                lever|   0.0|driver of a motor...|not detected|  the driver was no...|           0.0|                     0.0|                     0.0|                360.0|            beton|        surface dry and u...|      good, without def...|                              unencumbered|Daytime visibilit...|             good|              two-lane|                     on the lane|                      no traffic contro...|                     no local regulation|                                         bridge, overpass,...|               curve|                        1.0|            outside the inter...|undetected, drive...|Undetected, Drive...|               -1.0|undetected, drive...|undetected, drive...|undetected, drive...|            undetected, drive...|                     undetected, drive...| undetected, drive...|                                     0.0|undetected, drive...|undetected, drive...|     undetected, drive...|outside the munic...|            NULL|           Highways|outside the village|\n",
      "| 60044184026.0|          Highways|2018-04-18|2560.0|collision with a ...|not an option It ...|                lever|   0.0|driver of a motor...|not detected|  the driver was no...|           0.0|                     0.0|                     0.0|                200.0|           resins|        surface dry and u...|      good, without def...|                              unencumbered|Daytime visibilit...|             good|  four lanes with d...|            on the turning la...|                      no traffic contro...|                     no local regulation|                                         none or none of t...|    straight section|                        1.0|            outside the inter...|undetected, drive...|Undetected, Drive...|               -1.0|undetected, drive...|undetected, drive...|undetected, drive...|            undetected, drive...|                     undetected, drive...| undetected, drive...|                                     0.0|undetected, drive...|undetected, drive...|     undetected, drive...|outside the munic...|            NULL|           Highways|outside the village|\n",
      "| 60044184027.0|          Highways|2018-04-20|2560.0|collision with a ...|not an option It ...|                lever|   0.0|driver of a motor...|not detected|  the driver was no...|           0.0|                     0.0|                     0.0|                360.0|           resins|        surface dry and u...|      good, without def...|                              unencumbered|Daytime visibilit...|             good|  four lanes with d...|                     on the lane|                      no traffic contro...|                     no local regulation|                                         none or none of t...|    straight section|                        1.0|            outside the inter...|undetected, drive...|Undetected, Drive...|               -1.0|undetected, drive...|undetected, drive...|undetected, drive...|            undetected, drive...|                     undetected, drive...| undetected, drive...|                                     0.0|undetected, drive...|undetected, drive...|     undetected, drive...|outside the munic...|            NULL|           Highways|outside the village|\n",
      "| 60044184031.0|          Highways|2018-04-27| 440.0|collision with fo...|not an option It ...| not an option not...|   0.0|forest game, dome...|not detected|  not caused by the...|           0.0|                     0.0|                     0.0|                350.0|            beton|        surface dry and u...|      good, without def...|                              unencumbered|at night without ...|             good|  four lanes with d...|                     on the lane|                      no traffic contro...|                     no local regulation|                                         none or none of t...|    straight section|                        1.0|            outside the inter...|truck (including ...|               Iveco|             2012.0|private organizat...|                  ne|   there was no fire|               none of the above|                     there was no need...| moving vehicle - ...|                                   200.0|with a driving li...|good no adverse c...|     the driver was no...|outside the munic...|            NULL|           Highways|outside the village|\n",
      "| 60044184043.0|          Highways|2018-05-25|1214.0|collision with a ...|not an option It ...|                lever|   0.0|driver of a motor...|          ne|  failure to adapt ...|           0.0|                     0.0|                     0.0|                450.0|           resins|        surface dry and u...|      good, without def...|                              unencumbered|Daytime visibilit...|             good|  four lanes with d...|                     on the lane|                      no traffic contro...|                     no local regulation|                                         none or none of t...|    straight section|                        1.0|            outside the inter...|passenger car wit...|               Škoda|             1997.0|private not used ...|                 ano|   none of the above|               none of the above|                     there was no need...| vehicle moving - ...|                                   200.0|with a driving li...|good no adverse c...|     the driver was no...|outside the munic...|            NULL|           Highways|outside the village|\n",
      "| 60044184056.0|          Highways|2018-07-08| 530.0|collision with a ...|not an option It ...|                lever|   0.0|driver of a motor...|          ne|  the driver was no...|           0.0|                     0.0|                     0.0|                420.0|            beton|        surface dry and u...|      good, without def...|                              unencumbered|Daytime visibilit...|             good|  four lanes with d...|                 on the roadside|                      no traffic contro...|                     no local regulation|                                         none or none of t...|    straight section|                        1.0|            outside the inter...|passenger car wit...|                Ford|             2010.0|private not used ...|                  ne|   none of the above|               none of the above|                     there was no need...| moving vehicle - ...|                                   300.0|with a driving li...|                NULL|     the driver was no...|outside the munic...|            NULL|           Highways|outside the village|\n",
      "| 60044184057.0|          Highways|2018-07-10|2210.0|collision with fo...|not an option It ...| not an option not...|   0.0|forest game, dome...|not detected|  not caused by the...|           0.0|                     0.0|                     0.0|                640.0|            beton|        surface dry and u...|      good, without def...|                              unencumbered|at night without ...|             good|  four lanes with d...|                     on the lane|                      no traffic contro...|                     no local regulation|                                         none or none of t...|    straight section|                        1.0|            outside the inter...|passenger car wit...|            Mercedes|             2010.0|private organizat...|                  ne|   there was no fire|            there is a leak o...|                     there was no need...| moving vehicle - ...|                                   500.0|with a driving li...|good no adverse c...|     the driver was no...|outside the munic...|            NULL|           Highways|outside the village|\n",
      "| 60044184061.0|          Highways|2018-07-21| 460.0|collision with fo...|not an option It ...| not an option not...|   0.0|forest game, dome...|not detected|  not caused by the...|           0.0|                     0.0|                     0.0|                540.0|            beton|        surface dry and u...|      good, without def...|                              unencumbered|reduced visibilit...|             good|              two-lane|                     on the lane|                      no traffic contro...|                     no local regulation|                                         none or none of t...|    straight section|                        1.0|            outside the inter...|passenger car wit...|          Volkswagen|             2009.0|private organizat...|                  ne|   none of the above|               none of the above|                     there was no need...| vehicle moving - ...|                                   400.0|with a driving li...|good no adverse c...|     the driver was no...|outside the munic...|            NULL|           Highways|outside the village|\n",
      "| 60044184063.0|          Highways|2018-07-24|1155.0|collision with a ...|not an option It ...|                lever|   0.0|driver of a motor...|          ne|  the driver was no...|           0.0|                     0.0|                     0.0|               1300.0|            beton|        surface dry and u...|      good, without def...|                              unencumbered|Daytime visibilit...|             good|  four lanes with d...|                 on the roadside|                      no traffic contro...|                     no local regulation|                                         none or none of t...|    straight section|                        1.0|            outside the inter...|truck (including ...|               Iveco|             2014.0|private organizat...|                  ne|   there was no fire|               none of the above|                     there was no need...| moving vehicle - ...|                                   700.0|with a driving li...|                NULL|     the driver was no...|outside the munic...|            NULL|           Highways|outside the village|\n",
      "| 60044184066.0|          Highways|2018-07-31|2360.0|collision with fo...|not an option It ...| not an option not...|   0.0|forest game, dome...|not detected|  not caused by the...|           0.0|                     0.0|                     0.0|                100.0|           resins|        surface dry and u...|      good, without def...|                              unencumbered|at night without ...|             good|     none of the above|            on the turning la...|                      no traffic contro...|                     no local regulation|                                         none or none of t...|    straight section|                        1.0|            outside the inter...|passenger car wit...|               Škoda|             2011.0|private not used ...|                  ne|   there was no fire|               none of the above|                     there was no need...| vehicle moving - ...|                                   100.0|with a driving li...|good no adverse c...|     the driver was no...|outside the munic...|            NULL|           Highways|outside the village|\n",
      "| 60044184067.0|          Highways|2018-08-03| 260.0|collision with fo...|not an option It ...| not an option not...|   0.0|forest game, dome...|not detected|  not caused by the...|           0.0|                     0.0|                     0.0|                540.0|           resins|        surface dry and u...|      good, without def...|                              unencumbered|at night without ...|             good|  four lanes with d...|                     on the lane|                      no traffic contro...|                     no local regulation|                                         none or none of t...|straight section ...|                        1.0|            outside the inter...|passenger car wit...|               Škoda|             2016.0|private organizat...|                  ne|   there was no fire|               none of the above|                     there was no need...| moving vehicle - ...|                                   400.0|with a driving li...|good no adverse c...|     the driver was no...|outside the munic...|            NULL|           Highways|outside the village|\n",
      "| 60044184080.0|          Highways|2018-09-01|1714.0|collision with a ...|not an option It ...|                lever|   0.0|driver of a motor...|          ne|  Failure to adjust...|           0.0|                     0.0|                     0.0|                700.0|            beton|                 surface wet|      good, without def...|                                      Rain|reduced visibilit...|             good|  four lanes with d...|                 on the roadside|                      no traffic contro...|                     no local regulation|                                         none or none of t...|    straight section|                        1.0|            outside the inter...|passenger car wit...|              Suzuki|             2008.0|private not used ...|                 ano|   there was no fire|               none of the above|                     there was no need...| moving vehicle - ...|                                   400.0|with a driving li...|good no adverse c...|     the driver was no...|outside the munic...|            NULL|           Highways|outside the village|\n",
      "| 60044184083.0|          Highways|2018-09-06| 600.0|collision with a ...|not an option It ...|                lever|   0.0|driver of a motor...|not detected|  failure to contro...|           0.0|                     0.0|                     0.0|                300.0|            beton|        surface dry and u...|      good, without def...|                              unencumbered|reduced visibilit...|             good|  four lanes with d...|                 on the roadside|                      no traffic contro...|                     no local regulation|                                         none or none of t...|    straight section|                        1.0|            outside the inter...|undetected, drive...|Undetected, Drive...|               -1.0|undetected, drive...|undetected, drive...|undetected, drive...|            undetected, drive...|                     undetected, drive...| undetected, drive...|                                     0.0|undetected, drive...|undetected, drive...|     undetected, drive...|outside the munic...|            NULL|           Highways|outside the village|\n",
      "| 60044184118.0|     Class 1 roads|2018-12-12|  30.0|collision with a ...|not an option It ...|                lever|   0.0|driver of a motor...|    Rejected|  the driver was no...|           0.0|                     0.0|                     0.0|                400.0|            beton|                 surface wet|      good, without def...|                              unencumbered|at night without ...|             good|           expressways|                 on the roadside|                      no traffic contro...|                     no local regulation|                                         none or none of t...|    straight section|                        1.0|            outside the inter...|passenger car wit...|          Volkswagen|             2006.0|private not used ...|                  ne|   none of the above|               none of the above|                     there was no need...| vehicle moving - ...|                                   300.0|without a driving...|under the influen...|     the driver was no...|outside the munic...|            NULL|           Highways|outside the village|\n",
      "|150506180001.0|       local roads|2018-01-01|   5.0|collision with a ...|not an option It ...| not an option not...|   0.0|driver of a motor...|          ne|  the driver was no...|           0.0|                     0.0|                     0.0|                 50.0|           panely|                 surface wet|      good, without def...|                              unencumbered|at night without ...|             good|     none of the above|                     on the lane|                      no traffic contro...|                     no local regulation|                                         none or none of t...|straight section ...|                        2.0|            outside the inter...|other motor vehic...|                NULL|               -1.0|                NULL|                  ne|   none of the above|               none of the above|                     there was no need...| vehicle moving - ...|                                     0.0|with a driving li...|good no adverse c...|     the driver was no...|                Zlín|Nám.T.G.Masaryka|LocalCommunications|     in the village|\n",
      "|150506180002.0|       local roads|2018-01-01|2560.0|collision with a ...|not an option It ...| not an option not...|   0.0|driver of a motor...|not detected|  the driver was no...|           0.0|                     0.0|                     0.0|                100.0|           resins|                 surface wet|      good, without def...|                              unencumbered|at night with pub...|             good|              two-lane|                     on the lane|                      no traffic contro...|                     no local regulation|                                         none or none of t...|               curve|                        2.0|            outside the inter...|undetected, drive...|Undetected, Drive...|               -1.0|undetected, drive...|undetected, drive...|undetected, drive...|            undetected, drive...|                     undetected, drive...| undetected, drive...|                                     0.0|undetected, drive...|undetected, drive...|     undetected, drive...|                Zlín|        Podlesív|LocalCommunications|     in the village|\n",
      "+--------------+------------------+----------+------+--------------------+--------------------+---------------------+------+--------------------+------------+----------------------+--------------+------------------------+------------------------+---------------------+-----------------+----------------------------+--------------------------+------------------------------------------+--------------------+-----------------+----------------------+--------------------------------+------------------------------------------+----------------------------------------+-------------------------------------------------------------+--------------------+---------------------------+--------------------------------+--------------------+--------------------+-------------------+--------------------+--------------------+--------------------+--------------------------------+-----------------------------------------+---------------------+----------------------------------------+--------------------+--------------------+-------------------------+--------------------+----------------+-------------------+-------------------+\n",
      "only showing top 20 rows\n",
      "\n"
     ]
    }
   ],
   "execution_count": 14
  },
  {
   "metadata": {
    "ExecuteTime": {
     "end_time": "2024-11-26T01:45:46.184254Z",
     "start_time": "2024-11-26T01:45:43.965590Z"
    }
   },
   "cell_type": "code",
   "source": "df_accidents_filtered_crash_kind.describe('crash_kind').show()",
   "outputs": [
    {
     "name": "stderr",
     "output_type": "stream",
     "text": [
      "[Stage 27:>                                                         (0 + 8) / 8]\r"
     ]
    },
    {
     "name": "stdout",
     "output_type": "stream",
     "text": [
      "+-------+--------------------+\n",
      "|summary|          crash_kind|\n",
      "+-------+--------------------+\n",
      "|  count|              471684|\n",
      "|   mean|                NULL|\n",
      "| stddev|                NULL|\n",
      "|    min|not an option It ...|\n",
      "|    max|not an option It ...|\n",
      "+-------+--------------------+\n",
      "\n"
     ]
    },
    {
     "name": "stderr",
     "output_type": "stream",
     "text": [
      "                                                                                \r"
     ]
    }
   ],
   "execution_count": 15
  },
  {
   "metadata": {
    "ExecuteTime": {
     "end_time": "2024-11-26T01:45:48.970569Z",
     "start_time": "2024-11-26T01:45:48.829396Z"
    }
   },
   "cell_type": "code",
   "source": [
    "path_accidents_NCBMV = 'Road_accidents_in_the_Czech_Republic/transformações/accidents_NCBMV.csv'\n",
    "df_accidents_NCBMV = spark.read.csv(path_accidents_NCBMV, header=True, sep=',')"
   ],
   "outputs": [],
   "execution_count": 16
  },
  {
   "metadata": {
    "ExecuteTime": {
     "end_time": "2024-11-26T01:45:51.847170Z",
     "start_time": "2024-11-26T01:45:50.066398Z"
    }
   },
   "cell_type": "code",
   "source": "df_accidents_NCBMV.describe('crash_kind').show()",
   "outputs": [
    {
     "name": "stderr",
     "output_type": "stream",
     "text": [
      "[Stage 31:>                                                         (0 + 8) / 8]\r"
     ]
    },
    {
     "name": "stdout",
     "output_type": "stream",
     "text": [
      "+-------+--------------------+\n",
      "|summary|          crash_kind|\n",
      "+-------+--------------------+\n",
      "|  count|              471684|\n",
      "|   mean|                NULL|\n",
      "| stddev|                NULL|\n",
      "|    min|not an option It ...|\n",
      "|    max|not an option It ...|\n",
      "+-------+--------------------+\n",
      "\n"
     ]
    },
    {
     "name": "stderr",
     "output_type": "stream",
     "text": [
      "                                                                                \r"
     ]
    }
   ],
   "execution_count": 17
  },
  {
   "metadata": {
    "ExecuteTime": {
     "end_time": "2024-11-26T01:46:04.031225Z",
     "start_time": "2024-11-26T01:45:57.099855Z"
    }
   },
   "cell_type": "code",
   "source": [
    "# Comparar os dois DataFrames usando um inner join\n",
    "df_comparison = df_accidents_filtered_crash_kind.join(df_accidents_NCBMV, on=['crash_kind'], how='inner')\n",
    "\n",
    "# Ou, se você quiser comparar apenas a coluna 'alcohol', pode usar algo como:\n",
    "df_accidents_filtered_crash_kind_column = df_accidents_filtered_crash_kind.select('id','crash_kind')\n",
    "df_accidents_NCBMV_column = df_accidents_NCBMV.select('id','crash_kind')\n",
    "# Encontrar a diferença (valores únicos em cada DataFrame)\n",
    "df_difference = df_accidents_filtered_crash_kind_column.subtract(df_accidents_NCBMV_column)\n",
    "df_difference.count()"
   ],
   "outputs": [
    {
     "name": "stderr",
     "output_type": "stream",
     "text": [
      "                                                                                \r"
     ]
    },
    {
     "data": {
      "text/plain": [
       "0"
      ]
     },
     "execution_count": 18,
     "metadata": {},
     "output_type": "execute_result"
    }
   ],
   "execution_count": 18
  },
  {
   "metadata": {
    "ExecuteTime": {
     "end_time": "2024-11-26T01:46:13.475177Z",
     "start_time": "2024-11-26T01:46:13.238798Z"
    }
   },
   "cell_type": "code",
   "source": "df_accidents_NCBMV.show()",
   "outputs": [
    {
     "name": "stdout",
     "output_type": "stream",
     "text": [
      "+--------------+------------------+----------+------+--------------------+--------------------+---------------------+------+--------------------+------------+----------------------+--------------+------------------------+------------------------+---------------------+-----------------+----------------------------+--------------------------+------------------------------------------+--------------------+-----------------+----------------------+--------------------------------+------------------------------------------+----------------------------------------+-------------------------------------------------------------+--------------------+---------------------------+--------------------------------+--------------------+--------------------+-------------------+--------------------+--------------------+--------------------+--------------------------------+-----------------------------------------+---------------------+----------------------------------------+--------------------+--------------------+-------------------------+--------------------+----------------+-------------------+-------------------+\n",
      "|            id|communication_kind|      date|  time|       accident_kind|          crash_kind|fixed_precaution_kind|injury|   cause_of_accident|     alcohol|main_cause_of_accident|killed_persons|severely_injured_persons|slightly_injured_persons|total_material_damage|road_surface_type|condition_of_vehicle_surface|condition_of_communication|weather_conditions_at_the_time_of_accident|          visibility|visibility_ratios|communication_division|communication_accident_situation|traffic_control_at_the_time_of_an_accident|local_administration_priority_in_traffic|specific_location_and_objects_in_the_location_of_the_accident|   directional_rates|number_of_vehicles_involved|location_of_the_traffic_accident|        vehicle_type|       vehicle_brand|year_of_manufacture|       vehicle_owner|                skid|      vehicle_sequel|leakage_of_transported_materials|way_of_releasing_persons_from_the_vehicle|direction_of_movement|damage_to_the_vehicle(in_hundred_crowns)|     driver_category|    driver_condition|driver_external_influence|                city|          street|          road_type|           location|\n",
      "+--------------+------------------+----------+------+--------------------+--------------------+---------------------+------+--------------------+------------+----------------------+--------------+------------------------+------------------------+---------------------+-----------------+----------------------------+--------------------------+------------------------------------------+--------------------+-----------------+----------------------+--------------------------------+------------------------------------------+----------------------------------------+-------------------------------------------------------------+--------------------+---------------------------+--------------------------------+--------------------+--------------------+-------------------+--------------------+--------------------+--------------------+--------------------------------+-----------------------------------------+---------------------+----------------------------------------+--------------------+--------------------+-------------------------+--------------------+----------------+-------------------+-------------------+\n",
      "| 60044184001.0|          Highways|2018-01-01|1625.0|collision with fo...|not an option It ...| not an option not...|   0.0|forest game, dome...|not detected|  not caused by the...|           0.0|                     0.0|                     0.0|                940.0|            beton|        surface dry and u...|      good, without def...|                              unencumbered|reduced visibilit...|             good|  four lanes with d...|                     on the lane|                      no traffic contro...|                     no local regulation|                                         none or none of t...|    straight section|                        1.0|            outside the inter...|passenger car wit...|          Volkswagen|             2010.0|private not used ...|                  ne|   there was no fire|               none of the above|                     there was no need...| moving vehicle - ...|                                   800.0|with a driving li...|good no adverse c...|     the driver was no...|outside the munic...|            NULL|           Highways|outside the village|\n",
      "| 60044184009.0|          Highways|2018-02-02| 850.0|collision with a ...|not an option It ...|                lever|   0.0|driver of a motor...|          ne|  the driver was no...|           0.0|                     0.0|                     0.0|                700.0|           resins|                 surface wet|      good, without def...|                              unencumbered|Daytime visibilit...|             good|  four lanes with d...|                 on the roadside|                      no traffic contro...|                     no local regulation|                                         none or none of t...|straight section ...|                        1.0|            outside the inter...|passenger car wit...|             Peugeot|             2001.0|private not used ...|                 ano|   there was no fire|            there is a leak o...|                     there was no need...| moving vehicle - ...|                                   600.0|with a driving li...|good no adverse c...|     the driver was no...|outside the munic...|            NULL|           Highways|outside the village|\n",
      "| 60044184016.0|          Highways|2018-03-01|1959.0|collision with fo...|not an option It ...| not an option not...|   0.0|forest game, dome...|not detected|  not caused by the...|           0.0|                     0.0|                     0.0|                375.0|            beton|        surface dry and u...|      good, without def...|                              unencumbered|at night without ...|             good|  four lanes with d...|                     on the lane|                      no traffic contro...|                     no local regulation|                                         none or none of t...|    straight section|                        1.0|            outside the inter...|passenger car wit...|             Hyundai|             2015.0|private organizat...|                  ne|   there was no fire|               none of the above|                     there was no need...| moving vehicle - ...|                                   300.0|with a driving li...|good no adverse c...|     the driver was no...|outside the munic...|            NULL|           Highways|outside the village|\n",
      "| 60044184022.0|          Highways|2018-04-06|2560.0|collision with a ...|not an option It ...|                lever|   0.0|driver of a motor...|not detected|  the driver was no...|           0.0|                     0.0|                     0.0|                350.0|            beton|        surface dry and u...|      good, without def...|                              unencumbered|Daytime visibilit...|             good|           expressways|                 on the roadside|                      no traffic contro...|                     no local regulation|                                         none or none of t...|    straight section|                        1.0|            outside the inter...|undetected, drive...|Undetected, Drive...|               -1.0|undetected, drive...|undetected, drive...|undetected, drive...|            undetected, drive...|                     undetected, drive...| undetected, drive...|                                     0.0|undetected, drive...|undetected, drive...|     undetected, drive...|outside the munic...|            NULL|           Highways|outside the village|\n",
      "| 60044184025.0|          Highways|2018-04-18|2560.0|collision with a ...|not an option It ...|                lever|   0.0|driver of a motor...|not detected|  the driver was no...|           0.0|                     0.0|                     0.0|                360.0|            beton|        surface dry and u...|      good, without def...|                              unencumbered|Daytime visibilit...|             good|              two-lane|                     on the lane|                      no traffic contro...|                     no local regulation|                                         bridge, overpass,...|               curve|                        1.0|            outside the inter...|undetected, drive...|Undetected, Drive...|               -1.0|undetected, drive...|undetected, drive...|undetected, drive...|            undetected, drive...|                     undetected, drive...| undetected, drive...|                                     0.0|undetected, drive...|undetected, drive...|     undetected, drive...|outside the munic...|            NULL|           Highways|outside the village|\n",
      "| 60044184026.0|          Highways|2018-04-18|2560.0|collision with a ...|not an option It ...|                lever|   0.0|driver of a motor...|not detected|  the driver was no...|           0.0|                     0.0|                     0.0|                200.0|           resins|        surface dry and u...|      good, without def...|                              unencumbered|Daytime visibilit...|             good|  four lanes with d...|            on the turning la...|                      no traffic contro...|                     no local regulation|                                         none or none of t...|    straight section|                        1.0|            outside the inter...|undetected, drive...|Undetected, Drive...|               -1.0|undetected, drive...|undetected, drive...|undetected, drive...|            undetected, drive...|                     undetected, drive...| undetected, drive...|                                     0.0|undetected, drive...|undetected, drive...|     undetected, drive...|outside the munic...|            NULL|           Highways|outside the village|\n",
      "| 60044184027.0|          Highways|2018-04-20|2560.0|collision with a ...|not an option It ...|                lever|   0.0|driver of a motor...|not detected|  the driver was no...|           0.0|                     0.0|                     0.0|                360.0|           resins|        surface dry and u...|      good, without def...|                              unencumbered|Daytime visibilit...|             good|  four lanes with d...|                     on the lane|                      no traffic contro...|                     no local regulation|                                         none or none of t...|    straight section|                        1.0|            outside the inter...|undetected, drive...|Undetected, Drive...|               -1.0|undetected, drive...|undetected, drive...|undetected, drive...|            undetected, drive...|                     undetected, drive...| undetected, drive...|                                     0.0|undetected, drive...|undetected, drive...|     undetected, drive...|outside the munic...|            NULL|           Highways|outside the village|\n",
      "| 60044184031.0|          Highways|2018-04-27| 440.0|collision with fo...|not an option It ...| not an option not...|   0.0|forest game, dome...|not detected|  not caused by the...|           0.0|                     0.0|                     0.0|                350.0|            beton|        surface dry and u...|      good, without def...|                              unencumbered|at night without ...|             good|  four lanes with d...|                     on the lane|                      no traffic contro...|                     no local regulation|                                         none or none of t...|    straight section|                        1.0|            outside the inter...|truck (including ...|               Iveco|             2012.0|private organizat...|                  ne|   there was no fire|               none of the above|                     there was no need...| moving vehicle - ...|                                   200.0|with a driving li...|good no adverse c...|     the driver was no...|outside the munic...|            NULL|           Highways|outside the village|\n",
      "| 60044184043.0|          Highways|2018-05-25|1214.0|collision with a ...|not an option It ...|                lever|   0.0|driver of a motor...|          ne|  failure to adapt ...|           0.0|                     0.0|                     0.0|                450.0|           resins|        surface dry and u...|      good, without def...|                              unencumbered|Daytime visibilit...|             good|  four lanes with d...|                     on the lane|                      no traffic contro...|                     no local regulation|                                         none or none of t...|    straight section|                        1.0|            outside the inter...|passenger car wit...|               Škoda|             1997.0|private not used ...|                 ano|   none of the above|               none of the above|                     there was no need...| vehicle moving - ...|                                   200.0|with a driving li...|good no adverse c...|     the driver was no...|outside the munic...|            NULL|           Highways|outside the village|\n",
      "| 60044184056.0|          Highways|2018-07-08| 530.0|collision with a ...|not an option It ...|                lever|   0.0|driver of a motor...|          ne|  the driver was no...|           0.0|                     0.0|                     0.0|                420.0|            beton|        surface dry and u...|      good, without def...|                              unencumbered|Daytime visibilit...|             good|  four lanes with d...|                 on the roadside|                      no traffic contro...|                     no local regulation|                                         none or none of t...|    straight section|                        1.0|            outside the inter...|passenger car wit...|                Ford|             2010.0|private not used ...|                  ne|   none of the above|               none of the above|                     there was no need...| moving vehicle - ...|                                   300.0|with a driving li...|                NULL|     the driver was no...|outside the munic...|            NULL|           Highways|outside the village|\n",
      "| 60044184057.0|          Highways|2018-07-10|2210.0|collision with fo...|not an option It ...| not an option not...|   0.0|forest game, dome...|not detected|  not caused by the...|           0.0|                     0.0|                     0.0|                640.0|            beton|        surface dry and u...|      good, without def...|                              unencumbered|at night without ...|             good|  four lanes with d...|                     on the lane|                      no traffic contro...|                     no local regulation|                                         none or none of t...|    straight section|                        1.0|            outside the inter...|passenger car wit...|            Mercedes|             2010.0|private organizat...|                  ne|   there was no fire|            there is a leak o...|                     there was no need...| moving vehicle - ...|                                   500.0|with a driving li...|good no adverse c...|     the driver was no...|outside the munic...|            NULL|           Highways|outside the village|\n",
      "| 60044184061.0|          Highways|2018-07-21| 460.0|collision with fo...|not an option It ...| not an option not...|   0.0|forest game, dome...|not detected|  not caused by the...|           0.0|                     0.0|                     0.0|                540.0|            beton|        surface dry and u...|      good, without def...|                              unencumbered|reduced visibilit...|             good|              two-lane|                     on the lane|                      no traffic contro...|                     no local regulation|                                         none or none of t...|    straight section|                        1.0|            outside the inter...|passenger car wit...|          Volkswagen|             2009.0|private organizat...|                  ne|   none of the above|               none of the above|                     there was no need...| vehicle moving - ...|                                   400.0|with a driving li...|good no adverse c...|     the driver was no...|outside the munic...|            NULL|           Highways|outside the village|\n",
      "| 60044184063.0|          Highways|2018-07-24|1155.0|collision with a ...|not an option It ...|                lever|   0.0|driver of a motor...|          ne|  the driver was no...|           0.0|                     0.0|                     0.0|               1300.0|            beton|        surface dry and u...|      good, without def...|                              unencumbered|Daytime visibilit...|             good|  four lanes with d...|                 on the roadside|                      no traffic contro...|                     no local regulation|                                         none or none of t...|    straight section|                        1.0|            outside the inter...|truck (including ...|               Iveco|             2014.0|private organizat...|                  ne|   there was no fire|               none of the above|                     there was no need...| moving vehicle - ...|                                   700.0|with a driving li...|                NULL|     the driver was no...|outside the munic...|            NULL|           Highways|outside the village|\n",
      "| 60044184066.0|          Highways|2018-07-31|2360.0|collision with fo...|not an option It ...| not an option not...|   0.0|forest game, dome...|not detected|  not caused by the...|           0.0|                     0.0|                     0.0|                100.0|           resins|        surface dry and u...|      good, without def...|                              unencumbered|at night without ...|             good|     none of the above|            on the turning la...|                      no traffic contro...|                     no local regulation|                                         none or none of t...|    straight section|                        1.0|            outside the inter...|passenger car wit...|               Škoda|             2011.0|private not used ...|                  ne|   there was no fire|               none of the above|                     there was no need...| vehicle moving - ...|                                   100.0|with a driving li...|good no adverse c...|     the driver was no...|outside the munic...|            NULL|           Highways|outside the village|\n",
      "| 60044184067.0|          Highways|2018-08-03| 260.0|collision with fo...|not an option It ...| not an option not...|   0.0|forest game, dome...|not detected|  not caused by the...|           0.0|                     0.0|                     0.0|                540.0|           resins|        surface dry and u...|      good, without def...|                              unencumbered|at night without ...|             good|  four lanes with d...|                     on the lane|                      no traffic contro...|                     no local regulation|                                         none or none of t...|straight section ...|                        1.0|            outside the inter...|passenger car wit...|               Škoda|             2016.0|private organizat...|                  ne|   there was no fire|               none of the above|                     there was no need...| moving vehicle - ...|                                   400.0|with a driving li...|good no adverse c...|     the driver was no...|outside the munic...|            NULL|           Highways|outside the village|\n",
      "| 60044184080.0|          Highways|2018-09-01|1714.0|collision with a ...|not an option It ...|                lever|   0.0|driver of a motor...|          ne|  Failure to adjust...|           0.0|                     0.0|                     0.0|                700.0|            beton|                 surface wet|      good, without def...|                                      Rain|reduced visibilit...|             good|  four lanes with d...|                 on the roadside|                      no traffic contro...|                     no local regulation|                                         none or none of t...|    straight section|                        1.0|            outside the inter...|passenger car wit...|              Suzuki|             2008.0|private not used ...|                 ano|   there was no fire|               none of the above|                     there was no need...| moving vehicle - ...|                                   400.0|with a driving li...|good no adverse c...|     the driver was no...|outside the munic...|            NULL|           Highways|outside the village|\n",
      "| 60044184083.0|          Highways|2018-09-06| 600.0|collision with a ...|not an option It ...|                lever|   0.0|driver of a motor...|not detected|  failure to contro...|           0.0|                     0.0|                     0.0|                300.0|            beton|        surface dry and u...|      good, without def...|                              unencumbered|reduced visibilit...|             good|  four lanes with d...|                 on the roadside|                      no traffic contro...|                     no local regulation|                                         none or none of t...|    straight section|                        1.0|            outside the inter...|undetected, drive...|Undetected, Drive...|               -1.0|undetected, drive...|undetected, drive...|undetected, drive...|            undetected, drive...|                     undetected, drive...| undetected, drive...|                                     0.0|undetected, drive...|undetected, drive...|     undetected, drive...|outside the munic...|            NULL|           Highways|outside the village|\n",
      "| 60044184118.0|     Class 1 roads|2018-12-12|  30.0|collision with a ...|not an option It ...|                lever|   0.0|driver of a motor...|    Rejected|  the driver was no...|           0.0|                     0.0|                     0.0|                400.0|            beton|                 surface wet|      good, without def...|                              unencumbered|at night without ...|             good|           expressways|                 on the roadside|                      no traffic contro...|                     no local regulation|                                         none or none of t...|    straight section|                        1.0|            outside the inter...|passenger car wit...|          Volkswagen|             2006.0|private not used ...|                  ne|   none of the above|               none of the above|                     there was no need...| vehicle moving - ...|                                   300.0|without a driving...|under the influen...|     the driver was no...|outside the munic...|            NULL|           Highways|outside the village|\n",
      "|150506180001.0|       local roads|2018-01-01|   5.0|collision with a ...|not an option It ...| not an option not...|   0.0|driver of a motor...|          ne|  the driver was no...|           0.0|                     0.0|                     0.0|                 50.0|           panely|                 surface wet|      good, without def...|                              unencumbered|at night without ...|             good|     none of the above|                     on the lane|                      no traffic contro...|                     no local regulation|                                         none or none of t...|straight section ...|                        2.0|            outside the inter...|other motor vehic...|                NULL|               -1.0|                NULL|                  ne|   none of the above|               none of the above|                     there was no need...| vehicle moving - ...|                                     0.0|with a driving li...|good no adverse c...|     the driver was no...|                Zlín|Nám.T.G.Masaryka|LocalCommunications|     in the village|\n",
      "|150506180002.0|       local roads|2018-01-01|2560.0|collision with a ...|not an option It ...| not an option not...|   0.0|driver of a motor...|not detected|  the driver was no...|           0.0|                     0.0|                     0.0|                100.0|           resins|                 surface wet|      good, without def...|                              unencumbered|at night with pub...|             good|              two-lane|                     on the lane|                      no traffic contro...|                     no local regulation|                                         none or none of t...|               curve|                        2.0|            outside the inter...|undetected, drive...|Undetected, Drive...|               -1.0|undetected, drive...|undetected, drive...|undetected, drive...|            undetected, drive...|                     undetected, drive...| undetected, drive...|                                     0.0|undetected, drive...|undetected, drive...|     undetected, drive...|                Zlín|        Podlesív|LocalCommunications|     in the village|\n",
      "+--------------+------------------+----------+------+--------------------+--------------------+---------------------+------+--------------------+------------+----------------------+--------------+------------------------+------------------------+---------------------+-----------------+----------------------------+--------------------------+------------------------------------------+--------------------+-----------------+----------------------+--------------------------------+------------------------------------------+----------------------------------------+-------------------------------------------------------------+--------------------+---------------------------+--------------------------------+--------------------+--------------------+-------------------+--------------------+--------------------+--------------------+--------------------------------+-----------------------------------------+---------------------+----------------------------------------+--------------------+--------------------+-------------------------+--------------------+----------------+-------------------+-------------------+\n",
      "only showing top 20 rows\n",
      "\n"
     ]
    }
   ],
   "execution_count": 19
  },
  {
   "metadata": {
    "ExecuteTime": {
     "end_time": "2024-11-26T01:46:18.815216Z",
     "start_time": "2024-11-26T01:46:14.691033Z"
    }
   },
   "cell_type": "code",
   "source": [
    "df_difference2 = df_accidents_NCBMV_column.subtract(df_accidents_filtered_crash_kind_column)\n",
    "df_difference2.show(truncate=False)"
   ],
   "outputs": [
    {
     "name": "stderr",
     "output_type": "stream",
     "text": [
      "[Stage 43:=======>                                                  (1 + 7) / 8]\r"
     ]
    },
    {
     "name": "stdout",
     "output_type": "stream",
     "text": [
      "+---+----------+\n",
      "|id |crash_kind|\n",
      "+---+----------+\n",
      "+---+----------+\n",
      "\n"
     ]
    }
   ],
   "execution_count": 20
  },
  {
   "metadata": {
    "ExecuteTime": {
     "end_time": "2024-11-26T01:46:22.058211Z",
     "start_time": "2024-11-26T01:46:20.050939Z"
    }
   },
   "cell_type": "code",
   "source": [
    "print(\"Total de registros em df_accidents_filtered_crash_kind:\", df_accidents_filtered_crash_kind.count())\n",
    "print(\"Total de registros em df_accidents_NCBMV:\", df_accidents_NCBMV.count())"
   ],
   "outputs": [
    {
     "name": "stderr",
     "output_type": "stream",
     "text": [
      "                                                                                \r"
     ]
    },
    {
     "name": "stdout",
     "output_type": "stream",
     "text": [
      "Total de registros em df_accidents_filtered_crash_kind: 471684\n",
      "Total de registros em df_accidents_NCBMV: 471684\n"
     ]
    }
   ],
   "execution_count": 21
  },
  {
   "metadata": {},
   "cell_type": "markdown",
   "source": [
    "### 3. Considere o arquivo gerado no item 2 (accidents_NCBMV.csv), filtre pelo campo “accident_kind” os acidentes causados por animais da floresta. (collision with forest animals)\n",
    "+ Gere um arquivo chamado “accidents_CWFA.csv”."
   ]
  },
  {
   "metadata": {
    "ExecuteTime": {
     "end_time": "2024-11-26T01:46:24.424637Z",
     "start_time": "2024-11-26T01:46:24.271847Z"
    }
   },
   "cell_type": "code",
   "source": [
    "path_accidents_NCBMV_animals = 'Road_accidents_in_the_Czech_Republic/transformações/accidents_NCBMV.csv'\n",
    "df_accidents_NCBMV = spark.read.csv(path_accidents_NCBMV, header=True, sep=',')"
   ],
   "outputs": [],
   "execution_count": 22
  },
  {
   "metadata": {
    "ExecuteTime": {
     "end_time": "2024-11-26T01:46:28.016622Z",
     "start_time": "2024-11-26T01:46:25.667599Z"
    }
   },
   "cell_type": "code",
   "source": [
    "df_accidents_animals = df_accidents.filter(df_accidents.accident_kind == 'collision with forest animals')\n",
    "df_accidents_animals.describe('accident_kind').show()"
   ],
   "outputs": [
    {
     "name": "stderr",
     "output_type": "stream",
     "text": [
      "[Stage 54:>                                                         (0 + 8) / 8]\r"
     ]
    },
    {
     "name": "stdout",
     "output_type": "stream",
     "text": [
      "+-------+--------------------+\n",
      "|summary|       accident_kind|\n",
      "+-------+--------------------+\n",
      "|  count|               92632|\n",
      "|   mean|                NULL|\n",
      "| stddev|                NULL|\n",
      "|    min|collision with fo...|\n",
      "|    max|collision with fo...|\n",
      "+-------+--------------------+\n",
      "\n"
     ]
    },
    {
     "name": "stderr",
     "output_type": "stream",
     "text": [
      "                                                                                \r"
     ]
    }
   ],
   "execution_count": 23
  },
  {
   "metadata": {
    "ExecuteTime": {
     "end_time": "2024-11-26T01:46:31.543811Z",
     "start_time": "2024-11-26T01:46:29.841671Z"
    }
   },
   "cell_type": "code",
   "source": "df_accidents_NCBMV.describe('accident_kind').show()",
   "outputs": [
    {
     "name": "stderr",
     "output_type": "stream",
     "text": [
      "[Stage 57:>                                                         (0 + 8) / 8]\r"
     ]
    },
    {
     "name": "stdout",
     "output_type": "stream",
     "text": [
      "+-------+--------------------+\n",
      "|summary|       accident_kind|\n",
      "+-------+--------------------+\n",
      "|  count|              471684|\n",
      "|   mean|                NULL|\n",
      "| stddev|                NULL|\n",
      "|    min|another type of a...|\n",
      "|    max|             crashes|\n",
      "+-------+--------------------+\n",
      "\n"
     ]
    },
    {
     "name": "stderr",
     "output_type": "stream",
     "text": [
      "                                                                                \r"
     ]
    }
   ],
   "execution_count": 24
  },
  {
   "metadata": {
    "ExecuteTime": {
     "end_time": "2024-11-26T01:46:35.626008Z",
     "start_time": "2024-11-26T01:46:35.621319Z"
    }
   },
   "cell_type": "code",
   "source": "",
   "outputs": [],
   "execution_count": 24
  },
  {
   "metadata": {
    "ExecuteTime": {
     "end_time": "2024-11-26T01:47:05.104496Z",
     "start_time": "2024-11-26T01:46:59.526865Z"
    }
   },
   "cell_type": "code",
   "source": [
    "# Ou, se você quiser comparar apenas a coluna 'alcohol', pode usar algo como:\n",
    "df_accidents_animals_column = df_accidents_animals.select('id', 'accident_kind')\n",
    "df_accidents_NCBMV_column = df_accidents_NCBMV.select('id', 'accident_kind')\n",
    "# Encontrar a diferença (valores únicos em cada DataFrame)\n",
    "df_difference = df_accidents_animals_column.subtract(df_accidents_NCBMV_column)\n",
    "\n",
    "print(\"Total de registros em df_accidents_animals:\", df_accidents_animals.count())\n",
    "print(\"Total de registros em df_accidents_NCBMV:\", df_accidents_NCBMV.count())\n",
    "print(\"Total de registros que df_accidents_animals_column possui a mais:\", df_difference.count())"
   ],
   "outputs": [
    {
     "name": "stderr",
     "output_type": "stream",
     "text": [
      "                                                                                \r"
     ]
    },
    {
     "name": "stdout",
     "output_type": "stream",
     "text": [
      "Total de registros em df_accidents_animals: 92632\n",
      "Total de registros em df_accidents_NCBMV: 471684\n"
     ]
    },
    {
     "name": "stderr",
     "output_type": "stream",
     "text": [
      "[Stage 80:>                                                         (0 + 8) / 8]\r"
     ]
    },
    {
     "name": "stdout",
     "output_type": "stream",
     "text": [
      "Total de registros que df_accidents_animals_column possui a mais: 0\n"
     ]
    },
    {
     "name": "stderr",
     "output_type": "stream",
     "text": [
      "                                                                                \r"
     ]
    }
   ],
   "execution_count": 26
  },
  {
   "metadata": {},
   "cell_type": "markdown",
   "source": [
    "### 4. Filtre pela coluna “pedestrian_category.csv” no arquivo “pedestre.csv” os pedestres que estavam sob a influência de álcool.\n",
    "+ Gere um arquivo chamado “drunk_pedestrians.csv”"
   ]
  },
  {
   "metadata": {
    "ExecuteTime": {
     "end_time": "2024-11-26T01:47:08.737757Z",
     "start_time": "2024-11-26T01:47:08.463766Z"
    }
   },
   "cell_type": "code",
   "source": [
    "path_drunk_pedestrians = 'Road_accidents_in_the_Czech_Republic/transformações/drunk_pedestrians.csv'\n",
    "df_accidents_drunk_pedestrians = spark.read.csv(path_drunk_pedestrians, header=True, sep=',')\n",
    "# df_accidents_drunk_pedestrians.show(truncate=False)\n",
    "df_drunk_pedestrians_grp= df_accidents_drunk_pedestrians.groupBy('pedestrian_category').agg(count('*').alias('count'))\n",
    "df_drunk_pedestrians_grp.show(truncate=False)"
   ],
   "outputs": [
    {
     "name": "stdout",
     "output_type": "stream",
     "text": [
      "+----------------------+-----+\n",
      "|pedestrian_category   |count|\n",
      "+----------------------+-----+\n",
      "|man                   |1842 |\n",
      "|child (up to 15 years)|5    |\n",
      "|Woman                 |399  |\n",
      "|another group         |22   |\n",
      "+----------------------+-----+\n",
      "\n"
     ]
    }
   ],
   "execution_count": 27
  },
  {
   "metadata": {
    "ExecuteTime": {
     "end_time": "2024-11-26T01:47:09.922164Z",
     "start_time": "2024-11-26T01:47:09.821921Z"
    }
   },
   "cell_type": "code",
   "source": "df_pedestrians.show(truncate=False)",
   "outputs": [
    {
     "name": "stdout",
     "output_type": "stream",
     "text": [
      "+----------+----------+----------------------+-------------------------------------------------------------------------+---------------------------------------------------------+------------------------------------------------------------------------+\n",
      "|Unnamed: 0|id        |pedestrian_category   |pedestrian_condition                                                     |pedestrian_behaviour                                     |situation_at_the_point_of_accident                                      |\n",
      "+----------+----------+----------------------+-------------------------------------------------------------------------+---------------------------------------------------------+------------------------------------------------------------------------+\n",
      "|0         |2100180003|Woman                 |under the influence of alcohol with a blood alcohol content of 1‰ or more|sudden entry into the roadway from the sidewalk, shoulder|another situation                                                       |\n",
      "|1         |2100180007|Woman                 |good no adverse circumstances were found                                 |correct, appropriate                                     |crossing at a marked crossing                                           |\n",
      "|2         |2100180039|man                   |under the influence of alcohol with a blood alcohol content of 1‰ or more|sudden entry into the roadway from the sidewalk, shoulder|another situation                                                       |\n",
      "|3         |2100180047|man                   |inattention, distraction                                                 |sudden entry into the roadway from the sidewalk, shoulder|another situation                                                       |\n",
      "|4         |2100180051|Woman                 |good no adverse circumstances were found                                 |correct, appropriate                                     |crossing at a marked crossing                                           |\n",
      "|5         |2100180061|man                   |under the influence of drugs, narcotics                                  |poor estimation of the distance and speed of the vehicle |Crossing outside the crossing (20 metres or more from the crossing)     |\n",
      "|6         |2100180093|Woman                 |good no adverse circumstances were found                                 |correct, appropriate                                     |crossing at a marked crossing                                           |\n",
      "|7         |2100180094|another group         |not detected                                                             |NULL                                                     |another situation                                                       |\n",
      "|8         |2100180098|Woman                 |good no adverse circumstances were found                                 |correct, appropriate                                     |crossing at a marked crossing                                           |\n",
      "|9         |2100180147|child (up to 15 years)|inattention, distraction                                                 |sudden entry into the roadway from the sidewalk, shoulder|another situation                                                       |\n",
      "|10        |2100180189|Woman                 |good no adverse circumstances were found                                 |correct, appropriate                                     |pedestrian entering the roadway near the crosswalk (approx. within 20 m)|\n",
      "|11        |2100180265|man                   |good no adverse circumstances were found                                 |correct, appropriate                                     |pedestrian entry on the signal FREE                                     |\n",
      "|12        |2100180337|man                   |good no adverse circumstances were found                                 |sudden entry into the roadway from the sidewalk, shoulder|Crossing outside the crossing (20 metres or more from the crossing)     |\n",
      "|13        |2100180377|man                   |good no adverse circumstances were found                                 |correct, appropriate                                     |pedestrian entry on the signal FREE                                     |\n",
      "|14        |2100180378|child (up to 15 years)|good no adverse circumstances were found                                 |NULL                                                     |another situation                                                       |\n",
      "|15        |2100180444|Woman                 |good no adverse circumstances were found                                 |NULL                                                     |Crossing outside the crossing (20 metres or more from the crossing)     |\n",
      "|16        |2100180476|Woman                 |good no adverse circumstances were found                                 |correct, appropriate                                     |another situation                                                       |\n",
      "|17        |2100180502|another group         |not detected                                                             |NULL                                                     |another situation                                                       |\n",
      "|18        |2100180535|Woman                 |good no adverse circumstances were found                                 |correct, appropriate                                     |walking, standing on the pavement                                       |\n",
      "|19        |2100180540|man                   |inattention, distraction                                                 |sudden entry into the roadway from the sidewalk, shoulder|another situation                                                       |\n",
      "+----------+----------+----------------------+-------------------------------------------------------------------------+---------------------------------------------------------+------------------------------------------------------------------------+\n",
      "only showing top 20 rows\n",
      "\n"
     ]
    }
   ],
   "execution_count": 28
  },
  {
   "metadata": {},
   "cell_type": "markdown",
   "source": ""
  },
  {
   "metadata": {
    "ExecuteTime": {
     "end_time": "2024-11-26T01:47:11.779536Z",
     "start_time": "2024-11-26T01:47:11.606479Z"
    }
   },
   "cell_type": "code",
   "source": "df_pedestrians.groupBy('pedestrian_condition').agg(count('*').alias('count')).show(truncate=False)",
   "outputs": [
    {
     "name": "stdout",
     "output_type": "stream",
     "text": [
      "+---------------------------------------------------------------------------+-----+\n",
      "|pedestrian_condition                                                       |count|\n",
      "+---------------------------------------------------------------------------+-----+\n",
      "|not detected                                                               |2355 |\n",
      "|other condition not specified                                              |111  |\n",
      "|inattention, distraction                                                   |2738 |\n",
      "|suicide attempt, suicide                                                   |36   |\n",
      "|invalid                                                                    |70   |\n",
      "|good no adverse circumstances were found                                   |15181|\n",
      "|physical disability (illness, nausea, reduced mobility, etc.)              |134  |\n",
      "|under the influence of alcohol with a blood alcohol content of 1‰ or more  |1758 |\n",
      "|under the influence of drugs, narcotics                                    |52   |\n",
      "|under the influence of alcohol with a blood alcohol content of up to 0.99 ‰|510  |\n",
      "+---------------------------------------------------------------------------+-----+\n",
      "\n"
     ]
    }
   ],
   "execution_count": 29
  },
  {
   "metadata": {
    "ExecuteTime": {
     "end_time": "2024-11-26T01:47:18.816632Z",
     "start_time": "2024-11-26T01:47:18.724769Z"
    }
   },
   "cell_type": "code",
   "source": [
    "# prompt: preciso selecionar os registros do df_pedestrians que possuem como valor para o campo pedestrian_condition começando com a string under the influence of alcohol\n",
    "\n",
    "# Filtrar os pedestres que estavam sob a influência de álcool\n",
    "df_drunk_pedestrians = df_pedestrians.filter(df_pedestrians.pedestrian_condition.startswith('under the influence of alcohol'))\n",
    "\n",
    "# Mostrar o resultado\n",
    "df_drunk_pedestrians.show()\n",
    "\n",
    "# Salvar o resultado em um arquivo CSV (opcional)\n",
    "# path_drunk_pedestrians = '/content/drive/MyDrive/UEPB_Drive/2024.2/LEDA/Accidents_Czech/transformações/drunk_pedestrians.csv'\n",
    "# df_drunk_pedestrians.write.csv(path_drunk_pedestrians, header=True)"
   ],
   "outputs": [
    {
     "name": "stdout",
     "output_type": "stream",
     "text": [
      "+----------+----------+-------------------+--------------------+--------------------+----------------------------------+\n",
      "|Unnamed: 0|        id|pedestrian_category|pedestrian_condition|pedestrian_behaviour|situation_at_the_point_of_accident|\n",
      "+----------+----------+-------------------+--------------------+--------------------+----------------------------------+\n",
      "|         0|2100180003|              Woman|under the influen...|sudden entry into...|                 another situation|\n",
      "|         2|2100180039|                man|under the influen...|sudden entry into...|                 another situation|\n",
      "|        51|2100181282|                man|under the influen...|poor estimation o...|                 another situation|\n",
      "|        64|2100181445|              Woman|under the influen...|correct, appropriate|              crossing at a mar...|\n",
      "|        66|2100181510|                man|under the influen...|poor estimation o...|              Crossing outside ...|\n",
      "|        77|2100181889|                man|under the influen...|sudden entry into...|              pedestrian enteri...|\n",
      "|        78|2100181923|                man|under the influen...|confused, hasty, ...|                 another situation|\n",
      "|        82|2100182002|                man|under the influen...|sudden entry into...|              pedestrian enteri...|\n",
      "|        89|2100182180|                man|under the influen...|correct, appropriate|              Crossing outside ...|\n",
      "|        95|2100182322|                man|under the influen...|         Side impact|                 another situation|\n",
      "|       110|2100182664|                man|under the influen...|sudden entry into...|                 another situation|\n",
      "|       113|2100182748|                man|under the influen...|                NULL|                 another situation|\n",
      "|       114|2100182751|              Woman|under the influen...|                NULL|                 another situation|\n",
      "|       125|2100182984|                man|under the influen...|                NULL|              crossing at a mar...|\n",
      "|       144|2100183769|              Woman|under the influen...|poor estimation o...|              pedestrian enteri...|\n",
      "|       149|2100183943|                man|under the influen...|sudden entry into...|              crossing at a mar...|\n",
      "|       159|2100184292|                man|under the influen...|poor estimation o...|              Crossing outside ...|\n",
      "|       160|2100184374|                man|under the influen...|sudden entry into...|              pedestrian enteri...|\n",
      "|       186|2100185292|                man|under the influen...|confused, hasty, ...|                 another situation|\n",
      "|       204|2100185845|                man|under the influen...|sudden entry into...|                 another situation|\n",
      "+----------+----------+-------------------+--------------------+--------------------+----------------------------------+\n",
      "only showing top 20 rows\n",
      "\n"
     ]
    }
   ],
   "execution_count": 30
  },
  {
   "metadata": {
    "ExecuteTime": {
     "end_time": "2024-11-26T01:47:20.129718Z",
     "start_time": "2024-11-26T01:47:19.773195Z"
    }
   },
   "cell_type": "code",
   "source": [
    "# prompt: preciso comparar dois dataframes df_accidents_drunk_pedestrians e df_drunk_pedestrians mostrar as diferenças e imprimir o total de registros de cada um\n",
    "\n",
    "# Comparar os dois DataFrames usando um inner join\n",
    "df_comparison = df_accidents_drunk_pedestrians.join(df_drunk_pedestrians, on=['pedestrian_category'], how='inner')\n",
    "\n",
    "# Ou, se você quiser comparar apenas a coluna 'pedestrian_category', pode usar algo como:\n",
    "df_accidents_drunk_pedestrians_column = df_accidents_drunk_pedestrians.select('pedestrian_category')\n",
    "df_drunk_pedestrians_column = df_drunk_pedestrians.select('pedestrian_category')\n",
    "\n",
    "# Encontrar a diferença (valores únicos em cada DataFrame)\n",
    "df_difference = df_accidents_drunk_pedestrians_column.subtract(df_drunk_pedestrians_column)\n",
    "df_difference.show()\n",
    "\n",
    "print(\"Total de registros em df_accidents_drunk_pedestrians:\", df_accidents_drunk_pedestrians.count())\n",
    "print(\"Total de registros em df_drunk_pedestrians:\", df_drunk_pedestrians.count())"
   ],
   "outputs": [
    {
     "name": "stdout",
     "output_type": "stream",
     "text": [
      "+-------------------+\n",
      "|pedestrian_category|\n",
      "+-------------------+\n",
      "+-------------------+\n",
      "\n",
      "Total de registros em df_accidents_drunk_pedestrians: 2268\n",
      "Total de registros em df_drunk_pedestrians: 2268\n"
     ]
    }
   ],
   "execution_count": 31
  },
  {
   "metadata": {},
   "cell_type": "markdown",
   "source": [
    "## Ordenações\n",
    "+ Ordenar o arquivo pela data do acidente (campo date) em ordem decrescente, da data mais recente para a menos recente.\n",
    "+  Ordenar o arquivo accidents_NCBMV.csv pela coluna “time” (campo time) em ordem crescente, do menor para o maior.\n",
    "+ Ordenar o arquivo accidents_NCBMV.csv pelo tipo de comunicação (campo communication_kind), em ordem alfabética crescente."
   ]
  },
  {
   "metadata": {},
   "cell_type": "code",
   "source": "",
   "outputs": [],
   "execution_count": null
  }
 ],
 "metadata": {
  "language_info": {
   "name": "python"
  },
  "kernelspec": {
   "name": "python3",
   "language": "python",
   "display_name": "Python 3 (ipykernel)"
  }
 },
 "nbformat": 4,
 "nbformat_minor": 2
}
