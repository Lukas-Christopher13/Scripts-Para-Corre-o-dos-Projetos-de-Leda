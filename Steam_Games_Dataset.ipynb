{
 "cells": [
  {
   "cell_type": "code",
   "metadata": {},
   "source": [
    "import numpy as np # linear algebra\n",
    "import pandas as pd # data processing, CSV file I/O (e.g. pd.read_csv)\n",
    "import pathlib\n",
    "from datetime import datetime, date\n",
    "import pyarrow as pa\n"
   ],
   "outputs": [],
   "execution_count": null
  },
  {
   "metadata": {},
   "cell_type": "code",
   "source": [
    "import kagglehub\n",
    "\n",
    "# Download latest version\n",
    "path = kagglehub.dataset_download(\"fronkongames/steam-games-dataset\")\n",
    "\n",
    "print(\"Path to dataset files:\", path)"
   ],
   "outputs": [],
   "execution_count": null
  },
  {
   "cell_type": "code",
   "metadata": {},
   "source": "games_path = \"Steam_Games_Dataset/arquivo_base/games.csv\"",
   "outputs": [],
   "execution_count": null
  },
  {
   "cell_type": "markdown",
   "metadata": {},
   "source": [
    "1- Converta todas as datas de lançamento (campo Release date) para o formato DD/MM/AAAA. Gerar um arquivo chamado “games_formated_release_data.csv”"
   ]
  },
  {
   "cell_type": "code",
   "metadata": {},
   "source": [
    "colnames=['AppID','Name','Release date','Estimated owners','Peak CCU','Required age','Price','DiscountDLC count','About the game','Supported languages','Full audio languages','Reviews','Header image','Website','Support url','Support email','Windows','Mac','Linux','Metacritic score','Metacritic url','User score','Positive','Negative','Score rank','Achievements','Recommendations','Notes','Average playtime forever','Average playtime two weeks','Median playtime forever','Median playtime two weeks','Developers','Publishers','Categories','Genres','Tags','Screenshots','Movies'] \n",
    "# print(len(colnames))\n",
    "# games = pd.read_csv(games_path)\n",
    "games = pd.read_csv(games_path, sep=\",\", header=None, names=range(40), low_memory=False)\n",
    "games_games_datas_formatadas_path = \"Steam_Games_Dataset/transformações/games_formated_release_date.csv\"\n",
    "games_datas_formatadas = pd.read_csv(games_games_datas_formatadas_path, sep=\",\", header=None, names=range(40), low_memory=False)\n",
    "games_linux_aluno = pd.read_csv(\"Steam_Games_Dataset/transformações/games_linux.csv\", sep=\",\", header=None, names=range(40), low_memory=False)\n",
    "portugues_games_aluno = pd.read_csv(\"Steam_Games_Dataset/transformações/portuguese_supported_games.csv\", sep=\",\", header=None, names=range(40), low_memory=False)\n",
    "# games = pd.read_csv(games_path)\n"
   ],
   "outputs": [],
   "execution_count": null
  },
  {
   "metadata": {},
   "cell_type": "code",
   "source": [
    "res_dict = {}\n",
    "for i in range(0, len(colnames)):\n",
    "    res_dict[i] = colnames[i]\n",
    "print(res_dict)\n",
    "\n",
    "games.rename(columns=res_dict, inplace=True)\n",
    "games_datas_formatadas.rename(columns=res_dict, inplace=True)\n",
    "games_linux_aluno.rename(columns=res_dict, inplace=True)\n",
    "portugues_games_aluno.rename(columns=res_dict, inplace=True)\n",
    "\n",
    "games.drop(index=games.index[0], axis=0, inplace=True)\n",
    "games_datas_formatadas.drop(index=games_datas_formatadas.index[0], axis=0, inplace=True)\n",
    "games_linux_aluno.drop(index=games_linux_aluno.index[0], axis=0, inplace=True)\n",
    "portugues_games_aluno.drop(index=portugues_games_aluno.index[0], axis=0, inplace=True)\n",
    "\n",
    "games.drop('Movies', axis='columns', inplace=True)\n",
    "games_datas_formatadas.drop('Movies', axis='columns', inplace=True)\n",
    "games_linux_aluno.drop('Movies', axis='columns', inplace=True)\n",
    "portugues_games_aluno.drop('Movies', axis='columns', inplace=True)\n",
    "\n",
    "games.drop(39, axis='columns', inplace=True)\n",
    "games_datas_formatadas.drop(39, axis='columns', inplace=True)\n",
    "games_linux_aluno.drop(39, axis='columns', inplace=True)\n",
    "portugues_games_aluno.drop(39, axis='columns', inplace=True)"
   ],
   "outputs": [],
   "execution_count": null
  },
  {
   "metadata": {},
   "cell_type": "code",
   "source": "games_linux_aluno.head()",
   "outputs": [],
   "execution_count": null
  },
  {
   "metadata": {},
   "cell_type": "code",
   "source": [
    "games['Release date'] = pd.to_datetime(games['Release date'], format=\"%b %d, %Y\", errors=\"coerce\")\n",
    "games['Release date'] = pd.to_datetime(games['Release date'], format=\"%b %d\", errors=\"coerce\")\n",
    "games['Release date formatado'] = games['Release date'].dt.strftime('%d/%m/%Y')\n",
    "print(games['Release date formatado'])\n",
    "# pd.testing.assert_series_equal(games['Release date formatado'] , datas_formatadas_aluno, check_names=False)"
   ],
   "outputs": [],
   "execution_count": null
  },
  {
   "metadata": {},
   "cell_type": "code",
   "source": [
    "games_datas_formatadas['Release date'] = pd.to_datetime(games_datas_formatadas['Release date'], format=\"%d/%m/%Y\", errors=\"coerce\")\n",
    "games_datas_formatadas['Release date'] = games_datas_formatadas['Release date'].dt.strftime('%d/%m/%Y')\n",
    "print(games_datas_formatadas['Release date'])"
   ],
   "outputs": [],
   "execution_count": null
  },
  {
   "metadata": {},
   "cell_type": "code",
   "source": [
    "\n",
    "\n",
    "# df_formated_data = df_formated_data['data']\n",
    "print(f\"Datas vazias no df original: {games[\"Release date\"].isnull().sum()}\")\n",
    "print(f\"Datas vazias no df original formatado: {games[\"Release date formatado\"].isnull().sum()}\")\n",
    "print(f\"Datas vazias no df formatado: {games_datas_formatadas[\"Release date\"].isnull().sum()}\")\n"
   ],
   "outputs": [],
   "execution_count": null
  },
  {
   "metadata": {},
   "cell_type": "code",
   "source": [
    "index_values = range(1, len(games_datas_formatadas[\"Release date\"]))\n",
    "df_datas_formatadas_aluno = pd.Series(games_datas_formatadas[\"Release date\"], index=index_values)\n",
    "index_values = range(1, len(games[\"Release date\"]))\n",
    "df_datas_formatadas = pd.Series(games[\"Release date formatado\"], index=index_values)\n",
    "# print(df_datas_formatadas)\n",
    "pd.testing.assert_series_equal(df_datas_formatadas, df_datas_formatadas_aluno, check_names=False, check_index=False, check_dtype=False)"
   ],
   "outputs": [],
   "execution_count": null
  },
  {
   "cell_type": "markdown",
   "metadata": {},
   "source": [
    "2- Use o arquivo gerado na primeira transformação (games_formated_release_data.csv) para filtrar todos os games compatíveis com o sistema operacional linux. (campo Linux)"
   ]
  },
  {
   "cell_type": "code",
   "metadata": {},
   "source": [
    "# games_linux = games[games[\"Linux\"] == True]\n",
    "games_linux = games[games['Linux'] == 'True']\n",
    "# games_linux.drop('Release date formatado', axis='columns', inplace=True)\n",
    "# print(len(games_linux))\n",
    "\n",
    "# print(games_linux_aluno)\n",
    "print(f\"resultado: {len(games_linux)}\")\n",
    "print(f\"resultado do aluno: {len(games_linux_aluno)}\")"
   ],
   "outputs": [],
   "execution_count": null
  },
  {
   "cell_type": "markdown",
   "metadata": {},
   "source": [
    "3- Use o arquivo gerado na primeira transformação (games_formated_release_data.csv) para filtrar todos os games que tem suporte a língua portuguesa. (campo: Supported languages)"
   ]
  },
  {
   "metadata": {},
   "cell_type": "code",
   "source": "pd.testing.assert_series_equal(games_linux['AppID'], games_linux_aluno['AppID'], check_names=False, check_index=False, check_dtype=False)",
   "outputs": [],
   "execution_count": null
  },
  {
   "cell_type": "code",
   "metadata": {
    "ExecuteTime": {
     "end_time": "2024-11-26T18:06:34.620600Z",
     "start_time": "2024-11-26T18:06:34.538269Z"
    }
   },
   "source": [
    "element = 'Portuguese - Brazil'\n",
    "portugues_games = games[games[\"Full audio languages\"].apply(lambda x: 'Portuguese' in x)]\n",
    "\n",
    "print(f\"jogos em portugues: {len(portugues_games)}\")\n",
    "print(f\"jogos em portugues do aluno: {len(portugues_games_aluno)}\")\n"
   ],
   "outputs": [
    {
     "name": "stdout",
     "output_type": "stream",
     "text": [
      "jogos em portugues: 14134\n",
      "jogos em portugues do aluno: 14134\n"
     ]
    }
   ],
   "execution_count": 42
  },
  {
   "metadata": {
    "ExecuteTime": {
     "end_time": "2024-11-26T18:08:05.233565Z",
     "start_time": "2024-11-26T18:08:05.166120Z"
    }
   },
   "cell_type": "code",
   "source": "pd.testing.assert_series_equal(portugues_games[\"Full audio languages\"], portugues_games_aluno[\"Full audio languages\"], check_names=False, check_index=False, check_dtype=False)",
   "outputs": [],
   "execution_count": 44
  },
  {
   "metadata": {},
   "cell_type": "markdown",
   "source": "Comparação qualitativa"
  },
  {
   "metadata": {
    "ExecuteTime": {
     "end_time": "2024-11-26T18:08:13.519148Z",
     "start_time": "2024-11-26T18:08:13.508631Z"
    }
   },
   "cell_type": "code",
   "source": "portugues_games[\"Full audio languages\"]",
   "outputs": [
    {
     "data": {
      "text/plain": [
       "2        ['English', 'French', 'Italian', 'German', 'Sp...\n",
       "3                       ['English', 'Portuguese - Brazil']\n",
       "4        ['English', 'French', 'Italian', 'German', 'Sp...\n",
       "10       ['English', 'Polish', 'French', 'Italian', 'Ge...\n",
       "18       ['English', 'French', 'German', 'Spanish - Spa...\n",
       "                               ...                        \n",
       "97379    ['English', 'German', 'Japanese', 'Korean', 'P...\n",
       "97387    ['English', 'German', 'French', 'Italian', 'Sp...\n",
       "97392    ['English', 'French', 'Japanese', 'Korean', 'P...\n",
       "97403    ['English', 'Russian', 'Ukrainian', 'Spanish -...\n",
       "97407    ['English', 'French', 'Italian', 'German', 'Sp...\n",
       "Name: Full audio languages, Length: 14134, dtype: object"
      ]
     },
     "execution_count": 45,
     "metadata": {},
     "output_type": "execute_result"
    }
   ],
   "execution_count": 45
  },
  {
   "metadata": {
    "ExecuteTime": {
     "end_time": "2024-11-26T18:08:15.135202Z",
     "start_time": "2024-11-26T18:08:15.126510Z"
    }
   },
   "cell_type": "code",
   "source": "portugues_games_aluno[\"Full audio languages\"]",
   "outputs": [
    {
     "data": {
      "text/plain": [
       "1        ['English', 'French', 'Italian', 'German', 'Sp...\n",
       "2                       ['English', 'Portuguese - Brazil']\n",
       "3        ['English', 'French', 'Italian', 'German', 'Sp...\n",
       "4        ['English', 'Polish', 'French', 'Italian', 'Ge...\n",
       "5        ['English', 'French', 'German', 'Spanish - Spa...\n",
       "                               ...                        \n",
       "14130    ['English', 'German', 'Japanese', 'Korean', 'P...\n",
       "14131    ['English', 'German', 'French', 'Italian', 'Sp...\n",
       "14132    ['English', 'French', 'Japanese', 'Korean', 'P...\n",
       "14133    ['English', 'Russian', 'Ukrainian', 'Spanish -...\n",
       "14134    ['English', 'French', 'Italian', 'German', 'Sp...\n",
       "Name: Full audio languages, Length: 14134, dtype: object"
      ]
     },
     "execution_count": 46,
     "metadata": {},
     "output_type": "execute_result"
    }
   ],
   "execution_count": 46
  },
  {
   "metadata": {
    "ExecuteTime": {
     "end_time": "2024-11-26T18:08:16.786557Z",
     "start_time": "2024-11-26T18:08:16.774308Z"
    }
   },
   "cell_type": "code",
   "source": [
    "conjunto1 = set(portugues_games[\"Full audio languages\"])\n",
    "conjunto2 = set(portugues_games_aluno[\"Full audio languages\"])\n",
    "# Diferença simétrica (elementos exclusivos em ambas as séries)\n",
    "diferenca_simetrica = conjunto1.symmetric_difference(conjunto2)\n",
    "print(diferenca_simetrica)"
   ],
   "outputs": [
    {
     "name": "stdout",
     "output_type": "stream",
     "text": [
      "set()\n"
     ]
    }
   ],
   "execution_count": 47
  },
  {
   "metadata": {
    "ExecuteTime": {
     "end_time": "2024-11-26T18:08:17.776144Z",
     "start_time": "2024-11-26T18:08:17.770958Z"
    }
   },
   "cell_type": "code",
   "source": [
    "# Diferença (elementos exclusivos em s1)\n",
    "diferenca_s1 = conjunto1.difference(conjunto2)\n",
    "print(diferenca_s1)"
   ],
   "outputs": [
    {
     "name": "stdout",
     "output_type": "stream",
     "text": [
      "set()\n"
     ]
    }
   ],
   "execution_count": 48
  },
  {
   "metadata": {
    "ExecuteTime": {
     "end_time": "2024-11-26T18:08:19.421619Z",
     "start_time": "2024-11-26T18:08:19.415033Z"
    }
   },
   "cell_type": "code",
   "source": [
    "# Diferença (elementos exclusivos em s2)\n",
    "diferenca_s2 = conjunto2.difference(conjunto1)\n",
    "print(diferenca_s2)"
   ],
   "outputs": [
    {
     "name": "stdout",
     "output_type": "stream",
     "text": [
      "set()\n"
     ]
    }
   ],
   "execution_count": 49
  },
  {
   "metadata": {
    "ExecuteTime": {
     "end_time": "2024-11-26T18:08:21.138145Z",
     "start_time": "2024-11-26T18:08:21.120022Z"
    }
   },
   "cell_type": "code",
   "source": "portugues_games_aluno.head()",
   "outputs": [
    {
     "data": {
      "text/plain": [
       "     AppID                       Name  Release date Estimated owners Peak CCU  \\\n",
       "1   655370               Train Bandit  Oct 12, 2017        0 - 20000        0   \n",
       "2  1732930               Jolt Project  Nov 17, 2021        0 - 20000        0   \n",
       "3  1355720                   Henosis™  Jul 23, 2020        0 - 20000        0   \n",
       "4   320150  Deadlings: Rotten Edition  Nov 11, 2014   50000 - 100000        0   \n",
       "5   346560     Hero of the Kingdom II  Feb 20, 2015  100000 - 200000        5   \n",
       "\n",
       "  Required age Price DiscountDLC count About the game  \\\n",
       "1            0  0.99                 0              0   \n",
       "2            0  4.99                 0              0   \n",
       "3            0  5.99                 0              0   \n",
       "4            0  3.99                 0              0   \n",
       "5            0  7.99                 0              0   \n",
       "\n",
       "                                 Supported languages  ...  \\\n",
       "1  THE LAW!! Looks to be a showdown atop a train....  ...   \n",
       "2  Jolt Project: The army now has a new robotics ...  ...   \n",
       "3  HENOSIS™ is a mysterious 2D Platform Puzzler w...  ...   \n",
       "4  Death is lonely. He has zero friends on his Fa...  ...   \n",
       "5  Sail to the farthest islands to save your sist...  ...   \n",
       "\n",
       "  Average playtime forever Average playtime two weeks Median playtime forever  \\\n",
       "1                      NaN                          0                       0   \n",
       "2                      NaN                          0                       0   \n",
       "3                      NaN                          0                       0   \n",
       "4                      NaN                        703                       0   \n",
       "5                      NaN                        280                       0   \n",
       "\n",
       "  Median playtime two weeks Developers         Publishers         Categories  \\\n",
       "1                         0          0       Rusty Moyher       Wild Rooster   \n",
       "2                         0          0      Campião Games      Campião Games   \n",
       "3                         0          0  Odd Critter Games  Odd Critter Games   \n",
       "4                       782          0     ONE MORE LEVEL     ONE MORE LEVEL   \n",
       "5                       303          0      Lonely Troops      Lonely Troops   \n",
       "\n",
       "                                              Genres  \\\n",
       "1  Single-player,Steam Achievements,Full controll...   \n",
       "2                                      Single-player   \n",
       "3              Single-player,Full controller support   \n",
       "4  Single-player,Steam Achievements,Steam Trading...   \n",
       "5  Single-player,Steam Achievements,Steam Trading...   \n",
       "\n",
       "                              Tags  \\\n",
       "1                     Action,Indie   \n",
       "2  Action,Adventure,Indie,Strategy   \n",
       "3           Adventure,Casual,Indie   \n",
       "4           Action,Adventure,Indie   \n",
       "5       Adventure,Casual,Indie,RPG   \n",
       "\n",
       "                                         Screenshots  \n",
       "1  Indie,Action,Pixel Graphics,2D,Retro,Arcade,Sc...  \n",
       "2                                                NaN  \n",
       "3  2D Platformer,Atmospheric,Surreal,Mystery,Puzz...  \n",
       "4  Action,Indie,Adventure,Puzzle-Platformer,Arcad...  \n",
       "5  Adventure,Casual,Point & Click,RPG,Indie,Isome...  \n",
       "\n",
       "[5 rows x 38 columns]"
      ],
      "text/html": [
       "<div>\n",
       "<style scoped>\n",
       "    .dataframe tbody tr th:only-of-type {\n",
       "        vertical-align: middle;\n",
       "    }\n",
       "\n",
       "    .dataframe tbody tr th {\n",
       "        vertical-align: top;\n",
       "    }\n",
       "\n",
       "    .dataframe thead th {\n",
       "        text-align: right;\n",
       "    }\n",
       "</style>\n",
       "<table border=\"1\" class=\"dataframe\">\n",
       "  <thead>\n",
       "    <tr style=\"text-align: right;\">\n",
       "      <th></th>\n",
       "      <th>AppID</th>\n",
       "      <th>Name</th>\n",
       "      <th>Release date</th>\n",
       "      <th>Estimated owners</th>\n",
       "      <th>Peak CCU</th>\n",
       "      <th>Required age</th>\n",
       "      <th>Price</th>\n",
       "      <th>DiscountDLC count</th>\n",
       "      <th>About the game</th>\n",
       "      <th>Supported languages</th>\n",
       "      <th>...</th>\n",
       "      <th>Average playtime forever</th>\n",
       "      <th>Average playtime two weeks</th>\n",
       "      <th>Median playtime forever</th>\n",
       "      <th>Median playtime two weeks</th>\n",
       "      <th>Developers</th>\n",
       "      <th>Publishers</th>\n",
       "      <th>Categories</th>\n",
       "      <th>Genres</th>\n",
       "      <th>Tags</th>\n",
       "      <th>Screenshots</th>\n",
       "    </tr>\n",
       "  </thead>\n",
       "  <tbody>\n",
       "    <tr>\n",
       "      <th>1</th>\n",
       "      <td>655370</td>\n",
       "      <td>Train Bandit</td>\n",
       "      <td>Oct 12, 2017</td>\n",
       "      <td>0 - 20000</td>\n",
       "      <td>0</td>\n",
       "      <td>0</td>\n",
       "      <td>0.99</td>\n",
       "      <td>0</td>\n",
       "      <td>0</td>\n",
       "      <td>THE LAW!! Looks to be a showdown atop a train....</td>\n",
       "      <td>...</td>\n",
       "      <td>NaN</td>\n",
       "      <td>0</td>\n",
       "      <td>0</td>\n",
       "      <td>0</td>\n",
       "      <td>0</td>\n",
       "      <td>Rusty Moyher</td>\n",
       "      <td>Wild Rooster</td>\n",
       "      <td>Single-player,Steam Achievements,Full controll...</td>\n",
       "      <td>Action,Indie</td>\n",
       "      <td>Indie,Action,Pixel Graphics,2D,Retro,Arcade,Sc...</td>\n",
       "    </tr>\n",
       "    <tr>\n",
       "      <th>2</th>\n",
       "      <td>1732930</td>\n",
       "      <td>Jolt Project</td>\n",
       "      <td>Nov 17, 2021</td>\n",
       "      <td>0 - 20000</td>\n",
       "      <td>0</td>\n",
       "      <td>0</td>\n",
       "      <td>4.99</td>\n",
       "      <td>0</td>\n",
       "      <td>0</td>\n",
       "      <td>Jolt Project: The army now has a new robotics ...</td>\n",
       "      <td>...</td>\n",
       "      <td>NaN</td>\n",
       "      <td>0</td>\n",
       "      <td>0</td>\n",
       "      <td>0</td>\n",
       "      <td>0</td>\n",
       "      <td>Campião Games</td>\n",
       "      <td>Campião Games</td>\n",
       "      <td>Single-player</td>\n",
       "      <td>Action,Adventure,Indie,Strategy</td>\n",
       "      <td>NaN</td>\n",
       "    </tr>\n",
       "    <tr>\n",
       "      <th>3</th>\n",
       "      <td>1355720</td>\n",
       "      <td>Henosis™</td>\n",
       "      <td>Jul 23, 2020</td>\n",
       "      <td>0 - 20000</td>\n",
       "      <td>0</td>\n",
       "      <td>0</td>\n",
       "      <td>5.99</td>\n",
       "      <td>0</td>\n",
       "      <td>0</td>\n",
       "      <td>HENOSIS™ is a mysterious 2D Platform Puzzler w...</td>\n",
       "      <td>...</td>\n",
       "      <td>NaN</td>\n",
       "      <td>0</td>\n",
       "      <td>0</td>\n",
       "      <td>0</td>\n",
       "      <td>0</td>\n",
       "      <td>Odd Critter Games</td>\n",
       "      <td>Odd Critter Games</td>\n",
       "      <td>Single-player,Full controller support</td>\n",
       "      <td>Adventure,Casual,Indie</td>\n",
       "      <td>2D Platformer,Atmospheric,Surreal,Mystery,Puzz...</td>\n",
       "    </tr>\n",
       "    <tr>\n",
       "      <th>4</th>\n",
       "      <td>320150</td>\n",
       "      <td>Deadlings: Rotten Edition</td>\n",
       "      <td>Nov 11, 2014</td>\n",
       "      <td>50000 - 100000</td>\n",
       "      <td>0</td>\n",
       "      <td>0</td>\n",
       "      <td>3.99</td>\n",
       "      <td>0</td>\n",
       "      <td>0</td>\n",
       "      <td>Death is lonely. He has zero friends on his Fa...</td>\n",
       "      <td>...</td>\n",
       "      <td>NaN</td>\n",
       "      <td>703</td>\n",
       "      <td>0</td>\n",
       "      <td>782</td>\n",
       "      <td>0</td>\n",
       "      <td>ONE MORE LEVEL</td>\n",
       "      <td>ONE MORE LEVEL</td>\n",
       "      <td>Single-player,Steam Achievements,Steam Trading...</td>\n",
       "      <td>Action,Adventure,Indie</td>\n",
       "      <td>Action,Indie,Adventure,Puzzle-Platformer,Arcad...</td>\n",
       "    </tr>\n",
       "    <tr>\n",
       "      <th>5</th>\n",
       "      <td>346560</td>\n",
       "      <td>Hero of the Kingdom II</td>\n",
       "      <td>Feb 20, 2015</td>\n",
       "      <td>100000 - 200000</td>\n",
       "      <td>5</td>\n",
       "      <td>0</td>\n",
       "      <td>7.99</td>\n",
       "      <td>0</td>\n",
       "      <td>0</td>\n",
       "      <td>Sail to the farthest islands to save your sist...</td>\n",
       "      <td>...</td>\n",
       "      <td>NaN</td>\n",
       "      <td>280</td>\n",
       "      <td>0</td>\n",
       "      <td>303</td>\n",
       "      <td>0</td>\n",
       "      <td>Lonely Troops</td>\n",
       "      <td>Lonely Troops</td>\n",
       "      <td>Single-player,Steam Achievements,Steam Trading...</td>\n",
       "      <td>Adventure,Casual,Indie,RPG</td>\n",
       "      <td>Adventure,Casual,Point &amp; Click,RPG,Indie,Isome...</td>\n",
       "    </tr>\n",
       "  </tbody>\n",
       "</table>\n",
       "<p>5 rows × 38 columns</p>\n",
       "</div>"
      ]
     },
     "execution_count": 50,
     "metadata": {},
     "output_type": "execute_result"
    }
   ],
   "execution_count": 50
  },
  {
   "metadata": {
    "ExecuteTime": {
     "end_time": "2024-11-26T18:08:21.705314Z",
     "start_time": "2024-11-26T18:08:21.697908Z"
    }
   },
   "cell_type": "code",
   "source": "pd.testing.assert_series_equal(portugues_games.iloc[:, 0], portugues_games_aluno.iloc[:, 0], check_names=False, check_index=False, check_dtype=False)",
   "outputs": [],
   "execution_count": 51
  },
  {
   "metadata": {},
   "cell_type": "markdown",
   "source": "# Ordenações"
  },
  {
   "metadata": {},
   "cell_type": "code",
   "source": "games_datas_formatadas.head()",
   "outputs": [],
   "execution_count": null
  },
  {
   "metadata": {},
   "cell_type": "code",
   "source": "games_datas_formatadas.sort_values(\"Release date\", ascending=True, inplace=True)\n",
   "outputs": [],
   "execution_count": null
  },
  {
   "metadata": {},
   "cell_type": "code",
   "source": "",
   "outputs": [],
   "execution_count": null
  }
 ],
 "metadata": {
  "kernelspec": {
   "display_name": "Python 3",
   "language": "python",
   "name": "python3"
  },
  "language_info": {
   "codemirror_mode": {
    "name": "ipython",
    "version": 3
   },
   "file_extension": ".py",
   "mimetype": "text/x-python",
   "name": "python",
   "nbconvert_exporter": "python",
   "pygments_lexer": "ipython3",
   "version": "3.8.10"
  }
 },
 "nbformat": 4,
 "nbformat_minor": 2
}
