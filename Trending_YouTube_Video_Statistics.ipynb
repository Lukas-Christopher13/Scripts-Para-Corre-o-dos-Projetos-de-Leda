{
 "cells": [
  {
   "cell_type": "code",
   "execution_count": 7,
   "metadata": {},
   "outputs": [],
   "source": [
    "import pandas as pd\n",
    "import numpy as np\n"
   ]
  },
  {
   "cell_type": "code",
   "execution_count": 8,
   "metadata": {},
   "outputs": [],
   "source": [
    "diretorio_base = \"Trending_YouTube_Video_Statistics/arquivo_base/\"\n",
    "\n"
   ]
  },
  {
   "cell_type": "code",
   "execution_count": 54,
   "metadata": {},
   "outputs": [],
   "source": [
    "arquivos = [\"GBvideos.csv\", \"CAvideos.csv\", \"MXvideos.csv\", \"INvideos.csv\",\"DEvideos.csv\", \"RUvideos.csv\", \"JPvideos.csv\", \"FRvideos.csv\",\"USvideos.csv\", \"KRvideos.csv\"]\n",
    "codigosPaises = [\"GB\", \"CA\", \"MX\", \"IN\", \"DE\", \"RU\", \"JP\", \"FR\", \"US\", \"KR\"]\n",
    "\n",
    "dataframes = []\n",
    "\n",
    "\n",
    "for arquivo, codigo in zip(arquivos, codigosPaises):\n",
    "    df_ = pd.read_csv(diretorio_base + arquivo, encoding='ISO-8859-1')\n",
    "    df_['codigo_pais'] = codigo\n",
    "    dataframes.append(df_)\n",
    "\n",
    "df_concatenado = pd.concat(dataframes, ignore_index=True)\n",
    "\n",
    "#df_concatenado.to_csv('Trending_YouTube_Video_Statistics/transformações/meu_videos.csv', index=False)"
   ]
  },
  {
   "cell_type": "markdown",
   "metadata": {},
   "source": [
    "1. Crie um arquivo chamado “videos.csv” juntando todos os arquivos que possuem a extensão “.csv”. O arquivo “videos.csv” deve ter uma coluna “countries”, referente ao país em que o vídeo foi publicado. ( no caso, EUA, GB, DE, CA, FR, RU, MX, KR e JP)"
   ]
  },
  {
   "cell_type": "code",
   "execution_count": 10,
   "metadata": {},
   "outputs": [
    {
     "name": "stdout",
     "output_type": "stream",
     "text": [
      "Tamanho do arquivo: 6391014\n",
      "Tamanho do arquivo do aluno: 6391014\n"
     ]
    }
   ],
   "source": [
    "videos_csv_path = \"Trending_YouTube_Video_Statistics/transformações/videos.csv\"\n",
    "videos_csv = pd.read_csv(videos_csv_path, low_memory=False)\n",
    "\n",
    "print(f\"Tamanho do arquivo: {df_concatenado.size}\")\n",
    "print(f\"Tamanho do arquivo do aluno: {videos_csv.size}\")"
   ]
  },
  {
   "cell_type": "markdown",
   "metadata": {},
   "source": [
    "3. Utilize os arquivos “.json” para filtrar os vídeos do arquivo “videos_T1.csv” cuja o campo “title” dos objetos json sejam “Trailers”, “Shows\" e \"Shorts\"."
   ]
  },
  {
   "cell_type": "code",
   "execution_count": 38,
   "metadata": {},
   "outputs": [
    {
     "name": "stdout",
     "output_type": "stream",
     "text": [
      "Numero de trailers, shows e shorts que ficaram em alta: 16643\n",
      "Numero de trailers, shows e shorts que ficaram em alta do aluno: 6391014\n"
     ]
    }
   ],
   "source": [
    "# Definir os valores de category_id\n",
    "trailer_id = 44\n",
    "shows_id = 43\n",
    "shorts_id = 42\n",
    "\n",
    "# Filtrar o DataFrame pelos valores de category_id\n",
    "valores_categoria = [trailer_id, shows_id, shorts_id]\n",
    "df_filtrado = df_concatenado[df_concatenado['category_id'].isin(valores_categoria)]\n",
    "\n",
    "df_filtrado.to_csv('Trending_YouTube_Video_Statistics/transformações/filtrado_por_categorias.csv', index=False)\n",
    "\n",
    "videos_TSS_path = \"Trending_YouTube_Video_Statistics/transformações/videos_TSS.csv\"\n",
    "videos_TSS = pd.read_csv(videos_csv_path , low_memory=False)\n",
    "\n",
    "print(f\"Numero de trailers, shows e shorts que ficaram em alta: {df_filtrado.size}\")\n",
    "print(f\"Numero de trailers, shows e shorts que ficaram em alta do aluno: {videos_TSS.size}\")\n"
   ]
  },
  {
   "cell_type": "markdown",
   "metadata": {},
   "source": [
    "4. Filtre todos os vídeos do arquivo “videos_T1.csv” em que os números de “dislikes” são maiores que os números de “likes”."
   ]
  },
  {
   "cell_type": "code",
   "execution_count": 55,
   "metadata": {},
   "outputs": [
    {
     "name": "stdout",
     "output_type": "stream",
     "text": [
      "videos odiados dos: 117062\n",
      "videos odiados dos alunos: 6391014\n"
     ]
    }
   ],
   "source": [
    "videos_dislikes = df_concatenado[df_concatenado['likes'] < df_concatenado['dislikes']]\n",
    "\n",
    "videos_T2_path = 'Trending_YouTube_Video_Statistics/transformações/videos_T2.csv'\n",
    "videos_T2 = pd.read_csv(videos_csv_path, low_memory=False)\n",
    "\n",
    "print(f\"videos odiados dos: {videos_dislikes.size}\")\n",
    "print(f\"videos odiados dos alunos: {videos_T2.size}\")\n",
    "\n"
   ]
  }
 ],
 "metadata": {
  "kernelspec": {
   "display_name": "Python 3",
   "language": "python",
   "name": "python3"
  },
  "language_info": {
   "codemirror_mode": {
    "name": "ipython",
    "version": 3
   },
   "file_extension": ".py",
   "mimetype": "text/x-python",
   "name": "python",
   "nbconvert_exporter": "python",
   "pygments_lexer": "ipython3",
   "version": "3.8.10"
  }
 },
 "nbformat": 4,
 "nbformat_minor": 2
}
