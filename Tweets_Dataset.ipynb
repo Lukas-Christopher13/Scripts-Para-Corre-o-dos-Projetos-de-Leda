{
 "cells": [
  {
   "cell_type": "code",
   "execution_count": 2,
   "metadata": {},
   "outputs": [],
   "source": [
    "import pandas as pd\n",
    "import numpy as np"
   ]
  },
  {
   "cell_type": "code",
   "execution_count": 3,
   "metadata": {},
   "outputs": [],
   "source": [
    "tweets = \"/home/lukas/leda/Scripts-Para-Corre-o-dos-Projetos-de-Leda/Tweets_Dataset/arquivo_base/tweets.csv\"\n",
    "tweets_formated_data = \"/home/lukas/leda/Scripts-Para-Corre-o-dos-Projetos-de-Leda/Tweets_Dataset/transformacoes/tweets_mentioned_persons.csv\""
   ]
  },
  {
   "cell_type": "markdown",
   "metadata": {},
   "source": [
    "2- A partir da primeira transformação (tweets_formated_data.csv) crie duas novas colunas, “mentioned_person” e “mentioned_person_count”. Para a coluna “mentioned_person” você deve filtrar menções a outros usuários no campo Text\n",
    "dos tweets e adicionar o nome desse usuários a coluna “mentioned_person”. Para a coluna “mentioned_person_count”, adicione o número de usuários mencionados (é possível identificar tweets que mencionam outros usuários pelo character “@”)."
   ]
  },
  {
   "cell_type": "code",
   "execution_count": 4,
   "metadata": {},
   "outputs": [
    {
     "name": "stdout",
     "output_type": "stream",
     "text": [
      "Falha ao carregar com a codificação: utf-8\n",
      "Arquivo carregado com sucesso usando a codificação: latin1\n"
     ]
    }
   ],
   "source": [
    "\n",
    "\n",
    "encodings = ['utf-8', 'latin1', 'iso-8859-1', 'cp1252']\n",
    "\n",
    "for encoding in encodings:\n",
    "    try:\n",
    "        my_tweets = pd.read_csv(tweets, low_memory=False, encoding=encoding)\n",
    "        print(f\"Arquivo carregado com sucesso usando a codificação: {encoding}\")\n",
    "        break\n",
    "    except UnicodeDecodeError:\n",
    "        print(f\"Falha ao carregar com a codificação: {encoding}\")\n",
    "\n",
    "\n",
    "my_tweets = my_tweets['At_Count'] = my_tweets['Text'].apply(lambda x: str(x).count('@'))\n",
    "\n",
    "my_result = my_tweets['At_Count'].sum()\n",
    "\n",
    "\n",
    "print(my_result)"
   ]
  }
 ],
 "metadata": {
  "kernelspec": {
   "display_name": "Python 3",
   "language": "python",
   "name": "python3"
  },
  "language_info": {
   "codemirror_mode": {
    "name": "ipython",
    "version": 3
   },
   "file_extension": ".py",
   "mimetype": "text/x-python",
   "name": "python",
   "nbconvert_exporter": "python",
   "pygments_lexer": "ipython3",
   "version": "3.8.10"
  }
 },
 "nbformat": 4,
 "nbformat_minor": 2
}
