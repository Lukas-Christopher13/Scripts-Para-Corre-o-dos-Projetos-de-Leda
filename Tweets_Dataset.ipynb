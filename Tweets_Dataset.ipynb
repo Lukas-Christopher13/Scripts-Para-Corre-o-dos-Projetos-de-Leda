{
 "cells": [
  {
   "cell_type": "code",
   "metadata": {
    "ExecuteTime": {
     "end_time": "2024-10-30T11:02:59.069247Z",
     "start_time": "2024-10-30T11:02:57.669829Z"
    }
   },
   "source": [
    "import pandas as pd\n",
    "import numpy as np"
   ],
   "outputs": [],
   "execution_count": 1
  },
  {
   "cell_type": "code",
   "metadata": {
    "ExecuteTime": {
     "end_time": "2024-10-30T11:02:59.074899Z",
     "start_time": "2024-10-30T11:02:59.071904Z"
    }
   },
   "source": [
    "tweets = \"Tweets_Dataset/arquivo_base/tweets.csv\"\n",
    "tweets_formated_date = \"Tweets_Dataset/transformacoes/tweets_formatted_date.csv\"\n",
    "tweets_mentioned_persons = \"Tweets_Dataset/transformacoes/tweets_mentioned_persons.csv\""
   ],
   "outputs": [],
   "execution_count": 2
  },
  {
   "metadata": {
    "ExecuteTime": {
     "end_time": "2024-10-30T11:03:25.856132Z",
     "start_time": "2024-10-30T11:03:18.840611Z"
    }
   },
   "cell_type": "code",
   "source": [
    "df_tweets = pd.read_csv(tweets, low_memory=False, encoding='latin1')\n",
    "df_tweets_formated = pd.read_csv(tweets_formated_date, low_memory=False, encoding='latin1')\n",
    "df_tweets_mentioned = pd.read_csv(tweets_mentioned_persons, low_memory=False, encoding='latin1')"
   ],
   "outputs": [],
   "execution_count": 3
  },
  {
   "metadata": {
    "ExecuteTime": {
     "end_time": "2024-10-30T11:03:30.157280Z",
     "start_time": "2024-10-30T11:03:29.821773Z"
    }
   },
   "cell_type": "code",
   "source": "df_tweets.info()",
   "outputs": [
    {
     "name": "stdout",
     "output_type": "stream",
     "text": [
      "<class 'pandas.core.frame.DataFrame'>\n",
      "RangeIndex: 1048575 entries, 0 to 1048574\n",
      "Data columns (total 6 columns):\n",
      " #   Column  Non-Null Count    Dtype \n",
      "---  ------  --------------    ----- \n",
      " 0   Target  1048575 non-null  int64 \n",
      " 1   ID      1048575 non-null  int64 \n",
      " 2   Date    1048575 non-null  object\n",
      " 3   flag    1048575 non-null  object\n",
      " 4   User    1048575 non-null  object\n",
      " 5   Text    1048575 non-null  object\n",
      "dtypes: int64(2), object(4)\n",
      "memory usage: 48.0+ MB\n"
     ]
    }
   ],
   "execution_count": 4
  },
  {
   "metadata": {},
   "cell_type": "markdown",
   "source": "# Verificar transformação das datas no campos de datas para DD/MM/AAAA"
  },
  {
   "metadata": {
    "ExecuteTime": {
     "end_time": "2024-10-30T11:03:49.543985Z",
     "start_time": "2024-10-30T11:03:49.059677Z"
    }
   },
   "cell_type": "code",
   "source": [
    "df_datas_formatadas_origem = df_tweets['Date']\n",
    "datas_formatadas_aluno = df_tweets_formated['Date']\n",
    "# df_formated_data = df_formated_data['data']\n",
    "print(f\"Datas vazias no df original: {df_datas_formatadas_origem.isnull().sum()}\")\n",
    "print(f\"Datas vazias no df formatado: {datas_formatadas_aluno.isnull().sum()}\")\n",
    "# df_formated_data['data_formatada'] = pd.to_datetime(datas_formatadas_aluno, format=\"%d/%m/%Y\", errors='raise')\n",
    "\n",
    "pd.testing.assert_series_equal(df_datas_formatadas_origem, datas_formatadas_aluno, check_names=False)"
   ],
   "outputs": [
    {
     "name": "stdout",
     "output_type": "stream",
     "text": [
      "Datas vazias no df original: 0\n",
      "Datas vazias no df formatado: 0\n"
     ]
    },
    {
     "ename": "AssertionError",
     "evalue": "Series are different\n\nSeries length are different\n[left]:  1048575, RangeIndex(start=0, stop=1048575, step=1)\n[right]: 524795, RangeIndex(start=0, stop=524795, step=1)",
     "output_type": "error",
     "traceback": [
      "\u001B[0;31m---------------------------------------------------------------------------\u001B[0m",
      "\u001B[0;31mAssertionError\u001B[0m                            Traceback (most recent call last)",
      "Cell \u001B[0;32mIn[5], line 8\u001B[0m\n\u001B[1;32m      5\u001B[0m \u001B[38;5;28mprint\u001B[39m(\u001B[38;5;124mf\u001B[39m\u001B[38;5;124m\"\u001B[39m\u001B[38;5;124mDatas vazias no df formatado: \u001B[39m\u001B[38;5;132;01m{\u001B[39;00mdatas_formatadas_aluno\u001B[38;5;241m.\u001B[39misnull()\u001B[38;5;241m.\u001B[39msum()\u001B[38;5;132;01m}\u001B[39;00m\u001B[38;5;124m\"\u001B[39m)\n\u001B[1;32m      6\u001B[0m \u001B[38;5;66;03m# df_formated_data['data_formatada'] = pd.to_datetime(datas_formatadas_aluno, format=\"%d/%m/%Y\", errors='raise')\u001B[39;00m\n\u001B[0;32m----> 8\u001B[0m \u001B[43mpd\u001B[49m\u001B[38;5;241;43m.\u001B[39;49m\u001B[43mtesting\u001B[49m\u001B[38;5;241;43m.\u001B[39;49m\u001B[43massert_series_equal\u001B[49m\u001B[43m(\u001B[49m\u001B[43mdf_datas_formatadas_origem\u001B[49m\u001B[43m,\u001B[49m\u001B[43m \u001B[49m\u001B[43mdatas_formatadas_aluno\u001B[49m\u001B[43m,\u001B[49m\u001B[43m \u001B[49m\u001B[43mcheck_names\u001B[49m\u001B[38;5;241;43m=\u001B[39;49m\u001B[38;5;28;43;01mFalse\u001B[39;49;00m\u001B[43m)\u001B[49m\n",
      "    \u001B[0;31m[... skipping hidden 1 frame]\u001B[0m\n",
      "File \u001B[0;32m~/PycharmProjects/sefaz-clickhouse_new/.venv/lib/python3.12/site-packages/pandas/_testing/asserters.py:614\u001B[0m, in \u001B[0;36mraise_assert_detail\u001B[0;34m(obj, message, left, right, diff, first_diff, index_values)\u001B[0m\n\u001B[1;32m    611\u001B[0m \u001B[38;5;28;01mif\u001B[39;00m first_diff \u001B[38;5;129;01mis\u001B[39;00m \u001B[38;5;129;01mnot\u001B[39;00m \u001B[38;5;28;01mNone\u001B[39;00m:\n\u001B[1;32m    612\u001B[0m     msg \u001B[38;5;241m+\u001B[39m\u001B[38;5;241m=\u001B[39m \u001B[38;5;124mf\u001B[39m\u001B[38;5;124m\"\u001B[39m\u001B[38;5;130;01m\\n\u001B[39;00m\u001B[38;5;132;01m{\u001B[39;00mfirst_diff\u001B[38;5;132;01m}\u001B[39;00m\u001B[38;5;124m\"\u001B[39m\n\u001B[0;32m--> 614\u001B[0m \u001B[38;5;28;01mraise\u001B[39;00m \u001B[38;5;167;01mAssertionError\u001B[39;00m(msg)\n",
      "\u001B[0;31mAssertionError\u001B[0m: Series are different\n\nSeries length are different\n[left]:  1048575, RangeIndex(start=0, stop=1048575, step=1)\n[right]: 524795, RangeIndex(start=0, stop=524795, step=1)"
     ]
    }
   ],
   "execution_count": 5
  },
  {
   "metadata": {
    "ExecuteTime": {
     "end_time": "2024-10-30T11:09:33.167236Z",
     "start_time": "2024-10-30T11:09:33.085277Z"
    }
   },
   "cell_type": "code",
   "source": "datas_formatadas_aluno.info()",
   "outputs": [
    {
     "name": "stdout",
     "output_type": "stream",
     "text": [
      "<class 'pandas.core.series.Series'>\n",
      "RangeIndex: 524795 entries, 0 to 524794\n",
      "Series name: Date\n",
      "Non-Null Count   Dtype \n",
      "--------------   ----- \n",
      "524795 non-null  object\n",
      "dtypes: object(1)\n",
      "memory usage: 4.0+ MB\n"
     ]
    }
   ],
   "execution_count": 9
  },
  {
   "metadata": {
    "ExecuteTime": {
     "end_time": "2024-10-30T11:09:50.073803Z",
     "start_time": "2024-10-30T11:09:50.033604Z"
    }
   },
   "cell_type": "code",
   "source": "",
   "outputs": [
    {
     "data": {
      "text/plain": [
       "0          06/04/2009\n",
       "1          06/04/2009\n",
       "2          06/04/2009\n",
       "3          06/04/2009\n",
       "4          06/04/2009\n",
       "              ...    \n",
       "1048570    29/05/2009\n",
       "1048571    29/05/2009\n",
       "1048572    29/05/2009\n",
       "1048573    29/05/2009\n",
       "1048574    29/05/2009\n",
       "Name: data_formatada, Length: 1048575, dtype: object"
      ]
     },
     "execution_count": 10,
     "metadata": {},
     "output_type": "execute_result"
    }
   ],
   "execution_count": 10
  },
  {
   "metadata": {
    "ExecuteTime": {
     "end_time": "2024-10-30T11:09:11.299026Z",
     "start_time": "2024-10-30T11:09:05.019791Z"
    }
   },
   "cell_type": "code",
   "source": [
    "df_tweets['Date'] = pd.to_datetime(df_tweets['Date'], format='%a %b %d %H:%M:%S %Z %Y')\n",
    "df_tweets['data_formatada'] = df_tweets['Date'].dt.strftime('%d/%m/%Y')\n",
    "pd.testing.assert_series_equal(df_tweets['data_formatada'] , datas_formatadas_aluno, check_names=False)"
   ],
   "outputs": [
    {
     "ename": "AssertionError",
     "evalue": "Series are different\n\nSeries length are different\n[left]:  1048575, RangeIndex(start=0, stop=1048575, step=1)\n[right]: 524795, RangeIndex(start=0, stop=524795, step=1)",
     "output_type": "error",
     "traceback": [
      "\u001B[0;31m---------------------------------------------------------------------------\u001B[0m",
      "\u001B[0;31mAssertionError\u001B[0m                            Traceback (most recent call last)",
      "Cell \u001B[0;32mIn[8], line 3\u001B[0m\n\u001B[1;32m      1\u001B[0m df_tweets[\u001B[38;5;124m'\u001B[39m\u001B[38;5;124mDate\u001B[39m\u001B[38;5;124m'\u001B[39m] \u001B[38;5;241m=\u001B[39m pd\u001B[38;5;241m.\u001B[39mto_datetime(df_tweets[\u001B[38;5;124m'\u001B[39m\u001B[38;5;124mDate\u001B[39m\u001B[38;5;124m'\u001B[39m], \u001B[38;5;28mformat\u001B[39m\u001B[38;5;241m=\u001B[39m\u001B[38;5;124m'\u001B[39m\u001B[38;5;132;01m%a\u001B[39;00m\u001B[38;5;124m \u001B[39m\u001B[38;5;124m%\u001B[39m\u001B[38;5;124mb \u001B[39m\u001B[38;5;132;01m%d\u001B[39;00m\u001B[38;5;124m \u001B[39m\u001B[38;5;124m%\u001B[39m\u001B[38;5;124mH:\u001B[39m\u001B[38;5;124m%\u001B[39m\u001B[38;5;124mM:\u001B[39m\u001B[38;5;124m%\u001B[39m\u001B[38;5;124mS \u001B[39m\u001B[38;5;124m%\u001B[39m\u001B[38;5;124mZ \u001B[39m\u001B[38;5;124m%\u001B[39m\u001B[38;5;124mY\u001B[39m\u001B[38;5;124m'\u001B[39m)\n\u001B[1;32m      2\u001B[0m df_tweets[\u001B[38;5;124m'\u001B[39m\u001B[38;5;124mdata_formatada\u001B[39m\u001B[38;5;124m'\u001B[39m] \u001B[38;5;241m=\u001B[39m df_tweets[\u001B[38;5;124m'\u001B[39m\u001B[38;5;124mDate\u001B[39m\u001B[38;5;124m'\u001B[39m]\u001B[38;5;241m.\u001B[39mdt\u001B[38;5;241m.\u001B[39mstrftime(\u001B[38;5;124m'\u001B[39m\u001B[38;5;132;01m%d\u001B[39;00m\u001B[38;5;124m/\u001B[39m\u001B[38;5;124m%\u001B[39m\u001B[38;5;124mm/\u001B[39m\u001B[38;5;124m%\u001B[39m\u001B[38;5;124mY\u001B[39m\u001B[38;5;124m'\u001B[39m)\n\u001B[0;32m----> 3\u001B[0m \u001B[43mpd\u001B[49m\u001B[38;5;241;43m.\u001B[39;49m\u001B[43mtesting\u001B[49m\u001B[38;5;241;43m.\u001B[39;49m\u001B[43massert_series_equal\u001B[49m\u001B[43m(\u001B[49m\u001B[43mdf_tweets\u001B[49m\u001B[43m[\u001B[49m\u001B[38;5;124;43m'\u001B[39;49m\u001B[38;5;124;43mdata_formatada\u001B[39;49m\u001B[38;5;124;43m'\u001B[39;49m\u001B[43m]\u001B[49m\u001B[43m \u001B[49m\u001B[43m,\u001B[49m\u001B[43m \u001B[49m\u001B[43mdatas_formatadas_aluno\u001B[49m\u001B[43m,\u001B[49m\u001B[43m \u001B[49m\u001B[43mcheck_names\u001B[49m\u001B[38;5;241;43m=\u001B[39;49m\u001B[38;5;28;43;01mFalse\u001B[39;49;00m\u001B[43m)\u001B[49m\n",
      "    \u001B[0;31m[... skipping hidden 1 frame]\u001B[0m\n",
      "File \u001B[0;32m~/PycharmProjects/sefaz-clickhouse_new/.venv/lib/python3.12/site-packages/pandas/_testing/asserters.py:614\u001B[0m, in \u001B[0;36mraise_assert_detail\u001B[0;34m(obj, message, left, right, diff, first_diff, index_values)\u001B[0m\n\u001B[1;32m    611\u001B[0m \u001B[38;5;28;01mif\u001B[39;00m first_diff \u001B[38;5;129;01mis\u001B[39;00m \u001B[38;5;129;01mnot\u001B[39;00m \u001B[38;5;28;01mNone\u001B[39;00m:\n\u001B[1;32m    612\u001B[0m     msg \u001B[38;5;241m+\u001B[39m\u001B[38;5;241m=\u001B[39m \u001B[38;5;124mf\u001B[39m\u001B[38;5;124m\"\u001B[39m\u001B[38;5;130;01m\\n\u001B[39;00m\u001B[38;5;132;01m{\u001B[39;00mfirst_diff\u001B[38;5;132;01m}\u001B[39;00m\u001B[38;5;124m\"\u001B[39m\n\u001B[0;32m--> 614\u001B[0m \u001B[38;5;28;01mraise\u001B[39;00m \u001B[38;5;167;01mAssertionError\u001B[39;00m(msg)\n",
      "\u001B[0;31mAssertionError\u001B[0m: Series are different\n\nSeries length are different\n[left]:  1048575, RangeIndex(start=0, stop=1048575, step=1)\n[right]: 524795, RangeIndex(start=0, stop=524795, step=1)"
     ]
    }
   ],
   "execution_count": 8
  },
  {
   "cell_type": "markdown",
   "metadata": {},
   "source": [
    "2- A partir da primeira transformação (tweets_formated_data.csv) crie duas novas colunas, “mentioned_person” e “mentioned_person_count”. Para a coluna “mentioned_person” você deve filtrar menções a outros usuários no campo Text\n",
    "dos tweets e adicionar o nome desse usuários a coluna “mentioned_person”. Para a coluna “mentioned_person_count”, adicione o número de usuários mencionados (é possível identificar tweets que mencionam outros usuários pelo character “@”)."
   ]
  },
  {
   "metadata": {
    "ExecuteTime": {
     "end_time": "2024-10-30T11:12:09.054024Z",
     "start_time": "2024-10-30T11:12:07.953215Z"
    }
   },
   "cell_type": "code",
   "source": "df_tweets['At_Count'] = df_tweets['Text'].apply(lambda x: str(x).count('@'))",
   "outputs": [],
   "execution_count": 11
  },
  {
   "metadata": {
    "ExecuteTime": {
     "end_time": "2024-10-30T11:35:59.585361Z",
     "start_time": "2024-10-30T11:35:59.512758Z"
    }
   },
   "cell_type": "code",
   "source": "df_tweets.loc[df_tweets['At_Count'] > 3]",
   "outputs": [
    {
     "data": {
      "text/plain": [
       "         Target          ID                Date      flag           User  \\\n",
       "6524          0  1469450046 2009-04-07 06:25:08  NO_QUERY  stephenhughes   \n",
       "9788          0  1548880146 2009-04-17 22:16:08  NO_QUERY       cerencik   \n",
       "9908          0  1550700198 2009-04-18 06:59:34  NO_QUERY   ashleymarie6   \n",
       "14172         0  1553579047 2009-04-18 14:38:54  NO_QUERY  philpursglove   \n",
       "14917         0  1553917367 2009-04-18 15:33:56  NO_QUERY       markress   \n",
       "...         ...         ...                 ...       ...            ...   \n",
       "1047963       4  1958096420 2009-05-29 02:38:56  NO_QUERY        siri_he   \n",
       "1048315       4  1958135188 2009-05-29 02:46:52  NO_QUERY       Ms211nLA   \n",
       "1048357       4  1960142705 2009-05-29 07:29:31  NO_QUERY     farmerBOOM   \n",
       "1048454       4  1960156250 2009-05-29 07:30:49  NO_QUERY    sarahdiddle   \n",
       "1048516       4  1960158687 2009-05-29 07:31:03  NO_QUERY  GFillustrator   \n",
       "\n",
       "                                                      Text data_formatada  \\\n",
       "6524     Alas, nothing new for me there @bishboria. I'm...     07/04/2009   \n",
       "9788     @bennehton @Sweet_Pau @tynie626 @NoOrdinaryGur...     17/04/2009   \n",
       "9908     @StephanieOlsen @stateiamin @wishcake @racheli...     18/04/2009   \n",
       "14172    Cheers to all at #webdd (esp. @plip, @davesuss...     18/04/2009   \n",
       "14917    @rossgoldberg @FasterWebmaster @russiandiva @F...     18/04/2009   \n",
       "...                                                    ...            ...   \n",
       "1047963  @androidtomato @_supernatural_ @HAMMER32 @Meeh...     29/05/2009   \n",
       "1048315  @FillmoreRich3 @DEO415 @SimonaSpeaks @SamSneak...     29/05/2009   \n",
       "1048357  has a @topherrpop at my house  @vajayjay @liam...     29/05/2009   \n",
       "1048454  follow friday @redta @StanSmithCIA @sarahdiddl...     29/05/2009   \n",
       "1048516  Thanks for #followfriday   @GfWarrior @Authoro...     29/05/2009   \n",
       "\n",
       "         At_Count                                   mentioned_person  \n",
       "6524            4  bishboria/infiniteloops/roundingerrors/scopecreep  \n",
       "9788            4        bennehton/Sweet_Pau/tynie626/NoOrdinaryGurl  \n",
       "9908            4       StephanieOlsen/stateiamin/wishcake/racheliza  \n",
       "14172           4              plip/davesussman/apwestgarth/blowdart  \n",
       "14917           7  rossgoldberg/FasterWebmaster/russiandiva/Felic...  \n",
       "...           ...                                                ...  \n",
       "1047963         4       androidtomato/_supernatural_/HAMMER32/Meehra  \n",
       "1048315         8  FillmoreRich3/DEO415/SimonaSpeaks/SamSneaker/m...  \n",
       "1048357         4            topherrpop/vajayjay/liamsp/alexthemagix  \n",
       "1048454         5   redta/StanSmithCIA/sarahdiddle/SpitfireJon/ponet  \n",
       "1048516         4         GfWarrior/AuthorofPatches/MKRob/RemieJames  \n",
       "\n",
       "[1379 rows x 9 columns]"
      ],
      "text/html": [
       "<div>\n",
       "<style scoped>\n",
       "    .dataframe tbody tr th:only-of-type {\n",
       "        vertical-align: middle;\n",
       "    }\n",
       "\n",
       "    .dataframe tbody tr th {\n",
       "        vertical-align: top;\n",
       "    }\n",
       "\n",
       "    .dataframe thead th {\n",
       "        text-align: right;\n",
       "    }\n",
       "</style>\n",
       "<table border=\"1\" class=\"dataframe\">\n",
       "  <thead>\n",
       "    <tr style=\"text-align: right;\">\n",
       "      <th></th>\n",
       "      <th>Target</th>\n",
       "      <th>ID</th>\n",
       "      <th>Date</th>\n",
       "      <th>flag</th>\n",
       "      <th>User</th>\n",
       "      <th>Text</th>\n",
       "      <th>data_formatada</th>\n",
       "      <th>At_Count</th>\n",
       "      <th>mentioned_person</th>\n",
       "    </tr>\n",
       "  </thead>\n",
       "  <tbody>\n",
       "    <tr>\n",
       "      <th>6524</th>\n",
       "      <td>0</td>\n",
       "      <td>1469450046</td>\n",
       "      <td>2009-04-07 06:25:08</td>\n",
       "      <td>NO_QUERY</td>\n",
       "      <td>stephenhughes</td>\n",
       "      <td>Alas, nothing new for me there @bishboria. I'm...</td>\n",
       "      <td>07/04/2009</td>\n",
       "      <td>4</td>\n",
       "      <td>bishboria/infiniteloops/roundingerrors/scopecreep</td>\n",
       "    </tr>\n",
       "    <tr>\n",
       "      <th>9788</th>\n",
       "      <td>0</td>\n",
       "      <td>1548880146</td>\n",
       "      <td>2009-04-17 22:16:08</td>\n",
       "      <td>NO_QUERY</td>\n",
       "      <td>cerencik</td>\n",
       "      <td>@bennehton @Sweet_Pau @tynie626 @NoOrdinaryGur...</td>\n",
       "      <td>17/04/2009</td>\n",
       "      <td>4</td>\n",
       "      <td>bennehton/Sweet_Pau/tynie626/NoOrdinaryGurl</td>\n",
       "    </tr>\n",
       "    <tr>\n",
       "      <th>9908</th>\n",
       "      <td>0</td>\n",
       "      <td>1550700198</td>\n",
       "      <td>2009-04-18 06:59:34</td>\n",
       "      <td>NO_QUERY</td>\n",
       "      <td>ashleymarie6</td>\n",
       "      <td>@StephanieOlsen @stateiamin @wishcake @racheli...</td>\n",
       "      <td>18/04/2009</td>\n",
       "      <td>4</td>\n",
       "      <td>StephanieOlsen/stateiamin/wishcake/racheliza</td>\n",
       "    </tr>\n",
       "    <tr>\n",
       "      <th>14172</th>\n",
       "      <td>0</td>\n",
       "      <td>1553579047</td>\n",
       "      <td>2009-04-18 14:38:54</td>\n",
       "      <td>NO_QUERY</td>\n",
       "      <td>philpursglove</td>\n",
       "      <td>Cheers to all at #webdd (esp. @plip, @davesuss...</td>\n",
       "      <td>18/04/2009</td>\n",
       "      <td>4</td>\n",
       "      <td>plip/davesussman/apwestgarth/blowdart</td>\n",
       "    </tr>\n",
       "    <tr>\n",
       "      <th>14917</th>\n",
       "      <td>0</td>\n",
       "      <td>1553917367</td>\n",
       "      <td>2009-04-18 15:33:56</td>\n",
       "      <td>NO_QUERY</td>\n",
       "      <td>markress</td>\n",
       "      <td>@rossgoldberg @FasterWebmaster @russiandiva @F...</td>\n",
       "      <td>18/04/2009</td>\n",
       "      <td>7</td>\n",
       "      <td>rossgoldberg/FasterWebmaster/russiandiva/Felic...</td>\n",
       "    </tr>\n",
       "    <tr>\n",
       "      <th>...</th>\n",
       "      <td>...</td>\n",
       "      <td>...</td>\n",
       "      <td>...</td>\n",
       "      <td>...</td>\n",
       "      <td>...</td>\n",
       "      <td>...</td>\n",
       "      <td>...</td>\n",
       "      <td>...</td>\n",
       "      <td>...</td>\n",
       "    </tr>\n",
       "    <tr>\n",
       "      <th>1047963</th>\n",
       "      <td>4</td>\n",
       "      <td>1958096420</td>\n",
       "      <td>2009-05-29 02:38:56</td>\n",
       "      <td>NO_QUERY</td>\n",
       "      <td>siri_he</td>\n",
       "      <td>@androidtomato @_supernatural_ @HAMMER32 @Meeh...</td>\n",
       "      <td>29/05/2009</td>\n",
       "      <td>4</td>\n",
       "      <td>androidtomato/_supernatural_/HAMMER32/Meehra</td>\n",
       "    </tr>\n",
       "    <tr>\n",
       "      <th>1048315</th>\n",
       "      <td>4</td>\n",
       "      <td>1958135188</td>\n",
       "      <td>2009-05-29 02:46:52</td>\n",
       "      <td>NO_QUERY</td>\n",
       "      <td>Ms211nLA</td>\n",
       "      <td>@FillmoreRich3 @DEO415 @SimonaSpeaks @SamSneak...</td>\n",
       "      <td>29/05/2009</td>\n",
       "      <td>8</td>\n",
       "      <td>FillmoreRich3/DEO415/SimonaSpeaks/SamSneaker/m...</td>\n",
       "    </tr>\n",
       "    <tr>\n",
       "      <th>1048357</th>\n",
       "      <td>4</td>\n",
       "      <td>1960142705</td>\n",
       "      <td>2009-05-29 07:29:31</td>\n",
       "      <td>NO_QUERY</td>\n",
       "      <td>farmerBOOM</td>\n",
       "      <td>has a @topherrpop at my house  @vajayjay @liam...</td>\n",
       "      <td>29/05/2009</td>\n",
       "      <td>4</td>\n",
       "      <td>topherrpop/vajayjay/liamsp/alexthemagix</td>\n",
       "    </tr>\n",
       "    <tr>\n",
       "      <th>1048454</th>\n",
       "      <td>4</td>\n",
       "      <td>1960156250</td>\n",
       "      <td>2009-05-29 07:30:49</td>\n",
       "      <td>NO_QUERY</td>\n",
       "      <td>sarahdiddle</td>\n",
       "      <td>follow friday @redta @StanSmithCIA @sarahdiddl...</td>\n",
       "      <td>29/05/2009</td>\n",
       "      <td>5</td>\n",
       "      <td>redta/StanSmithCIA/sarahdiddle/SpitfireJon/ponet</td>\n",
       "    </tr>\n",
       "    <tr>\n",
       "      <th>1048516</th>\n",
       "      <td>4</td>\n",
       "      <td>1960158687</td>\n",
       "      <td>2009-05-29 07:31:03</td>\n",
       "      <td>NO_QUERY</td>\n",
       "      <td>GFillustrator</td>\n",
       "      <td>Thanks for #followfriday   @GfWarrior @Authoro...</td>\n",
       "      <td>29/05/2009</td>\n",
       "      <td>4</td>\n",
       "      <td>GfWarrior/AuthorofPatches/MKRob/RemieJames</td>\n",
       "    </tr>\n",
       "  </tbody>\n",
       "</table>\n",
       "<p>1379 rows × 9 columns</p>\n",
       "</div>"
      ]
     },
     "execution_count": 23,
     "metadata": {},
     "output_type": "execute_result"
    }
   ],
   "execution_count": 23
  },
  {
   "metadata": {},
   "cell_type": "code",
   "outputs": [],
   "execution_count": null,
   "source": ""
  },
  {
   "cell_type": "code",
   "metadata": {
    "ExecuteTime": {
     "end_time": "2024-10-30T11:29:05.769348Z",
     "start_time": "2024-10-30T11:29:05.719516Z"
    }
   },
   "source": [
    "import re\n",
    "\n",
    "def extrair_mencoes(texto):\n",
    "    # Expressão regular para capturar palavras que começam com '@'\n",
    "    mencoes = re.findall(r'@\\w+', texto)\n",
    "    mencoes_modificada = [s[1:] for s in mencoes if len(s) > 1]\n",
    "    return '/'.join(mencoes_modificada)\n",
    "\n",
    "# Exemplo de uso\n",
    "texto = \"Olá @joao, fale com @maria e também avise @pedro sobre o evento!\"\n",
    "mencoes = extrair_mencoes(texto)\n",
    "\n",
    "print(\"Menções encontradas:\", mencoes)\n",
    "\n"
   ],
   "outputs": [
    {
     "name": "stdout",
     "output_type": "stream",
     "text": [
      "Menções encontradas: joao/maria/pedro\n"
     ]
    }
   ],
   "execution_count": 19
  },
  {
   "metadata": {
    "ExecuteTime": {
     "end_time": "2024-10-30T11:30:38.274848Z",
     "start_time": "2024-10-30T11:30:36.172746Z"
    }
   },
   "cell_type": "code",
   "source": "df_tweets['mentioned_person'] = df_tweets['Text'].apply(lambda x: extrair_mencoes(x))",
   "outputs": [],
   "execution_count": 20
  },
  {
   "metadata": {
    "ExecuteTime": {
     "end_time": "2024-10-30T11:35:54.063249Z",
     "start_time": "2024-10-30T11:35:53.241045Z"
    }
   },
   "cell_type": "code",
   "source": "df_tweets['At_Count'] = df_tweets['mentioned_person'].apply(lambda x: len(x.split('/')))",
   "outputs": [],
   "execution_count": 22
  },
  {
   "metadata": {
    "ExecuteTime": {
     "end_time": "2024-10-30T11:41:59.244254Z",
     "start_time": "2024-10-30T11:39:08.915410Z"
    }
   },
   "cell_type": "code",
   "source": [
    "print(f\"Menções no df original: {df_tweets['At_Count'].sum()}\")\n",
    "print(f\"Menções no df aluno: {df_tweets_mentioned['mentioned_person_count'].sum()}\")"
   ],
   "outputs": [
    {
     "ename": "KeyboardInterrupt",
     "evalue": "",
     "output_type": "error",
     "traceback": [
      "\u001B[0;31m---------------------------------------------------------------------------\u001B[0m",
      "\u001B[0;31mKeyboardInterrupt\u001B[0m                         Traceback (most recent call last)",
      "Cell \u001B[0;32mIn[25], line 1\u001B[0m\n\u001B[0;32m----> 1\u001B[0m \u001B[38;5;28mprint\u001B[39m(\u001B[38;5;124mf\u001B[39m\u001B[38;5;124m\"\u001B[39m\u001B[38;5;124mMenções no df original: \u001B[39m\u001B[38;5;132;01m{\u001B[39;00m\u001B[43mdf_tweets\u001B[49m\u001B[43m[\u001B[49m\u001B[38;5;124;43m'\u001B[39;49m\u001B[38;5;124;43mmentioned_person\u001B[39;49m\u001B[38;5;124;43m'\u001B[39;49m\u001B[43m]\u001B[49m\u001B[38;5;241;43m.\u001B[39;49m\u001B[43msum\u001B[49m\u001B[43m(\u001B[49m\u001B[43m)\u001B[49m\u001B[38;5;132;01m}\u001B[39;00m\u001B[38;5;124m\"\u001B[39m)\n\u001B[1;32m      2\u001B[0m \u001B[38;5;28mprint\u001B[39m(\u001B[38;5;124mf\u001B[39m\u001B[38;5;124m\"\u001B[39m\u001B[38;5;124mMenções no df aluno: \u001B[39m\u001B[38;5;132;01m{\u001B[39;00mdf_tweets_mentioned[\u001B[38;5;124m'\u001B[39m\u001B[38;5;124mMentioned_persons\u001B[39m\u001B[38;5;124m'\u001B[39m]\u001B[38;5;241m.\u001B[39msum()\u001B[38;5;132;01m}\u001B[39;00m\u001B[38;5;124m\"\u001B[39m)\n",
      "File \u001B[0;32m~/PycharmProjects/sefaz-clickhouse_new/.venv/lib/python3.12/site-packages/pandas/core/series.py:6528\u001B[0m, in \u001B[0;36mSeries.sum\u001B[0;34m(self, axis, skipna, numeric_only, min_count, **kwargs)\u001B[0m\n\u001B[1;32m   6519\u001B[0m \u001B[38;5;129m@doc\u001B[39m(make_doc(\u001B[38;5;124m\"\u001B[39m\u001B[38;5;124msum\u001B[39m\u001B[38;5;124m\"\u001B[39m, ndim\u001B[38;5;241m=\u001B[39m\u001B[38;5;241m1\u001B[39m))\n\u001B[1;32m   6520\u001B[0m \u001B[38;5;28;01mdef\u001B[39;00m \u001B[38;5;21msum\u001B[39m(\n\u001B[1;32m   6521\u001B[0m     \u001B[38;5;28mself\u001B[39m,\n\u001B[0;32m   (...)\u001B[0m\n\u001B[1;32m   6526\u001B[0m     \u001B[38;5;241m*\u001B[39m\u001B[38;5;241m*\u001B[39mkwargs,\n\u001B[1;32m   6527\u001B[0m ):\n\u001B[0;32m-> 6528\u001B[0m     \u001B[38;5;28;01mreturn\u001B[39;00m \u001B[43mNDFrame\u001B[49m\u001B[38;5;241;43m.\u001B[39;49m\u001B[43msum\u001B[49m\u001B[43m(\u001B[49m\u001B[38;5;28;43mself\u001B[39;49m\u001B[43m,\u001B[49m\u001B[43m \u001B[49m\u001B[43maxis\u001B[49m\u001B[43m,\u001B[49m\u001B[43m \u001B[49m\u001B[43mskipna\u001B[49m\u001B[43m,\u001B[49m\u001B[43m \u001B[49m\u001B[43mnumeric_only\u001B[49m\u001B[43m,\u001B[49m\u001B[43m \u001B[49m\u001B[43mmin_count\u001B[49m\u001B[43m,\u001B[49m\u001B[43m \u001B[49m\u001B[38;5;241;43m*\u001B[39;49m\u001B[38;5;241;43m*\u001B[39;49m\u001B[43mkwargs\u001B[49m\u001B[43m)\u001B[49m\n",
      "File \u001B[0;32m~/PycharmProjects/sefaz-clickhouse_new/.venv/lib/python3.12/site-packages/pandas/core/generic.py:12506\u001B[0m, in \u001B[0;36mNDFrame.sum\u001B[0;34m(self, axis, skipna, numeric_only, min_count, **kwargs)\u001B[0m\n\u001B[1;32m  12498\u001B[0m \u001B[38;5;28;01mdef\u001B[39;00m \u001B[38;5;21msum\u001B[39m(\n\u001B[1;32m  12499\u001B[0m     \u001B[38;5;28mself\u001B[39m,\n\u001B[1;32m  12500\u001B[0m     axis: Axis \u001B[38;5;241m|\u001B[39m \u001B[38;5;28;01mNone\u001B[39;00m \u001B[38;5;241m=\u001B[39m \u001B[38;5;241m0\u001B[39m,\n\u001B[0;32m   (...)\u001B[0m\n\u001B[1;32m  12504\u001B[0m     \u001B[38;5;241m*\u001B[39m\u001B[38;5;241m*\u001B[39mkwargs,\n\u001B[1;32m  12505\u001B[0m ):\n\u001B[0;32m> 12506\u001B[0m     \u001B[38;5;28;01mreturn\u001B[39;00m \u001B[38;5;28;43mself\u001B[39;49m\u001B[38;5;241;43m.\u001B[39;49m\u001B[43m_min_count_stat_function\u001B[49m\u001B[43m(\u001B[49m\n\u001B[1;32m  12507\u001B[0m \u001B[43m        \u001B[49m\u001B[38;5;124;43m\"\u001B[39;49m\u001B[38;5;124;43msum\u001B[39;49m\u001B[38;5;124;43m\"\u001B[39;49m\u001B[43m,\u001B[49m\u001B[43m \u001B[49m\u001B[43mnanops\u001B[49m\u001B[38;5;241;43m.\u001B[39;49m\u001B[43mnansum\u001B[49m\u001B[43m,\u001B[49m\u001B[43m \u001B[49m\u001B[43maxis\u001B[49m\u001B[43m,\u001B[49m\u001B[43m \u001B[49m\u001B[43mskipna\u001B[49m\u001B[43m,\u001B[49m\u001B[43m \u001B[49m\u001B[43mnumeric_only\u001B[49m\u001B[43m,\u001B[49m\u001B[43m \u001B[49m\u001B[43mmin_count\u001B[49m\u001B[43m,\u001B[49m\u001B[43m \u001B[49m\u001B[38;5;241;43m*\u001B[39;49m\u001B[38;5;241;43m*\u001B[39;49m\u001B[43mkwargs\u001B[49m\n\u001B[1;32m  12508\u001B[0m \u001B[43m    \u001B[49m\u001B[43m)\u001B[49m\n",
      "File \u001B[0;32m~/PycharmProjects/sefaz-clickhouse_new/.venv/lib/python3.12/site-packages/pandas/core/generic.py:12489\u001B[0m, in \u001B[0;36mNDFrame._min_count_stat_function\u001B[0;34m(self, name, func, axis, skipna, numeric_only, min_count, **kwargs)\u001B[0m\n\u001B[1;32m  12486\u001B[0m \u001B[38;5;28;01melif\u001B[39;00m axis \u001B[38;5;129;01mis\u001B[39;00m lib\u001B[38;5;241m.\u001B[39mno_default:\n\u001B[1;32m  12487\u001B[0m     axis \u001B[38;5;241m=\u001B[39m \u001B[38;5;241m0\u001B[39m\n\u001B[0;32m> 12489\u001B[0m \u001B[38;5;28;01mreturn\u001B[39;00m \u001B[38;5;28;43mself\u001B[39;49m\u001B[38;5;241;43m.\u001B[39;49m\u001B[43m_reduce\u001B[49m\u001B[43m(\u001B[49m\n\u001B[1;32m  12490\u001B[0m \u001B[43m    \u001B[49m\u001B[43mfunc\u001B[49m\u001B[43m,\u001B[49m\n\u001B[1;32m  12491\u001B[0m \u001B[43m    \u001B[49m\u001B[43mname\u001B[49m\u001B[38;5;241;43m=\u001B[39;49m\u001B[43mname\u001B[49m\u001B[43m,\u001B[49m\n\u001B[1;32m  12492\u001B[0m \u001B[43m    \u001B[49m\u001B[43maxis\u001B[49m\u001B[38;5;241;43m=\u001B[39;49m\u001B[43maxis\u001B[49m\u001B[43m,\u001B[49m\n\u001B[1;32m  12493\u001B[0m \u001B[43m    \u001B[49m\u001B[43mskipna\u001B[49m\u001B[38;5;241;43m=\u001B[39;49m\u001B[43mskipna\u001B[49m\u001B[43m,\u001B[49m\n\u001B[1;32m  12494\u001B[0m \u001B[43m    \u001B[49m\u001B[43mnumeric_only\u001B[49m\u001B[38;5;241;43m=\u001B[39;49m\u001B[43mnumeric_only\u001B[49m\u001B[43m,\u001B[49m\n\u001B[1;32m  12495\u001B[0m \u001B[43m    \u001B[49m\u001B[43mmin_count\u001B[49m\u001B[38;5;241;43m=\u001B[39;49m\u001B[43mmin_count\u001B[49m\u001B[43m,\u001B[49m\n\u001B[1;32m  12496\u001B[0m \u001B[43m\u001B[49m\u001B[43m)\u001B[49m\n",
      "File \u001B[0;32m~/PycharmProjects/sefaz-clickhouse_new/.venv/lib/python3.12/site-packages/pandas/core/series.py:6457\u001B[0m, in \u001B[0;36mSeries._reduce\u001B[0;34m(self, op, name, axis, skipna, numeric_only, filter_type, **kwds)\u001B[0m\n\u001B[1;32m   6452\u001B[0m     \u001B[38;5;66;03m# GH#47500 - change to TypeError to match other methods\u001B[39;00m\n\u001B[1;32m   6453\u001B[0m     \u001B[38;5;28;01mraise\u001B[39;00m \u001B[38;5;167;01mTypeError\u001B[39;00m(\n\u001B[1;32m   6454\u001B[0m         \u001B[38;5;124mf\u001B[39m\u001B[38;5;124m\"\u001B[39m\u001B[38;5;124mSeries.\u001B[39m\u001B[38;5;132;01m{\u001B[39;00mname\u001B[38;5;132;01m}\u001B[39;00m\u001B[38;5;124m does not allow \u001B[39m\u001B[38;5;132;01m{\u001B[39;00mkwd_name\u001B[38;5;132;01m}\u001B[39;00m\u001B[38;5;124m=\u001B[39m\u001B[38;5;132;01m{\u001B[39;00mnumeric_only\u001B[38;5;132;01m}\u001B[39;00m\u001B[38;5;124m \u001B[39m\u001B[38;5;124m\"\u001B[39m\n\u001B[1;32m   6455\u001B[0m         \u001B[38;5;124m\"\u001B[39m\u001B[38;5;124mwith non-numeric dtypes.\u001B[39m\u001B[38;5;124m\"\u001B[39m\n\u001B[1;32m   6456\u001B[0m     )\n\u001B[0;32m-> 6457\u001B[0m \u001B[38;5;28;01mreturn\u001B[39;00m \u001B[43mop\u001B[49m\u001B[43m(\u001B[49m\u001B[43mdelegate\u001B[49m\u001B[43m,\u001B[49m\u001B[43m \u001B[49m\u001B[43mskipna\u001B[49m\u001B[38;5;241;43m=\u001B[39;49m\u001B[43mskipna\u001B[49m\u001B[43m,\u001B[49m\u001B[43m \u001B[49m\u001B[38;5;241;43m*\u001B[39;49m\u001B[38;5;241;43m*\u001B[39;49m\u001B[43mkwds\u001B[49m\u001B[43m)\u001B[49m\n",
      "File \u001B[0;32m~/PycharmProjects/sefaz-clickhouse_new/.venv/lib/python3.12/site-packages/pandas/core/nanops.py:85\u001B[0m, in \u001B[0;36mdisallow.__call__.<locals>._f\u001B[0;34m(*args, **kwargs)\u001B[0m\n\u001B[1;32m     81\u001B[0m     \u001B[38;5;28;01mraise\u001B[39;00m \u001B[38;5;167;01mTypeError\u001B[39;00m(\n\u001B[1;32m     82\u001B[0m         \u001B[38;5;124mf\u001B[39m\u001B[38;5;124m\"\u001B[39m\u001B[38;5;124mreduction operation \u001B[39m\u001B[38;5;124m'\u001B[39m\u001B[38;5;132;01m{\u001B[39;00mf_name\u001B[38;5;132;01m}\u001B[39;00m\u001B[38;5;124m'\u001B[39m\u001B[38;5;124m not allowed for this dtype\u001B[39m\u001B[38;5;124m\"\u001B[39m\n\u001B[1;32m     83\u001B[0m     )\n\u001B[1;32m     84\u001B[0m \u001B[38;5;28;01mtry\u001B[39;00m:\n\u001B[0;32m---> 85\u001B[0m     \u001B[38;5;28;01mreturn\u001B[39;00m \u001B[43mf\u001B[49m\u001B[43m(\u001B[49m\u001B[38;5;241;43m*\u001B[39;49m\u001B[43margs\u001B[49m\u001B[43m,\u001B[49m\u001B[43m \u001B[49m\u001B[38;5;241;43m*\u001B[39;49m\u001B[38;5;241;43m*\u001B[39;49m\u001B[43mkwargs\u001B[49m\u001B[43m)\u001B[49m\n\u001B[1;32m     86\u001B[0m \u001B[38;5;28;01mexcept\u001B[39;00m \u001B[38;5;167;01mValueError\u001B[39;00m \u001B[38;5;28;01mas\u001B[39;00m e:\n\u001B[1;32m     87\u001B[0m     \u001B[38;5;66;03m# we want to transform an object array\u001B[39;00m\n\u001B[1;32m     88\u001B[0m     \u001B[38;5;66;03m# ValueError message to the more typical TypeError\u001B[39;00m\n\u001B[1;32m     89\u001B[0m     \u001B[38;5;66;03m# e.g. this is normally a disallowed function on\u001B[39;00m\n\u001B[1;32m     90\u001B[0m     \u001B[38;5;66;03m# object arrays that contain strings\u001B[39;00m\n\u001B[1;32m     91\u001B[0m     \u001B[38;5;28;01mif\u001B[39;00m is_object_dtype(args[\u001B[38;5;241m0\u001B[39m]):\n",
      "File \u001B[0;32m~/PycharmProjects/sefaz-clickhouse_new/.venv/lib/python3.12/site-packages/pandas/core/nanops.py:404\u001B[0m, in \u001B[0;36m_datetimelike_compat.<locals>.new_func\u001B[0;34m(values, axis, skipna, mask, **kwargs)\u001B[0m\n\u001B[1;32m    401\u001B[0m \u001B[38;5;28;01mif\u001B[39;00m datetimelike \u001B[38;5;129;01mand\u001B[39;00m mask \u001B[38;5;129;01mis\u001B[39;00m \u001B[38;5;28;01mNone\u001B[39;00m:\n\u001B[1;32m    402\u001B[0m     mask \u001B[38;5;241m=\u001B[39m isna(values)\n\u001B[0;32m--> 404\u001B[0m result \u001B[38;5;241m=\u001B[39m \u001B[43mfunc\u001B[49m\u001B[43m(\u001B[49m\u001B[43mvalues\u001B[49m\u001B[43m,\u001B[49m\u001B[43m \u001B[49m\u001B[43maxis\u001B[49m\u001B[38;5;241;43m=\u001B[39;49m\u001B[43maxis\u001B[49m\u001B[43m,\u001B[49m\u001B[43m \u001B[49m\u001B[43mskipna\u001B[49m\u001B[38;5;241;43m=\u001B[39;49m\u001B[43mskipna\u001B[49m\u001B[43m,\u001B[49m\u001B[43m \u001B[49m\u001B[43mmask\u001B[49m\u001B[38;5;241;43m=\u001B[39;49m\u001B[43mmask\u001B[49m\u001B[43m,\u001B[49m\u001B[43m \u001B[49m\u001B[38;5;241;43m*\u001B[39;49m\u001B[38;5;241;43m*\u001B[39;49m\u001B[43mkwargs\u001B[49m\u001B[43m)\u001B[49m\n\u001B[1;32m    406\u001B[0m \u001B[38;5;28;01mif\u001B[39;00m datetimelike:\n\u001B[1;32m    407\u001B[0m     result \u001B[38;5;241m=\u001B[39m _wrap_results(result, orig_values\u001B[38;5;241m.\u001B[39mdtype, fill_value\u001B[38;5;241m=\u001B[39miNaT)\n",
      "File \u001B[0;32m~/PycharmProjects/sefaz-clickhouse_new/.venv/lib/python3.12/site-packages/pandas/core/nanops.py:477\u001B[0m, in \u001B[0;36mmaybe_operate_rowwise.<locals>.newfunc\u001B[0;34m(values, axis, **kwargs)\u001B[0m\n\u001B[1;32m    474\u001B[0m         results \u001B[38;5;241m=\u001B[39m [func(x, \u001B[38;5;241m*\u001B[39m\u001B[38;5;241m*\u001B[39mkwargs) \u001B[38;5;28;01mfor\u001B[39;00m x \u001B[38;5;129;01min\u001B[39;00m arrs]\n\u001B[1;32m    475\u001B[0m     \u001B[38;5;28;01mreturn\u001B[39;00m np\u001B[38;5;241m.\u001B[39marray(results)\n\u001B[0;32m--> 477\u001B[0m \u001B[38;5;28;01mreturn\u001B[39;00m \u001B[43mfunc\u001B[49m\u001B[43m(\u001B[49m\u001B[43mvalues\u001B[49m\u001B[43m,\u001B[49m\u001B[43m \u001B[49m\u001B[43maxis\u001B[49m\u001B[38;5;241;43m=\u001B[39;49m\u001B[43maxis\u001B[49m\u001B[43m,\u001B[49m\u001B[43m \u001B[49m\u001B[38;5;241;43m*\u001B[39;49m\u001B[38;5;241;43m*\u001B[39;49m\u001B[43mkwargs\u001B[49m\u001B[43m)\u001B[49m\n",
      "File \u001B[0;32m~/PycharmProjects/sefaz-clickhouse_new/.venv/lib/python3.12/site-packages/pandas/core/nanops.py:646\u001B[0m, in \u001B[0;36mnansum\u001B[0;34m(values, axis, skipna, min_count, mask)\u001B[0m\n\u001B[1;32m    643\u001B[0m \u001B[38;5;28;01melif\u001B[39;00m dtype\u001B[38;5;241m.\u001B[39mkind \u001B[38;5;241m==\u001B[39m \u001B[38;5;124m\"\u001B[39m\u001B[38;5;124mm\u001B[39m\u001B[38;5;124m\"\u001B[39m:\n\u001B[1;32m    644\u001B[0m     dtype_sum \u001B[38;5;241m=\u001B[39m np\u001B[38;5;241m.\u001B[39mdtype(np\u001B[38;5;241m.\u001B[39mfloat64)\n\u001B[0;32m--> 646\u001B[0m the_sum \u001B[38;5;241m=\u001B[39m \u001B[43mvalues\u001B[49m\u001B[38;5;241;43m.\u001B[39;49m\u001B[43msum\u001B[49m\u001B[43m(\u001B[49m\u001B[43maxis\u001B[49m\u001B[43m,\u001B[49m\u001B[43m \u001B[49m\u001B[43mdtype\u001B[49m\u001B[38;5;241;43m=\u001B[39;49m\u001B[43mdtype_sum\u001B[49m\u001B[43m)\u001B[49m\n\u001B[1;32m    647\u001B[0m the_sum \u001B[38;5;241m=\u001B[39m _maybe_null_out(the_sum, axis, mask, values\u001B[38;5;241m.\u001B[39mshape, min_count\u001B[38;5;241m=\u001B[39mmin_count)\n\u001B[1;32m    649\u001B[0m \u001B[38;5;28;01mreturn\u001B[39;00m the_sum\n",
      "File \u001B[0;32m~/PycharmProjects/sefaz-clickhouse_new/.venv/lib/python3.12/site-packages/numpy/core/_methods.py:49\u001B[0m, in \u001B[0;36m_sum\u001B[0;34m(a, axis, dtype, out, keepdims, initial, where)\u001B[0m\n\u001B[1;32m     47\u001B[0m \u001B[38;5;28;01mdef\u001B[39;00m \u001B[38;5;21m_sum\u001B[39m(a, axis\u001B[38;5;241m=\u001B[39m\u001B[38;5;28;01mNone\u001B[39;00m, dtype\u001B[38;5;241m=\u001B[39m\u001B[38;5;28;01mNone\u001B[39;00m, out\u001B[38;5;241m=\u001B[39m\u001B[38;5;28;01mNone\u001B[39;00m, keepdims\u001B[38;5;241m=\u001B[39m\u001B[38;5;28;01mFalse\u001B[39;00m,\n\u001B[1;32m     48\u001B[0m          initial\u001B[38;5;241m=\u001B[39m_NoValue, where\u001B[38;5;241m=\u001B[39m\u001B[38;5;28;01mTrue\u001B[39;00m):\n\u001B[0;32m---> 49\u001B[0m     \u001B[38;5;28;01mreturn\u001B[39;00m \u001B[43mumr_sum\u001B[49m\u001B[43m(\u001B[49m\u001B[43ma\u001B[49m\u001B[43m,\u001B[49m\u001B[43m \u001B[49m\u001B[43maxis\u001B[49m\u001B[43m,\u001B[49m\u001B[43m \u001B[49m\u001B[43mdtype\u001B[49m\u001B[43m,\u001B[49m\u001B[43m \u001B[49m\u001B[43mout\u001B[49m\u001B[43m,\u001B[49m\u001B[43m \u001B[49m\u001B[43mkeepdims\u001B[49m\u001B[43m,\u001B[49m\u001B[43m \u001B[49m\u001B[43minitial\u001B[49m\u001B[43m,\u001B[49m\u001B[43m \u001B[49m\u001B[43mwhere\u001B[49m\u001B[43m)\u001B[49m\n",
      "\u001B[0;31mKeyboardInterrupt\u001B[0m: "
     ]
    }
   ],
   "execution_count": 25
  },
  {
   "metadata": {
    "ExecuteTime": {
     "end_time": "2024-10-30T11:37:46.771828Z",
     "start_time": "2024-10-30T11:37:46.499010Z"
    }
   },
   "cell_type": "code",
   "source": "pd.testing.assert_series_equal(df_tweets['mentioned_person'], df_tweets_mentioned['Mentioned_persons'], check_names=False)",
   "outputs": [
    {
     "ename": "AssertionError",
     "evalue": "Series are different\n\nSeries length are different\n[left]:  1048575, RangeIndex(start=0, stop=1048575, step=1)\n[right]: 524795, RangeIndex(start=0, stop=524795, step=1)",
     "output_type": "error",
     "traceback": [
      "\u001B[0;31m---------------------------------------------------------------------------\u001B[0m",
      "\u001B[0;31mAssertionError\u001B[0m                            Traceback (most recent call last)",
      "Cell \u001B[0;32mIn[24], line 1\u001B[0m\n\u001B[0;32m----> 1\u001B[0m \u001B[43mpd\u001B[49m\u001B[38;5;241;43m.\u001B[39;49m\u001B[43mtesting\u001B[49m\u001B[38;5;241;43m.\u001B[39;49m\u001B[43massert_series_equal\u001B[49m\u001B[43m(\u001B[49m\u001B[43mdf_tweets\u001B[49m\u001B[43m[\u001B[49m\u001B[38;5;124;43m'\u001B[39;49m\u001B[38;5;124;43mmentioned_person\u001B[39;49m\u001B[38;5;124;43m'\u001B[39;49m\u001B[43m]\u001B[49m\u001B[43m,\u001B[49m\u001B[43m \u001B[49m\u001B[43mdf_tweets_mentioned\u001B[49m\u001B[43m[\u001B[49m\u001B[38;5;124;43m'\u001B[39;49m\u001B[38;5;124;43mMentioned_persons\u001B[39;49m\u001B[38;5;124;43m'\u001B[39;49m\u001B[43m]\u001B[49m\u001B[43m,\u001B[49m\u001B[43m \u001B[49m\u001B[43mcheck_names\u001B[49m\u001B[38;5;241;43m=\u001B[39;49m\u001B[38;5;28;43;01mFalse\u001B[39;49;00m\u001B[43m)\u001B[49m\n",
      "    \u001B[0;31m[... skipping hidden 1 frame]\u001B[0m\n",
      "File \u001B[0;32m~/PycharmProjects/sefaz-clickhouse_new/.venv/lib/python3.12/site-packages/pandas/_testing/asserters.py:614\u001B[0m, in \u001B[0;36mraise_assert_detail\u001B[0;34m(obj, message, left, right, diff, first_diff, index_values)\u001B[0m\n\u001B[1;32m    611\u001B[0m \u001B[38;5;28;01mif\u001B[39;00m first_diff \u001B[38;5;129;01mis\u001B[39;00m \u001B[38;5;129;01mnot\u001B[39;00m \u001B[38;5;28;01mNone\u001B[39;00m:\n\u001B[1;32m    612\u001B[0m     msg \u001B[38;5;241m+\u001B[39m\u001B[38;5;241m=\u001B[39m \u001B[38;5;124mf\u001B[39m\u001B[38;5;124m\"\u001B[39m\u001B[38;5;130;01m\\n\u001B[39;00m\u001B[38;5;132;01m{\u001B[39;00mfirst_diff\u001B[38;5;132;01m}\u001B[39;00m\u001B[38;5;124m\"\u001B[39m\n\u001B[0;32m--> 614\u001B[0m \u001B[38;5;28;01mraise\u001B[39;00m \u001B[38;5;167;01mAssertionError\u001B[39;00m(msg)\n",
      "\u001B[0;31mAssertionError\u001B[0m: Series are different\n\nSeries length are different\n[left]:  1048575, RangeIndex(start=0, stop=1048575, step=1)\n[right]: 524795, RangeIndex(start=0, stop=524795, step=1)"
     ]
    }
   ],
   "execution_count": 24
  },
  {
   "metadata": {},
   "cell_type": "code",
   "outputs": [],
   "execution_count": null,
   "source": ""
  }
 ],
 "metadata": {
  "kernelspec": {
   "display_name": "Python 3",
   "language": "python",
   "name": "python3"
  },
  "language_info": {
   "codemirror_mode": {
    "name": "ipython",
    "version": 3
   },
   "file_extension": ".py",
   "mimetype": "text/x-python",
   "name": "python",
   "nbconvert_exporter": "python",
   "pygments_lexer": "ipython3",
   "version": "3.8.10"
  }
 },
 "nbformat": 4,
 "nbformat_minor": 2
}
