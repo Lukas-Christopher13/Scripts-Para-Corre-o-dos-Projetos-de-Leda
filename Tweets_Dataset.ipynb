{
 "cells": [
  {
   "cell_type": "code",
   "metadata": {
    "ExecuteTime": {
     "end_time": "2024-11-12T14:18:29.241991Z",
     "start_time": "2024-11-12T14:18:17.441822Z"
    }
   },
   "source": [
    "import pandas as pd\n",
    "import numpy as np"
   ],
   "outputs": [],
   "execution_count": 1
  },
  {
   "cell_type": "code",
   "metadata": {
    "ExecuteTime": {
     "end_time": "2024-11-12T14:18:29.247938Z",
     "start_time": "2024-11-12T14:18:29.244261Z"
    }
   },
   "source": [
    "tweets = \"Tweets_Dataset/arquivo_base/tweets.csv\"\n",
    "tweets_formated_date = \"Tweets_Dataset/transformacoes/tweets_formatted_date.csv\"\n",
    "tweets_mentioned_persons = \"Tweets_Dataset/transformacoes/tweets_mentioned_persons.csv\""
   ],
   "outputs": [],
   "execution_count": 2
  },
  {
   "metadata": {
    "ExecuteTime": {
     "end_time": "2024-11-12T14:18:35.921301Z",
     "start_time": "2024-11-12T14:18:29.249583Z"
    }
   },
   "cell_type": "code",
   "source": [
    "df_tweets = pd.read_csv(tweets, low_memory=False, encoding='latin1')\n",
    "df_tweets_formated = pd.read_csv(tweets_formated_date, low_memory=False, encoding='latin1')\n",
    "df_tweets_mentioned = pd.read_csv(tweets_mentioned_persons, low_memory=False, encoding='latin1')"
   ],
   "outputs": [],
   "execution_count": 3
  },
  {
   "metadata": {
    "ExecuteTime": {
     "end_time": "2024-11-12T14:18:44.796006Z",
     "start_time": "2024-11-12T14:18:44.560219Z"
    }
   },
   "cell_type": "code",
   "source": "df_tweets.info()",
   "outputs": [
    {
     "name": "stdout",
     "output_type": "stream",
     "text": [
      "<class 'pandas.core.frame.DataFrame'>\n",
      "RangeIndex: 1048575 entries, 0 to 1048574\n",
      "Data columns (total 6 columns):\n",
      " #   Column  Non-Null Count    Dtype \n",
      "---  ------  --------------    ----- \n",
      " 0   Target  1048575 non-null  int64 \n",
      " 1   ID      1048575 non-null  int64 \n",
      " 2   Date    1048575 non-null  object\n",
      " 3   flag    1048575 non-null  object\n",
      " 4   User    1048575 non-null  object\n",
      " 5   Text    1048575 non-null  object\n",
      "dtypes: int64(2), object(4)\n",
      "memory usage: 48.0+ MB\n"
     ]
    }
   ],
   "execution_count": 4
  },
  {
   "metadata": {},
   "cell_type": "markdown",
   "source": "# Verificar transformação das datas no campos de datas para DD/MM/AAAA"
  },
  {
   "metadata": {
    "ExecuteTime": {
     "end_time": "2024-11-12T14:26:38.259152Z",
     "start_time": "2024-11-12T14:26:37.702706Z"
    }
   },
   "cell_type": "code",
   "source": [
    "df_datas_formatadas_origem = df_tweets['Date']\n",
    "datas_formatadas_aluno = df_tweets_formated['Date']\n",
    "# df_formated_data = df_formated_data['data']\n",
    "print(f\"Datas vazias no df original: {df_datas_formatadas_origem.isnull().sum()}\")\n",
    "print(f\"Datas vazias no df formatado: {datas_formatadas_aluno.isnull().sum()}\")\n",
    "print(f\"Total de regsitros de datas no df original: {df_datas_formatadas_origem.count()}\")\n",
    "print(f\"Total de registros de datas no df formatado: {datas_formatadas_aluno.count()}\")\n",
    "print(f\"Total de regsitros totais no df original: {len(df_tweets)}\")\n",
    "print(f\"Total de registros totais no df formatado: {len(df_tweets_formated)}\")\n",
    "# df_formated_data['data_formatada'] = pd.to_datetime(datas_formatadas_aluno, format=\"%d/%m/%Y\", errors='raise')\n",
    "\n",
    "pd.testing.assert_series_equal(df_datas_formatadas_origem, datas_formatadas_aluno, check_names=False)"
   ],
   "outputs": [
    {
     "name": "stdout",
     "output_type": "stream",
     "text": [
      "Datas vazias no df original: 0\n",
      "Datas vazias no df formatado: 0\n",
      "Total de regsitros de datas no df original: 1048575\n",
      "Total de registros de datas no df formatado: 524795\n",
      "Total de regsitros totais no df original: 1048575\n",
      "Total de registros totais no df formatado: 524795\n"
     ]
    },
    {
     "ename": "AssertionError",
     "evalue": "Series are different\n\nSeries length are different\n[left]:  1048575, RangeIndex(start=0, stop=1048575, step=1)\n[right]: 524795, RangeIndex(start=0, stop=524795, step=1)",
     "output_type": "error",
     "traceback": [
      "\u001B[0;31m---------------------------------------------------------------------------\u001B[0m",
      "\u001B[0;31mAssertionError\u001B[0m                            Traceback (most recent call last)",
      "Cell \u001B[0;32mIn[7], line 12\u001B[0m\n\u001B[1;32m      9\u001B[0m \u001B[38;5;28mprint\u001B[39m(\u001B[38;5;124mf\u001B[39m\u001B[38;5;124m\"\u001B[39m\u001B[38;5;124mTotal de registros totais no df formatado: \u001B[39m\u001B[38;5;132;01m{\u001B[39;00m\u001B[38;5;28mlen\u001B[39m(df_tweets_formated)\u001B[38;5;132;01m}\u001B[39;00m\u001B[38;5;124m\"\u001B[39m)\n\u001B[1;32m     10\u001B[0m \u001B[38;5;66;03m# df_formated_data['data_formatada'] = pd.to_datetime(datas_formatadas_aluno, format=\"%d/%m/%Y\", errors='raise')\u001B[39;00m\n\u001B[0;32m---> 12\u001B[0m \u001B[43mpd\u001B[49m\u001B[38;5;241;43m.\u001B[39;49m\u001B[43mtesting\u001B[49m\u001B[38;5;241;43m.\u001B[39;49m\u001B[43massert_series_equal\u001B[49m\u001B[43m(\u001B[49m\u001B[43mdf_datas_formatadas_origem\u001B[49m\u001B[43m,\u001B[49m\u001B[43m \u001B[49m\u001B[43mdatas_formatadas_aluno\u001B[49m\u001B[43m,\u001B[49m\u001B[43m \u001B[49m\u001B[43mcheck_names\u001B[49m\u001B[38;5;241;43m=\u001B[39;49m\u001B[38;5;28;43;01mFalse\u001B[39;49;00m\u001B[43m)\u001B[49m\n",
      "    \u001B[0;31m[... skipping hidden 1 frame]\u001B[0m\n",
      "File \u001B[0;32m/Library/Frameworks/Python.framework/Versions/3.12/lib/python3.12/site-packages/pandas/_testing/asserters.py:614\u001B[0m, in \u001B[0;36mraise_assert_detail\u001B[0;34m(obj, message, left, right, diff, first_diff, index_values)\u001B[0m\n\u001B[1;32m    611\u001B[0m \u001B[38;5;28;01mif\u001B[39;00m first_diff \u001B[38;5;129;01mis\u001B[39;00m \u001B[38;5;129;01mnot\u001B[39;00m \u001B[38;5;28;01mNone\u001B[39;00m:\n\u001B[1;32m    612\u001B[0m     msg \u001B[38;5;241m+\u001B[39m\u001B[38;5;241m=\u001B[39m \u001B[38;5;124mf\u001B[39m\u001B[38;5;124m\"\u001B[39m\u001B[38;5;130;01m\\n\u001B[39;00m\u001B[38;5;132;01m{\u001B[39;00mfirst_diff\u001B[38;5;132;01m}\u001B[39;00m\u001B[38;5;124m\"\u001B[39m\n\u001B[0;32m--> 614\u001B[0m \u001B[38;5;28;01mraise\u001B[39;00m \u001B[38;5;167;01mAssertionError\u001B[39;00m(msg)\n",
      "\u001B[0;31mAssertionError\u001B[0m: Series are different\n\nSeries length are different\n[left]:  1048575, RangeIndex(start=0, stop=1048575, step=1)\n[right]: 524795, RangeIndex(start=0, stop=524795, step=1)"
     ]
    }
   ],
   "execution_count": 7
  },
  {
   "metadata": {
    "ExecuteTime": {
     "end_time": "2024-11-12T14:26:38.393605Z",
     "start_time": "2024-11-12T14:26:38.343005Z"
    }
   },
   "cell_type": "code",
   "source": "datas_formatadas_aluno.info()",
   "outputs": [
    {
     "name": "stdout",
     "output_type": "stream",
     "text": [
      "<class 'pandas.core.series.Series'>\n",
      "RangeIndex: 524795 entries, 0 to 524794\n",
      "Series name: Date\n",
      "Non-Null Count   Dtype \n",
      "--------------   ----- \n",
      "524795 non-null  object\n",
      "dtypes: object(1)\n",
      "memory usage: 4.0+ MB\n"
     ]
    }
   ],
   "execution_count": 8
  },
  {
   "metadata": {
    "ExecuteTime": {
     "end_time": "2024-11-12T14:26:38.967806Z",
     "start_time": "2024-11-12T14:26:38.960129Z"
    }
   },
   "cell_type": "code",
   "source": "",
   "outputs": [],
   "execution_count": 8
  },
  {
   "metadata": {
    "ExecuteTime": {
     "end_time": "2024-11-12T14:26:39.753712Z",
     "start_time": "2024-11-12T14:26:39.487748Z"
    }
   },
   "cell_type": "code",
   "source": [
    "df_tweets['Date'] = pd.to_datetime(df_tweets['Date'], format='%a %b %d %H:%M:%S %Z %Y')\n",
    "df_tweets['data_formatada'] = df_tweets['Date'].dt.strftime('%d/%m/%Y')\n",
    "pd.testing.assert_series_equal(df_tweets['data_formatada'] , datas_formatadas_aluno, check_names=False)"
   ],
   "outputs": [
    {
     "ename": "ValueError",
     "evalue": "time data \"Mon Apr 06 22:19:49 PDT 2009\" doesn't match format \"%a %b %d %H:%M:%S %Z %Y\", at position 0. You might want to try:\n    - passing `format` if your strings have a consistent format;\n    - passing `format='ISO8601'` if your strings are all ISO8601 but not necessarily in exactly the same format;\n    - passing `format='mixed'`, and the format will be inferred for each element individually. You might want to use `dayfirst` alongside this.",
     "output_type": "error",
     "traceback": [
      "\u001B[0;31m---------------------------------------------------------------------------\u001B[0m",
      "\u001B[0;31mValueError\u001B[0m                                Traceback (most recent call last)",
      "Cell \u001B[0;32mIn[9], line 1\u001B[0m\n\u001B[0;32m----> 1\u001B[0m df_tweets[\u001B[38;5;124m'\u001B[39m\u001B[38;5;124mDate\u001B[39m\u001B[38;5;124m'\u001B[39m] \u001B[38;5;241m=\u001B[39m \u001B[43mpd\u001B[49m\u001B[38;5;241;43m.\u001B[39;49m\u001B[43mto_datetime\u001B[49m\u001B[43m(\u001B[49m\u001B[43mdf_tweets\u001B[49m\u001B[43m[\u001B[49m\u001B[38;5;124;43m'\u001B[39;49m\u001B[38;5;124;43mDate\u001B[39;49m\u001B[38;5;124;43m'\u001B[39;49m\u001B[43m]\u001B[49m\u001B[43m,\u001B[49m\u001B[43m \u001B[49m\u001B[38;5;28;43mformat\u001B[39;49m\u001B[38;5;241;43m=\u001B[39;49m\u001B[38;5;124;43m'\u001B[39;49m\u001B[38;5;132;43;01m%a\u001B[39;49;00m\u001B[38;5;124;43m \u001B[39;49m\u001B[38;5;124;43m%\u001B[39;49m\u001B[38;5;124;43mb \u001B[39;49m\u001B[38;5;132;43;01m%d\u001B[39;49;00m\u001B[38;5;124;43m \u001B[39;49m\u001B[38;5;124;43m%\u001B[39;49m\u001B[38;5;124;43mH:\u001B[39;49m\u001B[38;5;124;43m%\u001B[39;49m\u001B[38;5;124;43mM:\u001B[39;49m\u001B[38;5;124;43m%\u001B[39;49m\u001B[38;5;124;43mS \u001B[39;49m\u001B[38;5;124;43m%\u001B[39;49m\u001B[38;5;124;43mZ \u001B[39;49m\u001B[38;5;124;43m%\u001B[39;49m\u001B[38;5;124;43mY\u001B[39;49m\u001B[38;5;124;43m'\u001B[39;49m\u001B[43m)\u001B[49m\n\u001B[1;32m      2\u001B[0m df_tweets[\u001B[38;5;124m'\u001B[39m\u001B[38;5;124mdata_formatada\u001B[39m\u001B[38;5;124m'\u001B[39m] \u001B[38;5;241m=\u001B[39m df_tweets[\u001B[38;5;124m'\u001B[39m\u001B[38;5;124mDate\u001B[39m\u001B[38;5;124m'\u001B[39m]\u001B[38;5;241m.\u001B[39mdt\u001B[38;5;241m.\u001B[39mstrftime(\u001B[38;5;124m'\u001B[39m\u001B[38;5;132;01m%d\u001B[39;00m\u001B[38;5;124m/\u001B[39m\u001B[38;5;124m%\u001B[39m\u001B[38;5;124mm/\u001B[39m\u001B[38;5;124m%\u001B[39m\u001B[38;5;124mY\u001B[39m\u001B[38;5;124m'\u001B[39m)\n\u001B[1;32m      3\u001B[0m pd\u001B[38;5;241m.\u001B[39mtesting\u001B[38;5;241m.\u001B[39massert_series_equal(df_tweets[\u001B[38;5;124m'\u001B[39m\u001B[38;5;124mdata_formatada\u001B[39m\u001B[38;5;124m'\u001B[39m] , datas_formatadas_aluno, check_names\u001B[38;5;241m=\u001B[39m\u001B[38;5;28;01mFalse\u001B[39;00m)\n",
      "File \u001B[0;32m/Library/Frameworks/Python.framework/Versions/3.12/lib/python3.12/site-packages/pandas/core/tools/datetimes.py:1067\u001B[0m, in \u001B[0;36mto_datetime\u001B[0;34m(arg, errors, dayfirst, yearfirst, utc, format, exact, unit, infer_datetime_format, origin, cache)\u001B[0m\n\u001B[1;32m   1065\u001B[0m         result \u001B[38;5;241m=\u001B[39m arg\u001B[38;5;241m.\u001B[39mmap(cache_array)\n\u001B[1;32m   1066\u001B[0m     \u001B[38;5;28;01melse\u001B[39;00m:\n\u001B[0;32m-> 1067\u001B[0m         values \u001B[38;5;241m=\u001B[39m \u001B[43mconvert_listlike\u001B[49m\u001B[43m(\u001B[49m\u001B[43marg\u001B[49m\u001B[38;5;241;43m.\u001B[39;49m\u001B[43m_values\u001B[49m\u001B[43m,\u001B[49m\u001B[43m \u001B[49m\u001B[38;5;28;43mformat\u001B[39;49m\u001B[43m)\u001B[49m\n\u001B[1;32m   1068\u001B[0m         result \u001B[38;5;241m=\u001B[39m arg\u001B[38;5;241m.\u001B[39m_constructor(values, index\u001B[38;5;241m=\u001B[39marg\u001B[38;5;241m.\u001B[39mindex, name\u001B[38;5;241m=\u001B[39marg\u001B[38;5;241m.\u001B[39mname)\n\u001B[1;32m   1069\u001B[0m \u001B[38;5;28;01melif\u001B[39;00m \u001B[38;5;28misinstance\u001B[39m(arg, (ABCDataFrame, abc\u001B[38;5;241m.\u001B[39mMutableMapping)):\n",
      "File \u001B[0;32m/Library/Frameworks/Python.framework/Versions/3.12/lib/python3.12/site-packages/pandas/core/tools/datetimes.py:433\u001B[0m, in \u001B[0;36m_convert_listlike_datetimes\u001B[0;34m(arg, format, name, utc, unit, errors, dayfirst, yearfirst, exact)\u001B[0m\n\u001B[1;32m    431\u001B[0m \u001B[38;5;66;03m# `format` could be inferred, or user didn't ask for mixed-format parsing.\u001B[39;00m\n\u001B[1;32m    432\u001B[0m \u001B[38;5;28;01mif\u001B[39;00m \u001B[38;5;28mformat\u001B[39m \u001B[38;5;129;01mis\u001B[39;00m \u001B[38;5;129;01mnot\u001B[39;00m \u001B[38;5;28;01mNone\u001B[39;00m \u001B[38;5;129;01mand\u001B[39;00m \u001B[38;5;28mformat\u001B[39m \u001B[38;5;241m!=\u001B[39m \u001B[38;5;124m\"\u001B[39m\u001B[38;5;124mmixed\u001B[39m\u001B[38;5;124m\"\u001B[39m:\n\u001B[0;32m--> 433\u001B[0m     \u001B[38;5;28;01mreturn\u001B[39;00m \u001B[43m_array_strptime_with_fallback\u001B[49m\u001B[43m(\u001B[49m\u001B[43marg\u001B[49m\u001B[43m,\u001B[49m\u001B[43m \u001B[49m\u001B[43mname\u001B[49m\u001B[43m,\u001B[49m\u001B[43m \u001B[49m\u001B[43mutc\u001B[49m\u001B[43m,\u001B[49m\u001B[43m \u001B[49m\u001B[38;5;28;43mformat\u001B[39;49m\u001B[43m,\u001B[49m\u001B[43m \u001B[49m\u001B[43mexact\u001B[49m\u001B[43m,\u001B[49m\u001B[43m \u001B[49m\u001B[43merrors\u001B[49m\u001B[43m)\u001B[49m\n\u001B[1;32m    435\u001B[0m result, tz_parsed \u001B[38;5;241m=\u001B[39m objects_to_datetime64(\n\u001B[1;32m    436\u001B[0m     arg,\n\u001B[1;32m    437\u001B[0m     dayfirst\u001B[38;5;241m=\u001B[39mdayfirst,\n\u001B[0;32m   (...)\u001B[0m\n\u001B[1;32m    441\u001B[0m     allow_object\u001B[38;5;241m=\u001B[39m\u001B[38;5;28;01mTrue\u001B[39;00m,\n\u001B[1;32m    442\u001B[0m )\n\u001B[1;32m    444\u001B[0m \u001B[38;5;28;01mif\u001B[39;00m tz_parsed \u001B[38;5;129;01mis\u001B[39;00m \u001B[38;5;129;01mnot\u001B[39;00m \u001B[38;5;28;01mNone\u001B[39;00m:\n\u001B[1;32m    445\u001B[0m     \u001B[38;5;66;03m# We can take a shortcut since the datetime64 numpy array\u001B[39;00m\n\u001B[1;32m    446\u001B[0m     \u001B[38;5;66;03m# is in UTC\u001B[39;00m\n",
      "File \u001B[0;32m/Library/Frameworks/Python.framework/Versions/3.12/lib/python3.12/site-packages/pandas/core/tools/datetimes.py:467\u001B[0m, in \u001B[0;36m_array_strptime_with_fallback\u001B[0;34m(arg, name, utc, fmt, exact, errors)\u001B[0m\n\u001B[1;32m    456\u001B[0m \u001B[38;5;28;01mdef\u001B[39;00m \u001B[38;5;21m_array_strptime_with_fallback\u001B[39m(\n\u001B[1;32m    457\u001B[0m     arg,\n\u001B[1;32m    458\u001B[0m     name,\n\u001B[0;32m   (...)\u001B[0m\n\u001B[1;32m    462\u001B[0m     errors: \u001B[38;5;28mstr\u001B[39m,\n\u001B[1;32m    463\u001B[0m ) \u001B[38;5;241m-\u001B[39m\u001B[38;5;241m>\u001B[39m Index:\n\u001B[1;32m    464\u001B[0m \u001B[38;5;250m    \u001B[39m\u001B[38;5;124;03m\"\"\"\u001B[39;00m\n\u001B[1;32m    465\u001B[0m \u001B[38;5;124;03m    Call array_strptime, with fallback behavior depending on 'errors'.\u001B[39;00m\n\u001B[1;32m    466\u001B[0m \u001B[38;5;124;03m    \"\"\"\u001B[39;00m\n\u001B[0;32m--> 467\u001B[0m     result, tz_out \u001B[38;5;241m=\u001B[39m \u001B[43marray_strptime\u001B[49m\u001B[43m(\u001B[49m\u001B[43marg\u001B[49m\u001B[43m,\u001B[49m\u001B[43m \u001B[49m\u001B[43mfmt\u001B[49m\u001B[43m,\u001B[49m\u001B[43m \u001B[49m\u001B[43mexact\u001B[49m\u001B[38;5;241;43m=\u001B[39;49m\u001B[43mexact\u001B[49m\u001B[43m,\u001B[49m\u001B[43m \u001B[49m\u001B[43merrors\u001B[49m\u001B[38;5;241;43m=\u001B[39;49m\u001B[43merrors\u001B[49m\u001B[43m,\u001B[49m\u001B[43m \u001B[49m\u001B[43mutc\u001B[49m\u001B[38;5;241;43m=\u001B[39;49m\u001B[43mutc\u001B[49m\u001B[43m)\u001B[49m\n\u001B[1;32m    468\u001B[0m     \u001B[38;5;28;01mif\u001B[39;00m tz_out \u001B[38;5;129;01mis\u001B[39;00m \u001B[38;5;129;01mnot\u001B[39;00m \u001B[38;5;28;01mNone\u001B[39;00m:\n\u001B[1;32m    469\u001B[0m         unit \u001B[38;5;241m=\u001B[39m np\u001B[38;5;241m.\u001B[39mdatetime_data(result\u001B[38;5;241m.\u001B[39mdtype)[\u001B[38;5;241m0\u001B[39m]\n",
      "File \u001B[0;32mstrptime.pyx:501\u001B[0m, in \u001B[0;36mpandas._libs.tslibs.strptime.array_strptime\u001B[0;34m()\u001B[0m\n",
      "File \u001B[0;32mstrptime.pyx:451\u001B[0m, in \u001B[0;36mpandas._libs.tslibs.strptime.array_strptime\u001B[0;34m()\u001B[0m\n",
      "File \u001B[0;32mstrptime.pyx:583\u001B[0m, in \u001B[0;36mpandas._libs.tslibs.strptime._parse_with_format\u001B[0;34m()\u001B[0m\n",
      "\u001B[0;31mValueError\u001B[0m: time data \"Mon Apr 06 22:19:49 PDT 2009\" doesn't match format \"%a %b %d %H:%M:%S %Z %Y\", at position 0. You might want to try:\n    - passing `format` if your strings have a consistent format;\n    - passing `format='ISO8601'` if your strings are all ISO8601 but not necessarily in exactly the same format;\n    - passing `format='mixed'`, and the format will be inferred for each element individually. You might want to use `dayfirst` alongside this."
     ]
    }
   ],
   "execution_count": 9
  },
  {
   "cell_type": "markdown",
   "metadata": {},
   "source": [
    "2- A partir da primeira transformação (tweets_formated_data.csv) crie duas novas colunas, “mentioned_person” e “mentioned_person_count”. Para a coluna “mentioned_person” você deve filtrar menções a outros usuários no campo Text\n",
    "dos tweets e adicionar o nome desse usuários a coluna “mentioned_person”. Para a coluna “mentioned_person_count”, adicione o número de usuários mencionados (é possível identificar tweets que mencionam outros usuários pelo character “@”)."
   ]
  },
  {
   "metadata": {
    "ExecuteTime": {
     "end_time": "2024-11-12T14:26:44.465159Z",
     "start_time": "2024-11-12T14:26:43.344434Z"
    }
   },
   "cell_type": "code",
   "source": "df_tweets['At_Count'] = df_tweets['Text'].apply(lambda x: str(x).count('@'))",
   "outputs": [],
   "execution_count": 10
  },
  {
   "metadata": {
    "ExecuteTime": {
     "end_time": "2024-11-12T14:26:44.564484Z",
     "start_time": "2024-11-12T14:26:44.467659Z"
    }
   },
   "cell_type": "code",
   "source": "df_tweets.loc[df_tweets['At_Count'] > 3]",
   "outputs": [
    {
     "data": {
      "text/plain": [
       "         Target          ID                          Date      flag  \\\n",
       "3433          0  1468595095  Tue Apr 07 02:37:20 PDT 2009  NO_QUERY   \n",
       "6524          0  1469450046  Tue Apr 07 06:25:08 PDT 2009  NO_QUERY   \n",
       "9788          0  1548880146  Fri Apr 17 22:16:08 PDT 2009  NO_QUERY   \n",
       "9908          0  1550700198  Sat Apr 18 06:59:34 PDT 2009  NO_QUERY   \n",
       "14172         0  1553579047  Sat Apr 18 14:38:54 PDT 2009  NO_QUERY   \n",
       "...         ...         ...                           ...       ...   \n",
       "1047963       4  1958096420  Fri May 29 02:38:56 PDT 2009  NO_QUERY   \n",
       "1048315       4  1958135188  Fri May 29 02:46:52 PDT 2009  NO_QUERY   \n",
       "1048357       4  1960142705  Fri May 29 07:29:31 PDT 2009  NO_QUERY   \n",
       "1048454       4  1960156250  Fri May 29 07:30:49 PDT 2009  NO_QUERY   \n",
       "1048516       4  1960158687  Fri May 29 07:31:03 PDT 2009  NO_QUERY   \n",
       "\n",
       "                  User                                               Text  \\\n",
       "3433           cwkong2  @danielhcwong Taylor 814ce --&gt; #&amp;$(#&am...   \n",
       "6524     stephenhughes  Alas, nothing new for me there @bishboria. I'm...   \n",
       "9788          cerencik  @bennehton @Sweet_Pau @tynie626 @NoOrdinaryGur...   \n",
       "9908      ashleymarie6  @StephanieOlsen @stateiamin @wishcake @racheli...   \n",
       "14172    philpursglove  Cheers to all at #webdd (esp. @plip, @davesuss...   \n",
       "...                ...                                                ...   \n",
       "1047963        siri_he  @androidtomato @_supernatural_ @HAMMER32 @Meeh...   \n",
       "1048315       Ms211nLA  @FillmoreRich3 @DEO415 @SimonaSpeaks @SamSneak...   \n",
       "1048357     farmerBOOM  has a @topherrpop at my house  @vajayjay @liam...   \n",
       "1048454    sarahdiddle  follow friday @redta @StanSmithCIA @sarahdiddl...   \n",
       "1048516  GFillustrator  Thanks for #followfriday   @GfWarrior @Authoro...   \n",
       "\n",
       "         At_Count  \n",
       "3433           10  \n",
       "6524            4  \n",
       "9788            4  \n",
       "9908            4  \n",
       "14172           4  \n",
       "...           ...  \n",
       "1047963         4  \n",
       "1048315         8  \n",
       "1048357         4  \n",
       "1048454         5  \n",
       "1048516         4  \n",
       "\n",
       "[1429 rows x 7 columns]"
      ],
      "text/html": [
       "<div>\n",
       "<style scoped>\n",
       "    .dataframe tbody tr th:only-of-type {\n",
       "        vertical-align: middle;\n",
       "    }\n",
       "\n",
       "    .dataframe tbody tr th {\n",
       "        vertical-align: top;\n",
       "    }\n",
       "\n",
       "    .dataframe thead th {\n",
       "        text-align: right;\n",
       "    }\n",
       "</style>\n",
       "<table border=\"1\" class=\"dataframe\">\n",
       "  <thead>\n",
       "    <tr style=\"text-align: right;\">\n",
       "      <th></th>\n",
       "      <th>Target</th>\n",
       "      <th>ID</th>\n",
       "      <th>Date</th>\n",
       "      <th>flag</th>\n",
       "      <th>User</th>\n",
       "      <th>Text</th>\n",
       "      <th>At_Count</th>\n",
       "    </tr>\n",
       "  </thead>\n",
       "  <tbody>\n",
       "    <tr>\n",
       "      <th>3433</th>\n",
       "      <td>0</td>\n",
       "      <td>1468595095</td>\n",
       "      <td>Tue Apr 07 02:37:20 PDT 2009</td>\n",
       "      <td>NO_QUERY</td>\n",
       "      <td>cwkong2</td>\n",
       "      <td>@danielhcwong Taylor 814ce --&amp;gt; #&amp;amp;$(#&amp;am...</td>\n",
       "      <td>10</td>\n",
       "    </tr>\n",
       "    <tr>\n",
       "      <th>6524</th>\n",
       "      <td>0</td>\n",
       "      <td>1469450046</td>\n",
       "      <td>Tue Apr 07 06:25:08 PDT 2009</td>\n",
       "      <td>NO_QUERY</td>\n",
       "      <td>stephenhughes</td>\n",
       "      <td>Alas, nothing new for me there @bishboria. I'm...</td>\n",
       "      <td>4</td>\n",
       "    </tr>\n",
       "    <tr>\n",
       "      <th>9788</th>\n",
       "      <td>0</td>\n",
       "      <td>1548880146</td>\n",
       "      <td>Fri Apr 17 22:16:08 PDT 2009</td>\n",
       "      <td>NO_QUERY</td>\n",
       "      <td>cerencik</td>\n",
       "      <td>@bennehton @Sweet_Pau @tynie626 @NoOrdinaryGur...</td>\n",
       "      <td>4</td>\n",
       "    </tr>\n",
       "    <tr>\n",
       "      <th>9908</th>\n",
       "      <td>0</td>\n",
       "      <td>1550700198</td>\n",
       "      <td>Sat Apr 18 06:59:34 PDT 2009</td>\n",
       "      <td>NO_QUERY</td>\n",
       "      <td>ashleymarie6</td>\n",
       "      <td>@StephanieOlsen @stateiamin @wishcake @racheli...</td>\n",
       "      <td>4</td>\n",
       "    </tr>\n",
       "    <tr>\n",
       "      <th>14172</th>\n",
       "      <td>0</td>\n",
       "      <td>1553579047</td>\n",
       "      <td>Sat Apr 18 14:38:54 PDT 2009</td>\n",
       "      <td>NO_QUERY</td>\n",
       "      <td>philpursglove</td>\n",
       "      <td>Cheers to all at #webdd (esp. @plip, @davesuss...</td>\n",
       "      <td>4</td>\n",
       "    </tr>\n",
       "    <tr>\n",
       "      <th>...</th>\n",
       "      <td>...</td>\n",
       "      <td>...</td>\n",
       "      <td>...</td>\n",
       "      <td>...</td>\n",
       "      <td>...</td>\n",
       "      <td>...</td>\n",
       "      <td>...</td>\n",
       "    </tr>\n",
       "    <tr>\n",
       "      <th>1047963</th>\n",
       "      <td>4</td>\n",
       "      <td>1958096420</td>\n",
       "      <td>Fri May 29 02:38:56 PDT 2009</td>\n",
       "      <td>NO_QUERY</td>\n",
       "      <td>siri_he</td>\n",
       "      <td>@androidtomato @_supernatural_ @HAMMER32 @Meeh...</td>\n",
       "      <td>4</td>\n",
       "    </tr>\n",
       "    <tr>\n",
       "      <th>1048315</th>\n",
       "      <td>4</td>\n",
       "      <td>1958135188</td>\n",
       "      <td>Fri May 29 02:46:52 PDT 2009</td>\n",
       "      <td>NO_QUERY</td>\n",
       "      <td>Ms211nLA</td>\n",
       "      <td>@FillmoreRich3 @DEO415 @SimonaSpeaks @SamSneak...</td>\n",
       "      <td>8</td>\n",
       "    </tr>\n",
       "    <tr>\n",
       "      <th>1048357</th>\n",
       "      <td>4</td>\n",
       "      <td>1960142705</td>\n",
       "      <td>Fri May 29 07:29:31 PDT 2009</td>\n",
       "      <td>NO_QUERY</td>\n",
       "      <td>farmerBOOM</td>\n",
       "      <td>has a @topherrpop at my house  @vajayjay @liam...</td>\n",
       "      <td>4</td>\n",
       "    </tr>\n",
       "    <tr>\n",
       "      <th>1048454</th>\n",
       "      <td>4</td>\n",
       "      <td>1960156250</td>\n",
       "      <td>Fri May 29 07:30:49 PDT 2009</td>\n",
       "      <td>NO_QUERY</td>\n",
       "      <td>sarahdiddle</td>\n",
       "      <td>follow friday @redta @StanSmithCIA @sarahdiddl...</td>\n",
       "      <td>5</td>\n",
       "    </tr>\n",
       "    <tr>\n",
       "      <th>1048516</th>\n",
       "      <td>4</td>\n",
       "      <td>1960158687</td>\n",
       "      <td>Fri May 29 07:31:03 PDT 2009</td>\n",
       "      <td>NO_QUERY</td>\n",
       "      <td>GFillustrator</td>\n",
       "      <td>Thanks for #followfriday   @GfWarrior @Authoro...</td>\n",
       "      <td>4</td>\n",
       "    </tr>\n",
       "  </tbody>\n",
       "</table>\n",
       "<p>1429 rows × 7 columns</p>\n",
       "</div>"
      ]
     },
     "execution_count": 11,
     "metadata": {},
     "output_type": "execute_result"
    }
   ],
   "execution_count": 11
  },
  {
   "cell_type": "code",
   "metadata": {
    "ExecuteTime": {
     "end_time": "2024-11-12T14:26:45.637729Z",
     "start_time": "2024-11-12T14:26:45.629156Z"
    }
   },
   "source": [
    "import re\n",
    "\n",
    "def extrair_mencoes(texto):\n",
    "    # Expressão regular para capturar palavras que começam com '@'\n",
    "    mencoes = re.findall(r'@\\w+', texto)\n",
    "    mencoes_modificada = [s[1:] for s in mencoes if len(s) > 1]\n",
    "    return '/'.join(mencoes_modificada)\n",
    "\n",
    "# Exemplo de uso\n",
    "texto = \"Olá @joao, fale com @maria e também avise @pedro sobre o evento!\"\n",
    "mencoes = extrair_mencoes(texto)\n",
    "\n",
    "print(\"Menções encontradas:\", mencoes)\n",
    "\n"
   ],
   "outputs": [
    {
     "name": "stdout",
     "output_type": "stream",
     "text": [
      "Menções encontradas: joao/maria/pedro\n"
     ]
    }
   ],
   "execution_count": 12
  },
  {
   "metadata": {
    "ExecuteTime": {
     "end_time": "2024-11-12T14:26:48.737722Z",
     "start_time": "2024-11-12T14:26:47.567634Z"
    }
   },
   "cell_type": "code",
   "source": "df_tweets['mentioned_person'] = df_tweets['Text'].apply(lambda x: extrair_mencoes(x))",
   "outputs": [],
   "execution_count": 13
  },
  {
   "metadata": {
    "ExecuteTime": {
     "end_time": "2024-11-12T14:26:49.189723Z",
     "start_time": "2024-11-12T14:26:48.739726Z"
    }
   },
   "cell_type": "code",
   "source": "df_tweets['At_Count'] = df_tweets['mentioned_person'].apply(lambda x: len(x.split('/')))",
   "outputs": [],
   "execution_count": 14
  },
  {
   "metadata": {
    "ExecuteTime": {
     "end_time": "2024-11-12T14:26:50.971757Z",
     "start_time": "2024-11-12T14:26:50.211359Z"
    }
   },
   "cell_type": "code",
   "source": [
    "print(f\"Menções no df original: {df_tweets['At_Count'].sum()}\")\n",
    "print(f\"Menções no df aluno: {df_tweets_mentioned['mentioned_person_count'].sum()}\")"
   ],
   "outputs": [
    {
     "name": "stdout",
     "output_type": "stream",
     "text": [
      "Menções no df original: 1073095\n"
     ]
    },
    {
     "ename": "KeyError",
     "evalue": "'mentioned_person_count'",
     "output_type": "error",
     "traceback": [
      "\u001B[0;31m---------------------------------------------------------------------------\u001B[0m",
      "\u001B[0;31mKeyError\u001B[0m                                  Traceback (most recent call last)",
      "File \u001B[0;32m/Library/Frameworks/Python.framework/Versions/3.12/lib/python3.12/site-packages/pandas/core/indexes/base.py:3805\u001B[0m, in \u001B[0;36mIndex.get_loc\u001B[0;34m(self, key)\u001B[0m\n\u001B[1;32m   3804\u001B[0m \u001B[38;5;28;01mtry\u001B[39;00m:\n\u001B[0;32m-> 3805\u001B[0m     \u001B[38;5;28;01mreturn\u001B[39;00m \u001B[38;5;28;43mself\u001B[39;49m\u001B[38;5;241;43m.\u001B[39;49m\u001B[43m_engine\u001B[49m\u001B[38;5;241;43m.\u001B[39;49m\u001B[43mget_loc\u001B[49m\u001B[43m(\u001B[49m\u001B[43mcasted_key\u001B[49m\u001B[43m)\u001B[49m\n\u001B[1;32m   3806\u001B[0m \u001B[38;5;28;01mexcept\u001B[39;00m \u001B[38;5;167;01mKeyError\u001B[39;00m \u001B[38;5;28;01mas\u001B[39;00m err:\n",
      "File \u001B[0;32mindex.pyx:167\u001B[0m, in \u001B[0;36mpandas._libs.index.IndexEngine.get_loc\u001B[0;34m()\u001B[0m\n",
      "File \u001B[0;32mindex.pyx:196\u001B[0m, in \u001B[0;36mpandas._libs.index.IndexEngine.get_loc\u001B[0;34m()\u001B[0m\n",
      "File \u001B[0;32mpandas/_libs/hashtable_class_helper.pxi:7081\u001B[0m, in \u001B[0;36mpandas._libs.hashtable.PyObjectHashTable.get_item\u001B[0;34m()\u001B[0m\n",
      "File \u001B[0;32mpandas/_libs/hashtable_class_helper.pxi:7089\u001B[0m, in \u001B[0;36mpandas._libs.hashtable.PyObjectHashTable.get_item\u001B[0;34m()\u001B[0m\n",
      "\u001B[0;31mKeyError\u001B[0m: 'mentioned_person_count'",
      "\nThe above exception was the direct cause of the following exception:\n",
      "\u001B[0;31mKeyError\u001B[0m                                  Traceback (most recent call last)",
      "Cell \u001B[0;32mIn[15], line 2\u001B[0m\n\u001B[1;32m      1\u001B[0m \u001B[38;5;28mprint\u001B[39m(\u001B[38;5;124mf\u001B[39m\u001B[38;5;124m\"\u001B[39m\u001B[38;5;124mMenções no df original: \u001B[39m\u001B[38;5;132;01m{\u001B[39;00mdf_tweets[\u001B[38;5;124m'\u001B[39m\u001B[38;5;124mAt_Count\u001B[39m\u001B[38;5;124m'\u001B[39m]\u001B[38;5;241m.\u001B[39msum()\u001B[38;5;132;01m}\u001B[39;00m\u001B[38;5;124m\"\u001B[39m)\n\u001B[0;32m----> 2\u001B[0m \u001B[38;5;28mprint\u001B[39m(\u001B[38;5;124mf\u001B[39m\u001B[38;5;124m\"\u001B[39m\u001B[38;5;124mMenções no df aluno: \u001B[39m\u001B[38;5;132;01m{\u001B[39;00m\u001B[43mdf_tweets_mentioned\u001B[49m\u001B[43m[\u001B[49m\u001B[38;5;124;43m'\u001B[39;49m\u001B[38;5;124;43mmentioned_person_count\u001B[39;49m\u001B[38;5;124;43m'\u001B[39;49m\u001B[43m]\u001B[49m\u001B[38;5;241m.\u001B[39msum()\u001B[38;5;132;01m}\u001B[39;00m\u001B[38;5;124m\"\u001B[39m)\n",
      "File \u001B[0;32m/Library/Frameworks/Python.framework/Versions/3.12/lib/python3.12/site-packages/pandas/core/frame.py:4102\u001B[0m, in \u001B[0;36mDataFrame.__getitem__\u001B[0;34m(self, key)\u001B[0m\n\u001B[1;32m   4100\u001B[0m \u001B[38;5;28;01mif\u001B[39;00m \u001B[38;5;28mself\u001B[39m\u001B[38;5;241m.\u001B[39mcolumns\u001B[38;5;241m.\u001B[39mnlevels \u001B[38;5;241m>\u001B[39m \u001B[38;5;241m1\u001B[39m:\n\u001B[1;32m   4101\u001B[0m     \u001B[38;5;28;01mreturn\u001B[39;00m \u001B[38;5;28mself\u001B[39m\u001B[38;5;241m.\u001B[39m_getitem_multilevel(key)\n\u001B[0;32m-> 4102\u001B[0m indexer \u001B[38;5;241m=\u001B[39m \u001B[38;5;28;43mself\u001B[39;49m\u001B[38;5;241;43m.\u001B[39;49m\u001B[43mcolumns\u001B[49m\u001B[38;5;241;43m.\u001B[39;49m\u001B[43mget_loc\u001B[49m\u001B[43m(\u001B[49m\u001B[43mkey\u001B[49m\u001B[43m)\u001B[49m\n\u001B[1;32m   4103\u001B[0m \u001B[38;5;28;01mif\u001B[39;00m is_integer(indexer):\n\u001B[1;32m   4104\u001B[0m     indexer \u001B[38;5;241m=\u001B[39m [indexer]\n",
      "File \u001B[0;32m/Library/Frameworks/Python.framework/Versions/3.12/lib/python3.12/site-packages/pandas/core/indexes/base.py:3812\u001B[0m, in \u001B[0;36mIndex.get_loc\u001B[0;34m(self, key)\u001B[0m\n\u001B[1;32m   3807\u001B[0m     \u001B[38;5;28;01mif\u001B[39;00m \u001B[38;5;28misinstance\u001B[39m(casted_key, \u001B[38;5;28mslice\u001B[39m) \u001B[38;5;129;01mor\u001B[39;00m (\n\u001B[1;32m   3808\u001B[0m         \u001B[38;5;28misinstance\u001B[39m(casted_key, abc\u001B[38;5;241m.\u001B[39mIterable)\n\u001B[1;32m   3809\u001B[0m         \u001B[38;5;129;01mand\u001B[39;00m \u001B[38;5;28many\u001B[39m(\u001B[38;5;28misinstance\u001B[39m(x, \u001B[38;5;28mslice\u001B[39m) \u001B[38;5;28;01mfor\u001B[39;00m x \u001B[38;5;129;01min\u001B[39;00m casted_key)\n\u001B[1;32m   3810\u001B[0m     ):\n\u001B[1;32m   3811\u001B[0m         \u001B[38;5;28;01mraise\u001B[39;00m InvalidIndexError(key)\n\u001B[0;32m-> 3812\u001B[0m     \u001B[38;5;28;01mraise\u001B[39;00m \u001B[38;5;167;01mKeyError\u001B[39;00m(key) \u001B[38;5;28;01mfrom\u001B[39;00m \u001B[38;5;21;01merr\u001B[39;00m\n\u001B[1;32m   3813\u001B[0m \u001B[38;5;28;01mexcept\u001B[39;00m \u001B[38;5;167;01mTypeError\u001B[39;00m:\n\u001B[1;32m   3814\u001B[0m     \u001B[38;5;66;03m# If we have a listlike key, _check_indexing_error will raise\u001B[39;00m\n\u001B[1;32m   3815\u001B[0m     \u001B[38;5;66;03m#  InvalidIndexError. Otherwise we fall through and re-raise\u001B[39;00m\n\u001B[1;32m   3816\u001B[0m     \u001B[38;5;66;03m#  the TypeError.\u001B[39;00m\n\u001B[1;32m   3817\u001B[0m     \u001B[38;5;28mself\u001B[39m\u001B[38;5;241m.\u001B[39m_check_indexing_error(key)\n",
      "\u001B[0;31mKeyError\u001B[0m: 'mentioned_person_count'"
     ]
    }
   ],
   "execution_count": 15
  },
  {
   "metadata": {
    "ExecuteTime": {
     "end_time": "2024-11-12T14:26:51.819595Z",
     "start_time": "2024-11-12T14:26:51.789223Z"
    }
   },
   "cell_type": "code",
   "source": "pd.testing.assert_series_equal(df_tweets['mentioned_person'], df_tweets_mentioned['Mentioned_persons'], check_names=False)",
   "outputs": [
    {
     "ename": "AssertionError",
     "evalue": "Series are different\n\nSeries length are different\n[left]:  1048575, RangeIndex(start=0, stop=1048575, step=1)\n[right]: 524795, RangeIndex(start=0, stop=524795, step=1)",
     "output_type": "error",
     "traceback": [
      "\u001B[0;31m---------------------------------------------------------------------------\u001B[0m",
      "\u001B[0;31mAssertionError\u001B[0m                            Traceback (most recent call last)",
      "Cell \u001B[0;32mIn[16], line 1\u001B[0m\n\u001B[0;32m----> 1\u001B[0m \u001B[43mpd\u001B[49m\u001B[38;5;241;43m.\u001B[39;49m\u001B[43mtesting\u001B[49m\u001B[38;5;241;43m.\u001B[39;49m\u001B[43massert_series_equal\u001B[49m\u001B[43m(\u001B[49m\u001B[43mdf_tweets\u001B[49m\u001B[43m[\u001B[49m\u001B[38;5;124;43m'\u001B[39;49m\u001B[38;5;124;43mmentioned_person\u001B[39;49m\u001B[38;5;124;43m'\u001B[39;49m\u001B[43m]\u001B[49m\u001B[43m,\u001B[49m\u001B[43m \u001B[49m\u001B[43mdf_tweets_mentioned\u001B[49m\u001B[43m[\u001B[49m\u001B[38;5;124;43m'\u001B[39;49m\u001B[38;5;124;43mMentioned_persons\u001B[39;49m\u001B[38;5;124;43m'\u001B[39;49m\u001B[43m]\u001B[49m\u001B[43m,\u001B[49m\u001B[43m \u001B[49m\u001B[43mcheck_names\u001B[49m\u001B[38;5;241;43m=\u001B[39;49m\u001B[38;5;28;43;01mFalse\u001B[39;49;00m\u001B[43m)\u001B[49m\n",
      "    \u001B[0;31m[... skipping hidden 1 frame]\u001B[0m\n",
      "File \u001B[0;32m/Library/Frameworks/Python.framework/Versions/3.12/lib/python3.12/site-packages/pandas/_testing/asserters.py:614\u001B[0m, in \u001B[0;36mraise_assert_detail\u001B[0;34m(obj, message, left, right, diff, first_diff, index_values)\u001B[0m\n\u001B[1;32m    611\u001B[0m \u001B[38;5;28;01mif\u001B[39;00m first_diff \u001B[38;5;129;01mis\u001B[39;00m \u001B[38;5;129;01mnot\u001B[39;00m \u001B[38;5;28;01mNone\u001B[39;00m:\n\u001B[1;32m    612\u001B[0m     msg \u001B[38;5;241m+\u001B[39m\u001B[38;5;241m=\u001B[39m \u001B[38;5;124mf\u001B[39m\u001B[38;5;124m\"\u001B[39m\u001B[38;5;130;01m\\n\u001B[39;00m\u001B[38;5;132;01m{\u001B[39;00mfirst_diff\u001B[38;5;132;01m}\u001B[39;00m\u001B[38;5;124m\"\u001B[39m\n\u001B[0;32m--> 614\u001B[0m \u001B[38;5;28;01mraise\u001B[39;00m \u001B[38;5;167;01mAssertionError\u001B[39;00m(msg)\n",
      "\u001B[0;31mAssertionError\u001B[0m: Series are different\n\nSeries length are different\n[left]:  1048575, RangeIndex(start=0, stop=1048575, step=1)\n[right]: 524795, RangeIndex(start=0, stop=524795, step=1)"
     ]
    }
   ],
   "execution_count": 16
  },
  {
   "metadata": {},
   "cell_type": "code",
   "outputs": [],
   "execution_count": null,
   "source": ""
  }
 ],
 "metadata": {
  "kernelspec": {
   "display_name": "Python 3",
   "language": "python",
   "name": "python3"
  },
  "language_info": {
   "codemirror_mode": {
    "name": "ipython",
    "version": 3
   },
   "file_extension": ".py",
   "mimetype": "text/x-python",
   "name": "python",
   "nbconvert_exporter": "python",
   "pygments_lexer": "ipython3",
   "version": "3.8.10"
  }
 },
 "nbformat": 4,
 "nbformat_minor": 2
}
